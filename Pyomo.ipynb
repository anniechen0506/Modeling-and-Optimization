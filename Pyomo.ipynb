{
  "nbformat": 4,
  "nbformat_minor": 0,
  "metadata": {
    "colab": {
      "provenance": [],
      "collapsed_sections": [
        "hL77L3Uei59o"
      ],
      "include_colab_link": true
    },
    "kernelspec": {
      "name": "python3",
      "display_name": "Python 3"
    },
    "language_info": {
      "name": "python"
    }
  },
  "cells": [
    {
      "cell_type": "markdown",
      "metadata": {
        "id": "view-in-github",
        "colab_type": "text"
      },
      "source": [
        "<a href=\"https://colab.research.google.com/github/anniechen0506/Modeling-and-Optimization-Fall-2023/blob/main/Pyomo.ipynb\" target=\"_parent\"><img src=\"https://colab.research.google.com/assets/colab-badge.svg\" alt=\"Open In Colab\"/></a>"
      ]
    },
    {
      "cell_type": "markdown",
      "source": [
        "#Set-Up"
      ],
      "metadata": {
        "id": "hL77L3Uei59o"
      }
    },
    {
      "cell_type": "code",
      "source": [
        "#Copy-and-paste the code below to use as \"set-up\" when your optimization model uses Pyomo and Coin-OR solvers.\n",
        "#for reference, see https://jckantor.github.io/ND-Pyomo-Cookbook/notebooks/01.02-Running-Pyomo-on-Google-Colab.html#installing-pyomo-and-solvers\n",
        "\n",
        "%%capture\n",
        "import sys\n",
        "import os\n",
        "\n",
        "if 'google.colab' in sys.modules:\n",
        "    !pip install idaes-pse --pre\n",
        "    !idaes get-extensions --to ./bin\n",
        "    os.environ['PATH'] += ':bin'\n",
        "\n",
        "from pyomo.environ import *"
      ],
      "metadata": {
        "id": "T3OEUrcJgiSR"
      },
      "execution_count": null,
      "outputs": []
    },
    {
      "cell_type": "markdown",
      "source": [
        "#Simple Model Visual Intuition\n",
        "First, let's investigate a well-behaved minimization problem.\n",
        "\n",
        "Find the minimum of the function $f(x) = x^2 - 2x + 5$"
      ],
      "metadata": {
        "id": "FCGB00H5i9W2"
      }
    },
    {
      "cell_type": "code",
      "source": [
        "def my_function(x):\n",
        "  y = x**2 - 2*x + 5\n",
        "  return y"
      ],
      "metadata": {
        "id": "lv_QaM0Vr8Yy"
      },
      "execution_count": null,
      "outputs": []
    },
    {
      "cell_type": "code",
      "source": [
        "import numpy as np\n",
        "import matplotlib.pyplot as plt\n",
        "\n",
        "x = np.linspace(-10, 10, 1000)\n",
        "\n",
        "y = [my_function(x[i]) for i in range(1000)]\n",
        "\n",
        "plt.plot(x,y)"
      ],
      "metadata": {
        "id": "wxfNXW0lsGbk",
        "colab": {
          "base_uri": "https://localhost:8080/",
          "height": 448
        },
        "outputId": "6288e371-50c4-42bd-ba2b-5df3d401bd51"
      },
      "execution_count": null,
      "outputs": [
        {
          "output_type": "execute_result",
          "data": {
            "text/plain": [
              "[<matplotlib.lines.Line2D at 0x7a07f5423e50>]"
            ]
          },
          "metadata": {},
          "execution_count": 3
        },
        {
          "output_type": "display_data",
          "data": {
            "text/plain": [
              "<Figure size 640x480 with 1 Axes>"
            ],
            "image/png": "[encoded data removed]"
          },
          "metadata": {}
        }
      ]
    },
    {
      "cell_type": "markdown",
      "source": [
        "#Solve with Pyomo"
      ],
      "metadata": {
        "id": "6tt6iWAAvsrB"
      }
    },
    {
      "cell_type": "code",
      "source": [
        "#initialize a \"Concrete Model\"\n",
        "model = ConcreteModel()\n",
        "\n",
        "#initialize your DVs\n",
        "model.x = Var(domain = Reals) #you can google \"pyomo domain sets\" for a list of several domains\n",
        "\n",
        "#define the objective function\n",
        "model.obj = Objective(expr = model.x**2 - 2*model.x + 5, sense = minimize)\n",
        "\n",
        "#to print out your model at any time, you can use model.pprint()\n",
        "model.pprint()"
      ],
      "metadata": {
        "id": "MVqtRew9sq-W",
        "colab": {
          "base_uri": "https://localhost:8080/"
        },
        "outputId": "21be815e-371b-4042-b2d5-d7f9f6b378fe"
      },
      "execution_count": null,
      "outputs": [
        {
          "output_type": "stream",
          "name": "stdout",
          "text": [
            "1 Var Declarations\n",
            "    x : Size=1, Index=None\n",
            "        Key  : Lower : Value : Upper : Fixed : Stale : Domain\n",
            "        None :  None :  None :  None : False :  True :  Reals\n",
            "\n",
            "1 Objective Declarations\n",
            "    obj : Size=1, Index=None, Active=True\n",
            "        Key  : Active : Sense    : Expression\n",
            "        None :   True : minimize : x**2 - 2*x + 5\n",
            "\n",
            "2 Declarations: x obj\n"
          ]
        }
      ]
    },
    {
      "cell_type": "code",
      "source": [
        "#solve the model\n",
        "opt = SolverFactory('ipopt') #ipopt is similar to GRGNonlinear in Excel\n",
        "results = opt.solve(model, tee = True) #setting tee = False will hide the diagnostic output"
      ],
      "metadata": {
        "id": "Y_nfkBXJt9d7"
      },
      "execution_count": null,
      "outputs": []
    },
    {
      "cell_type": "code",
      "source": [
        "#print the solution\n",
        "print(\"optimal x* = \", value(model.x))\n",
        "print(\"optimal obj* = \", value(model.obj))"
      ],
      "metadata": {
        "colab": {
          "base_uri": "https://localhost:8080/"
        },
        "id": "NufAFaY3uf2M",
        "outputId": "e0ef8959-2d8b-4482-b558-80dd68f40d05"
      },
      "execution_count": null,
      "outputs": [
        {
          "output_type": "stream",
          "name": "stdout",
          "text": [
            "optimal x* =  1.0\n",
            "optimal obj* =  4.0\n"
          ]
        }
      ]
    },
    {
      "cell_type": "markdown",
      "source": [
        "#Solving with Objective as a Function\n"
      ],
      "metadata": {
        "id": "TgCFj5DiyKN4"
      }
    },
    {
      "cell_type": "code",
      "source": [
        "def my_function(x):\n",
        "  y = x**2 - 2*x + 5\n",
        "  return y"
      ],
      "metadata": {
        "id": "XLSiz51cvUm8"
      },
      "execution_count": null,
      "outputs": []
    },
    {
      "cell_type": "code",
      "source": [
        "#initialize new model\n",
        "model2 = ConcreteModel()\n",
        "\n",
        "#declare DVs\n",
        "model2.x = Var(domain = Reals)\n",
        "\n",
        "#define objective\n",
        "model2.obj = Objective(expr = my_function(model2.x), sense = minimize)\n",
        "\n",
        "model2.pprint()"
      ],
      "metadata": {
        "id": "Z5lTLXHmvdj-"
      },
      "execution_count": null,
      "outputs": []
    },
    {
      "cell_type": "code",
      "source": [
        "#solve model2\n",
        "opt = SolverFactory('ipopt') #ipopt is similar to GRGNonlinear in Excel\n",
        "results = opt.solve(model2, tee = True) #setting tee = False will hide the diagnostic output"
      ],
      "metadata": {
        "id": "rEL5l8b6v_QS"
      },
      "execution_count": null,
      "outputs": []
    },
    {
      "cell_type": "code",
      "source": [
        "#print the solution\n",
        "print(\"optimal x* = \", value(model2.x))\n",
        "print(\"optimal obj* = \", value(model2.obj))"
      ],
      "metadata": {
        "colab": {
          "base_uri": "https://localhost:8080/"
        },
        "id": "lk4NWebPwFBC",
        "outputId": "af77a9fb-2146-4b22-d1a3-ace3c6bea2c1"
      },
      "execution_count": null,
      "outputs": [
        {
          "output_type": "stream",
          "name": "stdout",
          "text": [
            "optimal x* =  1.0\n",
            "optimal obj* =  4.0\n"
          ]
        }
      ]
    },
    {
      "cell_type": "markdown",
      "source": [
        "Practice Question\n",
        "minimize f(x) = 4x^4 - 3x^3 - 9x + 20"
      ],
      "metadata": {
        "id": "cuwNlG1xxfZr"
      }
    },
    {
      "cell_type": "code",
      "source": [
        "model = ConcreteModel()\n",
        "model.x = Var(domain = Reals)\n",
        "model.obj = Objective(expr = 4*model.x**4 - 3*model.x**3 - 9*model.x + 20, sense = minimize)\n",
        "model.pprint()"
      ],
      "metadata": {
        "colab": {
          "base_uri": "https://localhost:8080/"
        },
        "id": "vl5EnYy2xiQJ",
        "outputId": "bc5dd7b8-0b9a-42cf-901b-8ab9ba6a96bd"
      },
      "execution_count": null,
      "outputs": [
        {
          "output_type": "stream",
          "name": "stdout",
          "text": [
            "1 Var Declarations\n",
            "    x : Size=1, Index=None\n",
            "        Key  : Lower : Value : Upper : Fixed : Stale : Domain\n",
            "        None :  None :  None :  None : False :  True :  Reals\n",
            "\n",
            "1 Objective Declarations\n",
            "    obj : Size=1, Index=None, Active=True\n",
            "        Key  : Active : Sense    : Expression\n",
            "        None :   True : minimize : 4*x**4 - 3*x**3 - 9*x + 20\n",
            "\n",
            "2 Declarations: x obj\n"
          ]
        }
      ]
    },
    {
      "cell_type": "code",
      "source": [
        "#solve the model\n",
        "opt = SolverFactory('ipopt') #ipopt is similar to GRGNonlinear in Excel\n",
        "results = opt.solve(model, tee = True) #setting tee = False will hide the diagnostic output"
      ],
      "metadata": {
        "id": "CB-GFtq8x9F2"
      },
      "execution_count": null,
      "outputs": []
    },
    {
      "cell_type": "code",
      "source": [
        "#print the solution\n",
        "print(\"optimal x* = \", value(model.x))\n",
        "print(\"optimal obj* = \", value(model.obj))"
      ],
      "metadata": {
        "colab": {
          "base_uri": "https://localhost:8080/"
        },
        "id": "JsiDYJ9ryFmO",
        "outputId": "41204c60-f19e-4e06-cf3c-9c865473a8d3"
      },
      "execution_count": null,
      "outputs": [
        {
          "output_type": "stream",
          "name": "stdout",
          "text": [
            "optimal x* =  1.0616077811644107\n",
            "optimal obj* =  11.936814677331192\n"
          ]
        }
      ]
    }
  ]
}