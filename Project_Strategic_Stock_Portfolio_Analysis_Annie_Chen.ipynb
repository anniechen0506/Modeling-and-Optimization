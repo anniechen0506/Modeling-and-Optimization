{
  "nbformat": 4,
  "nbformat_minor": 0,
  "metadata": {
    "colab": {
      "provenance": [],
      "include_colab_link": true
    },
    "kernelspec": {
      "name": "python3",
      "display_name": "Python 3"
    },
    "language_info": {
      "name": "python"
    }
  },
  "cells": [
    {
      "cell_type": "markdown",
      "metadata": {
        "id": "view-in-github",
        "colab_type": "text"
      },
      "source": [
        "<a href=\"https://colab.research.google.com/github/anniechen0506/Modeling-and-Optimization-Fall-2023/blob/main/Project_Strategic_Stock_Portfolio_Analysis_Annie_Chen.ipynb\" target=\"_parent\"><img src=\"https://colab.research.google.com/assets/colab-badge.svg\" alt=\"Open In Colab\"/></a>"
      ]
    },
    {
      "cell_type": "markdown",
      "source": [
        "## Set-up for Pyomo"
      ],
      "metadata": {
        "id": "PPwg2N5McCne"
      }
    },
    {
      "cell_type": "code",
      "source": [
        "#Copy-and-paste the code below to use as \"set-up\" when your optimization model uses Pyomo and Coin-OR solvers.\n",
        "#for reference, see https://jckantor.github.io/ND-Pyomo-Cookbook/notebooks/01.02-Running-Pyomo-on-Google-Colab.html#installing-pyomo-and-solvers\n",
        "\n",
        "%%capture\n",
        "import sys\n",
        "import os\n",
        "\n",
        "if 'google.colab' in sys.modules:\n",
        "    !pip install idaes-pse --pre\n",
        "    !idaes get-extensions --to ./bin\n",
        "    os.environ['PATH'] += ':bin'\n",
        "\n",
        "from pyomo.environ import *"
      ],
      "metadata": {
        "id": "Rer_NsM0cCAV"
      },
      "execution_count": null,
      "outputs": []
    },
    {
      "cell_type": "code",
      "source": [
        "import pandas as pd\n",
        "import numpy as np\n",
        "import yfinance as yf\n",
        "import pandas as pd\n",
        "import datetime"
      ],
      "metadata": {
        "id": "ErPz4odpcHCh"
      },
      "execution_count": null,
      "outputs": []
    },
    {
      "cell_type": "markdown",
      "source": [
        "## Get Data from Yahoo Finance"
      ],
      "metadata": {
        "id": "Bjo51BLkcSNE"
      }
    },
    {
      "cell_type": "code",
      "source": [
        "def get_stock_data(symbol, start_date, end_date):\n",
        "    try:\n",
        "        stock_data = yf.download(symbol, start=start_date, end=end_date)\n",
        "        return stock_data['Close']\n",
        "    except Exception as e:\n",
        "        print(f\"Error fetching data for {symbol}: {e}\")\n",
        "        return pd.Series(name=symbol)"
      ],
      "metadata": {
        "id": "IYBL7JLkGlT9"
      },
      "execution_count": null,
      "outputs": []
    },
    {
      "cell_type": "code",
      "source": [
        "def get_multiple_stocks_data(symbols, start_date, end_date):\n",
        "    close_prices = pd.DataFrame()\n",
        "\n",
        "    for symbol in symbols:\n",
        "        stock_data = get_stock_data(symbol, start_date, end_date)\n",
        "        close_prices[symbol] = stock_data\n",
        "\n",
        "    return close_prices"
      ],
      "metadata": {
        "id": "mNMPEl-eGoGG"
      },
      "execution_count": null,
      "outputs": []
    },
    {
      "cell_type": "code",
      "source": [
        "# Get the list of S&P 500 companies\n",
        "sp500_symbols = pd.read_html('https://en.wikipedia.org/wiki/List_of_S%26P_500_companies')[0]['Symbol'].tolist()"
      ],
      "metadata": {
        "id": "uUjlGMOIGp3F"
      },
      "execution_count": null,
      "outputs": []
    },
    {
      "cell_type": "code",
      "source": [
        "# Set the date range\n",
        "start_date = datetime.datetime.now() - datetime.timedelta(days=365 * 5)  # 5 years ago from today\n",
        "end_date = datetime.datetime.now()"
      ],
      "metadata": {
        "id": "vJgh82MRGtIv"
      },
      "execution_count": null,
      "outputs": []
    },
    {
      "cell_type": "code",
      "source": [
        "# Download historical stock data for S&P 500 companies\n",
        "sp500_close_prices = get_multiple_stocks_data(sp500_symbols, start_date, end_date)"
      ],
      "metadata": {
        "id": "cnMVqKA9GvOD",
        "colab": {
          "base_uri": "https://localhost:8080/"
        },
        "outputId": "7fdfc3ba-25ab-4dad-853f-2c92d94ae860"
      },
      "execution_count": null,
      "outputs": [
        {
          "output_type": "stream",
          "name": "stdout",
          "text": [
            "[*********************100%%**********************]  1 of 1 completed\n",
            "[*********************100%%**********************]  1 of 1 completed\n",
            "[*********************100%%**********************]  1 of 1 completed\n",
            "[*********************100%%**********************]  1 of 1 completed\n",
            "[*********************100%%**********************]  1 of 1 completed\n",
            "[*********************100%%**********************]  1 of 1 completed\n",
            "[*********************100%%**********************]  1 of 1 completed\n",
            "[*********************100%%**********************]  1 of 1 completed\n",
            "[*********************100%%**********************]  1 of 1 completed\n",
            "[*********************100%%**********************]  1 of 1 completed\n",
            "[*********************100%%**********************]  1 of 1 completed\n",
            "[*********************100%%**********************]  1 of 1 completed\n",
            "[*********************100%%**********************]  1 of 1 completed\n",
            "[*********************100%%**********************]  1 of 1 completed\n",
            "[*********************100%%**********************]  1 of 1 completed\n",
            "[*********************100%%**********************]  1 of 1 completed\n",
            "[*********************100%%**********************]  1 of 1 completed\n",
            "[*********************100%%**********************]  1 of 1 completed\n",
            "[*********************100%%**********************]  1 of 1 completed\n",
            "[*********************100%%**********************]  1 of 1 completed\n",
            "[*********************100%%**********************]  1 of 1 completed\n",
            "[*********************100%%**********************]  1 of 1 completed\n",
            "[*********************100%%**********************]  1 of 1 completed\n",
            "[*********************100%%**********************]  1 of 1 completed\n",
            "[*********************100%%**********************]  1 of 1 completed\n",
            "[*********************100%%**********************]  1 of 1 completed\n",
            "[*********************100%%**********************]  1 of 1 completed\n",
            "[*********************100%%**********************]  1 of 1 completed\n",
            "[*********************100%%**********************]  1 of 1 completed\n",
            "[*********************100%%**********************]  1 of 1 completed\n",
            "[*********************100%%**********************]  1 of 1 completed\n",
            "[*********************100%%**********************]  1 of 1 completed\n",
            "[*********************100%%**********************]  1 of 1 completed\n",
            "[*********************100%%**********************]  1 of 1 completed\n",
            "[*********************100%%**********************]  1 of 1 completed\n",
            "[*********************100%%**********************]  1 of 1 completed\n",
            "[*********************100%%**********************]  1 of 1 completed\n",
            "[*********************100%%**********************]  1 of 1 completed\n",
            "[*********************100%%**********************]  1 of 1 completed\n",
            "[*********************100%%**********************]  1 of 1 completed\n",
            "[*********************100%%**********************]  1 of 1 completed\n",
            "[*********************100%%**********************]  1 of 1 completed\n",
            "[*********************100%%**********************]  1 of 1 completed\n",
            "[*********************100%%**********************]  1 of 1 completed\n",
            "[*********************100%%**********************]  1 of 1 completed\n",
            "[*********************100%%**********************]  1 of 1 completed\n",
            "[*********************100%%**********************]  1 of 1 completed\n",
            "[*********************100%%**********************]  1 of 1 completed\n",
            "[*********************100%%**********************]  1 of 1 completed\n",
            "[*********************100%%**********************]  1 of 1 completed\n",
            "[*********************100%%**********************]  1 of 1 completed\n",
            "[*********************100%%**********************]  1 of 1 completed\n",
            "[*********************100%%**********************]  1 of 1 completed\n",
            "[*********************100%%**********************]  1 of 1 completed\n",
            "[*********************100%%**********************]  1 of 1 completed\n",
            "[*********************100%%**********************]  1 of 1 completed\n",
            "[*********************100%%**********************]  1 of 1 completed\n",
            "[*********************100%%**********************]  1 of 1 completed\n",
            "[*********************100%%**********************]  1 of 1 completed\n",
            "[*********************100%%**********************]  1 of 1 completed\n",
            "[*********************100%%**********************]  1 of 1 completed\n",
            "[*********************100%%**********************]  1 of 1 completed\n",
            "[*********************100%%**********************]  1 of 1 completed"
          ]
        },
        {
          "output_type": "stream",
          "name": "stderr",
          "text": [
            "ERROR:yfinance:\n",
            "1 Failed download:\n",
            "ERROR:yfinance:['BRK.B']: Exception('%ticker%: No timezone found, symbol may be delisted')\n"
          ]
        },
        {
          "output_type": "stream",
          "name": "stdout",
          "text": [
            "\n",
            "[*********************100%%**********************]  1 of 1 completed\n",
            "[*********************100%%**********************]  1 of 1 completed\n",
            "[*********************100%%**********************]  1 of 1 completed\n",
            "[*********************100%%**********************]  1 of 1 completed\n",
            "[*********************100%%**********************]  1 of 1 completed\n",
            "[*********************100%%**********************]  1 of 1 completed\n",
            "[*********************100%%**********************]  1 of 1 completed\n",
            "[*********************100%%**********************]  1 of 1 completed\n",
            "[*********************100%%**********************]  1 of 1 completed\n",
            "[*********************100%%**********************]  1 of 1 completed\n",
            "[*********************100%%**********************]  1 of 1 completed\n",
            "[*********************100%%**********************]  1 of 1 completed\n",
            "[*********************100%%**********************]  1 of 1 completed\n",
            "[*********************100%%**********************]  1 of 1 completed\n",
            "[*********************100%%**********************]  1 of 1 completed\n",
            "[*********************100%%**********************]  1 of 1 completed"
          ]
        },
        {
          "output_type": "stream",
          "name": "stderr",
          "text": [
            "ERROR:yfinance:\n",
            "1 Failed download:\n",
            "ERROR:yfinance:['BF.B']: Exception('%ticker%: No price data found, symbol may be delisted (1d 2018-12-18 05:07:24.316456 -> 2023-12-17 05:07:24.316543)')\n"
          ]
        },
        {
          "output_type": "stream",
          "name": "stdout",
          "text": [
            "\n",
            "[*********************100%%**********************]  1 of 1 completed\n",
            "[*********************100%%**********************]  1 of 1 completed\n",
            "[*********************100%%**********************]  1 of 1 completed\n",
            "[*********************100%%**********************]  1 of 1 completed\n",
            "[*********************100%%**********************]  1 of 1 completed\n",
            "[*********************100%%**********************]  1 of 1 completed\n",
            "[*********************100%%**********************]  1 of 1 completed\n",
            "[*********************100%%**********************]  1 of 1 completed\n",
            "[*********************100%%**********************]  1 of 1 completed\n",
            "[*********************100%%**********************]  1 of 1 completed\n",
            "[*********************100%%**********************]  1 of 1 completed\n",
            "[*********************100%%**********************]  1 of 1 completed\n",
            "[*********************100%%**********************]  1 of 1 completed\n",
            "[*********************100%%**********************]  1 of 1 completed\n",
            "[*********************100%%**********************]  1 of 1 completed\n",
            "[*********************100%%**********************]  1 of 1 completed\n",
            "[*********************100%%**********************]  1 of 1 completed\n",
            "[*********************100%%**********************]  1 of 1 completed\n",
            "[*********************100%%**********************]  1 of 1 completed\n",
            "[*********************100%%**********************]  1 of 1 completed\n",
            "[*********************100%%**********************]  1 of 1 completed\n",
            "[*********************100%%**********************]  1 of 1 completed\n",
            "[*********************100%%**********************]  1 of 1 completed\n"
          ]
        },
        {
          "output_type": "stream",
          "name": "stderr",
          "text": [
            "<ipython-input-61-7829e4a2a6a3>:6: PerformanceWarning: DataFrame is highly fragmented.  This is usually the result of calling `frame.insert` many times, which has poor performance.  Consider joining all columns at once using pd.concat(axis=1) instead. To get a de-fragmented frame, use `newframe = frame.copy()`\n",
            "  close_prices[symbol] = stock_data\n",
            "<ipython-input-61-7829e4a2a6a3>:6: PerformanceWarning: DataFrame is highly fragmented.  This is usually the result of calling `frame.insert` many times, which has poor performance.  Consider joining all columns at once using pd.concat(axis=1) instead. To get a de-fragmented frame, use `newframe = frame.copy()`\n",
            "  close_prices[symbol] = stock_data\n"
          ]
        },
        {
          "output_type": "stream",
          "name": "stdout",
          "text": [
            "[*********************100%%**********************]  1 of 1 completed\n",
            "[*********************100%%**********************]  1 of 1 completed\n"
          ]
        },
        {
          "output_type": "stream",
          "name": "stderr",
          "text": [
            "<ipython-input-61-7829e4a2a6a3>:6: PerformanceWarning: DataFrame is highly fragmented.  This is usually the result of calling `frame.insert` many times, which has poor performance.  Consider joining all columns at once using pd.concat(axis=1) instead. To get a de-fragmented frame, use `newframe = frame.copy()`\n",
            "  close_prices[symbol] = stock_data\n",
            "<ipython-input-61-7829e4a2a6a3>:6: PerformanceWarning: DataFrame is highly fragmented.  This is usually the result of calling `frame.insert` many times, which has poor performance.  Consider joining all columns at once using pd.concat(axis=1) instead. To get a de-fragmented frame, use `newframe = frame.copy()`\n",
            "  close_prices[symbol] = stock_data\n"
          ]
        },
        {
          "output_type": "stream",
          "name": "stdout",
          "text": [
            "\r[*********************100%%**********************]  1 of 1 completed\n"
          ]
        },
        {
          "output_type": "stream",
          "name": "stderr",
          "text": [
            "<ipython-input-61-7829e4a2a6a3>:6: PerformanceWarning: DataFrame is highly fragmented.  This is usually the result of calling `frame.insert` many times, which has poor performance.  Consider joining all columns at once using pd.concat(axis=1) instead. To get a de-fragmented frame, use `newframe = frame.copy()`\n",
            "  close_prices[symbol] = stock_data\n"
          ]
        },
        {
          "output_type": "stream",
          "name": "stdout",
          "text": [
            "[*********************100%%**********************]  1 of 1 completed\n",
            "[*********************100%%**********************]  1 of 1 completed\n"
          ]
        },
        {
          "output_type": "stream",
          "name": "stderr",
          "text": [
            "<ipython-input-61-7829e4a2a6a3>:6: PerformanceWarning: DataFrame is highly fragmented.  This is usually the result of calling `frame.insert` many times, which has poor performance.  Consider joining all columns at once using pd.concat(axis=1) instead. To get a de-fragmented frame, use `newframe = frame.copy()`\n",
            "  close_prices[symbol] = stock_data\n",
            "<ipython-input-61-7829e4a2a6a3>:6: PerformanceWarning: DataFrame is highly fragmented.  This is usually the result of calling `frame.insert` many times, which has poor performance.  Consider joining all columns at once using pd.concat(axis=1) instead. To get a de-fragmented frame, use `newframe = frame.copy()`\n",
            "  close_prices[symbol] = stock_data\n"
          ]
        },
        {
          "output_type": "stream",
          "name": "stdout",
          "text": [
            "[*********************100%%**********************]  1 of 1 completed\n",
            "[*********************100%%**********************]  1 of 1 completed\n"
          ]
        },
        {
          "output_type": "stream",
          "name": "stderr",
          "text": [
            "<ipython-input-61-7829e4a2a6a3>:6: PerformanceWarning: DataFrame is highly fragmented.  This is usually the result of calling `frame.insert` many times, which has poor performance.  Consider joining all columns at once using pd.concat(axis=1) instead. To get a de-fragmented frame, use `newframe = frame.copy()`\n",
            "  close_prices[symbol] = stock_data\n",
            "<ipython-input-61-7829e4a2a6a3>:6: PerformanceWarning: DataFrame is highly fragmented.  This is usually the result of calling `frame.insert` many times, which has poor performance.  Consider joining all columns at once using pd.concat(axis=1) instead. To get a de-fragmented frame, use `newframe = frame.copy()`\n",
            "  close_prices[symbol] = stock_data\n"
          ]
        },
        {
          "output_type": "stream",
          "name": "stdout",
          "text": [
            "[*********************100%%**********************]  1 of 1 completed\n",
            "[*********************100%%**********************]  1 of 1 completed\n"
          ]
        },
        {
          "output_type": "stream",
          "name": "stderr",
          "text": [
            "<ipython-input-61-7829e4a2a6a3>:6: PerformanceWarning: DataFrame is highly fragmented.  This is usually the result of calling `frame.insert` many times, which has poor performance.  Consider joining all columns at once using pd.concat(axis=1) instead. To get a de-fragmented frame, use `newframe = frame.copy()`\n",
            "  close_prices[symbol] = stock_data\n",
            "<ipython-input-61-7829e4a2a6a3>:6: PerformanceWarning: DataFrame is highly fragmented.  This is usually the result of calling `frame.insert` many times, which has poor performance.  Consider joining all columns at once using pd.concat(axis=1) instead. To get a de-fragmented frame, use `newframe = frame.copy()`\n",
            "  close_prices[symbol] = stock_data\n"
          ]
        },
        {
          "output_type": "stream",
          "name": "stdout",
          "text": [
            "[*********************100%%**********************]  1 of 1 completed\n",
            "[*********************100%%**********************]  1 of 1 completed\n"
          ]
        },
        {
          "output_type": "stream",
          "name": "stderr",
          "text": [
            "<ipython-input-61-7829e4a2a6a3>:6: PerformanceWarning: DataFrame is highly fragmented.  This is usually the result of calling `frame.insert` many times, which has poor performance.  Consider joining all columns at once using pd.concat(axis=1) instead. To get a de-fragmented frame, use `newframe = frame.copy()`\n",
            "  close_prices[symbol] = stock_data\n",
            "<ipython-input-61-7829e4a2a6a3>:6: PerformanceWarning: DataFrame is highly fragmented.  This is usually the result of calling `frame.insert` many times, which has poor performance.  Consider joining all columns at once using pd.concat(axis=1) instead. To get a de-fragmented frame, use `newframe = frame.copy()`\n",
            "  close_prices[symbol] = stock_data\n"
          ]
        },
        {
          "output_type": "stream",
          "name": "stdout",
          "text": [
            "[*********************100%%**********************]  1 of 1 completed\n",
            "[*********************100%%**********************]  1 of 1 completed\n"
          ]
        },
        {
          "output_type": "stream",
          "name": "stderr",
          "text": [
            "<ipython-input-61-7829e4a2a6a3>:6: PerformanceWarning: DataFrame is highly fragmented.  This is usually the result of calling `frame.insert` many times, which has poor performance.  Consider joining all columns at once using pd.concat(axis=1) instead. To get a de-fragmented frame, use `newframe = frame.copy()`\n",
            "  close_prices[symbol] = stock_data\n",
            "<ipython-input-61-7829e4a2a6a3>:6: PerformanceWarning: DataFrame is highly fragmented.  This is usually the result of calling `frame.insert` many times, which has poor performance.  Consider joining all columns at once using pd.concat(axis=1) instead. To get a de-fragmented frame, use `newframe = frame.copy()`\n",
            "  close_prices[symbol] = stock_data\n"
          ]
        },
        {
          "output_type": "stream",
          "name": "stdout",
          "text": [
            "[*********************100%%**********************]  1 of 1 completed\n",
            "[*********************100%%**********************]  1 of 1 completed\n"
          ]
        },
        {
          "output_type": "stream",
          "name": "stderr",
          "text": [
            "<ipython-input-61-7829e4a2a6a3>:6: PerformanceWarning: DataFrame is highly fragmented.  This is usually the result of calling `frame.insert` many times, which has poor performance.  Consider joining all columns at once using pd.concat(axis=1) instead. To get a de-fragmented frame, use `newframe = frame.copy()`\n",
            "  close_prices[symbol] = stock_data\n",
            "<ipython-input-61-7829e4a2a6a3>:6: PerformanceWarning: DataFrame is highly fragmented.  This is usually the result of calling `frame.insert` many times, which has poor performance.  Consider joining all columns at once using pd.concat(axis=1) instead. To get a de-fragmented frame, use `newframe = frame.copy()`\n",
            "  close_prices[symbol] = stock_data\n"
          ]
        },
        {
          "output_type": "stream",
          "name": "stdout",
          "text": [
            "[*********************100%%**********************]  1 of 1 completed\n",
            "[*********************100%%**********************]  1 of 1 completed\n"
          ]
        },
        {
          "output_type": "stream",
          "name": "stderr",
          "text": [
            "<ipython-input-61-7829e4a2a6a3>:6: PerformanceWarning: DataFrame is highly fragmented.  This is usually the result of calling `frame.insert` many times, which has poor performance.  Consider joining all columns at once using pd.concat(axis=1) instead. To get a de-fragmented frame, use `newframe = frame.copy()`\n",
            "  close_prices[symbol] = stock_data\n",
            "<ipython-input-61-7829e4a2a6a3>:6: PerformanceWarning: DataFrame is highly fragmented.  This is usually the result of calling `frame.insert` many times, which has poor performance.  Consider joining all columns at once using pd.concat(axis=1) instead. To get a de-fragmented frame, use `newframe = frame.copy()`\n",
            "  close_prices[symbol] = stock_data\n"
          ]
        },
        {
          "output_type": "stream",
          "name": "stdout",
          "text": [
            "[*********************100%%**********************]  1 of 1 completed\n",
            "[*********************100%%**********************]  1 of 1 completed\n"
          ]
        },
        {
          "output_type": "stream",
          "name": "stderr",
          "text": [
            "<ipython-input-61-7829e4a2a6a3>:6: PerformanceWarning: DataFrame is highly fragmented.  This is usually the result of calling `frame.insert` many times, which has poor performance.  Consider joining all columns at once using pd.concat(axis=1) instead. To get a de-fragmented frame, use `newframe = frame.copy()`\n",
            "  close_prices[symbol] = stock_data\n",
            "<ipython-input-61-7829e4a2a6a3>:6: PerformanceWarning: DataFrame is highly fragmented.  This is usually the result of calling `frame.insert` many times, which has poor performance.  Consider joining all columns at once using pd.concat(axis=1) instead. To get a de-fragmented frame, use `newframe = frame.copy()`\n",
            "  close_prices[symbol] = stock_data\n"
          ]
        },
        {
          "output_type": "stream",
          "name": "stdout",
          "text": [
            "[*********************100%%**********************]  1 of 1 completed\n",
            "[*********************100%%**********************]  1 of 1 completed\n"
          ]
        },
        {
          "output_type": "stream",
          "name": "stderr",
          "text": [
            "<ipython-input-61-7829e4a2a6a3>:6: PerformanceWarning: DataFrame is highly fragmented.  This is usually the result of calling `frame.insert` many times, which has poor performance.  Consider joining all columns at once using pd.concat(axis=1) instead. To get a de-fragmented frame, use `newframe = frame.copy()`\n",
            "  close_prices[symbol] = stock_data\n",
            "<ipython-input-61-7829e4a2a6a3>:6: PerformanceWarning: DataFrame is highly fragmented.  This is usually the result of calling `frame.insert` many times, which has poor performance.  Consider joining all columns at once using pd.concat(axis=1) instead. To get a de-fragmented frame, use `newframe = frame.copy()`\n",
            "  close_prices[symbol] = stock_data\n"
          ]
        },
        {
          "output_type": "stream",
          "name": "stdout",
          "text": [
            "[*********************100%%**********************]  1 of 1 completed\n",
            "[*********************100%%**********************]  1 of 1 completed\n"
          ]
        },
        {
          "output_type": "stream",
          "name": "stderr",
          "text": [
            "<ipython-input-61-7829e4a2a6a3>:6: PerformanceWarning: DataFrame is highly fragmented.  This is usually the result of calling `frame.insert` many times, which has poor performance.  Consider joining all columns at once using pd.concat(axis=1) instead. To get a de-fragmented frame, use `newframe = frame.copy()`\n",
            "  close_prices[symbol] = stock_data\n",
            "<ipython-input-61-7829e4a2a6a3>:6: PerformanceWarning: DataFrame is highly fragmented.  This is usually the result of calling `frame.insert` many times, which has poor performance.  Consider joining all columns at once using pd.concat(axis=1) instead. To get a de-fragmented frame, use `newframe = frame.copy()`\n",
            "  close_prices[symbol] = stock_data\n"
          ]
        },
        {
          "output_type": "stream",
          "name": "stdout",
          "text": [
            "[*********************100%%**********************]  1 of 1 completed\n",
            "[*********************100%%**********************]  1 of 1 completed\n"
          ]
        },
        {
          "output_type": "stream",
          "name": "stderr",
          "text": [
            "<ipython-input-61-7829e4a2a6a3>:6: PerformanceWarning: DataFrame is highly fragmented.  This is usually the result of calling `frame.insert` many times, which has poor performance.  Consider joining all columns at once using pd.concat(axis=1) instead. To get a de-fragmented frame, use `newframe = frame.copy()`\n",
            "  close_prices[symbol] = stock_data\n",
            "<ipython-input-61-7829e4a2a6a3>:6: PerformanceWarning: DataFrame is highly fragmented.  This is usually the result of calling `frame.insert` many times, which has poor performance.  Consider joining all columns at once using pd.concat(axis=1) instead. To get a de-fragmented frame, use `newframe = frame.copy()`\n",
            "  close_prices[symbol] = stock_data\n"
          ]
        },
        {
          "output_type": "stream",
          "name": "stdout",
          "text": [
            "[*********************100%%**********************]  1 of 1 completed\n",
            "[*********************100%%**********************]  1 of 1 completed\n"
          ]
        },
        {
          "output_type": "stream",
          "name": "stderr",
          "text": [
            "<ipython-input-61-7829e4a2a6a3>:6: PerformanceWarning: DataFrame is highly fragmented.  This is usually the result of calling `frame.insert` many times, which has poor performance.  Consider joining all columns at once using pd.concat(axis=1) instead. To get a de-fragmented frame, use `newframe = frame.copy()`\n",
            "  close_prices[symbol] = stock_data\n",
            "<ipython-input-61-7829e4a2a6a3>:6: PerformanceWarning: DataFrame is highly fragmented.  This is usually the result of calling `frame.insert` many times, which has poor performance.  Consider joining all columns at once using pd.concat(axis=1) instead. To get a de-fragmented frame, use `newframe = frame.copy()`\n",
            "  close_prices[symbol] = stock_data\n"
          ]
        },
        {
          "output_type": "stream",
          "name": "stdout",
          "text": [
            "[*********************100%%**********************]  1 of 1 completed\n",
            "[*********************100%%**********************]  1 of 1 completed\n"
          ]
        },
        {
          "output_type": "stream",
          "name": "stderr",
          "text": [
            "<ipython-input-61-7829e4a2a6a3>:6: PerformanceWarning: DataFrame is highly fragmented.  This is usually the result of calling `frame.insert` many times, which has poor performance.  Consider joining all columns at once using pd.concat(axis=1) instead. To get a de-fragmented frame, use `newframe = frame.copy()`\n",
            "  close_prices[symbol] = stock_data\n",
            "<ipython-input-61-7829e4a2a6a3>:6: PerformanceWarning: DataFrame is highly fragmented.  This is usually the result of calling `frame.insert` many times, which has poor performance.  Consider joining all columns at once using pd.concat(axis=1) instead. To get a de-fragmented frame, use `newframe = frame.copy()`\n",
            "  close_prices[symbol] = stock_data\n"
          ]
        },
        {
          "output_type": "stream",
          "name": "stdout",
          "text": [
            "[*********************100%%**********************]  1 of 1 completed\n",
            "[*********************100%%**********************]  1 of 1 completed\n"
          ]
        },
        {
          "output_type": "stream",
          "name": "stderr",
          "text": [
            "<ipython-input-61-7829e4a2a6a3>:6: PerformanceWarning: DataFrame is highly fragmented.  This is usually the result of calling `frame.insert` many times, which has poor performance.  Consider joining all columns at once using pd.concat(axis=1) instead. To get a de-fragmented frame, use `newframe = frame.copy()`\n",
            "  close_prices[symbol] = stock_data\n",
            "<ipython-input-61-7829e4a2a6a3>:6: PerformanceWarning: DataFrame is highly fragmented.  This is usually the result of calling `frame.insert` many times, which has poor performance.  Consider joining all columns at once using pd.concat(axis=1) instead. To get a de-fragmented frame, use `newframe = frame.copy()`\n",
            "  close_prices[symbol] = stock_data\n"
          ]
        },
        {
          "output_type": "stream",
          "name": "stdout",
          "text": [
            "[*********************100%%**********************]  1 of 1 completed\n",
            "[*********************100%%**********************]  1 of 1 completed\n"
          ]
        },
        {
          "output_type": "stream",
          "name": "stderr",
          "text": [
            "<ipython-input-61-7829e4a2a6a3>:6: PerformanceWarning: DataFrame is highly fragmented.  This is usually the result of calling `frame.insert` many times, which has poor performance.  Consider joining all columns at once using pd.concat(axis=1) instead. To get a de-fragmented frame, use `newframe = frame.copy()`\n",
            "  close_prices[symbol] = stock_data\n",
            "<ipython-input-61-7829e4a2a6a3>:6: PerformanceWarning: DataFrame is highly fragmented.  This is usually the result of calling `frame.insert` many times, which has poor performance.  Consider joining all columns at once using pd.concat(axis=1) instead. To get a de-fragmented frame, use `newframe = frame.copy()`\n",
            "  close_prices[symbol] = stock_data\n"
          ]
        },
        {
          "output_type": "stream",
          "name": "stdout",
          "text": [
            "[*********************100%%**********************]  1 of 1 completed\n",
            "[*********************100%%**********************]  1 of 1 completed\n"
          ]
        },
        {
          "output_type": "stream",
          "name": "stderr",
          "text": [
            "<ipython-input-61-7829e4a2a6a3>:6: PerformanceWarning: DataFrame is highly fragmented.  This is usually the result of calling `frame.insert` many times, which has poor performance.  Consider joining all columns at once using pd.concat(axis=1) instead. To get a de-fragmented frame, use `newframe = frame.copy()`\n",
            "  close_prices[symbol] = stock_data\n",
            "<ipython-input-61-7829e4a2a6a3>:6: PerformanceWarning: DataFrame is highly fragmented.  This is usually the result of calling `frame.insert` many times, which has poor performance.  Consider joining all columns at once using pd.concat(axis=1) instead. To get a de-fragmented frame, use `newframe = frame.copy()`\n",
            "  close_prices[symbol] = stock_data\n"
          ]
        },
        {
          "output_type": "stream",
          "name": "stdout",
          "text": [
            "[*********************100%%**********************]  1 of 1 completed\n",
            "[*********************100%%**********************]  1 of 1 completed\n"
          ]
        },
        {
          "output_type": "stream",
          "name": "stderr",
          "text": [
            "<ipython-input-61-7829e4a2a6a3>:6: PerformanceWarning: DataFrame is highly fragmented.  This is usually the result of calling `frame.insert` many times, which has poor performance.  Consider joining all columns at once using pd.concat(axis=1) instead. To get a de-fragmented frame, use `newframe = frame.copy()`\n",
            "  close_prices[symbol] = stock_data\n",
            "<ipython-input-61-7829e4a2a6a3>:6: PerformanceWarning: DataFrame is highly fragmented.  This is usually the result of calling `frame.insert` many times, which has poor performance.  Consider joining all columns at once using pd.concat(axis=1) instead. To get a de-fragmented frame, use `newframe = frame.copy()`\n",
            "  close_prices[symbol] = stock_data\n"
          ]
        },
        {
          "output_type": "stream",
          "name": "stdout",
          "text": [
            "[*********************100%%**********************]  1 of 1 completed\n",
            "[*********************100%%**********************]  1 of 1 completed\n"
          ]
        },
        {
          "output_type": "stream",
          "name": "stderr",
          "text": [
            "<ipython-input-61-7829e4a2a6a3>:6: PerformanceWarning: DataFrame is highly fragmented.  This is usually the result of calling `frame.insert` many times, which has poor performance.  Consider joining all columns at once using pd.concat(axis=1) instead. To get a de-fragmented frame, use `newframe = frame.copy()`\n",
            "  close_prices[symbol] = stock_data\n",
            "<ipython-input-61-7829e4a2a6a3>:6: PerformanceWarning: DataFrame is highly fragmented.  This is usually the result of calling `frame.insert` many times, which has poor performance.  Consider joining all columns at once using pd.concat(axis=1) instead. To get a de-fragmented frame, use `newframe = frame.copy()`\n",
            "  close_prices[symbol] = stock_data\n"
          ]
        },
        {
          "output_type": "stream",
          "name": "stdout",
          "text": [
            "[*********************100%%**********************]  1 of 1 completed\n",
            "[*********************100%%**********************]  1 of 1 completed\n"
          ]
        },
        {
          "output_type": "stream",
          "name": "stderr",
          "text": [
            "<ipython-input-61-7829e4a2a6a3>:6: PerformanceWarning: DataFrame is highly fragmented.  This is usually the result of calling `frame.insert` many times, which has poor performance.  Consider joining all columns at once using pd.concat(axis=1) instead. To get a de-fragmented frame, use `newframe = frame.copy()`\n",
            "  close_prices[symbol] = stock_data\n",
            "<ipython-input-61-7829e4a2a6a3>:6: PerformanceWarning: DataFrame is highly fragmented.  This is usually the result of calling `frame.insert` many times, which has poor performance.  Consider joining all columns at once using pd.concat(axis=1) instead. To get a de-fragmented frame, use `newframe = frame.copy()`\n",
            "  close_prices[symbol] = stock_data\n"
          ]
        },
        {
          "output_type": "stream",
          "name": "stdout",
          "text": [
            "[*********************100%%**********************]  1 of 1 completed\n",
            "[*********************100%%**********************]  1 of 1 completed\n"
          ]
        },
        {
          "output_type": "stream",
          "name": "stderr",
          "text": [
            "<ipython-input-61-7829e4a2a6a3>:6: PerformanceWarning: DataFrame is highly fragmented.  This is usually the result of calling `frame.insert` many times, which has poor performance.  Consider joining all columns at once using pd.concat(axis=1) instead. To get a de-fragmented frame, use `newframe = frame.copy()`\n",
            "  close_prices[symbol] = stock_data\n",
            "<ipython-input-61-7829e4a2a6a3>:6: PerformanceWarning: DataFrame is highly fragmented.  This is usually the result of calling `frame.insert` many times, which has poor performance.  Consider joining all columns at once using pd.concat(axis=1) instead. To get a de-fragmented frame, use `newframe = frame.copy()`\n",
            "  close_prices[symbol] = stock_data\n"
          ]
        },
        {
          "output_type": "stream",
          "name": "stdout",
          "text": [
            "[*********************100%%**********************]  1 of 1 completed\n",
            "[*********************100%%**********************]  1 of 1 completed\n"
          ]
        },
        {
          "output_type": "stream",
          "name": "stderr",
          "text": [
            "<ipython-input-61-7829e4a2a6a3>:6: PerformanceWarning: DataFrame is highly fragmented.  This is usually the result of calling `frame.insert` many times, which has poor performance.  Consider joining all columns at once using pd.concat(axis=1) instead. To get a de-fragmented frame, use `newframe = frame.copy()`\n",
            "  close_prices[symbol] = stock_data\n",
            "<ipython-input-61-7829e4a2a6a3>:6: PerformanceWarning: DataFrame is highly fragmented.  This is usually the result of calling `frame.insert` many times, which has poor performance.  Consider joining all columns at once using pd.concat(axis=1) instead. To get a de-fragmented frame, use `newframe = frame.copy()`\n",
            "  close_prices[symbol] = stock_data\n"
          ]
        },
        {
          "output_type": "stream",
          "name": "stdout",
          "text": [
            "[*********************100%%**********************]  1 of 1 completed\n",
            "[*********************100%%**********************]  1 of 1 completed\n"
          ]
        },
        {
          "output_type": "stream",
          "name": "stderr",
          "text": [
            "<ipython-input-61-7829e4a2a6a3>:6: PerformanceWarning: DataFrame is highly fragmented.  This is usually the result of calling `frame.insert` many times, which has poor performance.  Consider joining all columns at once using pd.concat(axis=1) instead. To get a de-fragmented frame, use `newframe = frame.copy()`\n",
            "  close_prices[symbol] = stock_data\n",
            "<ipython-input-61-7829e4a2a6a3>:6: PerformanceWarning: DataFrame is highly fragmented.  This is usually the result of calling `frame.insert` many times, which has poor performance.  Consider joining all columns at once using pd.concat(axis=1) instead. To get a de-fragmented frame, use `newframe = frame.copy()`\n",
            "  close_prices[symbol] = stock_data\n"
          ]
        },
        {
          "output_type": "stream",
          "name": "stdout",
          "text": [
            "[*********************100%%**********************]  1 of 1 completed\n",
            "[*********************100%%**********************]  1 of 1 completed\n"
          ]
        },
        {
          "output_type": "stream",
          "name": "stderr",
          "text": [
            "<ipython-input-61-7829e4a2a6a3>:6: PerformanceWarning: DataFrame is highly fragmented.  This is usually the result of calling `frame.insert` many times, which has poor performance.  Consider joining all columns at once using pd.concat(axis=1) instead. To get a de-fragmented frame, use `newframe = frame.copy()`\n",
            "  close_prices[symbol] = stock_data\n",
            "<ipython-input-61-7829e4a2a6a3>:6: PerformanceWarning: DataFrame is highly fragmented.  This is usually the result of calling `frame.insert` many times, which has poor performance.  Consider joining all columns at once using pd.concat(axis=1) instead. To get a de-fragmented frame, use `newframe = frame.copy()`\n",
            "  close_prices[symbol] = stock_data\n"
          ]
        },
        {
          "output_type": "stream",
          "name": "stdout",
          "text": [
            "[*********************100%%**********************]  1 of 1 completed\n",
            "[*********************100%%**********************]  1 of 1 completed\n"
          ]
        },
        {
          "output_type": "stream",
          "name": "stderr",
          "text": [
            "<ipython-input-61-7829e4a2a6a3>:6: PerformanceWarning: DataFrame is highly fragmented.  This is usually the result of calling `frame.insert` many times, which has poor performance.  Consider joining all columns at once using pd.concat(axis=1) instead. To get a de-fragmented frame, use `newframe = frame.copy()`\n",
            "  close_prices[symbol] = stock_data\n",
            "<ipython-input-61-7829e4a2a6a3>:6: PerformanceWarning: DataFrame is highly fragmented.  This is usually the result of calling `frame.insert` many times, which has poor performance.  Consider joining all columns at once using pd.concat(axis=1) instead. To get a de-fragmented frame, use `newframe = frame.copy()`\n",
            "  close_prices[symbol] = stock_data\n"
          ]
        },
        {
          "output_type": "stream",
          "name": "stdout",
          "text": [
            "[*********************100%%**********************]  1 of 1 completed\n",
            "[*********************100%%**********************]  1 of 1 completed\n"
          ]
        },
        {
          "output_type": "stream",
          "name": "stderr",
          "text": [
            "<ipython-input-61-7829e4a2a6a3>:6: PerformanceWarning: DataFrame is highly fragmented.  This is usually the result of calling `frame.insert` many times, which has poor performance.  Consider joining all columns at once using pd.concat(axis=1) instead. To get a de-fragmented frame, use `newframe = frame.copy()`\n",
            "  close_prices[symbol] = stock_data\n",
            "<ipython-input-61-7829e4a2a6a3>:6: PerformanceWarning: DataFrame is highly fragmented.  This is usually the result of calling `frame.insert` many times, which has poor performance.  Consider joining all columns at once using pd.concat(axis=1) instead. To get a de-fragmented frame, use `newframe = frame.copy()`\n",
            "  close_prices[symbol] = stock_data\n"
          ]
        },
        {
          "output_type": "stream",
          "name": "stdout",
          "text": [
            "[*********************100%%**********************]  1 of 1 completed\n",
            "[*********************100%%**********************]  1 of 1 completed\n"
          ]
        },
        {
          "output_type": "stream",
          "name": "stderr",
          "text": [
            "<ipython-input-61-7829e4a2a6a3>:6: PerformanceWarning: DataFrame is highly fragmented.  This is usually the result of calling `frame.insert` many times, which has poor performance.  Consider joining all columns at once using pd.concat(axis=1) instead. To get a de-fragmented frame, use `newframe = frame.copy()`\n",
            "  close_prices[symbol] = stock_data\n",
            "<ipython-input-61-7829e4a2a6a3>:6: PerformanceWarning: DataFrame is highly fragmented.  This is usually the result of calling `frame.insert` many times, which has poor performance.  Consider joining all columns at once using pd.concat(axis=1) instead. To get a de-fragmented frame, use `newframe = frame.copy()`\n",
            "  close_prices[symbol] = stock_data\n"
          ]
        },
        {
          "output_type": "stream",
          "name": "stdout",
          "text": [
            "[*********************100%%**********************]  1 of 1 completed\n",
            "[*********************100%%**********************]  1 of 1 completed\n"
          ]
        },
        {
          "output_type": "stream",
          "name": "stderr",
          "text": [
            "<ipython-input-61-7829e4a2a6a3>:6: PerformanceWarning: DataFrame is highly fragmented.  This is usually the result of calling `frame.insert` many times, which has poor performance.  Consider joining all columns at once using pd.concat(axis=1) instead. To get a de-fragmented frame, use `newframe = frame.copy()`\n",
            "  close_prices[symbol] = stock_data\n",
            "<ipython-input-61-7829e4a2a6a3>:6: PerformanceWarning: DataFrame is highly fragmented.  This is usually the result of calling `frame.insert` many times, which has poor performance.  Consider joining all columns at once using pd.concat(axis=1) instead. To get a de-fragmented frame, use `newframe = frame.copy()`\n",
            "  close_prices[symbol] = stock_data\n"
          ]
        },
        {
          "output_type": "stream",
          "name": "stdout",
          "text": [
            "[*********************100%%**********************]  1 of 1 completed\n",
            "[*********************100%%**********************]  1 of 1 completed\n"
          ]
        },
        {
          "output_type": "stream",
          "name": "stderr",
          "text": [
            "<ipython-input-61-7829e4a2a6a3>:6: PerformanceWarning: DataFrame is highly fragmented.  This is usually the result of calling `frame.insert` many times, which has poor performance.  Consider joining all columns at once using pd.concat(axis=1) instead. To get a de-fragmented frame, use `newframe = frame.copy()`\n",
            "  close_prices[symbol] = stock_data\n",
            "<ipython-input-61-7829e4a2a6a3>:6: PerformanceWarning: DataFrame is highly fragmented.  This is usually the result of calling `frame.insert` many times, which has poor performance.  Consider joining all columns at once using pd.concat(axis=1) instead. To get a de-fragmented frame, use `newframe = frame.copy()`\n",
            "  close_prices[symbol] = stock_data\n"
          ]
        },
        {
          "output_type": "stream",
          "name": "stdout",
          "text": [
            "[*********************100%%**********************]  1 of 1 completed\n",
            "[*********************100%%**********************]  1 of 1 completed\n"
          ]
        },
        {
          "output_type": "stream",
          "name": "stderr",
          "text": [
            "<ipython-input-61-7829e4a2a6a3>:6: PerformanceWarning: DataFrame is highly fragmented.  This is usually the result of calling `frame.insert` many times, which has poor performance.  Consider joining all columns at once using pd.concat(axis=1) instead. To get a de-fragmented frame, use `newframe = frame.copy()`\n",
            "  close_prices[symbol] = stock_data\n",
            "<ipython-input-61-7829e4a2a6a3>:6: PerformanceWarning: DataFrame is highly fragmented.  This is usually the result of calling `frame.insert` many times, which has poor performance.  Consider joining all columns at once using pd.concat(axis=1) instead. To get a de-fragmented frame, use `newframe = frame.copy()`\n",
            "  close_prices[symbol] = stock_data\n"
          ]
        },
        {
          "output_type": "stream",
          "name": "stdout",
          "text": [
            "[*********************100%%**********************]  1 of 1 completed\n",
            "[*********************100%%**********************]  1 of 1 completed\n"
          ]
        },
        {
          "output_type": "stream",
          "name": "stderr",
          "text": [
            "<ipython-input-61-7829e4a2a6a3>:6: PerformanceWarning: DataFrame is highly fragmented.  This is usually the result of calling `frame.insert` many times, which has poor performance.  Consider joining all columns at once using pd.concat(axis=1) instead. To get a de-fragmented frame, use `newframe = frame.copy()`\n",
            "  close_prices[symbol] = stock_data\n",
            "<ipython-input-61-7829e4a2a6a3>:6: PerformanceWarning: DataFrame is highly fragmented.  This is usually the result of calling `frame.insert` many times, which has poor performance.  Consider joining all columns at once using pd.concat(axis=1) instead. To get a de-fragmented frame, use `newframe = frame.copy()`\n",
            "  close_prices[symbol] = stock_data\n"
          ]
        },
        {
          "output_type": "stream",
          "name": "stdout",
          "text": [
            "[*********************100%%**********************]  1 of 1 completed\n",
            "[*********************100%%**********************]  1 of 1 completed\n"
          ]
        },
        {
          "output_type": "stream",
          "name": "stderr",
          "text": [
            "<ipython-input-61-7829e4a2a6a3>:6: PerformanceWarning: DataFrame is highly fragmented.  This is usually the result of calling `frame.insert` many times, which has poor performance.  Consider joining all columns at once using pd.concat(axis=1) instead. To get a de-fragmented frame, use `newframe = frame.copy()`\n",
            "  close_prices[symbol] = stock_data\n",
            "<ipython-input-61-7829e4a2a6a3>:6: PerformanceWarning: DataFrame is highly fragmented.  This is usually the result of calling `frame.insert` many times, which has poor performance.  Consider joining all columns at once using pd.concat(axis=1) instead. To get a de-fragmented frame, use `newframe = frame.copy()`\n",
            "  close_prices[symbol] = stock_data\n"
          ]
        },
        {
          "output_type": "stream",
          "name": "stdout",
          "text": [
            "\r[*********************100%%**********************]  1 of 1 completed\n"
          ]
        },
        {
          "output_type": "stream",
          "name": "stderr",
          "text": [
            "<ipython-input-61-7829e4a2a6a3>:6: PerformanceWarning: DataFrame is highly fragmented.  This is usually the result of calling `frame.insert` many times, which has poor performance.  Consider joining all columns at once using pd.concat(axis=1) instead. To get a de-fragmented frame, use `newframe = frame.copy()`\n",
            "  close_prices[symbol] = stock_data\n"
          ]
        },
        {
          "output_type": "stream",
          "name": "stdout",
          "text": [
            "[*********************100%%**********************]  1 of 1 completed\n",
            "[*********************100%%**********************]  1 of 1 completed\n"
          ]
        },
        {
          "output_type": "stream",
          "name": "stderr",
          "text": [
            "<ipython-input-61-7829e4a2a6a3>:6: PerformanceWarning: DataFrame is highly fragmented.  This is usually the result of calling `frame.insert` many times, which has poor performance.  Consider joining all columns at once using pd.concat(axis=1) instead. To get a de-fragmented frame, use `newframe = frame.copy()`\n",
            "  close_prices[symbol] = stock_data\n",
            "<ipython-input-61-7829e4a2a6a3>:6: PerformanceWarning: DataFrame is highly fragmented.  This is usually the result of calling `frame.insert` many times, which has poor performance.  Consider joining all columns at once using pd.concat(axis=1) instead. To get a de-fragmented frame, use `newframe = frame.copy()`\n",
            "  close_prices[symbol] = stock_data\n"
          ]
        },
        {
          "output_type": "stream",
          "name": "stdout",
          "text": [
            "[*********************100%%**********************]  1 of 1 completed\n",
            "[*********************100%%**********************]  1 of 1 completed\n"
          ]
        },
        {
          "output_type": "stream",
          "name": "stderr",
          "text": [
            "<ipython-input-61-7829e4a2a6a3>:6: PerformanceWarning: DataFrame is highly fragmented.  This is usually the result of calling `frame.insert` many times, which has poor performance.  Consider joining all columns at once using pd.concat(axis=1) instead. To get a de-fragmented frame, use `newframe = frame.copy()`\n",
            "  close_prices[symbol] = stock_data\n",
            "<ipython-input-61-7829e4a2a6a3>:6: PerformanceWarning: DataFrame is highly fragmented.  This is usually the result of calling `frame.insert` many times, which has poor performance.  Consider joining all columns at once using pd.concat(axis=1) instead. To get a de-fragmented frame, use `newframe = frame.copy()`\n",
            "  close_prices[symbol] = stock_data\n"
          ]
        },
        {
          "output_type": "stream",
          "name": "stdout",
          "text": [
            "[*********************100%%**********************]  1 of 1 completed\n",
            "[*********************100%%**********************]  1 of 1 completed\n"
          ]
        },
        {
          "output_type": "stream",
          "name": "stderr",
          "text": [
            "<ipython-input-61-7829e4a2a6a3>:6: PerformanceWarning: DataFrame is highly fragmented.  This is usually the result of calling `frame.insert` many times, which has poor performance.  Consider joining all columns at once using pd.concat(axis=1) instead. To get a de-fragmented frame, use `newframe = frame.copy()`\n",
            "  close_prices[symbol] = stock_data\n",
            "<ipython-input-61-7829e4a2a6a3>:6: PerformanceWarning: DataFrame is highly fragmented.  This is usually the result of calling `frame.insert` many times, which has poor performance.  Consider joining all columns at once using pd.concat(axis=1) instead. To get a de-fragmented frame, use `newframe = frame.copy()`\n",
            "  close_prices[symbol] = stock_data\n"
          ]
        },
        {
          "output_type": "stream",
          "name": "stdout",
          "text": [
            "[*********************100%%**********************]  1 of 1 completed\n",
            "[*********************100%%**********************]  1 of 1 completed\n"
          ]
        },
        {
          "output_type": "stream",
          "name": "stderr",
          "text": [
            "<ipython-input-61-7829e4a2a6a3>:6: PerformanceWarning: DataFrame is highly fragmented.  This is usually the result of calling `frame.insert` many times, which has poor performance.  Consider joining all columns at once using pd.concat(axis=1) instead. To get a de-fragmented frame, use `newframe = frame.copy()`\n",
            "  close_prices[symbol] = stock_data\n",
            "<ipython-input-61-7829e4a2a6a3>:6: PerformanceWarning: DataFrame is highly fragmented.  This is usually the result of calling `frame.insert` many times, which has poor performance.  Consider joining all columns at once using pd.concat(axis=1) instead. To get a de-fragmented frame, use `newframe = frame.copy()`\n",
            "  close_prices[symbol] = stock_data\n"
          ]
        },
        {
          "output_type": "stream",
          "name": "stdout",
          "text": [
            "[*********************100%%**********************]  1 of 1 completed\n",
            "[*********************100%%**********************]  1 of 1 completed\n"
          ]
        },
        {
          "output_type": "stream",
          "name": "stderr",
          "text": [
            "<ipython-input-61-7829e4a2a6a3>:6: PerformanceWarning: DataFrame is highly fragmented.  This is usually the result of calling `frame.insert` many times, which has poor performance.  Consider joining all columns at once using pd.concat(axis=1) instead. To get a de-fragmented frame, use `newframe = frame.copy()`\n",
            "  close_prices[symbol] = stock_data\n",
            "<ipython-input-61-7829e4a2a6a3>:6: PerformanceWarning: DataFrame is highly fragmented.  This is usually the result of calling `frame.insert` many times, which has poor performance.  Consider joining all columns at once using pd.concat(axis=1) instead. To get a de-fragmented frame, use `newframe = frame.copy()`\n",
            "  close_prices[symbol] = stock_data\n"
          ]
        },
        {
          "output_type": "stream",
          "name": "stdout",
          "text": [
            "[*********************100%%**********************]  1 of 1 completed\n",
            "[*********************100%%**********************]  1 of 1 completed\n"
          ]
        },
        {
          "output_type": "stream",
          "name": "stderr",
          "text": [
            "<ipython-input-61-7829e4a2a6a3>:6: PerformanceWarning: DataFrame is highly fragmented.  This is usually the result of calling `frame.insert` many times, which has poor performance.  Consider joining all columns at once using pd.concat(axis=1) instead. To get a de-fragmented frame, use `newframe = frame.copy()`\n",
            "  close_prices[symbol] = stock_data\n",
            "<ipython-input-61-7829e4a2a6a3>:6: PerformanceWarning: DataFrame is highly fragmented.  This is usually the result of calling `frame.insert` many times, which has poor performance.  Consider joining all columns at once using pd.concat(axis=1) instead. To get a de-fragmented frame, use `newframe = frame.copy()`\n",
            "  close_prices[symbol] = stock_data\n"
          ]
        },
        {
          "output_type": "stream",
          "name": "stdout",
          "text": [
            "[*********************100%%**********************]  1 of 1 completed\n",
            "[*********************100%%**********************]  1 of 1 completed\n"
          ]
        },
        {
          "output_type": "stream",
          "name": "stderr",
          "text": [
            "<ipython-input-61-7829e4a2a6a3>:6: PerformanceWarning: DataFrame is highly fragmented.  This is usually the result of calling `frame.insert` many times, which has poor performance.  Consider joining all columns at once using pd.concat(axis=1) instead. To get a de-fragmented frame, use `newframe = frame.copy()`\n",
            "  close_prices[symbol] = stock_data\n",
            "<ipython-input-61-7829e4a2a6a3>:6: PerformanceWarning: DataFrame is highly fragmented.  This is usually the result of calling `frame.insert` many times, which has poor performance.  Consider joining all columns at once using pd.concat(axis=1) instead. To get a de-fragmented frame, use `newframe = frame.copy()`\n",
            "  close_prices[symbol] = stock_data\n"
          ]
        },
        {
          "output_type": "stream",
          "name": "stdout",
          "text": [
            "[*********************100%%**********************]  1 of 1 completed\n",
            "[*********************100%%**********************]  1 of 1 completed\n"
          ]
        },
        {
          "output_type": "stream",
          "name": "stderr",
          "text": [
            "<ipython-input-61-7829e4a2a6a3>:6: PerformanceWarning: DataFrame is highly fragmented.  This is usually the result of calling `frame.insert` many times, which has poor performance.  Consider joining all columns at once using pd.concat(axis=1) instead. To get a de-fragmented frame, use `newframe = frame.copy()`\n",
            "  close_prices[symbol] = stock_data\n",
            "<ipython-input-61-7829e4a2a6a3>:6: PerformanceWarning: DataFrame is highly fragmented.  This is usually the result of calling `frame.insert` many times, which has poor performance.  Consider joining all columns at once using pd.concat(axis=1) instead. To get a de-fragmented frame, use `newframe = frame.copy()`\n",
            "  close_prices[symbol] = stock_data\n"
          ]
        },
        {
          "output_type": "stream",
          "name": "stdout",
          "text": [
            "[*********************100%%**********************]  1 of 1 completed\n",
            "[*********************100%%**********************]  1 of 1 completed\n"
          ]
        },
        {
          "output_type": "stream",
          "name": "stderr",
          "text": [
            "<ipython-input-61-7829e4a2a6a3>:6: PerformanceWarning: DataFrame is highly fragmented.  This is usually the result of calling `frame.insert` many times, which has poor performance.  Consider joining all columns at once using pd.concat(axis=1) instead. To get a de-fragmented frame, use `newframe = frame.copy()`\n",
            "  close_prices[symbol] = stock_data\n",
            "<ipython-input-61-7829e4a2a6a3>:6: PerformanceWarning: DataFrame is highly fragmented.  This is usually the result of calling `frame.insert` many times, which has poor performance.  Consider joining all columns at once using pd.concat(axis=1) instead. To get a de-fragmented frame, use `newframe = frame.copy()`\n",
            "  close_prices[symbol] = stock_data\n"
          ]
        },
        {
          "output_type": "stream",
          "name": "stdout",
          "text": [
            "[*********************100%%**********************]  1 of 1 completed\n",
            "[*********************100%%**********************]  1 of 1 completed\n"
          ]
        },
        {
          "output_type": "stream",
          "name": "stderr",
          "text": [
            "<ipython-input-61-7829e4a2a6a3>:6: PerformanceWarning: DataFrame is highly fragmented.  This is usually the result of calling `frame.insert` many times, which has poor performance.  Consider joining all columns at once using pd.concat(axis=1) instead. To get a de-fragmented frame, use `newframe = frame.copy()`\n",
            "  close_prices[symbol] = stock_data\n",
            "<ipython-input-61-7829e4a2a6a3>:6: PerformanceWarning: DataFrame is highly fragmented.  This is usually the result of calling `frame.insert` many times, which has poor performance.  Consider joining all columns at once using pd.concat(axis=1) instead. To get a de-fragmented frame, use `newframe = frame.copy()`\n",
            "  close_prices[symbol] = stock_data\n"
          ]
        },
        {
          "output_type": "stream",
          "name": "stdout",
          "text": [
            "[*********************100%%**********************]  1 of 1 completed\n",
            "[*********************100%%**********************]  1 of 1 completed\n"
          ]
        },
        {
          "output_type": "stream",
          "name": "stderr",
          "text": [
            "<ipython-input-61-7829e4a2a6a3>:6: PerformanceWarning: DataFrame is highly fragmented.  This is usually the result of calling `frame.insert` many times, which has poor performance.  Consider joining all columns at once using pd.concat(axis=1) instead. To get a de-fragmented frame, use `newframe = frame.copy()`\n",
            "  close_prices[symbol] = stock_data\n",
            "<ipython-input-61-7829e4a2a6a3>:6: PerformanceWarning: DataFrame is highly fragmented.  This is usually the result of calling `frame.insert` many times, which has poor performance.  Consider joining all columns at once using pd.concat(axis=1) instead. To get a de-fragmented frame, use `newframe = frame.copy()`\n",
            "  close_prices[symbol] = stock_data\n"
          ]
        },
        {
          "output_type": "stream",
          "name": "stdout",
          "text": [
            "[*********************100%%**********************]  1 of 1 completed\n",
            "[*********************100%%**********************]  1 of 1 completed\n"
          ]
        },
        {
          "output_type": "stream",
          "name": "stderr",
          "text": [
            "<ipython-input-61-7829e4a2a6a3>:6: PerformanceWarning: DataFrame is highly fragmented.  This is usually the result of calling `frame.insert` many times, which has poor performance.  Consider joining all columns at once using pd.concat(axis=1) instead. To get a de-fragmented frame, use `newframe = frame.copy()`\n",
            "  close_prices[symbol] = stock_data\n",
            "<ipython-input-61-7829e4a2a6a3>:6: PerformanceWarning: DataFrame is highly fragmented.  This is usually the result of calling `frame.insert` many times, which has poor performance.  Consider joining all columns at once using pd.concat(axis=1) instead. To get a de-fragmented frame, use `newframe = frame.copy()`\n",
            "  close_prices[symbol] = stock_data\n"
          ]
        },
        {
          "output_type": "stream",
          "name": "stdout",
          "text": [
            "[*********************100%%**********************]  1 of 1 completed\n",
            "[*********************100%%**********************]  1 of 1 completed\n"
          ]
        },
        {
          "output_type": "stream",
          "name": "stderr",
          "text": [
            "<ipython-input-61-7829e4a2a6a3>:6: PerformanceWarning: DataFrame is highly fragmented.  This is usually the result of calling `frame.insert` many times, which has poor performance.  Consider joining all columns at once using pd.concat(axis=1) instead. To get a de-fragmented frame, use `newframe = frame.copy()`\n",
            "  close_prices[symbol] = stock_data\n",
            "<ipython-input-61-7829e4a2a6a3>:6: PerformanceWarning: DataFrame is highly fragmented.  This is usually the result of calling `frame.insert` many times, which has poor performance.  Consider joining all columns at once using pd.concat(axis=1) instead. To get a de-fragmented frame, use `newframe = frame.copy()`\n",
            "  close_prices[symbol] = stock_data\n"
          ]
        },
        {
          "output_type": "stream",
          "name": "stdout",
          "text": [
            "[*********************100%%**********************]  1 of 1 completed\n",
            "[*********************100%%**********************]  1 of 1 completed\n"
          ]
        },
        {
          "output_type": "stream",
          "name": "stderr",
          "text": [
            "<ipython-input-61-7829e4a2a6a3>:6: PerformanceWarning: DataFrame is highly fragmented.  This is usually the result of calling `frame.insert` many times, which has poor performance.  Consider joining all columns at once using pd.concat(axis=1) instead. To get a de-fragmented frame, use `newframe = frame.copy()`\n",
            "  close_prices[symbol] = stock_data\n",
            "<ipython-input-61-7829e4a2a6a3>:6: PerformanceWarning: DataFrame is highly fragmented.  This is usually the result of calling `frame.insert` many times, which has poor performance.  Consider joining all columns at once using pd.concat(axis=1) instead. To get a de-fragmented frame, use `newframe = frame.copy()`\n",
            "  close_prices[symbol] = stock_data\n"
          ]
        },
        {
          "output_type": "stream",
          "name": "stdout",
          "text": [
            "[*********************100%%**********************]  1 of 1 completed\n",
            "[*********************100%%**********************]  1 of 1 completed\n"
          ]
        },
        {
          "output_type": "stream",
          "name": "stderr",
          "text": [
            "<ipython-input-61-7829e4a2a6a3>:6: PerformanceWarning: DataFrame is highly fragmented.  This is usually the result of calling `frame.insert` many times, which has poor performance.  Consider joining all columns at once using pd.concat(axis=1) instead. To get a de-fragmented frame, use `newframe = frame.copy()`\n",
            "  close_prices[symbol] = stock_data\n",
            "<ipython-input-61-7829e4a2a6a3>:6: PerformanceWarning: DataFrame is highly fragmented.  This is usually the result of calling `frame.insert` many times, which has poor performance.  Consider joining all columns at once using pd.concat(axis=1) instead. To get a de-fragmented frame, use `newframe = frame.copy()`\n",
            "  close_prices[symbol] = stock_data\n"
          ]
        },
        {
          "output_type": "stream",
          "name": "stdout",
          "text": [
            "[*********************100%%**********************]  1 of 1 completed\n",
            "[*********************100%%**********************]  1 of 1 completed\n"
          ]
        },
        {
          "output_type": "stream",
          "name": "stderr",
          "text": [
            "<ipython-input-61-7829e4a2a6a3>:6: PerformanceWarning: DataFrame is highly fragmented.  This is usually the result of calling `frame.insert` many times, which has poor performance.  Consider joining all columns at once using pd.concat(axis=1) instead. To get a de-fragmented frame, use `newframe = frame.copy()`\n",
            "  close_prices[symbol] = stock_data\n",
            "<ipython-input-61-7829e4a2a6a3>:6: PerformanceWarning: DataFrame is highly fragmented.  This is usually the result of calling `frame.insert` many times, which has poor performance.  Consider joining all columns at once using pd.concat(axis=1) instead. To get a de-fragmented frame, use `newframe = frame.copy()`\n",
            "  close_prices[symbol] = stock_data\n"
          ]
        },
        {
          "output_type": "stream",
          "name": "stdout",
          "text": [
            "[*********************100%%**********************]  1 of 1 completed\n",
            "[*********************100%%**********************]  1 of 1 completed\n"
          ]
        },
        {
          "output_type": "stream",
          "name": "stderr",
          "text": [
            "<ipython-input-61-7829e4a2a6a3>:6: PerformanceWarning: DataFrame is highly fragmented.  This is usually the result of calling `frame.insert` many times, which has poor performance.  Consider joining all columns at once using pd.concat(axis=1) instead. To get a de-fragmented frame, use `newframe = frame.copy()`\n",
            "  close_prices[symbol] = stock_data\n",
            "<ipython-input-61-7829e4a2a6a3>:6: PerformanceWarning: DataFrame is highly fragmented.  This is usually the result of calling `frame.insert` many times, which has poor performance.  Consider joining all columns at once using pd.concat(axis=1) instead. To get a de-fragmented frame, use `newframe = frame.copy()`\n",
            "  close_prices[symbol] = stock_data\n"
          ]
        },
        {
          "output_type": "stream",
          "name": "stdout",
          "text": [
            "[*********************100%%**********************]  1 of 1 completed\n",
            "[*********************100%%**********************]  1 of 1 completed\n"
          ]
        },
        {
          "output_type": "stream",
          "name": "stderr",
          "text": [
            "<ipython-input-61-7829e4a2a6a3>:6: PerformanceWarning: DataFrame is highly fragmented.  This is usually the result of calling `frame.insert` many times, which has poor performance.  Consider joining all columns at once using pd.concat(axis=1) instead. To get a de-fragmented frame, use `newframe = frame.copy()`\n",
            "  close_prices[symbol] = stock_data\n",
            "<ipython-input-61-7829e4a2a6a3>:6: PerformanceWarning: DataFrame is highly fragmented.  This is usually the result of calling `frame.insert` many times, which has poor performance.  Consider joining all columns at once using pd.concat(axis=1) instead. To get a de-fragmented frame, use `newframe = frame.copy()`\n",
            "  close_prices[symbol] = stock_data\n"
          ]
        },
        {
          "output_type": "stream",
          "name": "stdout",
          "text": [
            "[*********************100%%**********************]  1 of 1 completed\n",
            "[*********************100%%**********************]  1 of 1 completed\n"
          ]
        },
        {
          "output_type": "stream",
          "name": "stderr",
          "text": [
            "<ipython-input-61-7829e4a2a6a3>:6: PerformanceWarning: DataFrame is highly fragmented.  This is usually the result of calling `frame.insert` many times, which has poor performance.  Consider joining all columns at once using pd.concat(axis=1) instead. To get a de-fragmented frame, use `newframe = frame.copy()`\n",
            "  close_prices[symbol] = stock_data\n",
            "<ipython-input-61-7829e4a2a6a3>:6: PerformanceWarning: DataFrame is highly fragmented.  This is usually the result of calling `frame.insert` many times, which has poor performance.  Consider joining all columns at once using pd.concat(axis=1) instead. To get a de-fragmented frame, use `newframe = frame.copy()`\n",
            "  close_prices[symbol] = stock_data\n"
          ]
        },
        {
          "output_type": "stream",
          "name": "stdout",
          "text": [
            "\r[*********************100%%**********************]  1 of 1 completed\n"
          ]
        },
        {
          "output_type": "stream",
          "name": "stderr",
          "text": [
            "<ipython-input-61-7829e4a2a6a3>:6: PerformanceWarning: DataFrame is highly fragmented.  This is usually the result of calling `frame.insert` many times, which has poor performance.  Consider joining all columns at once using pd.concat(axis=1) instead. To get a de-fragmented frame, use `newframe = frame.copy()`\n",
            "  close_prices[symbol] = stock_data\n"
          ]
        },
        {
          "output_type": "stream",
          "name": "stdout",
          "text": [
            "[*********************100%%**********************]  1 of 1 completed\n",
            "[*********************100%%**********************]  1 of 1 completed\n"
          ]
        },
        {
          "output_type": "stream",
          "name": "stderr",
          "text": [
            "<ipython-input-61-7829e4a2a6a3>:6: PerformanceWarning: DataFrame is highly fragmented.  This is usually the result of calling `frame.insert` many times, which has poor performance.  Consider joining all columns at once using pd.concat(axis=1) instead. To get a de-fragmented frame, use `newframe = frame.copy()`\n",
            "  close_prices[symbol] = stock_data\n",
            "<ipython-input-61-7829e4a2a6a3>:6: PerformanceWarning: DataFrame is highly fragmented.  This is usually the result of calling `frame.insert` many times, which has poor performance.  Consider joining all columns at once using pd.concat(axis=1) instead. To get a de-fragmented frame, use `newframe = frame.copy()`\n",
            "  close_prices[symbol] = stock_data\n"
          ]
        },
        {
          "output_type": "stream",
          "name": "stdout",
          "text": [
            "[*********************100%%**********************]  1 of 1 completed\n",
            "[*********************100%%**********************]  1 of 1 completed\n",
            "[*********************100%%**********************]  1 of 1 completed\n"
          ]
        },
        {
          "output_type": "stream",
          "name": "stderr",
          "text": [
            "<ipython-input-61-7829e4a2a6a3>:6: PerformanceWarning: DataFrame is highly fragmented.  This is usually the result of calling `frame.insert` many times, which has poor performance.  Consider joining all columns at once using pd.concat(axis=1) instead. To get a de-fragmented frame, use `newframe = frame.copy()`\n",
            "  close_prices[symbol] = stock_data\n",
            "<ipython-input-61-7829e4a2a6a3>:6: PerformanceWarning: DataFrame is highly fragmented.  This is usually the result of calling `frame.insert` many times, which has poor performance.  Consider joining all columns at once using pd.concat(axis=1) instead. To get a de-fragmented frame, use `newframe = frame.copy()`\n",
            "  close_prices[symbol] = stock_data\n",
            "<ipython-input-61-7829e4a2a6a3>:6: PerformanceWarning: DataFrame is highly fragmented.  This is usually the result of calling `frame.insert` many times, which has poor performance.  Consider joining all columns at once using pd.concat(axis=1) instead. To get a de-fragmented frame, use `newframe = frame.copy()`\n",
            "  close_prices[symbol] = stock_data\n"
          ]
        },
        {
          "output_type": "stream",
          "name": "stdout",
          "text": [
            "[*********************100%%**********************]  1 of 1 completed\n",
            "[*********************100%%**********************]  1 of 1 completed\n"
          ]
        },
        {
          "output_type": "stream",
          "name": "stderr",
          "text": [
            "<ipython-input-61-7829e4a2a6a3>:6: PerformanceWarning: DataFrame is highly fragmented.  This is usually the result of calling `frame.insert` many times, which has poor performance.  Consider joining all columns at once using pd.concat(axis=1) instead. To get a de-fragmented frame, use `newframe = frame.copy()`\n",
            "  close_prices[symbol] = stock_data\n",
            "<ipython-input-61-7829e4a2a6a3>:6: PerformanceWarning: DataFrame is highly fragmented.  This is usually the result of calling `frame.insert` many times, which has poor performance.  Consider joining all columns at once using pd.concat(axis=1) instead. To get a de-fragmented frame, use `newframe = frame.copy()`\n",
            "  close_prices[symbol] = stock_data\n"
          ]
        },
        {
          "output_type": "stream",
          "name": "stdout",
          "text": [
            "[*********************100%%**********************]  1 of 1 completed\n",
            "[*********************100%%**********************]  1 of 1 completed\n"
          ]
        },
        {
          "output_type": "stream",
          "name": "stderr",
          "text": [
            "<ipython-input-61-7829e4a2a6a3>:6: PerformanceWarning: DataFrame is highly fragmented.  This is usually the result of calling `frame.insert` many times, which has poor performance.  Consider joining all columns at once using pd.concat(axis=1) instead. To get a de-fragmented frame, use `newframe = frame.copy()`\n",
            "  close_prices[symbol] = stock_data\n",
            "<ipython-input-61-7829e4a2a6a3>:6: PerformanceWarning: DataFrame is highly fragmented.  This is usually the result of calling `frame.insert` many times, which has poor performance.  Consider joining all columns at once using pd.concat(axis=1) instead. To get a de-fragmented frame, use `newframe = frame.copy()`\n",
            "  close_prices[symbol] = stock_data\n"
          ]
        },
        {
          "output_type": "stream",
          "name": "stdout",
          "text": [
            "[*********************100%%**********************]  1 of 1 completed\n",
            "[*********************100%%**********************]  1 of 1 completed\n"
          ]
        },
        {
          "output_type": "stream",
          "name": "stderr",
          "text": [
            "<ipython-input-61-7829e4a2a6a3>:6: PerformanceWarning: DataFrame is highly fragmented.  This is usually the result of calling `frame.insert` many times, which has poor performance.  Consider joining all columns at once using pd.concat(axis=1) instead. To get a de-fragmented frame, use `newframe = frame.copy()`\n",
            "  close_prices[symbol] = stock_data\n",
            "<ipython-input-61-7829e4a2a6a3>:6: PerformanceWarning: DataFrame is highly fragmented.  This is usually the result of calling `frame.insert` many times, which has poor performance.  Consider joining all columns at once using pd.concat(axis=1) instead. To get a de-fragmented frame, use `newframe = frame.copy()`\n",
            "  close_prices[symbol] = stock_data\n"
          ]
        },
        {
          "output_type": "stream",
          "name": "stdout",
          "text": [
            "[*********************100%%**********************]  1 of 1 completed\n",
            "[*********************100%%**********************]  1 of 1 completed\n"
          ]
        },
        {
          "output_type": "stream",
          "name": "stderr",
          "text": [
            "<ipython-input-61-7829e4a2a6a3>:6: PerformanceWarning: DataFrame is highly fragmented.  This is usually the result of calling `frame.insert` many times, which has poor performance.  Consider joining all columns at once using pd.concat(axis=1) instead. To get a de-fragmented frame, use `newframe = frame.copy()`\n",
            "  close_prices[symbol] = stock_data\n",
            "<ipython-input-61-7829e4a2a6a3>:6: PerformanceWarning: DataFrame is highly fragmented.  This is usually the result of calling `frame.insert` many times, which has poor performance.  Consider joining all columns at once using pd.concat(axis=1) instead. To get a de-fragmented frame, use `newframe = frame.copy()`\n",
            "  close_prices[symbol] = stock_data\n"
          ]
        },
        {
          "output_type": "stream",
          "name": "stdout",
          "text": [
            "[*********************100%%**********************]  1 of 1 completed\n",
            "[*********************100%%**********************]  1 of 1 completed\n"
          ]
        },
        {
          "output_type": "stream",
          "name": "stderr",
          "text": [
            "<ipython-input-61-7829e4a2a6a3>:6: PerformanceWarning: DataFrame is highly fragmented.  This is usually the result of calling `frame.insert` many times, which has poor performance.  Consider joining all columns at once using pd.concat(axis=1) instead. To get a de-fragmented frame, use `newframe = frame.copy()`\n",
            "  close_prices[symbol] = stock_data\n",
            "<ipython-input-61-7829e4a2a6a3>:6: PerformanceWarning: DataFrame is highly fragmented.  This is usually the result of calling `frame.insert` many times, which has poor performance.  Consider joining all columns at once using pd.concat(axis=1) instead. To get a de-fragmented frame, use `newframe = frame.copy()`\n",
            "  close_prices[symbol] = stock_data\n"
          ]
        },
        {
          "output_type": "stream",
          "name": "stdout",
          "text": [
            "[*********************100%%**********************]  1 of 1 completed\n",
            "[*********************100%%**********************]  1 of 1 completed\n"
          ]
        },
        {
          "output_type": "stream",
          "name": "stderr",
          "text": [
            "<ipython-input-61-7829e4a2a6a3>:6: PerformanceWarning: DataFrame is highly fragmented.  This is usually the result of calling `frame.insert` many times, which has poor performance.  Consider joining all columns at once using pd.concat(axis=1) instead. To get a de-fragmented frame, use `newframe = frame.copy()`\n",
            "  close_prices[symbol] = stock_data\n",
            "<ipython-input-61-7829e4a2a6a3>:6: PerformanceWarning: DataFrame is highly fragmented.  This is usually the result of calling `frame.insert` many times, which has poor performance.  Consider joining all columns at once using pd.concat(axis=1) instead. To get a de-fragmented frame, use `newframe = frame.copy()`\n",
            "  close_prices[symbol] = stock_data\n"
          ]
        },
        {
          "output_type": "stream",
          "name": "stdout",
          "text": [
            "[*********************100%%**********************]  1 of 1 completed\n",
            "[*********************100%%**********************]  1 of 1 completed\n"
          ]
        },
        {
          "output_type": "stream",
          "name": "stderr",
          "text": [
            "<ipython-input-61-7829e4a2a6a3>:6: PerformanceWarning: DataFrame is highly fragmented.  This is usually the result of calling `frame.insert` many times, which has poor performance.  Consider joining all columns at once using pd.concat(axis=1) instead. To get a de-fragmented frame, use `newframe = frame.copy()`\n",
            "  close_prices[symbol] = stock_data\n",
            "<ipython-input-61-7829e4a2a6a3>:6: PerformanceWarning: DataFrame is highly fragmented.  This is usually the result of calling `frame.insert` many times, which has poor performance.  Consider joining all columns at once using pd.concat(axis=1) instead. To get a de-fragmented frame, use `newframe = frame.copy()`\n",
            "  close_prices[symbol] = stock_data\n"
          ]
        },
        {
          "output_type": "stream",
          "name": "stdout",
          "text": [
            "[*********************100%%**********************]  1 of 1 completed\n",
            "[*********************100%%**********************]  1 of 1 completed\n"
          ]
        },
        {
          "output_type": "stream",
          "name": "stderr",
          "text": [
            "<ipython-input-61-7829e4a2a6a3>:6: PerformanceWarning: DataFrame is highly fragmented.  This is usually the result of calling `frame.insert` many times, which has poor performance.  Consider joining all columns at once using pd.concat(axis=1) instead. To get a de-fragmented frame, use `newframe = frame.copy()`\n",
            "  close_prices[symbol] = stock_data\n",
            "<ipython-input-61-7829e4a2a6a3>:6: PerformanceWarning: DataFrame is highly fragmented.  This is usually the result of calling `frame.insert` many times, which has poor performance.  Consider joining all columns at once using pd.concat(axis=1) instead. To get a de-fragmented frame, use `newframe = frame.copy()`\n",
            "  close_prices[symbol] = stock_data\n"
          ]
        },
        {
          "output_type": "stream",
          "name": "stdout",
          "text": [
            "[*********************100%%**********************]  1 of 1 completed\n",
            "[*********************100%%**********************]  1 of 1 completed\n"
          ]
        },
        {
          "output_type": "stream",
          "name": "stderr",
          "text": [
            "<ipython-input-61-7829e4a2a6a3>:6: PerformanceWarning: DataFrame is highly fragmented.  This is usually the result of calling `frame.insert` many times, which has poor performance.  Consider joining all columns at once using pd.concat(axis=1) instead. To get a de-fragmented frame, use `newframe = frame.copy()`\n",
            "  close_prices[symbol] = stock_data\n",
            "<ipython-input-61-7829e4a2a6a3>:6: PerformanceWarning: DataFrame is highly fragmented.  This is usually the result of calling `frame.insert` many times, which has poor performance.  Consider joining all columns at once using pd.concat(axis=1) instead. To get a de-fragmented frame, use `newframe = frame.copy()`\n",
            "  close_prices[symbol] = stock_data\n"
          ]
        },
        {
          "output_type": "stream",
          "name": "stdout",
          "text": [
            "[*********************100%%**********************]  1 of 1 completed\n",
            "[*********************100%%**********************]  1 of 1 completed\n"
          ]
        },
        {
          "output_type": "stream",
          "name": "stderr",
          "text": [
            "<ipython-input-61-7829e4a2a6a3>:6: PerformanceWarning: DataFrame is highly fragmented.  This is usually the result of calling `frame.insert` many times, which has poor performance.  Consider joining all columns at once using pd.concat(axis=1) instead. To get a de-fragmented frame, use `newframe = frame.copy()`\n",
            "  close_prices[symbol] = stock_data\n",
            "<ipython-input-61-7829e4a2a6a3>:6: PerformanceWarning: DataFrame is highly fragmented.  This is usually the result of calling `frame.insert` many times, which has poor performance.  Consider joining all columns at once using pd.concat(axis=1) instead. To get a de-fragmented frame, use `newframe = frame.copy()`\n",
            "  close_prices[symbol] = stock_data\n"
          ]
        },
        {
          "output_type": "stream",
          "name": "stdout",
          "text": [
            "[*********************100%%**********************]  1 of 1 completed\n",
            "[*********************100%%**********************]  1 of 1 completed\n"
          ]
        },
        {
          "output_type": "stream",
          "name": "stderr",
          "text": [
            "<ipython-input-61-7829e4a2a6a3>:6: PerformanceWarning: DataFrame is highly fragmented.  This is usually the result of calling `frame.insert` many times, which has poor performance.  Consider joining all columns at once using pd.concat(axis=1) instead. To get a de-fragmented frame, use `newframe = frame.copy()`\n",
            "  close_prices[symbol] = stock_data\n",
            "<ipython-input-61-7829e4a2a6a3>:6: PerformanceWarning: DataFrame is highly fragmented.  This is usually the result of calling `frame.insert` many times, which has poor performance.  Consider joining all columns at once using pd.concat(axis=1) instead. To get a de-fragmented frame, use `newframe = frame.copy()`\n",
            "  close_prices[symbol] = stock_data\n"
          ]
        },
        {
          "output_type": "stream",
          "name": "stdout",
          "text": [
            "[*********************100%%**********************]  1 of 1 completed\n",
            "[*********************100%%**********************]  1 of 1 completed\n"
          ]
        },
        {
          "output_type": "stream",
          "name": "stderr",
          "text": [
            "<ipython-input-61-7829e4a2a6a3>:6: PerformanceWarning: DataFrame is highly fragmented.  This is usually the result of calling `frame.insert` many times, which has poor performance.  Consider joining all columns at once using pd.concat(axis=1) instead. To get a de-fragmented frame, use `newframe = frame.copy()`\n",
            "  close_prices[symbol] = stock_data\n",
            "<ipython-input-61-7829e4a2a6a3>:6: PerformanceWarning: DataFrame is highly fragmented.  This is usually the result of calling `frame.insert` many times, which has poor performance.  Consider joining all columns at once using pd.concat(axis=1) instead. To get a de-fragmented frame, use `newframe = frame.copy()`\n",
            "  close_prices[symbol] = stock_data\n"
          ]
        },
        {
          "output_type": "stream",
          "name": "stdout",
          "text": [
            "[*********************100%%**********************]  1 of 1 completed\n",
            "[*********************100%%**********************]  1 of 1 completed\n"
          ]
        },
        {
          "output_type": "stream",
          "name": "stderr",
          "text": [
            "<ipython-input-61-7829e4a2a6a3>:6: PerformanceWarning: DataFrame is highly fragmented.  This is usually the result of calling `frame.insert` many times, which has poor performance.  Consider joining all columns at once using pd.concat(axis=1) instead. To get a de-fragmented frame, use `newframe = frame.copy()`\n",
            "  close_prices[symbol] = stock_data\n",
            "<ipython-input-61-7829e4a2a6a3>:6: PerformanceWarning: DataFrame is highly fragmented.  This is usually the result of calling `frame.insert` many times, which has poor performance.  Consider joining all columns at once using pd.concat(axis=1) instead. To get a de-fragmented frame, use `newframe = frame.copy()`\n",
            "  close_prices[symbol] = stock_data\n"
          ]
        },
        {
          "output_type": "stream",
          "name": "stdout",
          "text": [
            "[*********************100%%**********************]  1 of 1 completed\n",
            "[*********************100%%**********************]  1 of 1 completed\n"
          ]
        },
        {
          "output_type": "stream",
          "name": "stderr",
          "text": [
            "<ipython-input-61-7829e4a2a6a3>:6: PerformanceWarning: DataFrame is highly fragmented.  This is usually the result of calling `frame.insert` many times, which has poor performance.  Consider joining all columns at once using pd.concat(axis=1) instead. To get a de-fragmented frame, use `newframe = frame.copy()`\n",
            "  close_prices[symbol] = stock_data\n",
            "<ipython-input-61-7829e4a2a6a3>:6: PerformanceWarning: DataFrame is highly fragmented.  This is usually the result of calling `frame.insert` many times, which has poor performance.  Consider joining all columns at once using pd.concat(axis=1) instead. To get a de-fragmented frame, use `newframe = frame.copy()`\n",
            "  close_prices[symbol] = stock_data\n"
          ]
        },
        {
          "output_type": "stream",
          "name": "stdout",
          "text": [
            "[*********************100%%**********************]  1 of 1 completed\n",
            "[*********************100%%**********************]  1 of 1 completed\n"
          ]
        },
        {
          "output_type": "stream",
          "name": "stderr",
          "text": [
            "<ipython-input-61-7829e4a2a6a3>:6: PerformanceWarning: DataFrame is highly fragmented.  This is usually the result of calling `frame.insert` many times, which has poor performance.  Consider joining all columns at once using pd.concat(axis=1) instead. To get a de-fragmented frame, use `newframe = frame.copy()`\n",
            "  close_prices[symbol] = stock_data\n",
            "<ipython-input-61-7829e4a2a6a3>:6: PerformanceWarning: DataFrame is highly fragmented.  This is usually the result of calling `frame.insert` many times, which has poor performance.  Consider joining all columns at once using pd.concat(axis=1) instead. To get a de-fragmented frame, use `newframe = frame.copy()`\n",
            "  close_prices[symbol] = stock_data\n"
          ]
        },
        {
          "output_type": "stream",
          "name": "stdout",
          "text": [
            "[*********************100%%**********************]  1 of 1 completed\n",
            "[*********************100%%**********************]  1 of 1 completed\n"
          ]
        },
        {
          "output_type": "stream",
          "name": "stderr",
          "text": [
            "<ipython-input-61-7829e4a2a6a3>:6: PerformanceWarning: DataFrame is highly fragmented.  This is usually the result of calling `frame.insert` many times, which has poor performance.  Consider joining all columns at once using pd.concat(axis=1) instead. To get a de-fragmented frame, use `newframe = frame.copy()`\n",
            "  close_prices[symbol] = stock_data\n",
            "<ipython-input-61-7829e4a2a6a3>:6: PerformanceWarning: DataFrame is highly fragmented.  This is usually the result of calling `frame.insert` many times, which has poor performance.  Consider joining all columns at once using pd.concat(axis=1) instead. To get a de-fragmented frame, use `newframe = frame.copy()`\n",
            "  close_prices[symbol] = stock_data\n"
          ]
        },
        {
          "output_type": "stream",
          "name": "stdout",
          "text": [
            "[*********************100%%**********************]  1 of 1 completed\n",
            "[*********************100%%**********************]  1 of 1 completed\n"
          ]
        },
        {
          "output_type": "stream",
          "name": "stderr",
          "text": [
            "<ipython-input-61-7829e4a2a6a3>:6: PerformanceWarning: DataFrame is highly fragmented.  This is usually the result of calling `frame.insert` many times, which has poor performance.  Consider joining all columns at once using pd.concat(axis=1) instead. To get a de-fragmented frame, use `newframe = frame.copy()`\n",
            "  close_prices[symbol] = stock_data\n",
            "<ipython-input-61-7829e4a2a6a3>:6: PerformanceWarning: DataFrame is highly fragmented.  This is usually the result of calling `frame.insert` many times, which has poor performance.  Consider joining all columns at once using pd.concat(axis=1) instead. To get a de-fragmented frame, use `newframe = frame.copy()`\n",
            "  close_prices[symbol] = stock_data\n"
          ]
        },
        {
          "output_type": "stream",
          "name": "stdout",
          "text": [
            "[*********************100%%**********************]  1 of 1 completed\n",
            "[*********************100%%**********************]  1 of 1 completed\n"
          ]
        },
        {
          "output_type": "stream",
          "name": "stderr",
          "text": [
            "<ipython-input-61-7829e4a2a6a3>:6: PerformanceWarning: DataFrame is highly fragmented.  This is usually the result of calling `frame.insert` many times, which has poor performance.  Consider joining all columns at once using pd.concat(axis=1) instead. To get a de-fragmented frame, use `newframe = frame.copy()`\n",
            "  close_prices[symbol] = stock_data\n",
            "<ipython-input-61-7829e4a2a6a3>:6: PerformanceWarning: DataFrame is highly fragmented.  This is usually the result of calling `frame.insert` many times, which has poor performance.  Consider joining all columns at once using pd.concat(axis=1) instead. To get a de-fragmented frame, use `newframe = frame.copy()`\n",
            "  close_prices[symbol] = stock_data\n"
          ]
        },
        {
          "output_type": "stream",
          "name": "stdout",
          "text": [
            "[*********************100%%**********************]  1 of 1 completed\n",
            "[*********************100%%**********************]  1 of 1 completed\n"
          ]
        },
        {
          "output_type": "stream",
          "name": "stderr",
          "text": [
            "<ipython-input-61-7829e4a2a6a3>:6: PerformanceWarning: DataFrame is highly fragmented.  This is usually the result of calling `frame.insert` many times, which has poor performance.  Consider joining all columns at once using pd.concat(axis=1) instead. To get a de-fragmented frame, use `newframe = frame.copy()`\n",
            "  close_prices[symbol] = stock_data\n",
            "<ipython-input-61-7829e4a2a6a3>:6: PerformanceWarning: DataFrame is highly fragmented.  This is usually the result of calling `frame.insert` many times, which has poor performance.  Consider joining all columns at once using pd.concat(axis=1) instead. To get a de-fragmented frame, use `newframe = frame.copy()`\n",
            "  close_prices[symbol] = stock_data\n"
          ]
        },
        {
          "output_type": "stream",
          "name": "stdout",
          "text": [
            "[*********************100%%**********************]  1 of 1 completed\n",
            "[*********************100%%**********************]  1 of 1 completed\n"
          ]
        },
        {
          "output_type": "stream",
          "name": "stderr",
          "text": [
            "<ipython-input-61-7829e4a2a6a3>:6: PerformanceWarning: DataFrame is highly fragmented.  This is usually the result of calling `frame.insert` many times, which has poor performance.  Consider joining all columns at once using pd.concat(axis=1) instead. To get a de-fragmented frame, use `newframe = frame.copy()`\n",
            "  close_prices[symbol] = stock_data\n",
            "<ipython-input-61-7829e4a2a6a3>:6: PerformanceWarning: DataFrame is highly fragmented.  This is usually the result of calling `frame.insert` many times, which has poor performance.  Consider joining all columns at once using pd.concat(axis=1) instead. To get a de-fragmented frame, use `newframe = frame.copy()`\n",
            "  close_prices[symbol] = stock_data\n"
          ]
        },
        {
          "output_type": "stream",
          "name": "stdout",
          "text": [
            "[*********************100%%**********************]  1 of 1 completed\n",
            "[*********************100%%**********************]  1 of 1 completed\n"
          ]
        },
        {
          "output_type": "stream",
          "name": "stderr",
          "text": [
            "<ipython-input-61-7829e4a2a6a3>:6: PerformanceWarning: DataFrame is highly fragmented.  This is usually the result of calling `frame.insert` many times, which has poor performance.  Consider joining all columns at once using pd.concat(axis=1) instead. To get a de-fragmented frame, use `newframe = frame.copy()`\n",
            "  close_prices[symbol] = stock_data\n",
            "<ipython-input-61-7829e4a2a6a3>:6: PerformanceWarning: DataFrame is highly fragmented.  This is usually the result of calling `frame.insert` many times, which has poor performance.  Consider joining all columns at once using pd.concat(axis=1) instead. To get a de-fragmented frame, use `newframe = frame.copy()`\n",
            "  close_prices[symbol] = stock_data\n"
          ]
        },
        {
          "output_type": "stream",
          "name": "stdout",
          "text": [
            "\r[*********************100%%**********************]  1 of 1 completed\n"
          ]
        },
        {
          "output_type": "stream",
          "name": "stderr",
          "text": [
            "<ipython-input-61-7829e4a2a6a3>:6: PerformanceWarning: DataFrame is highly fragmented.  This is usually the result of calling `frame.insert` many times, which has poor performance.  Consider joining all columns at once using pd.concat(axis=1) instead. To get a de-fragmented frame, use `newframe = frame.copy()`\n",
            "  close_prices[symbol] = stock_data\n"
          ]
        },
        {
          "output_type": "stream",
          "name": "stdout",
          "text": [
            "[*********************100%%**********************]  1 of 1 completed\n",
            "[*********************100%%**********************]  1 of 1 completed\n"
          ]
        },
        {
          "output_type": "stream",
          "name": "stderr",
          "text": [
            "<ipython-input-61-7829e4a2a6a3>:6: PerformanceWarning: DataFrame is highly fragmented.  This is usually the result of calling `frame.insert` many times, which has poor performance.  Consider joining all columns at once using pd.concat(axis=1) instead. To get a de-fragmented frame, use `newframe = frame.copy()`\n",
            "  close_prices[symbol] = stock_data\n",
            "<ipython-input-61-7829e4a2a6a3>:6: PerformanceWarning: DataFrame is highly fragmented.  This is usually the result of calling `frame.insert` many times, which has poor performance.  Consider joining all columns at once using pd.concat(axis=1) instead. To get a de-fragmented frame, use `newframe = frame.copy()`\n",
            "  close_prices[symbol] = stock_data\n"
          ]
        },
        {
          "output_type": "stream",
          "name": "stdout",
          "text": [
            "[*********************100%%**********************]  1 of 1 completed\n",
            "[*********************100%%**********************]  1 of 1 completed\n"
          ]
        },
        {
          "output_type": "stream",
          "name": "stderr",
          "text": [
            "<ipython-input-61-7829e4a2a6a3>:6: PerformanceWarning: DataFrame is highly fragmented.  This is usually the result of calling `frame.insert` many times, which has poor performance.  Consider joining all columns at once using pd.concat(axis=1) instead. To get a de-fragmented frame, use `newframe = frame.copy()`\n",
            "  close_prices[symbol] = stock_data\n",
            "<ipython-input-61-7829e4a2a6a3>:6: PerformanceWarning: DataFrame is highly fragmented.  This is usually the result of calling `frame.insert` many times, which has poor performance.  Consider joining all columns at once using pd.concat(axis=1) instead. To get a de-fragmented frame, use `newframe = frame.copy()`\n",
            "  close_prices[symbol] = stock_data\n"
          ]
        },
        {
          "output_type": "stream",
          "name": "stdout",
          "text": [
            "[*********************100%%**********************]  1 of 1 completed\n",
            "[*********************100%%**********************]  1 of 1 completed\n"
          ]
        },
        {
          "output_type": "stream",
          "name": "stderr",
          "text": [
            "<ipython-input-61-7829e4a2a6a3>:6: PerformanceWarning: DataFrame is highly fragmented.  This is usually the result of calling `frame.insert` many times, which has poor performance.  Consider joining all columns at once using pd.concat(axis=1) instead. To get a de-fragmented frame, use `newframe = frame.copy()`\n",
            "  close_prices[symbol] = stock_data\n",
            "<ipython-input-61-7829e4a2a6a3>:6: PerformanceWarning: DataFrame is highly fragmented.  This is usually the result of calling `frame.insert` many times, which has poor performance.  Consider joining all columns at once using pd.concat(axis=1) instead. To get a de-fragmented frame, use `newframe = frame.copy()`\n",
            "  close_prices[symbol] = stock_data\n"
          ]
        },
        {
          "output_type": "stream",
          "name": "stdout",
          "text": [
            "[*********************100%%**********************]  1 of 1 completed\n",
            "[*********************100%%**********************]  1 of 1 completed\n"
          ]
        },
        {
          "output_type": "stream",
          "name": "stderr",
          "text": [
            "<ipython-input-61-7829e4a2a6a3>:6: PerformanceWarning: DataFrame is highly fragmented.  This is usually the result of calling `frame.insert` many times, which has poor performance.  Consider joining all columns at once using pd.concat(axis=1) instead. To get a de-fragmented frame, use `newframe = frame.copy()`\n",
            "  close_prices[symbol] = stock_data\n",
            "<ipython-input-61-7829e4a2a6a3>:6: PerformanceWarning: DataFrame is highly fragmented.  This is usually the result of calling `frame.insert` many times, which has poor performance.  Consider joining all columns at once using pd.concat(axis=1) instead. To get a de-fragmented frame, use `newframe = frame.copy()`\n",
            "  close_prices[symbol] = stock_data\n"
          ]
        },
        {
          "output_type": "stream",
          "name": "stdout",
          "text": [
            "[*********************100%%**********************]  1 of 1 completed\n",
            "[*********************100%%**********************]  1 of 1 completed\n"
          ]
        },
        {
          "output_type": "stream",
          "name": "stderr",
          "text": [
            "<ipython-input-61-7829e4a2a6a3>:6: PerformanceWarning: DataFrame is highly fragmented.  This is usually the result of calling `frame.insert` many times, which has poor performance.  Consider joining all columns at once using pd.concat(axis=1) instead. To get a de-fragmented frame, use `newframe = frame.copy()`\n",
            "  close_prices[symbol] = stock_data\n",
            "<ipython-input-61-7829e4a2a6a3>:6: PerformanceWarning: DataFrame is highly fragmented.  This is usually the result of calling `frame.insert` many times, which has poor performance.  Consider joining all columns at once using pd.concat(axis=1) instead. To get a de-fragmented frame, use `newframe = frame.copy()`\n",
            "  close_prices[symbol] = stock_data\n"
          ]
        },
        {
          "output_type": "stream",
          "name": "stdout",
          "text": [
            "[*********************100%%**********************]  1 of 1 completed\n",
            "[*********************100%%**********************]  1 of 1 completed\n"
          ]
        },
        {
          "output_type": "stream",
          "name": "stderr",
          "text": [
            "<ipython-input-61-7829e4a2a6a3>:6: PerformanceWarning: DataFrame is highly fragmented.  This is usually the result of calling `frame.insert` many times, which has poor performance.  Consider joining all columns at once using pd.concat(axis=1) instead. To get a de-fragmented frame, use `newframe = frame.copy()`\n",
            "  close_prices[symbol] = stock_data\n",
            "<ipython-input-61-7829e4a2a6a3>:6: PerformanceWarning: DataFrame is highly fragmented.  This is usually the result of calling `frame.insert` many times, which has poor performance.  Consider joining all columns at once using pd.concat(axis=1) instead. To get a de-fragmented frame, use `newframe = frame.copy()`\n",
            "  close_prices[symbol] = stock_data\n"
          ]
        },
        {
          "output_type": "stream",
          "name": "stdout",
          "text": [
            "[*********************100%%**********************]  1 of 1 completed\n",
            "[*********************100%%**********************]  1 of 1 completed\n"
          ]
        },
        {
          "output_type": "stream",
          "name": "stderr",
          "text": [
            "<ipython-input-61-7829e4a2a6a3>:6: PerformanceWarning: DataFrame is highly fragmented.  This is usually the result of calling `frame.insert` many times, which has poor performance.  Consider joining all columns at once using pd.concat(axis=1) instead. To get a de-fragmented frame, use `newframe = frame.copy()`\n",
            "  close_prices[symbol] = stock_data\n",
            "<ipython-input-61-7829e4a2a6a3>:6: PerformanceWarning: DataFrame is highly fragmented.  This is usually the result of calling `frame.insert` many times, which has poor performance.  Consider joining all columns at once using pd.concat(axis=1) instead. To get a de-fragmented frame, use `newframe = frame.copy()`\n",
            "  close_prices[symbol] = stock_data\n"
          ]
        },
        {
          "output_type": "stream",
          "name": "stdout",
          "text": [
            "[*********************100%%**********************]  1 of 1 completed\n",
            "[*********************100%%**********************]  1 of 1 completed\n"
          ]
        },
        {
          "output_type": "stream",
          "name": "stderr",
          "text": [
            "<ipython-input-61-7829e4a2a6a3>:6: PerformanceWarning: DataFrame is highly fragmented.  This is usually the result of calling `frame.insert` many times, which has poor performance.  Consider joining all columns at once using pd.concat(axis=1) instead. To get a de-fragmented frame, use `newframe = frame.copy()`\n",
            "  close_prices[symbol] = stock_data\n",
            "<ipython-input-61-7829e4a2a6a3>:6: PerformanceWarning: DataFrame is highly fragmented.  This is usually the result of calling `frame.insert` many times, which has poor performance.  Consider joining all columns at once using pd.concat(axis=1) instead. To get a de-fragmented frame, use `newframe = frame.copy()`\n",
            "  close_prices[symbol] = stock_data\n"
          ]
        },
        {
          "output_type": "stream",
          "name": "stdout",
          "text": [
            "[*********************100%%**********************]  1 of 1 completed\n",
            "[*********************100%%**********************]  1 of 1 completed\n"
          ]
        },
        {
          "output_type": "stream",
          "name": "stderr",
          "text": [
            "<ipython-input-61-7829e4a2a6a3>:6: PerformanceWarning: DataFrame is highly fragmented.  This is usually the result of calling `frame.insert` many times, which has poor performance.  Consider joining all columns at once using pd.concat(axis=1) instead. To get a de-fragmented frame, use `newframe = frame.copy()`\n",
            "  close_prices[symbol] = stock_data\n",
            "<ipython-input-61-7829e4a2a6a3>:6: PerformanceWarning: DataFrame is highly fragmented.  This is usually the result of calling `frame.insert` many times, which has poor performance.  Consider joining all columns at once using pd.concat(axis=1) instead. To get a de-fragmented frame, use `newframe = frame.copy()`\n",
            "  close_prices[symbol] = stock_data\n"
          ]
        },
        {
          "output_type": "stream",
          "name": "stdout",
          "text": [
            "[*********************100%%**********************]  1 of 1 completed\n",
            "[*********************100%%**********************]  1 of 1 completed\n"
          ]
        },
        {
          "output_type": "stream",
          "name": "stderr",
          "text": [
            "<ipython-input-61-7829e4a2a6a3>:6: PerformanceWarning: DataFrame is highly fragmented.  This is usually the result of calling `frame.insert` many times, which has poor performance.  Consider joining all columns at once using pd.concat(axis=1) instead. To get a de-fragmented frame, use `newframe = frame.copy()`\n",
            "  close_prices[symbol] = stock_data\n",
            "<ipython-input-61-7829e4a2a6a3>:6: PerformanceWarning: DataFrame is highly fragmented.  This is usually the result of calling `frame.insert` many times, which has poor performance.  Consider joining all columns at once using pd.concat(axis=1) instead. To get a de-fragmented frame, use `newframe = frame.copy()`\n",
            "  close_prices[symbol] = stock_data\n"
          ]
        },
        {
          "output_type": "stream",
          "name": "stdout",
          "text": [
            "[*********************100%%**********************]  1 of 1 completed\n",
            "[*********************100%%**********************]  1 of 1 completed\n"
          ]
        },
        {
          "output_type": "stream",
          "name": "stderr",
          "text": [
            "<ipython-input-61-7829e4a2a6a3>:6: PerformanceWarning: DataFrame is highly fragmented.  This is usually the result of calling `frame.insert` many times, which has poor performance.  Consider joining all columns at once using pd.concat(axis=1) instead. To get a de-fragmented frame, use `newframe = frame.copy()`\n",
            "  close_prices[symbol] = stock_data\n",
            "<ipython-input-61-7829e4a2a6a3>:6: PerformanceWarning: DataFrame is highly fragmented.  This is usually the result of calling `frame.insert` many times, which has poor performance.  Consider joining all columns at once using pd.concat(axis=1) instead. To get a de-fragmented frame, use `newframe = frame.copy()`\n",
            "  close_prices[symbol] = stock_data\n"
          ]
        },
        {
          "output_type": "stream",
          "name": "stdout",
          "text": [
            "[*********************100%%**********************]  1 of 1 completed\n",
            "[*********************100%%**********************]  1 of 1 completed\n"
          ]
        },
        {
          "output_type": "stream",
          "name": "stderr",
          "text": [
            "<ipython-input-61-7829e4a2a6a3>:6: PerformanceWarning: DataFrame is highly fragmented.  This is usually the result of calling `frame.insert` many times, which has poor performance.  Consider joining all columns at once using pd.concat(axis=1) instead. To get a de-fragmented frame, use `newframe = frame.copy()`\n",
            "  close_prices[symbol] = stock_data\n",
            "<ipython-input-61-7829e4a2a6a3>:6: PerformanceWarning: DataFrame is highly fragmented.  This is usually the result of calling `frame.insert` many times, which has poor performance.  Consider joining all columns at once using pd.concat(axis=1) instead. To get a de-fragmented frame, use `newframe = frame.copy()`\n",
            "  close_prices[symbol] = stock_data\n"
          ]
        },
        {
          "output_type": "stream",
          "name": "stdout",
          "text": [
            "[*********************100%%**********************]  1 of 1 completed\n",
            "[*********************100%%**********************]  1 of 1 completed\n"
          ]
        },
        {
          "output_type": "stream",
          "name": "stderr",
          "text": [
            "<ipython-input-61-7829e4a2a6a3>:6: PerformanceWarning: DataFrame is highly fragmented.  This is usually the result of calling `frame.insert` many times, which has poor performance.  Consider joining all columns at once using pd.concat(axis=1) instead. To get a de-fragmented frame, use `newframe = frame.copy()`\n",
            "  close_prices[symbol] = stock_data\n",
            "<ipython-input-61-7829e4a2a6a3>:6: PerformanceWarning: DataFrame is highly fragmented.  This is usually the result of calling `frame.insert` many times, which has poor performance.  Consider joining all columns at once using pd.concat(axis=1) instead. To get a de-fragmented frame, use `newframe = frame.copy()`\n",
            "  close_prices[symbol] = stock_data\n"
          ]
        },
        {
          "output_type": "stream",
          "name": "stdout",
          "text": [
            "\r[*********************100%%**********************]  1 of 1 completed\n"
          ]
        },
        {
          "output_type": "stream",
          "name": "stderr",
          "text": [
            "<ipython-input-61-7829e4a2a6a3>:6: PerformanceWarning: DataFrame is highly fragmented.  This is usually the result of calling `frame.insert` many times, which has poor performance.  Consider joining all columns at once using pd.concat(axis=1) instead. To get a de-fragmented frame, use `newframe = frame.copy()`\n",
            "  close_prices[symbol] = stock_data\n"
          ]
        },
        {
          "output_type": "stream",
          "name": "stdout",
          "text": [
            "[*********************100%%**********************]  1 of 1 completed\n",
            "[*********************100%%**********************]  1 of 1 completed\n"
          ]
        },
        {
          "output_type": "stream",
          "name": "stderr",
          "text": [
            "<ipython-input-61-7829e4a2a6a3>:6: PerformanceWarning: DataFrame is highly fragmented.  This is usually the result of calling `frame.insert` many times, which has poor performance.  Consider joining all columns at once using pd.concat(axis=1) instead. To get a de-fragmented frame, use `newframe = frame.copy()`\n",
            "  close_prices[symbol] = stock_data\n",
            "<ipython-input-61-7829e4a2a6a3>:6: PerformanceWarning: DataFrame is highly fragmented.  This is usually the result of calling `frame.insert` many times, which has poor performance.  Consider joining all columns at once using pd.concat(axis=1) instead. To get a de-fragmented frame, use `newframe = frame.copy()`\n",
            "  close_prices[symbol] = stock_data\n"
          ]
        },
        {
          "output_type": "stream",
          "name": "stdout",
          "text": [
            "[*********************100%%**********************]  1 of 1 completed\n",
            "[*********************100%%**********************]  1 of 1 completed\n"
          ]
        },
        {
          "output_type": "stream",
          "name": "stderr",
          "text": [
            "<ipython-input-61-7829e4a2a6a3>:6: PerformanceWarning: DataFrame is highly fragmented.  This is usually the result of calling `frame.insert` many times, which has poor performance.  Consider joining all columns at once using pd.concat(axis=1) instead. To get a de-fragmented frame, use `newframe = frame.copy()`\n",
            "  close_prices[symbol] = stock_data\n",
            "<ipython-input-61-7829e4a2a6a3>:6: PerformanceWarning: DataFrame is highly fragmented.  This is usually the result of calling `frame.insert` many times, which has poor performance.  Consider joining all columns at once using pd.concat(axis=1) instead. To get a de-fragmented frame, use `newframe = frame.copy()`\n",
            "  close_prices[symbol] = stock_data\n"
          ]
        },
        {
          "output_type": "stream",
          "name": "stdout",
          "text": [
            "[*********************100%%**********************]  1 of 1 completed\n",
            "[*********************100%%**********************]  1 of 1 completed\n"
          ]
        },
        {
          "output_type": "stream",
          "name": "stderr",
          "text": [
            "<ipython-input-61-7829e4a2a6a3>:6: PerformanceWarning: DataFrame is highly fragmented.  This is usually the result of calling `frame.insert` many times, which has poor performance.  Consider joining all columns at once using pd.concat(axis=1) instead. To get a de-fragmented frame, use `newframe = frame.copy()`\n",
            "  close_prices[symbol] = stock_data\n",
            "<ipython-input-61-7829e4a2a6a3>:6: PerformanceWarning: DataFrame is highly fragmented.  This is usually the result of calling `frame.insert` many times, which has poor performance.  Consider joining all columns at once using pd.concat(axis=1) instead. To get a de-fragmented frame, use `newframe = frame.copy()`\n",
            "  close_prices[symbol] = stock_data\n"
          ]
        },
        {
          "output_type": "stream",
          "name": "stdout",
          "text": [
            "[*********************100%%**********************]  1 of 1 completed\n",
            "[*********************100%%**********************]  1 of 1 completed\n"
          ]
        },
        {
          "output_type": "stream",
          "name": "stderr",
          "text": [
            "<ipython-input-61-7829e4a2a6a3>:6: PerformanceWarning: DataFrame is highly fragmented.  This is usually the result of calling `frame.insert` many times, which has poor performance.  Consider joining all columns at once using pd.concat(axis=1) instead. To get a de-fragmented frame, use `newframe = frame.copy()`\n",
            "  close_prices[symbol] = stock_data\n",
            "<ipython-input-61-7829e4a2a6a3>:6: PerformanceWarning: DataFrame is highly fragmented.  This is usually the result of calling `frame.insert` many times, which has poor performance.  Consider joining all columns at once using pd.concat(axis=1) instead. To get a de-fragmented frame, use `newframe = frame.copy()`\n",
            "  close_prices[symbol] = stock_data\n"
          ]
        },
        {
          "output_type": "stream",
          "name": "stdout",
          "text": [
            "[*********************100%%**********************]  1 of 1 completed\n",
            "[*********************100%%**********************]  1 of 1 completed\n"
          ]
        },
        {
          "output_type": "stream",
          "name": "stderr",
          "text": [
            "<ipython-input-61-7829e4a2a6a3>:6: PerformanceWarning: DataFrame is highly fragmented.  This is usually the result of calling `frame.insert` many times, which has poor performance.  Consider joining all columns at once using pd.concat(axis=1) instead. To get a de-fragmented frame, use `newframe = frame.copy()`\n",
            "  close_prices[symbol] = stock_data\n",
            "<ipython-input-61-7829e4a2a6a3>:6: PerformanceWarning: DataFrame is highly fragmented.  This is usually the result of calling `frame.insert` many times, which has poor performance.  Consider joining all columns at once using pd.concat(axis=1) instead. To get a de-fragmented frame, use `newframe = frame.copy()`\n",
            "  close_prices[symbol] = stock_data\n"
          ]
        },
        {
          "output_type": "stream",
          "name": "stdout",
          "text": [
            "[*********************100%%**********************]  1 of 1 completed\n",
            "[*********************100%%**********************]  1 of 1 completed\n"
          ]
        },
        {
          "output_type": "stream",
          "name": "stderr",
          "text": [
            "<ipython-input-61-7829e4a2a6a3>:6: PerformanceWarning: DataFrame is highly fragmented.  This is usually the result of calling `frame.insert` many times, which has poor performance.  Consider joining all columns at once using pd.concat(axis=1) instead. To get a de-fragmented frame, use `newframe = frame.copy()`\n",
            "  close_prices[symbol] = stock_data\n",
            "<ipython-input-61-7829e4a2a6a3>:6: PerformanceWarning: DataFrame is highly fragmented.  This is usually the result of calling `frame.insert` many times, which has poor performance.  Consider joining all columns at once using pd.concat(axis=1) instead. To get a de-fragmented frame, use `newframe = frame.copy()`\n",
            "  close_prices[symbol] = stock_data\n"
          ]
        },
        {
          "output_type": "stream",
          "name": "stdout",
          "text": [
            "[*********************100%%**********************]  1 of 1 completed\n",
            "[*********************100%%**********************]  1 of 1 completed\n"
          ]
        },
        {
          "output_type": "stream",
          "name": "stderr",
          "text": [
            "<ipython-input-61-7829e4a2a6a3>:6: PerformanceWarning: DataFrame is highly fragmented.  This is usually the result of calling `frame.insert` many times, which has poor performance.  Consider joining all columns at once using pd.concat(axis=1) instead. To get a de-fragmented frame, use `newframe = frame.copy()`\n",
            "  close_prices[symbol] = stock_data\n",
            "<ipython-input-61-7829e4a2a6a3>:6: PerformanceWarning: DataFrame is highly fragmented.  This is usually the result of calling `frame.insert` many times, which has poor performance.  Consider joining all columns at once using pd.concat(axis=1) instead. To get a de-fragmented frame, use `newframe = frame.copy()`\n",
            "  close_prices[symbol] = stock_data\n"
          ]
        },
        {
          "output_type": "stream",
          "name": "stdout",
          "text": [
            "[*********************100%%**********************]  1 of 1 completed\n",
            "[*********************100%%**********************]  1 of 1 completed\n"
          ]
        },
        {
          "output_type": "stream",
          "name": "stderr",
          "text": [
            "<ipython-input-61-7829e4a2a6a3>:6: PerformanceWarning: DataFrame is highly fragmented.  This is usually the result of calling `frame.insert` many times, which has poor performance.  Consider joining all columns at once using pd.concat(axis=1) instead. To get a de-fragmented frame, use `newframe = frame.copy()`\n",
            "  close_prices[symbol] = stock_data\n",
            "<ipython-input-61-7829e4a2a6a3>:6: PerformanceWarning: DataFrame is highly fragmented.  This is usually the result of calling `frame.insert` many times, which has poor performance.  Consider joining all columns at once using pd.concat(axis=1) instead. To get a de-fragmented frame, use `newframe = frame.copy()`\n",
            "  close_prices[symbol] = stock_data\n"
          ]
        },
        {
          "output_type": "stream",
          "name": "stdout",
          "text": [
            "[*********************100%%**********************]  1 of 1 completed\n",
            "[*********************100%%**********************]  1 of 1 completed\n"
          ]
        },
        {
          "output_type": "stream",
          "name": "stderr",
          "text": [
            "<ipython-input-61-7829e4a2a6a3>:6: PerformanceWarning: DataFrame is highly fragmented.  This is usually the result of calling `frame.insert` many times, which has poor performance.  Consider joining all columns at once using pd.concat(axis=1) instead. To get a de-fragmented frame, use `newframe = frame.copy()`\n",
            "  close_prices[symbol] = stock_data\n",
            "<ipython-input-61-7829e4a2a6a3>:6: PerformanceWarning: DataFrame is highly fragmented.  This is usually the result of calling `frame.insert` many times, which has poor performance.  Consider joining all columns at once using pd.concat(axis=1) instead. To get a de-fragmented frame, use `newframe = frame.copy()`\n",
            "  close_prices[symbol] = stock_data\n"
          ]
        },
        {
          "output_type": "stream",
          "name": "stdout",
          "text": [
            "[*********************100%%**********************]  1 of 1 completed\n",
            "[*********************100%%**********************]  1 of 1 completed\n"
          ]
        },
        {
          "output_type": "stream",
          "name": "stderr",
          "text": [
            "<ipython-input-61-7829e4a2a6a3>:6: PerformanceWarning: DataFrame is highly fragmented.  This is usually the result of calling `frame.insert` many times, which has poor performance.  Consider joining all columns at once using pd.concat(axis=1) instead. To get a de-fragmented frame, use `newframe = frame.copy()`\n",
            "  close_prices[symbol] = stock_data\n",
            "<ipython-input-61-7829e4a2a6a3>:6: PerformanceWarning: DataFrame is highly fragmented.  This is usually the result of calling `frame.insert` many times, which has poor performance.  Consider joining all columns at once using pd.concat(axis=1) instead. To get a de-fragmented frame, use `newframe = frame.copy()`\n",
            "  close_prices[symbol] = stock_data\n"
          ]
        },
        {
          "output_type": "stream",
          "name": "stdout",
          "text": [
            "[*********************100%%**********************]  1 of 1 completed\n",
            "[*********************100%%**********************]  1 of 1 completed\n"
          ]
        },
        {
          "output_type": "stream",
          "name": "stderr",
          "text": [
            "<ipython-input-61-7829e4a2a6a3>:6: PerformanceWarning: DataFrame is highly fragmented.  This is usually the result of calling `frame.insert` many times, which has poor performance.  Consider joining all columns at once using pd.concat(axis=1) instead. To get a de-fragmented frame, use `newframe = frame.copy()`\n",
            "  close_prices[symbol] = stock_data\n",
            "<ipython-input-61-7829e4a2a6a3>:6: PerformanceWarning: DataFrame is highly fragmented.  This is usually the result of calling `frame.insert` many times, which has poor performance.  Consider joining all columns at once using pd.concat(axis=1) instead. To get a de-fragmented frame, use `newframe = frame.copy()`\n",
            "  close_prices[symbol] = stock_data\n"
          ]
        },
        {
          "output_type": "stream",
          "name": "stdout",
          "text": [
            "[*********************100%%**********************]  1 of 1 completed\n",
            "[*********************100%%**********************]  1 of 1 completed\n"
          ]
        },
        {
          "output_type": "stream",
          "name": "stderr",
          "text": [
            "<ipython-input-61-7829e4a2a6a3>:6: PerformanceWarning: DataFrame is highly fragmented.  This is usually the result of calling `frame.insert` many times, which has poor performance.  Consider joining all columns at once using pd.concat(axis=1) instead. To get a de-fragmented frame, use `newframe = frame.copy()`\n",
            "  close_prices[symbol] = stock_data\n",
            "<ipython-input-61-7829e4a2a6a3>:6: PerformanceWarning: DataFrame is highly fragmented.  This is usually the result of calling `frame.insert` many times, which has poor performance.  Consider joining all columns at once using pd.concat(axis=1) instead. To get a de-fragmented frame, use `newframe = frame.copy()`\n",
            "  close_prices[symbol] = stock_data\n"
          ]
        },
        {
          "output_type": "stream",
          "name": "stdout",
          "text": [
            "[*********************100%%**********************]  1 of 1 completed\n",
            "[*********************100%%**********************]  1 of 1 completed\n"
          ]
        },
        {
          "output_type": "stream",
          "name": "stderr",
          "text": [
            "<ipython-input-61-7829e4a2a6a3>:6: PerformanceWarning: DataFrame is highly fragmented.  This is usually the result of calling `frame.insert` many times, which has poor performance.  Consider joining all columns at once using pd.concat(axis=1) instead. To get a de-fragmented frame, use `newframe = frame.copy()`\n",
            "  close_prices[symbol] = stock_data\n",
            "<ipython-input-61-7829e4a2a6a3>:6: PerformanceWarning: DataFrame is highly fragmented.  This is usually the result of calling `frame.insert` many times, which has poor performance.  Consider joining all columns at once using pd.concat(axis=1) instead. To get a de-fragmented frame, use `newframe = frame.copy()`\n",
            "  close_prices[symbol] = stock_data\n"
          ]
        },
        {
          "output_type": "stream",
          "name": "stdout",
          "text": [
            "[*********************100%%**********************]  1 of 1 completed\n",
            "[*********************100%%**********************]  1 of 1 completed\n"
          ]
        },
        {
          "output_type": "stream",
          "name": "stderr",
          "text": [
            "<ipython-input-61-7829e4a2a6a3>:6: PerformanceWarning: DataFrame is highly fragmented.  This is usually the result of calling `frame.insert` many times, which has poor performance.  Consider joining all columns at once using pd.concat(axis=1) instead. To get a de-fragmented frame, use `newframe = frame.copy()`\n",
            "  close_prices[symbol] = stock_data\n",
            "<ipython-input-61-7829e4a2a6a3>:6: PerformanceWarning: DataFrame is highly fragmented.  This is usually the result of calling `frame.insert` many times, which has poor performance.  Consider joining all columns at once using pd.concat(axis=1) instead. To get a de-fragmented frame, use `newframe = frame.copy()`\n",
            "  close_prices[symbol] = stock_data\n"
          ]
        },
        {
          "output_type": "stream",
          "name": "stdout",
          "text": [
            "[*********************100%%**********************]  1 of 1 completed\n",
            "[*********************100%%**********************]  1 of 1 completed\n"
          ]
        },
        {
          "output_type": "stream",
          "name": "stderr",
          "text": [
            "<ipython-input-61-7829e4a2a6a3>:6: PerformanceWarning: DataFrame is highly fragmented.  This is usually the result of calling `frame.insert` many times, which has poor performance.  Consider joining all columns at once using pd.concat(axis=1) instead. To get a de-fragmented frame, use `newframe = frame.copy()`\n",
            "  close_prices[symbol] = stock_data\n",
            "<ipython-input-61-7829e4a2a6a3>:6: PerformanceWarning: DataFrame is highly fragmented.  This is usually the result of calling `frame.insert` many times, which has poor performance.  Consider joining all columns at once using pd.concat(axis=1) instead. To get a de-fragmented frame, use `newframe = frame.copy()`\n",
            "  close_prices[symbol] = stock_data\n"
          ]
        },
        {
          "output_type": "stream",
          "name": "stdout",
          "text": [
            "[*********************100%%**********************]  1 of 1 completed\n",
            "[*********************100%%**********************]  1 of 1 completed\n"
          ]
        },
        {
          "output_type": "stream",
          "name": "stderr",
          "text": [
            "<ipython-input-61-7829e4a2a6a3>:6: PerformanceWarning: DataFrame is highly fragmented.  This is usually the result of calling `frame.insert` many times, which has poor performance.  Consider joining all columns at once using pd.concat(axis=1) instead. To get a de-fragmented frame, use `newframe = frame.copy()`\n",
            "  close_prices[symbol] = stock_data\n",
            "<ipython-input-61-7829e4a2a6a3>:6: PerformanceWarning: DataFrame is highly fragmented.  This is usually the result of calling `frame.insert` many times, which has poor performance.  Consider joining all columns at once using pd.concat(axis=1) instead. To get a de-fragmented frame, use `newframe = frame.copy()`\n",
            "  close_prices[symbol] = stock_data\n"
          ]
        },
        {
          "output_type": "stream",
          "name": "stdout",
          "text": [
            "[*********************100%%**********************]  1 of 1 completed\n",
            "[*********************100%%**********************]  1 of 1 completed\n"
          ]
        },
        {
          "output_type": "stream",
          "name": "stderr",
          "text": [
            "<ipython-input-61-7829e4a2a6a3>:6: PerformanceWarning: DataFrame is highly fragmented.  This is usually the result of calling `frame.insert` many times, which has poor performance.  Consider joining all columns at once using pd.concat(axis=1) instead. To get a de-fragmented frame, use `newframe = frame.copy()`\n",
            "  close_prices[symbol] = stock_data\n",
            "<ipython-input-61-7829e4a2a6a3>:6: PerformanceWarning: DataFrame is highly fragmented.  This is usually the result of calling `frame.insert` many times, which has poor performance.  Consider joining all columns at once using pd.concat(axis=1) instead. To get a de-fragmented frame, use `newframe = frame.copy()`\n",
            "  close_prices[symbol] = stock_data\n"
          ]
        },
        {
          "output_type": "stream",
          "name": "stdout",
          "text": [
            "[*********************100%%**********************]  1 of 1 completed\n",
            "[*********************100%%**********************]  1 of 1 completed\n"
          ]
        },
        {
          "output_type": "stream",
          "name": "stderr",
          "text": [
            "<ipython-input-61-7829e4a2a6a3>:6: PerformanceWarning: DataFrame is highly fragmented.  This is usually the result of calling `frame.insert` many times, which has poor performance.  Consider joining all columns at once using pd.concat(axis=1) instead. To get a de-fragmented frame, use `newframe = frame.copy()`\n",
            "  close_prices[symbol] = stock_data\n",
            "<ipython-input-61-7829e4a2a6a3>:6: PerformanceWarning: DataFrame is highly fragmented.  This is usually the result of calling `frame.insert` many times, which has poor performance.  Consider joining all columns at once using pd.concat(axis=1) instead. To get a de-fragmented frame, use `newframe = frame.copy()`\n",
            "  close_prices[symbol] = stock_data\n"
          ]
        },
        {
          "output_type": "stream",
          "name": "stdout",
          "text": [
            "[*********************100%%**********************]  1 of 1 completed\n",
            "[*********************100%%**********************]  1 of 1 completed\n"
          ]
        },
        {
          "output_type": "stream",
          "name": "stderr",
          "text": [
            "<ipython-input-61-7829e4a2a6a3>:6: PerformanceWarning: DataFrame is highly fragmented.  This is usually the result of calling `frame.insert` many times, which has poor performance.  Consider joining all columns at once using pd.concat(axis=1) instead. To get a de-fragmented frame, use `newframe = frame.copy()`\n",
            "  close_prices[symbol] = stock_data\n",
            "<ipython-input-61-7829e4a2a6a3>:6: PerformanceWarning: DataFrame is highly fragmented.  This is usually the result of calling `frame.insert` many times, which has poor performance.  Consider joining all columns at once using pd.concat(axis=1) instead. To get a de-fragmented frame, use `newframe = frame.copy()`\n",
            "  close_prices[symbol] = stock_data\n"
          ]
        },
        {
          "output_type": "stream",
          "name": "stdout",
          "text": [
            "[*********************100%%**********************]  1 of 1 completed\n",
            "[*********************100%%**********************]  1 of 1 completed\n"
          ]
        },
        {
          "output_type": "stream",
          "name": "stderr",
          "text": [
            "<ipython-input-61-7829e4a2a6a3>:6: PerformanceWarning: DataFrame is highly fragmented.  This is usually the result of calling `frame.insert` many times, which has poor performance.  Consider joining all columns at once using pd.concat(axis=1) instead. To get a de-fragmented frame, use `newframe = frame.copy()`\n",
            "  close_prices[symbol] = stock_data\n",
            "<ipython-input-61-7829e4a2a6a3>:6: PerformanceWarning: DataFrame is highly fragmented.  This is usually the result of calling `frame.insert` many times, which has poor performance.  Consider joining all columns at once using pd.concat(axis=1) instead. To get a de-fragmented frame, use `newframe = frame.copy()`\n",
            "  close_prices[symbol] = stock_data\n"
          ]
        },
        {
          "output_type": "stream",
          "name": "stdout",
          "text": [
            "[*********************100%%**********************]  1 of 1 completed\n",
            "[*********************100%%**********************]  1 of 1 completed\n"
          ]
        },
        {
          "output_type": "stream",
          "name": "stderr",
          "text": [
            "<ipython-input-61-7829e4a2a6a3>:6: PerformanceWarning: DataFrame is highly fragmented.  This is usually the result of calling `frame.insert` many times, which has poor performance.  Consider joining all columns at once using pd.concat(axis=1) instead. To get a de-fragmented frame, use `newframe = frame.copy()`\n",
            "  close_prices[symbol] = stock_data\n",
            "<ipython-input-61-7829e4a2a6a3>:6: PerformanceWarning: DataFrame is highly fragmented.  This is usually the result of calling `frame.insert` many times, which has poor performance.  Consider joining all columns at once using pd.concat(axis=1) instead. To get a de-fragmented frame, use `newframe = frame.copy()`\n",
            "  close_prices[symbol] = stock_data\n"
          ]
        },
        {
          "output_type": "stream",
          "name": "stdout",
          "text": [
            "[*********************100%%**********************]  1 of 1 completed\n",
            "[*********************100%%**********************]  1 of 1 completed\n"
          ]
        },
        {
          "output_type": "stream",
          "name": "stderr",
          "text": [
            "<ipython-input-61-7829e4a2a6a3>:6: PerformanceWarning: DataFrame is highly fragmented.  This is usually the result of calling `frame.insert` many times, which has poor performance.  Consider joining all columns at once using pd.concat(axis=1) instead. To get a de-fragmented frame, use `newframe = frame.copy()`\n",
            "  close_prices[symbol] = stock_data\n",
            "<ipython-input-61-7829e4a2a6a3>:6: PerformanceWarning: DataFrame is highly fragmented.  This is usually the result of calling `frame.insert` many times, which has poor performance.  Consider joining all columns at once using pd.concat(axis=1) instead. To get a de-fragmented frame, use `newframe = frame.copy()`\n",
            "  close_prices[symbol] = stock_data\n"
          ]
        },
        {
          "output_type": "stream",
          "name": "stdout",
          "text": [
            "[*********************100%%**********************]  1 of 1 completed\n",
            "[*********************100%%**********************]  1 of 1 completed\n"
          ]
        },
        {
          "output_type": "stream",
          "name": "stderr",
          "text": [
            "<ipython-input-61-7829e4a2a6a3>:6: PerformanceWarning: DataFrame is highly fragmented.  This is usually the result of calling `frame.insert` many times, which has poor performance.  Consider joining all columns at once using pd.concat(axis=1) instead. To get a de-fragmented frame, use `newframe = frame.copy()`\n",
            "  close_prices[symbol] = stock_data\n",
            "<ipython-input-61-7829e4a2a6a3>:6: PerformanceWarning: DataFrame is highly fragmented.  This is usually the result of calling `frame.insert` many times, which has poor performance.  Consider joining all columns at once using pd.concat(axis=1) instead. To get a de-fragmented frame, use `newframe = frame.copy()`\n",
            "  close_prices[symbol] = stock_data\n"
          ]
        },
        {
          "output_type": "stream",
          "name": "stdout",
          "text": [
            "[*********************100%%**********************]  1 of 1 completed\n",
            "[*********************100%%**********************]  1 of 1 completed\n"
          ]
        },
        {
          "output_type": "stream",
          "name": "stderr",
          "text": [
            "<ipython-input-61-7829e4a2a6a3>:6: PerformanceWarning: DataFrame is highly fragmented.  This is usually the result of calling `frame.insert` many times, which has poor performance.  Consider joining all columns at once using pd.concat(axis=1) instead. To get a de-fragmented frame, use `newframe = frame.copy()`\n",
            "  close_prices[symbol] = stock_data\n",
            "<ipython-input-61-7829e4a2a6a3>:6: PerformanceWarning: DataFrame is highly fragmented.  This is usually the result of calling `frame.insert` many times, which has poor performance.  Consider joining all columns at once using pd.concat(axis=1) instead. To get a de-fragmented frame, use `newframe = frame.copy()`\n",
            "  close_prices[symbol] = stock_data\n"
          ]
        },
        {
          "output_type": "stream",
          "name": "stdout",
          "text": [
            "[*********************100%%**********************]  1 of 1 completed\n",
            "[*********************100%%**********************]  1 of 1 completed\n"
          ]
        },
        {
          "output_type": "stream",
          "name": "stderr",
          "text": [
            "<ipython-input-61-7829e4a2a6a3>:6: PerformanceWarning: DataFrame is highly fragmented.  This is usually the result of calling `frame.insert` many times, which has poor performance.  Consider joining all columns at once using pd.concat(axis=1) instead. To get a de-fragmented frame, use `newframe = frame.copy()`\n",
            "  close_prices[symbol] = stock_data\n",
            "<ipython-input-61-7829e4a2a6a3>:6: PerformanceWarning: DataFrame is highly fragmented.  This is usually the result of calling `frame.insert` many times, which has poor performance.  Consider joining all columns at once using pd.concat(axis=1) instead. To get a de-fragmented frame, use `newframe = frame.copy()`\n",
            "  close_prices[symbol] = stock_data\n"
          ]
        },
        {
          "output_type": "stream",
          "name": "stdout",
          "text": [
            "[*********************100%%**********************]  1 of 1 completed\n",
            "[*********************100%%**********************]  1 of 1 completed\n"
          ]
        },
        {
          "output_type": "stream",
          "name": "stderr",
          "text": [
            "<ipython-input-61-7829e4a2a6a3>:6: PerformanceWarning: DataFrame is highly fragmented.  This is usually the result of calling `frame.insert` many times, which has poor performance.  Consider joining all columns at once using pd.concat(axis=1) instead. To get a de-fragmented frame, use `newframe = frame.copy()`\n",
            "  close_prices[symbol] = stock_data\n",
            "<ipython-input-61-7829e4a2a6a3>:6: PerformanceWarning: DataFrame is highly fragmented.  This is usually the result of calling `frame.insert` many times, which has poor performance.  Consider joining all columns at once using pd.concat(axis=1) instead. To get a de-fragmented frame, use `newframe = frame.copy()`\n",
            "  close_prices[symbol] = stock_data\n"
          ]
        },
        {
          "output_type": "stream",
          "name": "stdout",
          "text": [
            "[*********************100%%**********************]  1 of 1 completed\n",
            "[*********************100%%**********************]  1 of 1 completed\n"
          ]
        },
        {
          "output_type": "stream",
          "name": "stderr",
          "text": [
            "<ipython-input-61-7829e4a2a6a3>:6: PerformanceWarning: DataFrame is highly fragmented.  This is usually the result of calling `frame.insert` many times, which has poor performance.  Consider joining all columns at once using pd.concat(axis=1) instead. To get a de-fragmented frame, use `newframe = frame.copy()`\n",
            "  close_prices[symbol] = stock_data\n",
            "<ipython-input-61-7829e4a2a6a3>:6: PerformanceWarning: DataFrame is highly fragmented.  This is usually the result of calling `frame.insert` many times, which has poor performance.  Consider joining all columns at once using pd.concat(axis=1) instead. To get a de-fragmented frame, use `newframe = frame.copy()`\n",
            "  close_prices[symbol] = stock_data\n"
          ]
        },
        {
          "output_type": "stream",
          "name": "stdout",
          "text": [
            "[*********************100%%**********************]  1 of 1 completed\n",
            "[*********************100%%**********************]  1 of 1 completed\n"
          ]
        },
        {
          "output_type": "stream",
          "name": "stderr",
          "text": [
            "<ipython-input-61-7829e4a2a6a3>:6: PerformanceWarning: DataFrame is highly fragmented.  This is usually the result of calling `frame.insert` many times, which has poor performance.  Consider joining all columns at once using pd.concat(axis=1) instead. To get a de-fragmented frame, use `newframe = frame.copy()`\n",
            "  close_prices[symbol] = stock_data\n",
            "<ipython-input-61-7829e4a2a6a3>:6: PerformanceWarning: DataFrame is highly fragmented.  This is usually the result of calling `frame.insert` many times, which has poor performance.  Consider joining all columns at once using pd.concat(axis=1) instead. To get a de-fragmented frame, use `newframe = frame.copy()`\n",
            "  close_prices[symbol] = stock_data\n"
          ]
        },
        {
          "output_type": "stream",
          "name": "stdout",
          "text": [
            "[*********************100%%**********************]  1 of 1 completed\n",
            "[*********************100%%**********************]  1 of 1 completed\n"
          ]
        },
        {
          "output_type": "stream",
          "name": "stderr",
          "text": [
            "<ipython-input-61-7829e4a2a6a3>:6: PerformanceWarning: DataFrame is highly fragmented.  This is usually the result of calling `frame.insert` many times, which has poor performance.  Consider joining all columns at once using pd.concat(axis=1) instead. To get a de-fragmented frame, use `newframe = frame.copy()`\n",
            "  close_prices[symbol] = stock_data\n",
            "<ipython-input-61-7829e4a2a6a3>:6: PerformanceWarning: DataFrame is highly fragmented.  This is usually the result of calling `frame.insert` many times, which has poor performance.  Consider joining all columns at once using pd.concat(axis=1) instead. To get a de-fragmented frame, use `newframe = frame.copy()`\n",
            "  close_prices[symbol] = stock_data\n"
          ]
        },
        {
          "output_type": "stream",
          "name": "stdout",
          "text": [
            "[*********************100%%**********************]  1 of 1 completed\n",
            "[*********************100%%**********************]  1 of 1 completed\n"
          ]
        },
        {
          "output_type": "stream",
          "name": "stderr",
          "text": [
            "<ipython-input-61-7829e4a2a6a3>:6: PerformanceWarning: DataFrame is highly fragmented.  This is usually the result of calling `frame.insert` many times, which has poor performance.  Consider joining all columns at once using pd.concat(axis=1) instead. To get a de-fragmented frame, use `newframe = frame.copy()`\n",
            "  close_prices[symbol] = stock_data\n",
            "<ipython-input-61-7829e4a2a6a3>:6: PerformanceWarning: DataFrame is highly fragmented.  This is usually the result of calling `frame.insert` many times, which has poor performance.  Consider joining all columns at once using pd.concat(axis=1) instead. To get a de-fragmented frame, use `newframe = frame.copy()`\n",
            "  close_prices[symbol] = stock_data\n"
          ]
        },
        {
          "output_type": "stream",
          "name": "stdout",
          "text": [
            "[*********************100%%**********************]  1 of 1 completed\n",
            "[*********************100%%**********************]  1 of 1 completed\n"
          ]
        },
        {
          "output_type": "stream",
          "name": "stderr",
          "text": [
            "<ipython-input-61-7829e4a2a6a3>:6: PerformanceWarning: DataFrame is highly fragmented.  This is usually the result of calling `frame.insert` many times, which has poor performance.  Consider joining all columns at once using pd.concat(axis=1) instead. To get a de-fragmented frame, use `newframe = frame.copy()`\n",
            "  close_prices[symbol] = stock_data\n",
            "<ipython-input-61-7829e4a2a6a3>:6: PerformanceWarning: DataFrame is highly fragmented.  This is usually the result of calling `frame.insert` many times, which has poor performance.  Consider joining all columns at once using pd.concat(axis=1) instead. To get a de-fragmented frame, use `newframe = frame.copy()`\n",
            "  close_prices[symbol] = stock_data\n"
          ]
        },
        {
          "output_type": "stream",
          "name": "stdout",
          "text": [
            "[*********************100%%**********************]  1 of 1 completed\n",
            "[*********************100%%**********************]  1 of 1 completed\n"
          ]
        },
        {
          "output_type": "stream",
          "name": "stderr",
          "text": [
            "<ipython-input-61-7829e4a2a6a3>:6: PerformanceWarning: DataFrame is highly fragmented.  This is usually the result of calling `frame.insert` many times, which has poor performance.  Consider joining all columns at once using pd.concat(axis=1) instead. To get a de-fragmented frame, use `newframe = frame.copy()`\n",
            "  close_prices[symbol] = stock_data\n",
            "<ipython-input-61-7829e4a2a6a3>:6: PerformanceWarning: DataFrame is highly fragmented.  This is usually the result of calling `frame.insert` many times, which has poor performance.  Consider joining all columns at once using pd.concat(axis=1) instead. To get a de-fragmented frame, use `newframe = frame.copy()`\n",
            "  close_prices[symbol] = stock_data\n"
          ]
        },
        {
          "output_type": "stream",
          "name": "stdout",
          "text": [
            "[*********************100%%**********************]  1 of 1 completed\n",
            "[*********************100%%**********************]  1 of 1 completed\n"
          ]
        },
        {
          "output_type": "stream",
          "name": "stderr",
          "text": [
            "<ipython-input-61-7829e4a2a6a3>:6: PerformanceWarning: DataFrame is highly fragmented.  This is usually the result of calling `frame.insert` many times, which has poor performance.  Consider joining all columns at once using pd.concat(axis=1) instead. To get a de-fragmented frame, use `newframe = frame.copy()`\n",
            "  close_prices[symbol] = stock_data\n",
            "<ipython-input-61-7829e4a2a6a3>:6: PerformanceWarning: DataFrame is highly fragmented.  This is usually the result of calling `frame.insert` many times, which has poor performance.  Consider joining all columns at once using pd.concat(axis=1) instead. To get a de-fragmented frame, use `newframe = frame.copy()`\n",
            "  close_prices[symbol] = stock_data\n"
          ]
        },
        {
          "output_type": "stream",
          "name": "stdout",
          "text": [
            "[*********************100%%**********************]  1 of 1 completed\n",
            "[*********************100%%**********************]  1 of 1 completed\n"
          ]
        },
        {
          "output_type": "stream",
          "name": "stderr",
          "text": [
            "<ipython-input-61-7829e4a2a6a3>:6: PerformanceWarning: DataFrame is highly fragmented.  This is usually the result of calling `frame.insert` many times, which has poor performance.  Consider joining all columns at once using pd.concat(axis=1) instead. To get a de-fragmented frame, use `newframe = frame.copy()`\n",
            "  close_prices[symbol] = stock_data\n",
            "<ipython-input-61-7829e4a2a6a3>:6: PerformanceWarning: DataFrame is highly fragmented.  This is usually the result of calling `frame.insert` many times, which has poor performance.  Consider joining all columns at once using pd.concat(axis=1) instead. To get a de-fragmented frame, use `newframe = frame.copy()`\n",
            "  close_prices[symbol] = stock_data\n"
          ]
        },
        {
          "output_type": "stream",
          "name": "stdout",
          "text": [
            "[*********************100%%**********************]  1 of 1 completed\n",
            "[*********************100%%**********************]  1 of 1 completed\n"
          ]
        },
        {
          "output_type": "stream",
          "name": "stderr",
          "text": [
            "<ipython-input-61-7829e4a2a6a3>:6: PerformanceWarning: DataFrame is highly fragmented.  This is usually the result of calling `frame.insert` many times, which has poor performance.  Consider joining all columns at once using pd.concat(axis=1) instead. To get a de-fragmented frame, use `newframe = frame.copy()`\n",
            "  close_prices[symbol] = stock_data\n",
            "<ipython-input-61-7829e4a2a6a3>:6: PerformanceWarning: DataFrame is highly fragmented.  This is usually the result of calling `frame.insert` many times, which has poor performance.  Consider joining all columns at once using pd.concat(axis=1) instead. To get a de-fragmented frame, use `newframe = frame.copy()`\n",
            "  close_prices[symbol] = stock_data\n"
          ]
        },
        {
          "output_type": "stream",
          "name": "stdout",
          "text": [
            "[*********************100%%**********************]  1 of 1 completed\n",
            "[*********************100%%**********************]  1 of 1 completed\n"
          ]
        },
        {
          "output_type": "stream",
          "name": "stderr",
          "text": [
            "<ipython-input-61-7829e4a2a6a3>:6: PerformanceWarning: DataFrame is highly fragmented.  This is usually the result of calling `frame.insert` many times, which has poor performance.  Consider joining all columns at once using pd.concat(axis=1) instead. To get a de-fragmented frame, use `newframe = frame.copy()`\n",
            "  close_prices[symbol] = stock_data\n",
            "<ipython-input-61-7829e4a2a6a3>:6: PerformanceWarning: DataFrame is highly fragmented.  This is usually the result of calling `frame.insert` many times, which has poor performance.  Consider joining all columns at once using pd.concat(axis=1) instead. To get a de-fragmented frame, use `newframe = frame.copy()`\n",
            "  close_prices[symbol] = stock_data\n"
          ]
        },
        {
          "output_type": "stream",
          "name": "stdout",
          "text": [
            "[*********************100%%**********************]  1 of 1 completed\n",
            "[*********************100%%**********************]  1 of 1 completed\n"
          ]
        },
        {
          "output_type": "stream",
          "name": "stderr",
          "text": [
            "<ipython-input-61-7829e4a2a6a3>:6: PerformanceWarning: DataFrame is highly fragmented.  This is usually the result of calling `frame.insert` many times, which has poor performance.  Consider joining all columns at once using pd.concat(axis=1) instead. To get a de-fragmented frame, use `newframe = frame.copy()`\n",
            "  close_prices[symbol] = stock_data\n",
            "<ipython-input-61-7829e4a2a6a3>:6: PerformanceWarning: DataFrame is highly fragmented.  This is usually the result of calling `frame.insert` many times, which has poor performance.  Consider joining all columns at once using pd.concat(axis=1) instead. To get a de-fragmented frame, use `newframe = frame.copy()`\n",
            "  close_prices[symbol] = stock_data\n"
          ]
        },
        {
          "output_type": "stream",
          "name": "stdout",
          "text": [
            "[*********************100%%**********************]  1 of 1 completed\n",
            "[*********************100%%**********************]  1 of 1 completed\n"
          ]
        },
        {
          "output_type": "stream",
          "name": "stderr",
          "text": [
            "<ipython-input-61-7829e4a2a6a3>:6: PerformanceWarning: DataFrame is highly fragmented.  This is usually the result of calling `frame.insert` many times, which has poor performance.  Consider joining all columns at once using pd.concat(axis=1) instead. To get a de-fragmented frame, use `newframe = frame.copy()`\n",
            "  close_prices[symbol] = stock_data\n",
            "<ipython-input-61-7829e4a2a6a3>:6: PerformanceWarning: DataFrame is highly fragmented.  This is usually the result of calling `frame.insert` many times, which has poor performance.  Consider joining all columns at once using pd.concat(axis=1) instead. To get a de-fragmented frame, use `newframe = frame.copy()`\n",
            "  close_prices[symbol] = stock_data\n"
          ]
        },
        {
          "output_type": "stream",
          "name": "stdout",
          "text": [
            "[*********************100%%**********************]  1 of 1 completed\n",
            "[*********************100%%**********************]  1 of 1 completed\n"
          ]
        },
        {
          "output_type": "stream",
          "name": "stderr",
          "text": [
            "<ipython-input-61-7829e4a2a6a3>:6: PerformanceWarning: DataFrame is highly fragmented.  This is usually the result of calling `frame.insert` many times, which has poor performance.  Consider joining all columns at once using pd.concat(axis=1) instead. To get a de-fragmented frame, use `newframe = frame.copy()`\n",
            "  close_prices[symbol] = stock_data\n",
            "<ipython-input-61-7829e4a2a6a3>:6: PerformanceWarning: DataFrame is highly fragmented.  This is usually the result of calling `frame.insert` many times, which has poor performance.  Consider joining all columns at once using pd.concat(axis=1) instead. To get a de-fragmented frame, use `newframe = frame.copy()`\n",
            "  close_prices[symbol] = stock_data\n"
          ]
        },
        {
          "output_type": "stream",
          "name": "stdout",
          "text": [
            "[*********************100%%**********************]  1 of 1 completed\n",
            "[*********************100%%**********************]  1 of 1 completed\n"
          ]
        },
        {
          "output_type": "stream",
          "name": "stderr",
          "text": [
            "<ipython-input-61-7829e4a2a6a3>:6: PerformanceWarning: DataFrame is highly fragmented.  This is usually the result of calling `frame.insert` many times, which has poor performance.  Consider joining all columns at once using pd.concat(axis=1) instead. To get a de-fragmented frame, use `newframe = frame.copy()`\n",
            "  close_prices[symbol] = stock_data\n",
            "<ipython-input-61-7829e4a2a6a3>:6: PerformanceWarning: DataFrame is highly fragmented.  This is usually the result of calling `frame.insert` many times, which has poor performance.  Consider joining all columns at once using pd.concat(axis=1) instead. To get a de-fragmented frame, use `newframe = frame.copy()`\n",
            "  close_prices[symbol] = stock_data\n"
          ]
        },
        {
          "output_type": "stream",
          "name": "stdout",
          "text": [
            "[*********************100%%**********************]  1 of 1 completed\n",
            "[*********************100%%**********************]  1 of 1 completed\n"
          ]
        },
        {
          "output_type": "stream",
          "name": "stderr",
          "text": [
            "<ipython-input-61-7829e4a2a6a3>:6: PerformanceWarning: DataFrame is highly fragmented.  This is usually the result of calling `frame.insert` many times, which has poor performance.  Consider joining all columns at once using pd.concat(axis=1) instead. To get a de-fragmented frame, use `newframe = frame.copy()`\n",
            "  close_prices[symbol] = stock_data\n",
            "<ipython-input-61-7829e4a2a6a3>:6: PerformanceWarning: DataFrame is highly fragmented.  This is usually the result of calling `frame.insert` many times, which has poor performance.  Consider joining all columns at once using pd.concat(axis=1) instead. To get a de-fragmented frame, use `newframe = frame.copy()`\n",
            "  close_prices[symbol] = stock_data\n"
          ]
        },
        {
          "output_type": "stream",
          "name": "stdout",
          "text": [
            "[*********************100%%**********************]  1 of 1 completed\n",
            "[*********************100%%**********************]  1 of 1 completed\n"
          ]
        },
        {
          "output_type": "stream",
          "name": "stderr",
          "text": [
            "<ipython-input-61-7829e4a2a6a3>:6: PerformanceWarning: DataFrame is highly fragmented.  This is usually the result of calling `frame.insert` many times, which has poor performance.  Consider joining all columns at once using pd.concat(axis=1) instead. To get a de-fragmented frame, use `newframe = frame.copy()`\n",
            "  close_prices[symbol] = stock_data\n",
            "<ipython-input-61-7829e4a2a6a3>:6: PerformanceWarning: DataFrame is highly fragmented.  This is usually the result of calling `frame.insert` many times, which has poor performance.  Consider joining all columns at once using pd.concat(axis=1) instead. To get a de-fragmented frame, use `newframe = frame.copy()`\n",
            "  close_prices[symbol] = stock_data\n"
          ]
        },
        {
          "output_type": "stream",
          "name": "stdout",
          "text": [
            "[*********************100%%**********************]  1 of 1 completed\n",
            "[*********************100%%**********************]  1 of 1 completed\n"
          ]
        },
        {
          "output_type": "stream",
          "name": "stderr",
          "text": [
            "<ipython-input-61-7829e4a2a6a3>:6: PerformanceWarning: DataFrame is highly fragmented.  This is usually the result of calling `frame.insert` many times, which has poor performance.  Consider joining all columns at once using pd.concat(axis=1) instead. To get a de-fragmented frame, use `newframe = frame.copy()`\n",
            "  close_prices[symbol] = stock_data\n",
            "<ipython-input-61-7829e4a2a6a3>:6: PerformanceWarning: DataFrame is highly fragmented.  This is usually the result of calling `frame.insert` many times, which has poor performance.  Consider joining all columns at once using pd.concat(axis=1) instead. To get a de-fragmented frame, use `newframe = frame.copy()`\n",
            "  close_prices[symbol] = stock_data\n"
          ]
        },
        {
          "output_type": "stream",
          "name": "stdout",
          "text": [
            "\r[*********************100%%**********************]  1 of 1 completed\n"
          ]
        },
        {
          "output_type": "stream",
          "name": "stderr",
          "text": [
            "<ipython-input-61-7829e4a2a6a3>:6: PerformanceWarning: DataFrame is highly fragmented.  This is usually the result of calling `frame.insert` many times, which has poor performance.  Consider joining all columns at once using pd.concat(axis=1) instead. To get a de-fragmented frame, use `newframe = frame.copy()`\n",
            "  close_prices[symbol] = stock_data\n"
          ]
        },
        {
          "output_type": "stream",
          "name": "stdout",
          "text": [
            "[*********************100%%**********************]  1 of 1 completed\n",
            "[*********************100%%**********************]  1 of 1 completed\n"
          ]
        },
        {
          "output_type": "stream",
          "name": "stderr",
          "text": [
            "<ipython-input-61-7829e4a2a6a3>:6: PerformanceWarning: DataFrame is highly fragmented.  This is usually the result of calling `frame.insert` many times, which has poor performance.  Consider joining all columns at once using pd.concat(axis=1) instead. To get a de-fragmented frame, use `newframe = frame.copy()`\n",
            "  close_prices[symbol] = stock_data\n",
            "<ipython-input-61-7829e4a2a6a3>:6: PerformanceWarning: DataFrame is highly fragmented.  This is usually the result of calling `frame.insert` many times, which has poor performance.  Consider joining all columns at once using pd.concat(axis=1) instead. To get a de-fragmented frame, use `newframe = frame.copy()`\n",
            "  close_prices[symbol] = stock_data\n"
          ]
        },
        {
          "output_type": "stream",
          "name": "stdout",
          "text": [
            "[*********************100%%**********************]  1 of 1 completed\n",
            "[*********************100%%**********************]  1 of 1 completed\n"
          ]
        },
        {
          "output_type": "stream",
          "name": "stderr",
          "text": [
            "<ipython-input-61-7829e4a2a6a3>:6: PerformanceWarning: DataFrame is highly fragmented.  This is usually the result of calling `frame.insert` many times, which has poor performance.  Consider joining all columns at once using pd.concat(axis=1) instead. To get a de-fragmented frame, use `newframe = frame.copy()`\n",
            "  close_prices[symbol] = stock_data\n",
            "<ipython-input-61-7829e4a2a6a3>:6: PerformanceWarning: DataFrame is highly fragmented.  This is usually the result of calling `frame.insert` many times, which has poor performance.  Consider joining all columns at once using pd.concat(axis=1) instead. To get a de-fragmented frame, use `newframe = frame.copy()`\n",
            "  close_prices[symbol] = stock_data\n"
          ]
        },
        {
          "output_type": "stream",
          "name": "stdout",
          "text": [
            "\r[*********************100%%**********************]  1 of 1 completed\n"
          ]
        },
        {
          "output_type": "stream",
          "name": "stderr",
          "text": [
            "<ipython-input-61-7829e4a2a6a3>:6: PerformanceWarning: DataFrame is highly fragmented.  This is usually the result of calling `frame.insert` many times, which has poor performance.  Consider joining all columns at once using pd.concat(axis=1) instead. To get a de-fragmented frame, use `newframe = frame.copy()`\n",
            "  close_prices[symbol] = stock_data\n"
          ]
        },
        {
          "output_type": "stream",
          "name": "stdout",
          "text": [
            "[*********************100%%**********************]  1 of 1 completed\n",
            "[*********************100%%**********************]  1 of 1 completed\n"
          ]
        },
        {
          "output_type": "stream",
          "name": "stderr",
          "text": [
            "<ipython-input-61-7829e4a2a6a3>:6: PerformanceWarning: DataFrame is highly fragmented.  This is usually the result of calling `frame.insert` many times, which has poor performance.  Consider joining all columns at once using pd.concat(axis=1) instead. To get a de-fragmented frame, use `newframe = frame.copy()`\n",
            "  close_prices[symbol] = stock_data\n",
            "<ipython-input-61-7829e4a2a6a3>:6: PerformanceWarning: DataFrame is highly fragmented.  This is usually the result of calling `frame.insert` many times, which has poor performance.  Consider joining all columns at once using pd.concat(axis=1) instead. To get a de-fragmented frame, use `newframe = frame.copy()`\n",
            "  close_prices[symbol] = stock_data\n"
          ]
        },
        {
          "output_type": "stream",
          "name": "stdout",
          "text": [
            "[*********************100%%**********************]  1 of 1 completed\n",
            "[*********************100%%**********************]  1 of 1 completed\n"
          ]
        },
        {
          "output_type": "stream",
          "name": "stderr",
          "text": [
            "<ipython-input-61-7829e4a2a6a3>:6: PerformanceWarning: DataFrame is highly fragmented.  This is usually the result of calling `frame.insert` many times, which has poor performance.  Consider joining all columns at once using pd.concat(axis=1) instead. To get a de-fragmented frame, use `newframe = frame.copy()`\n",
            "  close_prices[symbol] = stock_data\n",
            "<ipython-input-61-7829e4a2a6a3>:6: PerformanceWarning: DataFrame is highly fragmented.  This is usually the result of calling `frame.insert` many times, which has poor performance.  Consider joining all columns at once using pd.concat(axis=1) instead. To get a de-fragmented frame, use `newframe = frame.copy()`\n",
            "  close_prices[symbol] = stock_data\n"
          ]
        },
        {
          "output_type": "stream",
          "name": "stdout",
          "text": [
            "[*********************100%%**********************]  1 of 1 completed\n",
            "[*********************100%%**********************]  1 of 1 completed\n"
          ]
        },
        {
          "output_type": "stream",
          "name": "stderr",
          "text": [
            "<ipython-input-61-7829e4a2a6a3>:6: PerformanceWarning: DataFrame is highly fragmented.  This is usually the result of calling `frame.insert` many times, which has poor performance.  Consider joining all columns at once using pd.concat(axis=1) instead. To get a de-fragmented frame, use `newframe = frame.copy()`\n",
            "  close_prices[symbol] = stock_data\n",
            "<ipython-input-61-7829e4a2a6a3>:6: PerformanceWarning: DataFrame is highly fragmented.  This is usually the result of calling `frame.insert` many times, which has poor performance.  Consider joining all columns at once using pd.concat(axis=1) instead. To get a de-fragmented frame, use `newframe = frame.copy()`\n",
            "  close_prices[symbol] = stock_data\n"
          ]
        },
        {
          "output_type": "stream",
          "name": "stdout",
          "text": [
            "\r[*********************100%%**********************]  1 of 1 completed\n"
          ]
        },
        {
          "output_type": "stream",
          "name": "stderr",
          "text": [
            "<ipython-input-61-7829e4a2a6a3>:6: PerformanceWarning: DataFrame is highly fragmented.  This is usually the result of calling `frame.insert` many times, which has poor performance.  Consider joining all columns at once using pd.concat(axis=1) instead. To get a de-fragmented frame, use `newframe = frame.copy()`\n",
            "  close_prices[symbol] = stock_data\n"
          ]
        },
        {
          "output_type": "stream",
          "name": "stdout",
          "text": [
            "[*********************100%%**********************]  1 of 1 completed\n",
            "[*********************100%%**********************]  1 of 1 completed\n"
          ]
        },
        {
          "output_type": "stream",
          "name": "stderr",
          "text": [
            "<ipython-input-61-7829e4a2a6a3>:6: PerformanceWarning: DataFrame is highly fragmented.  This is usually the result of calling `frame.insert` many times, which has poor performance.  Consider joining all columns at once using pd.concat(axis=1) instead. To get a de-fragmented frame, use `newframe = frame.copy()`\n",
            "  close_prices[symbol] = stock_data\n",
            "<ipython-input-61-7829e4a2a6a3>:6: PerformanceWarning: DataFrame is highly fragmented.  This is usually the result of calling `frame.insert` many times, which has poor performance.  Consider joining all columns at once using pd.concat(axis=1) instead. To get a de-fragmented frame, use `newframe = frame.copy()`\n",
            "  close_prices[symbol] = stock_data\n"
          ]
        },
        {
          "output_type": "stream",
          "name": "stdout",
          "text": [
            "[*********************100%%**********************]  1 of 1 completed\n",
            "[*********************100%%**********************]  1 of 1 completed\n"
          ]
        },
        {
          "output_type": "stream",
          "name": "stderr",
          "text": [
            "<ipython-input-61-7829e4a2a6a3>:6: PerformanceWarning: DataFrame is highly fragmented.  This is usually the result of calling `frame.insert` many times, which has poor performance.  Consider joining all columns at once using pd.concat(axis=1) instead. To get a de-fragmented frame, use `newframe = frame.copy()`\n",
            "  close_prices[symbol] = stock_data\n",
            "<ipython-input-61-7829e4a2a6a3>:6: PerformanceWarning: DataFrame is highly fragmented.  This is usually the result of calling `frame.insert` many times, which has poor performance.  Consider joining all columns at once using pd.concat(axis=1) instead. To get a de-fragmented frame, use `newframe = frame.copy()`\n",
            "  close_prices[symbol] = stock_data\n"
          ]
        },
        {
          "output_type": "stream",
          "name": "stdout",
          "text": [
            "[*********************100%%**********************]  1 of 1 completed\n",
            "[*********************100%%**********************]  1 of 1 completed\n"
          ]
        },
        {
          "output_type": "stream",
          "name": "stderr",
          "text": [
            "<ipython-input-61-7829e4a2a6a3>:6: PerformanceWarning: DataFrame is highly fragmented.  This is usually the result of calling `frame.insert` many times, which has poor performance.  Consider joining all columns at once using pd.concat(axis=1) instead. To get a de-fragmented frame, use `newframe = frame.copy()`\n",
            "  close_prices[symbol] = stock_data\n",
            "<ipython-input-61-7829e4a2a6a3>:6: PerformanceWarning: DataFrame is highly fragmented.  This is usually the result of calling `frame.insert` many times, which has poor performance.  Consider joining all columns at once using pd.concat(axis=1) instead. To get a de-fragmented frame, use `newframe = frame.copy()`\n",
            "  close_prices[symbol] = stock_data\n"
          ]
        },
        {
          "output_type": "stream",
          "name": "stdout",
          "text": [
            "[*********************100%%**********************]  1 of 1 completed\n",
            "[*********************100%%**********************]  1 of 1 completed\n"
          ]
        },
        {
          "output_type": "stream",
          "name": "stderr",
          "text": [
            "<ipython-input-61-7829e4a2a6a3>:6: PerformanceWarning: DataFrame is highly fragmented.  This is usually the result of calling `frame.insert` many times, which has poor performance.  Consider joining all columns at once using pd.concat(axis=1) instead. To get a de-fragmented frame, use `newframe = frame.copy()`\n",
            "  close_prices[symbol] = stock_data\n",
            "<ipython-input-61-7829e4a2a6a3>:6: PerformanceWarning: DataFrame is highly fragmented.  This is usually the result of calling `frame.insert` many times, which has poor performance.  Consider joining all columns at once using pd.concat(axis=1) instead. To get a de-fragmented frame, use `newframe = frame.copy()`\n",
            "  close_prices[symbol] = stock_data\n"
          ]
        },
        {
          "output_type": "stream",
          "name": "stdout",
          "text": [
            "[*********************100%%**********************]  1 of 1 completed\n",
            "[*********************100%%**********************]  1 of 1 completed\n"
          ]
        },
        {
          "output_type": "stream",
          "name": "stderr",
          "text": [
            "<ipython-input-61-7829e4a2a6a3>:6: PerformanceWarning: DataFrame is highly fragmented.  This is usually the result of calling `frame.insert` many times, which has poor performance.  Consider joining all columns at once using pd.concat(axis=1) instead. To get a de-fragmented frame, use `newframe = frame.copy()`\n",
            "  close_prices[symbol] = stock_data\n",
            "<ipython-input-61-7829e4a2a6a3>:6: PerformanceWarning: DataFrame is highly fragmented.  This is usually the result of calling `frame.insert` many times, which has poor performance.  Consider joining all columns at once using pd.concat(axis=1) instead. To get a de-fragmented frame, use `newframe = frame.copy()`\n",
            "  close_prices[symbol] = stock_data\n"
          ]
        },
        {
          "output_type": "stream",
          "name": "stdout",
          "text": [
            "[*********************100%%**********************]  1 of 1 completed\n",
            "[*********************100%%**********************]  1 of 1 completed\n"
          ]
        },
        {
          "output_type": "stream",
          "name": "stderr",
          "text": [
            "<ipython-input-61-7829e4a2a6a3>:6: PerformanceWarning: DataFrame is highly fragmented.  This is usually the result of calling `frame.insert` many times, which has poor performance.  Consider joining all columns at once using pd.concat(axis=1) instead. To get a de-fragmented frame, use `newframe = frame.copy()`\n",
            "  close_prices[symbol] = stock_data\n",
            "<ipython-input-61-7829e4a2a6a3>:6: PerformanceWarning: DataFrame is highly fragmented.  This is usually the result of calling `frame.insert` many times, which has poor performance.  Consider joining all columns at once using pd.concat(axis=1) instead. To get a de-fragmented frame, use `newframe = frame.copy()`\n",
            "  close_prices[symbol] = stock_data\n"
          ]
        },
        {
          "output_type": "stream",
          "name": "stdout",
          "text": [
            "[*********************100%%**********************]  1 of 1 completed\n",
            "[*********************100%%**********************]  1 of 1 completed\n"
          ]
        },
        {
          "output_type": "stream",
          "name": "stderr",
          "text": [
            "<ipython-input-61-7829e4a2a6a3>:6: PerformanceWarning: DataFrame is highly fragmented.  This is usually the result of calling `frame.insert` many times, which has poor performance.  Consider joining all columns at once using pd.concat(axis=1) instead. To get a de-fragmented frame, use `newframe = frame.copy()`\n",
            "  close_prices[symbol] = stock_data\n",
            "<ipython-input-61-7829e4a2a6a3>:6: PerformanceWarning: DataFrame is highly fragmented.  This is usually the result of calling `frame.insert` many times, which has poor performance.  Consider joining all columns at once using pd.concat(axis=1) instead. To get a de-fragmented frame, use `newframe = frame.copy()`\n",
            "  close_prices[symbol] = stock_data\n"
          ]
        },
        {
          "output_type": "stream",
          "name": "stdout",
          "text": [
            "[*********************100%%**********************]  1 of 1 completed\n",
            "[*********************100%%**********************]  1 of 1 completed\n"
          ]
        },
        {
          "output_type": "stream",
          "name": "stderr",
          "text": [
            "<ipython-input-61-7829e4a2a6a3>:6: PerformanceWarning: DataFrame is highly fragmented.  This is usually the result of calling `frame.insert` many times, which has poor performance.  Consider joining all columns at once using pd.concat(axis=1) instead. To get a de-fragmented frame, use `newframe = frame.copy()`\n",
            "  close_prices[symbol] = stock_data\n",
            "<ipython-input-61-7829e4a2a6a3>:6: PerformanceWarning: DataFrame is highly fragmented.  This is usually the result of calling `frame.insert` many times, which has poor performance.  Consider joining all columns at once using pd.concat(axis=1) instead. To get a de-fragmented frame, use `newframe = frame.copy()`\n",
            "  close_prices[symbol] = stock_data\n"
          ]
        },
        {
          "output_type": "stream",
          "name": "stdout",
          "text": [
            "[*********************100%%**********************]  1 of 1 completed\n",
            "[*********************100%%**********************]  1 of 1 completed\n"
          ]
        },
        {
          "output_type": "stream",
          "name": "stderr",
          "text": [
            "<ipython-input-61-7829e4a2a6a3>:6: PerformanceWarning: DataFrame is highly fragmented.  This is usually the result of calling `frame.insert` many times, which has poor performance.  Consider joining all columns at once using pd.concat(axis=1) instead. To get a de-fragmented frame, use `newframe = frame.copy()`\n",
            "  close_prices[symbol] = stock_data\n",
            "<ipython-input-61-7829e4a2a6a3>:6: PerformanceWarning: DataFrame is highly fragmented.  This is usually the result of calling `frame.insert` many times, which has poor performance.  Consider joining all columns at once using pd.concat(axis=1) instead. To get a de-fragmented frame, use `newframe = frame.copy()`\n",
            "  close_prices[symbol] = stock_data\n"
          ]
        },
        {
          "output_type": "stream",
          "name": "stdout",
          "text": [
            "[*********************100%%**********************]  1 of 1 completed\n",
            "[*********************100%%**********************]  1 of 1 completed\n"
          ]
        },
        {
          "output_type": "stream",
          "name": "stderr",
          "text": [
            "<ipython-input-61-7829e4a2a6a3>:6: PerformanceWarning: DataFrame is highly fragmented.  This is usually the result of calling `frame.insert` many times, which has poor performance.  Consider joining all columns at once using pd.concat(axis=1) instead. To get a de-fragmented frame, use `newframe = frame.copy()`\n",
            "  close_prices[symbol] = stock_data\n",
            "<ipython-input-61-7829e4a2a6a3>:6: PerformanceWarning: DataFrame is highly fragmented.  This is usually the result of calling `frame.insert` many times, which has poor performance.  Consider joining all columns at once using pd.concat(axis=1) instead. To get a de-fragmented frame, use `newframe = frame.copy()`\n",
            "  close_prices[symbol] = stock_data\n"
          ]
        },
        {
          "output_type": "stream",
          "name": "stdout",
          "text": [
            "[*********************100%%**********************]  1 of 1 completed\n",
            "[*********************100%%**********************]  1 of 1 completed\n"
          ]
        },
        {
          "output_type": "stream",
          "name": "stderr",
          "text": [
            "<ipython-input-61-7829e4a2a6a3>:6: PerformanceWarning: DataFrame is highly fragmented.  This is usually the result of calling `frame.insert` many times, which has poor performance.  Consider joining all columns at once using pd.concat(axis=1) instead. To get a de-fragmented frame, use `newframe = frame.copy()`\n",
            "  close_prices[symbol] = stock_data\n",
            "<ipython-input-61-7829e4a2a6a3>:6: PerformanceWarning: DataFrame is highly fragmented.  This is usually the result of calling `frame.insert` many times, which has poor performance.  Consider joining all columns at once using pd.concat(axis=1) instead. To get a de-fragmented frame, use `newframe = frame.copy()`\n",
            "  close_prices[symbol] = stock_data\n"
          ]
        },
        {
          "output_type": "stream",
          "name": "stdout",
          "text": [
            "[*********************100%%**********************]  1 of 1 completed\n",
            "[*********************100%%**********************]  1 of 1 completed\n"
          ]
        },
        {
          "output_type": "stream",
          "name": "stderr",
          "text": [
            "<ipython-input-61-7829e4a2a6a3>:6: PerformanceWarning: DataFrame is highly fragmented.  This is usually the result of calling `frame.insert` many times, which has poor performance.  Consider joining all columns at once using pd.concat(axis=1) instead. To get a de-fragmented frame, use `newframe = frame.copy()`\n",
            "  close_prices[symbol] = stock_data\n",
            "<ipython-input-61-7829e4a2a6a3>:6: PerformanceWarning: DataFrame is highly fragmented.  This is usually the result of calling `frame.insert` many times, which has poor performance.  Consider joining all columns at once using pd.concat(axis=1) instead. To get a de-fragmented frame, use `newframe = frame.copy()`\n",
            "  close_prices[symbol] = stock_data\n"
          ]
        },
        {
          "output_type": "stream",
          "name": "stdout",
          "text": [
            "[*********************100%%**********************]  1 of 1 completed\n",
            "[*********************100%%**********************]  1 of 1 completed\n"
          ]
        },
        {
          "output_type": "stream",
          "name": "stderr",
          "text": [
            "<ipython-input-61-7829e4a2a6a3>:6: PerformanceWarning: DataFrame is highly fragmented.  This is usually the result of calling `frame.insert` many times, which has poor performance.  Consider joining all columns at once using pd.concat(axis=1) instead. To get a de-fragmented frame, use `newframe = frame.copy()`\n",
            "  close_prices[symbol] = stock_data\n",
            "<ipython-input-61-7829e4a2a6a3>:6: PerformanceWarning: DataFrame is highly fragmented.  This is usually the result of calling `frame.insert` many times, which has poor performance.  Consider joining all columns at once using pd.concat(axis=1) instead. To get a de-fragmented frame, use `newframe = frame.copy()`\n",
            "  close_prices[symbol] = stock_data\n"
          ]
        },
        {
          "output_type": "stream",
          "name": "stdout",
          "text": [
            "[*********************100%%**********************]  1 of 1 completed\n",
            "[*********************100%%**********************]  1 of 1 completed\n"
          ]
        },
        {
          "output_type": "stream",
          "name": "stderr",
          "text": [
            "<ipython-input-61-7829e4a2a6a3>:6: PerformanceWarning: DataFrame is highly fragmented.  This is usually the result of calling `frame.insert` many times, which has poor performance.  Consider joining all columns at once using pd.concat(axis=1) instead. To get a de-fragmented frame, use `newframe = frame.copy()`\n",
            "  close_prices[symbol] = stock_data\n",
            "<ipython-input-61-7829e4a2a6a3>:6: PerformanceWarning: DataFrame is highly fragmented.  This is usually the result of calling `frame.insert` many times, which has poor performance.  Consider joining all columns at once using pd.concat(axis=1) instead. To get a de-fragmented frame, use `newframe = frame.copy()`\n",
            "  close_prices[symbol] = stock_data\n"
          ]
        },
        {
          "output_type": "stream",
          "name": "stdout",
          "text": [
            "[*********************100%%**********************]  1 of 1 completed\n",
            "[*********************100%%**********************]  1 of 1 completed\n"
          ]
        },
        {
          "output_type": "stream",
          "name": "stderr",
          "text": [
            "<ipython-input-61-7829e4a2a6a3>:6: PerformanceWarning: DataFrame is highly fragmented.  This is usually the result of calling `frame.insert` many times, which has poor performance.  Consider joining all columns at once using pd.concat(axis=1) instead. To get a de-fragmented frame, use `newframe = frame.copy()`\n",
            "  close_prices[symbol] = stock_data\n",
            "<ipython-input-61-7829e4a2a6a3>:6: PerformanceWarning: DataFrame is highly fragmented.  This is usually the result of calling `frame.insert` many times, which has poor performance.  Consider joining all columns at once using pd.concat(axis=1) instead. To get a de-fragmented frame, use `newframe = frame.copy()`\n",
            "  close_prices[symbol] = stock_data\n"
          ]
        },
        {
          "output_type": "stream",
          "name": "stdout",
          "text": [
            "[*********************100%%**********************]  1 of 1 completed\n",
            "[*********************100%%**********************]  1 of 1 completed\n"
          ]
        },
        {
          "output_type": "stream",
          "name": "stderr",
          "text": [
            "<ipython-input-61-7829e4a2a6a3>:6: PerformanceWarning: DataFrame is highly fragmented.  This is usually the result of calling `frame.insert` many times, which has poor performance.  Consider joining all columns at once using pd.concat(axis=1) instead. To get a de-fragmented frame, use `newframe = frame.copy()`\n",
            "  close_prices[symbol] = stock_data\n",
            "<ipython-input-61-7829e4a2a6a3>:6: PerformanceWarning: DataFrame is highly fragmented.  This is usually the result of calling `frame.insert` many times, which has poor performance.  Consider joining all columns at once using pd.concat(axis=1) instead. To get a de-fragmented frame, use `newframe = frame.copy()`\n",
            "  close_prices[symbol] = stock_data\n"
          ]
        },
        {
          "output_type": "stream",
          "name": "stdout",
          "text": [
            "[*********************100%%**********************]  1 of 1 completed\n",
            "[*********************100%%**********************]  1 of 1 completed\n"
          ]
        },
        {
          "output_type": "stream",
          "name": "stderr",
          "text": [
            "<ipython-input-61-7829e4a2a6a3>:6: PerformanceWarning: DataFrame is highly fragmented.  This is usually the result of calling `frame.insert` many times, which has poor performance.  Consider joining all columns at once using pd.concat(axis=1) instead. To get a de-fragmented frame, use `newframe = frame.copy()`\n",
            "  close_prices[symbol] = stock_data\n",
            "<ipython-input-61-7829e4a2a6a3>:6: PerformanceWarning: DataFrame is highly fragmented.  This is usually the result of calling `frame.insert` many times, which has poor performance.  Consider joining all columns at once using pd.concat(axis=1) instead. To get a de-fragmented frame, use `newframe = frame.copy()`\n",
            "  close_prices[symbol] = stock_data\n"
          ]
        },
        {
          "output_type": "stream",
          "name": "stdout",
          "text": [
            "[*********************100%%**********************]  1 of 1 completed\n",
            "[*********************100%%**********************]  1 of 1 completed\n"
          ]
        },
        {
          "output_type": "stream",
          "name": "stderr",
          "text": [
            "<ipython-input-61-7829e4a2a6a3>:6: PerformanceWarning: DataFrame is highly fragmented.  This is usually the result of calling `frame.insert` many times, which has poor performance.  Consider joining all columns at once using pd.concat(axis=1) instead. To get a de-fragmented frame, use `newframe = frame.copy()`\n",
            "  close_prices[symbol] = stock_data\n",
            "<ipython-input-61-7829e4a2a6a3>:6: PerformanceWarning: DataFrame is highly fragmented.  This is usually the result of calling `frame.insert` many times, which has poor performance.  Consider joining all columns at once using pd.concat(axis=1) instead. To get a de-fragmented frame, use `newframe = frame.copy()`\n",
            "  close_prices[symbol] = stock_data\n"
          ]
        },
        {
          "output_type": "stream",
          "name": "stdout",
          "text": [
            "[*********************100%%**********************]  1 of 1 completed\n",
            "[*********************100%%**********************]  1 of 1 completed\n"
          ]
        },
        {
          "output_type": "stream",
          "name": "stderr",
          "text": [
            "<ipython-input-61-7829e4a2a6a3>:6: PerformanceWarning: DataFrame is highly fragmented.  This is usually the result of calling `frame.insert` many times, which has poor performance.  Consider joining all columns at once using pd.concat(axis=1) instead. To get a de-fragmented frame, use `newframe = frame.copy()`\n",
            "  close_prices[symbol] = stock_data\n",
            "<ipython-input-61-7829e4a2a6a3>:6: PerformanceWarning: DataFrame is highly fragmented.  This is usually the result of calling `frame.insert` many times, which has poor performance.  Consider joining all columns at once using pd.concat(axis=1) instead. To get a de-fragmented frame, use `newframe = frame.copy()`\n",
            "  close_prices[symbol] = stock_data\n"
          ]
        },
        {
          "output_type": "stream",
          "name": "stdout",
          "text": [
            "[*********************100%%**********************]  1 of 1 completed\n",
            "[*********************100%%**********************]  1 of 1 completed\n"
          ]
        },
        {
          "output_type": "stream",
          "name": "stderr",
          "text": [
            "<ipython-input-61-7829e4a2a6a3>:6: PerformanceWarning: DataFrame is highly fragmented.  This is usually the result of calling `frame.insert` many times, which has poor performance.  Consider joining all columns at once using pd.concat(axis=1) instead. To get a de-fragmented frame, use `newframe = frame.copy()`\n",
            "  close_prices[symbol] = stock_data\n",
            "<ipython-input-61-7829e4a2a6a3>:6: PerformanceWarning: DataFrame is highly fragmented.  This is usually the result of calling `frame.insert` many times, which has poor performance.  Consider joining all columns at once using pd.concat(axis=1) instead. To get a de-fragmented frame, use `newframe = frame.copy()`\n",
            "  close_prices[symbol] = stock_data\n"
          ]
        },
        {
          "output_type": "stream",
          "name": "stdout",
          "text": [
            "\r[*********************100%%**********************]  1 of 1 completed\n"
          ]
        },
        {
          "output_type": "stream",
          "name": "stderr",
          "text": [
            "<ipython-input-61-7829e4a2a6a3>:6: PerformanceWarning: DataFrame is highly fragmented.  This is usually the result of calling `frame.insert` many times, which has poor performance.  Consider joining all columns at once using pd.concat(axis=1) instead. To get a de-fragmented frame, use `newframe = frame.copy()`\n",
            "  close_prices[symbol] = stock_data\n"
          ]
        },
        {
          "output_type": "stream",
          "name": "stdout",
          "text": [
            "\r[*********************100%%**********************]  1 of 1 completed\n"
          ]
        },
        {
          "output_type": "stream",
          "name": "stderr",
          "text": [
            "<ipython-input-61-7829e4a2a6a3>:6: PerformanceWarning: DataFrame is highly fragmented.  This is usually the result of calling `frame.insert` many times, which has poor performance.  Consider joining all columns at once using pd.concat(axis=1) instead. To get a de-fragmented frame, use `newframe = frame.copy()`\n",
            "  close_prices[symbol] = stock_data\n"
          ]
        },
        {
          "output_type": "stream",
          "name": "stdout",
          "text": [
            "\r[*********************100%%**********************]  1 of 1 completed\n"
          ]
        },
        {
          "output_type": "stream",
          "name": "stderr",
          "text": [
            "<ipython-input-61-7829e4a2a6a3>:6: PerformanceWarning: DataFrame is highly fragmented.  This is usually the result of calling `frame.insert` many times, which has poor performance.  Consider joining all columns at once using pd.concat(axis=1) instead. To get a de-fragmented frame, use `newframe = frame.copy()`\n",
            "  close_prices[symbol] = stock_data\n"
          ]
        },
        {
          "output_type": "stream",
          "name": "stdout",
          "text": [
            "[*********************100%%**********************]  1 of 1 completed\n",
            "[*********************100%%**********************]  1 of 1 completed\n"
          ]
        },
        {
          "output_type": "stream",
          "name": "stderr",
          "text": [
            "<ipython-input-61-7829e4a2a6a3>:6: PerformanceWarning: DataFrame is highly fragmented.  This is usually the result of calling `frame.insert` many times, which has poor performance.  Consider joining all columns at once using pd.concat(axis=1) instead. To get a de-fragmented frame, use `newframe = frame.copy()`\n",
            "  close_prices[symbol] = stock_data\n",
            "<ipython-input-61-7829e4a2a6a3>:6: PerformanceWarning: DataFrame is highly fragmented.  This is usually the result of calling `frame.insert` many times, which has poor performance.  Consider joining all columns at once using pd.concat(axis=1) instead. To get a de-fragmented frame, use `newframe = frame.copy()`\n",
            "  close_prices[symbol] = stock_data\n"
          ]
        },
        {
          "output_type": "stream",
          "name": "stdout",
          "text": [
            "[*********************100%%**********************]  1 of 1 completed\n",
            "[*********************100%%**********************]  1 of 1 completed\n"
          ]
        },
        {
          "output_type": "stream",
          "name": "stderr",
          "text": [
            "<ipython-input-61-7829e4a2a6a3>:6: PerformanceWarning: DataFrame is highly fragmented.  This is usually the result of calling `frame.insert` many times, which has poor performance.  Consider joining all columns at once using pd.concat(axis=1) instead. To get a de-fragmented frame, use `newframe = frame.copy()`\n",
            "  close_prices[symbol] = stock_data\n",
            "<ipython-input-61-7829e4a2a6a3>:6: PerformanceWarning: DataFrame is highly fragmented.  This is usually the result of calling `frame.insert` many times, which has poor performance.  Consider joining all columns at once using pd.concat(axis=1) instead. To get a de-fragmented frame, use `newframe = frame.copy()`\n",
            "  close_prices[symbol] = stock_data\n"
          ]
        },
        {
          "output_type": "stream",
          "name": "stdout",
          "text": [
            "[*********************100%%**********************]  1 of 1 completed\n",
            "[*********************100%%**********************]  1 of 1 completed\n"
          ]
        },
        {
          "output_type": "stream",
          "name": "stderr",
          "text": [
            "<ipython-input-61-7829e4a2a6a3>:6: PerformanceWarning: DataFrame is highly fragmented.  This is usually the result of calling `frame.insert` many times, which has poor performance.  Consider joining all columns at once using pd.concat(axis=1) instead. To get a de-fragmented frame, use `newframe = frame.copy()`\n",
            "  close_prices[symbol] = stock_data\n",
            "<ipython-input-61-7829e4a2a6a3>:6: PerformanceWarning: DataFrame is highly fragmented.  This is usually the result of calling `frame.insert` many times, which has poor performance.  Consider joining all columns at once using pd.concat(axis=1) instead. To get a de-fragmented frame, use `newframe = frame.copy()`\n",
            "  close_prices[symbol] = stock_data\n"
          ]
        },
        {
          "output_type": "stream",
          "name": "stdout",
          "text": [
            "[*********************100%%**********************]  1 of 1 completed\n",
            "[*********************100%%**********************]  1 of 1 completed\n"
          ]
        },
        {
          "output_type": "stream",
          "name": "stderr",
          "text": [
            "<ipython-input-61-7829e4a2a6a3>:6: PerformanceWarning: DataFrame is highly fragmented.  This is usually the result of calling `frame.insert` many times, which has poor performance.  Consider joining all columns at once using pd.concat(axis=1) instead. To get a de-fragmented frame, use `newframe = frame.copy()`\n",
            "  close_prices[symbol] = stock_data\n",
            "<ipython-input-61-7829e4a2a6a3>:6: PerformanceWarning: DataFrame is highly fragmented.  This is usually the result of calling `frame.insert` many times, which has poor performance.  Consider joining all columns at once using pd.concat(axis=1) instead. To get a de-fragmented frame, use `newframe = frame.copy()`\n",
            "  close_prices[symbol] = stock_data\n"
          ]
        },
        {
          "output_type": "stream",
          "name": "stdout",
          "text": [
            "[*********************100%%**********************]  1 of 1 completed\n",
            "[*********************100%%**********************]  1 of 1 completed\n"
          ]
        },
        {
          "output_type": "stream",
          "name": "stderr",
          "text": [
            "<ipython-input-61-7829e4a2a6a3>:6: PerformanceWarning: DataFrame is highly fragmented.  This is usually the result of calling `frame.insert` many times, which has poor performance.  Consider joining all columns at once using pd.concat(axis=1) instead. To get a de-fragmented frame, use `newframe = frame.copy()`\n",
            "  close_prices[symbol] = stock_data\n",
            "<ipython-input-61-7829e4a2a6a3>:6: PerformanceWarning: DataFrame is highly fragmented.  This is usually the result of calling `frame.insert` many times, which has poor performance.  Consider joining all columns at once using pd.concat(axis=1) instead. To get a de-fragmented frame, use `newframe = frame.copy()`\n",
            "  close_prices[symbol] = stock_data\n"
          ]
        },
        {
          "output_type": "stream",
          "name": "stdout",
          "text": [
            "[*********************100%%**********************]  1 of 1 completed\n",
            "[*********************100%%**********************]  1 of 1 completed\n"
          ]
        },
        {
          "output_type": "stream",
          "name": "stderr",
          "text": [
            "<ipython-input-61-7829e4a2a6a3>:6: PerformanceWarning: DataFrame is highly fragmented.  This is usually the result of calling `frame.insert` many times, which has poor performance.  Consider joining all columns at once using pd.concat(axis=1) instead. To get a de-fragmented frame, use `newframe = frame.copy()`\n",
            "  close_prices[symbol] = stock_data\n",
            "<ipython-input-61-7829e4a2a6a3>:6: PerformanceWarning: DataFrame is highly fragmented.  This is usually the result of calling `frame.insert` many times, which has poor performance.  Consider joining all columns at once using pd.concat(axis=1) instead. To get a de-fragmented frame, use `newframe = frame.copy()`\n",
            "  close_prices[symbol] = stock_data\n"
          ]
        },
        {
          "output_type": "stream",
          "name": "stdout",
          "text": [
            "[*********************100%%**********************]  1 of 1 completed\n",
            "[*********************100%%**********************]  1 of 1 completed\n"
          ]
        },
        {
          "output_type": "stream",
          "name": "stderr",
          "text": [
            "<ipython-input-61-7829e4a2a6a3>:6: PerformanceWarning: DataFrame is highly fragmented.  This is usually the result of calling `frame.insert` many times, which has poor performance.  Consider joining all columns at once using pd.concat(axis=1) instead. To get a de-fragmented frame, use `newframe = frame.copy()`\n",
            "  close_prices[symbol] = stock_data\n",
            "<ipython-input-61-7829e4a2a6a3>:6: PerformanceWarning: DataFrame is highly fragmented.  This is usually the result of calling `frame.insert` many times, which has poor performance.  Consider joining all columns at once using pd.concat(axis=1) instead. To get a de-fragmented frame, use `newframe = frame.copy()`\n",
            "  close_prices[symbol] = stock_data\n"
          ]
        },
        {
          "output_type": "stream",
          "name": "stdout",
          "text": [
            "[*********************100%%**********************]  1 of 1 completed\n",
            "[*********************100%%**********************]  1 of 1 completed\n"
          ]
        },
        {
          "output_type": "stream",
          "name": "stderr",
          "text": [
            "<ipython-input-61-7829e4a2a6a3>:6: PerformanceWarning: DataFrame is highly fragmented.  This is usually the result of calling `frame.insert` many times, which has poor performance.  Consider joining all columns at once using pd.concat(axis=1) instead. To get a de-fragmented frame, use `newframe = frame.copy()`\n",
            "  close_prices[symbol] = stock_data\n",
            "<ipython-input-61-7829e4a2a6a3>:6: PerformanceWarning: DataFrame is highly fragmented.  This is usually the result of calling `frame.insert` many times, which has poor performance.  Consider joining all columns at once using pd.concat(axis=1) instead. To get a de-fragmented frame, use `newframe = frame.copy()`\n",
            "  close_prices[symbol] = stock_data\n"
          ]
        },
        {
          "output_type": "stream",
          "name": "stdout",
          "text": [
            "[*********************100%%**********************]  1 of 1 completed\n",
            "[*********************100%%**********************]  1 of 1 completed\n"
          ]
        },
        {
          "output_type": "stream",
          "name": "stderr",
          "text": [
            "<ipython-input-61-7829e4a2a6a3>:6: PerformanceWarning: DataFrame is highly fragmented.  This is usually the result of calling `frame.insert` many times, which has poor performance.  Consider joining all columns at once using pd.concat(axis=1) instead. To get a de-fragmented frame, use `newframe = frame.copy()`\n",
            "  close_prices[symbol] = stock_data\n",
            "<ipython-input-61-7829e4a2a6a3>:6: PerformanceWarning: DataFrame is highly fragmented.  This is usually the result of calling `frame.insert` many times, which has poor performance.  Consider joining all columns at once using pd.concat(axis=1) instead. To get a de-fragmented frame, use `newframe = frame.copy()`\n",
            "  close_prices[symbol] = stock_data\n"
          ]
        },
        {
          "output_type": "stream",
          "name": "stdout",
          "text": [
            "[*********************100%%**********************]  1 of 1 completed\n",
            "[*********************100%%**********************]  1 of 1 completed\n"
          ]
        },
        {
          "output_type": "stream",
          "name": "stderr",
          "text": [
            "<ipython-input-61-7829e4a2a6a3>:6: PerformanceWarning: DataFrame is highly fragmented.  This is usually the result of calling `frame.insert` many times, which has poor performance.  Consider joining all columns at once using pd.concat(axis=1) instead. To get a de-fragmented frame, use `newframe = frame.copy()`\n",
            "  close_prices[symbol] = stock_data\n",
            "<ipython-input-61-7829e4a2a6a3>:6: PerformanceWarning: DataFrame is highly fragmented.  This is usually the result of calling `frame.insert` many times, which has poor performance.  Consider joining all columns at once using pd.concat(axis=1) instead. To get a de-fragmented frame, use `newframe = frame.copy()`\n",
            "  close_prices[symbol] = stock_data\n"
          ]
        },
        {
          "output_type": "stream",
          "name": "stdout",
          "text": [
            "[*********************100%%**********************]  1 of 1 completed\n",
            "[*********************100%%**********************]  1 of 1 completed\n"
          ]
        },
        {
          "output_type": "stream",
          "name": "stderr",
          "text": [
            "<ipython-input-61-7829e4a2a6a3>:6: PerformanceWarning: DataFrame is highly fragmented.  This is usually the result of calling `frame.insert` many times, which has poor performance.  Consider joining all columns at once using pd.concat(axis=1) instead. To get a de-fragmented frame, use `newframe = frame.copy()`\n",
            "  close_prices[symbol] = stock_data\n",
            "<ipython-input-61-7829e4a2a6a3>:6: PerformanceWarning: DataFrame is highly fragmented.  This is usually the result of calling `frame.insert` many times, which has poor performance.  Consider joining all columns at once using pd.concat(axis=1) instead. To get a de-fragmented frame, use `newframe = frame.copy()`\n",
            "  close_prices[symbol] = stock_data\n"
          ]
        },
        {
          "output_type": "stream",
          "name": "stdout",
          "text": [
            "[*********************100%%**********************]  1 of 1 completed\n",
            "[*********************100%%**********************]  1 of 1 completed\n"
          ]
        },
        {
          "output_type": "stream",
          "name": "stderr",
          "text": [
            "<ipython-input-61-7829e4a2a6a3>:6: PerformanceWarning: DataFrame is highly fragmented.  This is usually the result of calling `frame.insert` many times, which has poor performance.  Consider joining all columns at once using pd.concat(axis=1) instead. To get a de-fragmented frame, use `newframe = frame.copy()`\n",
            "  close_prices[symbol] = stock_data\n",
            "<ipython-input-61-7829e4a2a6a3>:6: PerformanceWarning: DataFrame is highly fragmented.  This is usually the result of calling `frame.insert` many times, which has poor performance.  Consider joining all columns at once using pd.concat(axis=1) instead. To get a de-fragmented frame, use `newframe = frame.copy()`\n",
            "  close_prices[symbol] = stock_data\n"
          ]
        },
        {
          "output_type": "stream",
          "name": "stdout",
          "text": [
            "[*********************100%%**********************]  1 of 1 completed\n",
            "[*********************100%%**********************]  1 of 1 completed\n"
          ]
        },
        {
          "output_type": "stream",
          "name": "stderr",
          "text": [
            "<ipython-input-61-7829e4a2a6a3>:6: PerformanceWarning: DataFrame is highly fragmented.  This is usually the result of calling `frame.insert` many times, which has poor performance.  Consider joining all columns at once using pd.concat(axis=1) instead. To get a de-fragmented frame, use `newframe = frame.copy()`\n",
            "  close_prices[symbol] = stock_data\n",
            "<ipython-input-61-7829e4a2a6a3>:6: PerformanceWarning: DataFrame is highly fragmented.  This is usually the result of calling `frame.insert` many times, which has poor performance.  Consider joining all columns at once using pd.concat(axis=1) instead. To get a de-fragmented frame, use `newframe = frame.copy()`\n",
            "  close_prices[symbol] = stock_data\n"
          ]
        },
        {
          "output_type": "stream",
          "name": "stdout",
          "text": [
            "[*********************100%%**********************]  1 of 1 completed\n",
            "[*********************100%%**********************]  1 of 1 completed\n"
          ]
        },
        {
          "output_type": "stream",
          "name": "stderr",
          "text": [
            "<ipython-input-61-7829e4a2a6a3>:6: PerformanceWarning: DataFrame is highly fragmented.  This is usually the result of calling `frame.insert` many times, which has poor performance.  Consider joining all columns at once using pd.concat(axis=1) instead. To get a de-fragmented frame, use `newframe = frame.copy()`\n",
            "  close_prices[symbol] = stock_data\n",
            "<ipython-input-61-7829e4a2a6a3>:6: PerformanceWarning: DataFrame is highly fragmented.  This is usually the result of calling `frame.insert` many times, which has poor performance.  Consider joining all columns at once using pd.concat(axis=1) instead. To get a de-fragmented frame, use `newframe = frame.copy()`\n",
            "  close_prices[symbol] = stock_data\n"
          ]
        },
        {
          "output_type": "stream",
          "name": "stdout",
          "text": [
            "[*********************100%%**********************]  1 of 1 completed\n",
            "[*********************100%%**********************]  1 of 1 completed\n"
          ]
        },
        {
          "output_type": "stream",
          "name": "stderr",
          "text": [
            "<ipython-input-61-7829e4a2a6a3>:6: PerformanceWarning: DataFrame is highly fragmented.  This is usually the result of calling `frame.insert` many times, which has poor performance.  Consider joining all columns at once using pd.concat(axis=1) instead. To get a de-fragmented frame, use `newframe = frame.copy()`\n",
            "  close_prices[symbol] = stock_data\n",
            "<ipython-input-61-7829e4a2a6a3>:6: PerformanceWarning: DataFrame is highly fragmented.  This is usually the result of calling `frame.insert` many times, which has poor performance.  Consider joining all columns at once using pd.concat(axis=1) instead. To get a de-fragmented frame, use `newframe = frame.copy()`\n",
            "  close_prices[symbol] = stock_data\n"
          ]
        },
        {
          "output_type": "stream",
          "name": "stdout",
          "text": [
            "[*********************100%%**********************]  1 of 1 completed\n",
            "[*********************100%%**********************]  1 of 1 completed\n"
          ]
        },
        {
          "output_type": "stream",
          "name": "stderr",
          "text": [
            "<ipython-input-61-7829e4a2a6a3>:6: PerformanceWarning: DataFrame is highly fragmented.  This is usually the result of calling `frame.insert` many times, which has poor performance.  Consider joining all columns at once using pd.concat(axis=1) instead. To get a de-fragmented frame, use `newframe = frame.copy()`\n",
            "  close_prices[symbol] = stock_data\n",
            "<ipython-input-61-7829e4a2a6a3>:6: PerformanceWarning: DataFrame is highly fragmented.  This is usually the result of calling `frame.insert` many times, which has poor performance.  Consider joining all columns at once using pd.concat(axis=1) instead. To get a de-fragmented frame, use `newframe = frame.copy()`\n",
            "  close_prices[symbol] = stock_data\n"
          ]
        },
        {
          "output_type": "stream",
          "name": "stdout",
          "text": [
            "[*********************100%%**********************]  1 of 1 completed\n",
            "[*********************100%%**********************]  1 of 1 completed\n"
          ]
        },
        {
          "output_type": "stream",
          "name": "stderr",
          "text": [
            "<ipython-input-61-7829e4a2a6a3>:6: PerformanceWarning: DataFrame is highly fragmented.  This is usually the result of calling `frame.insert` many times, which has poor performance.  Consider joining all columns at once using pd.concat(axis=1) instead. To get a de-fragmented frame, use `newframe = frame.copy()`\n",
            "  close_prices[symbol] = stock_data\n",
            "<ipython-input-61-7829e4a2a6a3>:6: PerformanceWarning: DataFrame is highly fragmented.  This is usually the result of calling `frame.insert` many times, which has poor performance.  Consider joining all columns at once using pd.concat(axis=1) instead. To get a de-fragmented frame, use `newframe = frame.copy()`\n",
            "  close_prices[symbol] = stock_data\n"
          ]
        },
        {
          "output_type": "stream",
          "name": "stdout",
          "text": [
            "[*********************100%%**********************]  1 of 1 completed\n",
            "[*********************100%%**********************]  1 of 1 completed\n"
          ]
        },
        {
          "output_type": "stream",
          "name": "stderr",
          "text": [
            "<ipython-input-61-7829e4a2a6a3>:6: PerformanceWarning: DataFrame is highly fragmented.  This is usually the result of calling `frame.insert` many times, which has poor performance.  Consider joining all columns at once using pd.concat(axis=1) instead. To get a de-fragmented frame, use `newframe = frame.copy()`\n",
            "  close_prices[symbol] = stock_data\n",
            "<ipython-input-61-7829e4a2a6a3>:6: PerformanceWarning: DataFrame is highly fragmented.  This is usually the result of calling `frame.insert` many times, which has poor performance.  Consider joining all columns at once using pd.concat(axis=1) instead. To get a de-fragmented frame, use `newframe = frame.copy()`\n",
            "  close_prices[symbol] = stock_data\n"
          ]
        },
        {
          "output_type": "stream",
          "name": "stdout",
          "text": [
            "[*********************100%%**********************]  1 of 1 completed\n",
            "[*********************100%%**********************]  1 of 1 completed\n"
          ]
        },
        {
          "output_type": "stream",
          "name": "stderr",
          "text": [
            "<ipython-input-61-7829e4a2a6a3>:6: PerformanceWarning: DataFrame is highly fragmented.  This is usually the result of calling `frame.insert` many times, which has poor performance.  Consider joining all columns at once using pd.concat(axis=1) instead. To get a de-fragmented frame, use `newframe = frame.copy()`\n",
            "  close_prices[symbol] = stock_data\n",
            "<ipython-input-61-7829e4a2a6a3>:6: PerformanceWarning: DataFrame is highly fragmented.  This is usually the result of calling `frame.insert` many times, which has poor performance.  Consider joining all columns at once using pd.concat(axis=1) instead. To get a de-fragmented frame, use `newframe = frame.copy()`\n",
            "  close_prices[symbol] = stock_data\n"
          ]
        },
        {
          "output_type": "stream",
          "name": "stdout",
          "text": [
            "[*********************100%%**********************]  1 of 1 completed\n",
            "[*********************100%%**********************]  1 of 1 completed\n"
          ]
        },
        {
          "output_type": "stream",
          "name": "stderr",
          "text": [
            "<ipython-input-61-7829e4a2a6a3>:6: PerformanceWarning: DataFrame is highly fragmented.  This is usually the result of calling `frame.insert` many times, which has poor performance.  Consider joining all columns at once using pd.concat(axis=1) instead. To get a de-fragmented frame, use `newframe = frame.copy()`\n",
            "  close_prices[symbol] = stock_data\n",
            "<ipython-input-61-7829e4a2a6a3>:6: PerformanceWarning: DataFrame is highly fragmented.  This is usually the result of calling `frame.insert` many times, which has poor performance.  Consider joining all columns at once using pd.concat(axis=1) instead. To get a de-fragmented frame, use `newframe = frame.copy()`\n",
            "  close_prices[symbol] = stock_data\n"
          ]
        },
        {
          "output_type": "stream",
          "name": "stdout",
          "text": [
            "[*********************100%%**********************]  1 of 1 completed\n",
            "[*********************100%%**********************]  1 of 1 completed\n"
          ]
        },
        {
          "output_type": "stream",
          "name": "stderr",
          "text": [
            "<ipython-input-61-7829e4a2a6a3>:6: PerformanceWarning: DataFrame is highly fragmented.  This is usually the result of calling `frame.insert` many times, which has poor performance.  Consider joining all columns at once using pd.concat(axis=1) instead. To get a de-fragmented frame, use `newframe = frame.copy()`\n",
            "  close_prices[symbol] = stock_data\n",
            "<ipython-input-61-7829e4a2a6a3>:6: PerformanceWarning: DataFrame is highly fragmented.  This is usually the result of calling `frame.insert` many times, which has poor performance.  Consider joining all columns at once using pd.concat(axis=1) instead. To get a de-fragmented frame, use `newframe = frame.copy()`\n",
            "  close_prices[symbol] = stock_data\n"
          ]
        },
        {
          "output_type": "stream",
          "name": "stdout",
          "text": [
            "[*********************100%%**********************]  1 of 1 completed\n",
            "[*********************100%%**********************]  1 of 1 completed\n"
          ]
        },
        {
          "output_type": "stream",
          "name": "stderr",
          "text": [
            "<ipython-input-61-7829e4a2a6a3>:6: PerformanceWarning: DataFrame is highly fragmented.  This is usually the result of calling `frame.insert` many times, which has poor performance.  Consider joining all columns at once using pd.concat(axis=1) instead. To get a de-fragmented frame, use `newframe = frame.copy()`\n",
            "  close_prices[symbol] = stock_data\n",
            "<ipython-input-61-7829e4a2a6a3>:6: PerformanceWarning: DataFrame is highly fragmented.  This is usually the result of calling `frame.insert` many times, which has poor performance.  Consider joining all columns at once using pd.concat(axis=1) instead. To get a de-fragmented frame, use `newframe = frame.copy()`\n",
            "  close_prices[symbol] = stock_data\n"
          ]
        },
        {
          "output_type": "stream",
          "name": "stdout",
          "text": [
            "[*********************100%%**********************]  1 of 1 completed\n",
            "[*********************100%%**********************]  1 of 1 completed\n"
          ]
        },
        {
          "output_type": "stream",
          "name": "stderr",
          "text": [
            "<ipython-input-61-7829e4a2a6a3>:6: PerformanceWarning: DataFrame is highly fragmented.  This is usually the result of calling `frame.insert` many times, which has poor performance.  Consider joining all columns at once using pd.concat(axis=1) instead. To get a de-fragmented frame, use `newframe = frame.copy()`\n",
            "  close_prices[symbol] = stock_data\n",
            "<ipython-input-61-7829e4a2a6a3>:6: PerformanceWarning: DataFrame is highly fragmented.  This is usually the result of calling `frame.insert` many times, which has poor performance.  Consider joining all columns at once using pd.concat(axis=1) instead. To get a de-fragmented frame, use `newframe = frame.copy()`\n",
            "  close_prices[symbol] = stock_data\n"
          ]
        },
        {
          "output_type": "stream",
          "name": "stdout",
          "text": [
            "[*********************100%%**********************]  1 of 1 completed\n",
            "[*********************100%%**********************]  1 of 1 completed\n"
          ]
        },
        {
          "output_type": "stream",
          "name": "stderr",
          "text": [
            "<ipython-input-61-7829e4a2a6a3>:6: PerformanceWarning: DataFrame is highly fragmented.  This is usually the result of calling `frame.insert` many times, which has poor performance.  Consider joining all columns at once using pd.concat(axis=1) instead. To get a de-fragmented frame, use `newframe = frame.copy()`\n",
            "  close_prices[symbol] = stock_data\n",
            "<ipython-input-61-7829e4a2a6a3>:6: PerformanceWarning: DataFrame is highly fragmented.  This is usually the result of calling `frame.insert` many times, which has poor performance.  Consider joining all columns at once using pd.concat(axis=1) instead. To get a de-fragmented frame, use `newframe = frame.copy()`\n",
            "  close_prices[symbol] = stock_data\n"
          ]
        },
        {
          "output_type": "stream",
          "name": "stdout",
          "text": [
            "[*********************100%%**********************]  1 of 1 completed\n",
            "[*********************100%%**********************]  1 of 1 completed\n"
          ]
        },
        {
          "output_type": "stream",
          "name": "stderr",
          "text": [
            "<ipython-input-61-7829e4a2a6a3>:6: PerformanceWarning: DataFrame is highly fragmented.  This is usually the result of calling `frame.insert` many times, which has poor performance.  Consider joining all columns at once using pd.concat(axis=1) instead. To get a de-fragmented frame, use `newframe = frame.copy()`\n",
            "  close_prices[symbol] = stock_data\n",
            "<ipython-input-61-7829e4a2a6a3>:6: PerformanceWarning: DataFrame is highly fragmented.  This is usually the result of calling `frame.insert` many times, which has poor performance.  Consider joining all columns at once using pd.concat(axis=1) instead. To get a de-fragmented frame, use `newframe = frame.copy()`\n",
            "  close_prices[symbol] = stock_data\n"
          ]
        },
        {
          "output_type": "stream",
          "name": "stdout",
          "text": [
            "[*********************100%%**********************]  1 of 1 completed\n",
            "[*********************100%%**********************]  1 of 1 completed\n"
          ]
        },
        {
          "output_type": "stream",
          "name": "stderr",
          "text": [
            "<ipython-input-61-7829e4a2a6a3>:6: PerformanceWarning: DataFrame is highly fragmented.  This is usually the result of calling `frame.insert` many times, which has poor performance.  Consider joining all columns at once using pd.concat(axis=1) instead. To get a de-fragmented frame, use `newframe = frame.copy()`\n",
            "  close_prices[symbol] = stock_data\n",
            "<ipython-input-61-7829e4a2a6a3>:6: PerformanceWarning: DataFrame is highly fragmented.  This is usually the result of calling `frame.insert` many times, which has poor performance.  Consider joining all columns at once using pd.concat(axis=1) instead. To get a de-fragmented frame, use `newframe = frame.copy()`\n",
            "  close_prices[symbol] = stock_data\n"
          ]
        },
        {
          "output_type": "stream",
          "name": "stdout",
          "text": [
            "[*********************100%%**********************]  1 of 1 completed\n",
            "[*********************100%%**********************]  1 of 1 completed\n"
          ]
        },
        {
          "output_type": "stream",
          "name": "stderr",
          "text": [
            "<ipython-input-61-7829e4a2a6a3>:6: PerformanceWarning: DataFrame is highly fragmented.  This is usually the result of calling `frame.insert` many times, which has poor performance.  Consider joining all columns at once using pd.concat(axis=1) instead. To get a de-fragmented frame, use `newframe = frame.copy()`\n",
            "  close_prices[symbol] = stock_data\n",
            "<ipython-input-61-7829e4a2a6a3>:6: PerformanceWarning: DataFrame is highly fragmented.  This is usually the result of calling `frame.insert` many times, which has poor performance.  Consider joining all columns at once using pd.concat(axis=1) instead. To get a de-fragmented frame, use `newframe = frame.copy()`\n",
            "  close_prices[symbol] = stock_data\n"
          ]
        },
        {
          "output_type": "stream",
          "name": "stdout",
          "text": [
            "[*********************100%%**********************]  1 of 1 completed\n",
            "[*********************100%%**********************]  1 of 1 completed\n"
          ]
        },
        {
          "output_type": "stream",
          "name": "stderr",
          "text": [
            "<ipython-input-61-7829e4a2a6a3>:6: PerformanceWarning: DataFrame is highly fragmented.  This is usually the result of calling `frame.insert` many times, which has poor performance.  Consider joining all columns at once using pd.concat(axis=1) instead. To get a de-fragmented frame, use `newframe = frame.copy()`\n",
            "  close_prices[symbol] = stock_data\n",
            "<ipython-input-61-7829e4a2a6a3>:6: PerformanceWarning: DataFrame is highly fragmented.  This is usually the result of calling `frame.insert` many times, which has poor performance.  Consider joining all columns at once using pd.concat(axis=1) instead. To get a de-fragmented frame, use `newframe = frame.copy()`\n",
            "  close_prices[symbol] = stock_data\n"
          ]
        },
        {
          "output_type": "stream",
          "name": "stdout",
          "text": [
            "[*********************100%%**********************]  1 of 1 completed\n",
            "[*********************100%%**********************]  1 of 1 completed\n"
          ]
        },
        {
          "output_type": "stream",
          "name": "stderr",
          "text": [
            "<ipython-input-61-7829e4a2a6a3>:6: PerformanceWarning: DataFrame is highly fragmented.  This is usually the result of calling `frame.insert` many times, which has poor performance.  Consider joining all columns at once using pd.concat(axis=1) instead. To get a de-fragmented frame, use `newframe = frame.copy()`\n",
            "  close_prices[symbol] = stock_data\n",
            "<ipython-input-61-7829e4a2a6a3>:6: PerformanceWarning: DataFrame is highly fragmented.  This is usually the result of calling `frame.insert` many times, which has poor performance.  Consider joining all columns at once using pd.concat(axis=1) instead. To get a de-fragmented frame, use `newframe = frame.copy()`\n",
            "  close_prices[symbol] = stock_data\n"
          ]
        },
        {
          "output_type": "stream",
          "name": "stdout",
          "text": [
            "[*********************100%%**********************]  1 of 1 completed\n",
            "[*********************100%%**********************]  1 of 1 completed\n"
          ]
        },
        {
          "output_type": "stream",
          "name": "stderr",
          "text": [
            "<ipython-input-61-7829e4a2a6a3>:6: PerformanceWarning: DataFrame is highly fragmented.  This is usually the result of calling `frame.insert` many times, which has poor performance.  Consider joining all columns at once using pd.concat(axis=1) instead. To get a de-fragmented frame, use `newframe = frame.copy()`\n",
            "  close_prices[symbol] = stock_data\n",
            "<ipython-input-61-7829e4a2a6a3>:6: PerformanceWarning: DataFrame is highly fragmented.  This is usually the result of calling `frame.insert` many times, which has poor performance.  Consider joining all columns at once using pd.concat(axis=1) instead. To get a de-fragmented frame, use `newframe = frame.copy()`\n",
            "  close_prices[symbol] = stock_data\n"
          ]
        },
        {
          "output_type": "stream",
          "name": "stdout",
          "text": [
            "\r[*********************100%%**********************]  1 of 1 completed\n"
          ]
        },
        {
          "output_type": "stream",
          "name": "stderr",
          "text": [
            "<ipython-input-61-7829e4a2a6a3>:6: PerformanceWarning: DataFrame is highly fragmented.  This is usually the result of calling `frame.insert` many times, which has poor performance.  Consider joining all columns at once using pd.concat(axis=1) instead. To get a de-fragmented frame, use `newframe = frame.copy()`\n",
            "  close_prices[symbol] = stock_data\n"
          ]
        },
        {
          "output_type": "stream",
          "name": "stdout",
          "text": [
            "[*********************100%%**********************]  1 of 1 completed\n",
            "[*********************100%%**********************]  1 of 1 completed\n"
          ]
        },
        {
          "output_type": "stream",
          "name": "stderr",
          "text": [
            "<ipython-input-61-7829e4a2a6a3>:6: PerformanceWarning: DataFrame is highly fragmented.  This is usually the result of calling `frame.insert` many times, which has poor performance.  Consider joining all columns at once using pd.concat(axis=1) instead. To get a de-fragmented frame, use `newframe = frame.copy()`\n",
            "  close_prices[symbol] = stock_data\n",
            "<ipython-input-61-7829e4a2a6a3>:6: PerformanceWarning: DataFrame is highly fragmented.  This is usually the result of calling `frame.insert` many times, which has poor performance.  Consider joining all columns at once using pd.concat(axis=1) instead. To get a de-fragmented frame, use `newframe = frame.copy()`\n",
            "  close_prices[symbol] = stock_data\n"
          ]
        },
        {
          "output_type": "stream",
          "name": "stdout",
          "text": [
            "[*********************100%%**********************]  1 of 1 completed\n",
            "[*********************100%%**********************]  1 of 1 completed\n"
          ]
        },
        {
          "output_type": "stream",
          "name": "stderr",
          "text": [
            "<ipython-input-61-7829e4a2a6a3>:6: PerformanceWarning: DataFrame is highly fragmented.  This is usually the result of calling `frame.insert` many times, which has poor performance.  Consider joining all columns at once using pd.concat(axis=1) instead. To get a de-fragmented frame, use `newframe = frame.copy()`\n",
            "  close_prices[symbol] = stock_data\n",
            "<ipython-input-61-7829e4a2a6a3>:6: PerformanceWarning: DataFrame is highly fragmented.  This is usually the result of calling `frame.insert` many times, which has poor performance.  Consider joining all columns at once using pd.concat(axis=1) instead. To get a de-fragmented frame, use `newframe = frame.copy()`\n",
            "  close_prices[symbol] = stock_data\n"
          ]
        },
        {
          "output_type": "stream",
          "name": "stdout",
          "text": [
            "[*********************100%%**********************]  1 of 1 completed\n",
            "[*********************100%%**********************]  1 of 1 completed\n"
          ]
        },
        {
          "output_type": "stream",
          "name": "stderr",
          "text": [
            "<ipython-input-61-7829e4a2a6a3>:6: PerformanceWarning: DataFrame is highly fragmented.  This is usually the result of calling `frame.insert` many times, which has poor performance.  Consider joining all columns at once using pd.concat(axis=1) instead. To get a de-fragmented frame, use `newframe = frame.copy()`\n",
            "  close_prices[symbol] = stock_data\n",
            "<ipython-input-61-7829e4a2a6a3>:6: PerformanceWarning: DataFrame is highly fragmented.  This is usually the result of calling `frame.insert` many times, which has poor performance.  Consider joining all columns at once using pd.concat(axis=1) instead. To get a de-fragmented frame, use `newframe = frame.copy()`\n",
            "  close_prices[symbol] = stock_data\n"
          ]
        },
        {
          "output_type": "stream",
          "name": "stdout",
          "text": [
            "[*********************100%%**********************]  1 of 1 completed\n",
            "[*********************100%%**********************]  1 of 1 completed\n"
          ]
        },
        {
          "output_type": "stream",
          "name": "stderr",
          "text": [
            "<ipython-input-61-7829e4a2a6a3>:6: PerformanceWarning: DataFrame is highly fragmented.  This is usually the result of calling `frame.insert` many times, which has poor performance.  Consider joining all columns at once using pd.concat(axis=1) instead. To get a de-fragmented frame, use `newframe = frame.copy()`\n",
            "  close_prices[symbol] = stock_data\n",
            "<ipython-input-61-7829e4a2a6a3>:6: PerformanceWarning: DataFrame is highly fragmented.  This is usually the result of calling `frame.insert` many times, which has poor performance.  Consider joining all columns at once using pd.concat(axis=1) instead. To get a de-fragmented frame, use `newframe = frame.copy()`\n",
            "  close_prices[symbol] = stock_data\n"
          ]
        },
        {
          "output_type": "stream",
          "name": "stdout",
          "text": [
            "\r[*********************100%%**********************]  1 of 1 completed\n"
          ]
        },
        {
          "output_type": "stream",
          "name": "stderr",
          "text": [
            "<ipython-input-61-7829e4a2a6a3>:6: PerformanceWarning: DataFrame is highly fragmented.  This is usually the result of calling `frame.insert` many times, which has poor performance.  Consider joining all columns at once using pd.concat(axis=1) instead. To get a de-fragmented frame, use `newframe = frame.copy()`\n",
            "  close_prices[symbol] = stock_data\n"
          ]
        },
        {
          "output_type": "stream",
          "name": "stdout",
          "text": [
            "[*********************100%%**********************]  1 of 1 completed\n",
            "[*********************100%%**********************]  1 of 1 completed\n"
          ]
        },
        {
          "output_type": "stream",
          "name": "stderr",
          "text": [
            "<ipython-input-61-7829e4a2a6a3>:6: PerformanceWarning: DataFrame is highly fragmented.  This is usually the result of calling `frame.insert` many times, which has poor performance.  Consider joining all columns at once using pd.concat(axis=1) instead. To get a de-fragmented frame, use `newframe = frame.copy()`\n",
            "  close_prices[symbol] = stock_data\n",
            "<ipython-input-61-7829e4a2a6a3>:6: PerformanceWarning: DataFrame is highly fragmented.  This is usually the result of calling `frame.insert` many times, which has poor performance.  Consider joining all columns at once using pd.concat(axis=1) instead. To get a de-fragmented frame, use `newframe = frame.copy()`\n",
            "  close_prices[symbol] = stock_data\n"
          ]
        },
        {
          "output_type": "stream",
          "name": "stdout",
          "text": [
            "[*********************100%%**********************]  1 of 1 completed\n",
            "[*********************100%%**********************]  1 of 1 completed\n"
          ]
        },
        {
          "output_type": "stream",
          "name": "stderr",
          "text": [
            "<ipython-input-61-7829e4a2a6a3>:6: PerformanceWarning: DataFrame is highly fragmented.  This is usually the result of calling `frame.insert` many times, which has poor performance.  Consider joining all columns at once using pd.concat(axis=1) instead. To get a de-fragmented frame, use `newframe = frame.copy()`\n",
            "  close_prices[symbol] = stock_data\n",
            "<ipython-input-61-7829e4a2a6a3>:6: PerformanceWarning: DataFrame is highly fragmented.  This is usually the result of calling `frame.insert` many times, which has poor performance.  Consider joining all columns at once using pd.concat(axis=1) instead. To get a de-fragmented frame, use `newframe = frame.copy()`\n",
            "  close_prices[symbol] = stock_data\n"
          ]
        },
        {
          "output_type": "stream",
          "name": "stdout",
          "text": [
            "[*********************100%%**********************]  1 of 1 completed\n",
            "[*********************100%%**********************]  1 of 1 completed\n"
          ]
        },
        {
          "output_type": "stream",
          "name": "stderr",
          "text": [
            "<ipython-input-61-7829e4a2a6a3>:6: PerformanceWarning: DataFrame is highly fragmented.  This is usually the result of calling `frame.insert` many times, which has poor performance.  Consider joining all columns at once using pd.concat(axis=1) instead. To get a de-fragmented frame, use `newframe = frame.copy()`\n",
            "  close_prices[symbol] = stock_data\n",
            "<ipython-input-61-7829e4a2a6a3>:6: PerformanceWarning: DataFrame is highly fragmented.  This is usually the result of calling `frame.insert` many times, which has poor performance.  Consider joining all columns at once using pd.concat(axis=1) instead. To get a de-fragmented frame, use `newframe = frame.copy()`\n",
            "  close_prices[symbol] = stock_data\n"
          ]
        },
        {
          "output_type": "stream",
          "name": "stdout",
          "text": [
            "[*********************100%%**********************]  1 of 1 completed\n",
            "[*********************100%%**********************]  1 of 1 completed\n"
          ]
        },
        {
          "output_type": "stream",
          "name": "stderr",
          "text": [
            "<ipython-input-61-7829e4a2a6a3>:6: PerformanceWarning: DataFrame is highly fragmented.  This is usually the result of calling `frame.insert` many times, which has poor performance.  Consider joining all columns at once using pd.concat(axis=1) instead. To get a de-fragmented frame, use `newframe = frame.copy()`\n",
            "  close_prices[symbol] = stock_data\n",
            "<ipython-input-61-7829e4a2a6a3>:6: PerformanceWarning: DataFrame is highly fragmented.  This is usually the result of calling `frame.insert` many times, which has poor performance.  Consider joining all columns at once using pd.concat(axis=1) instead. To get a de-fragmented frame, use `newframe = frame.copy()`\n",
            "  close_prices[symbol] = stock_data\n"
          ]
        },
        {
          "output_type": "stream",
          "name": "stdout",
          "text": [
            "\r[*********************100%%**********************]  1 of 1 completed\n"
          ]
        },
        {
          "output_type": "stream",
          "name": "stderr",
          "text": [
            "<ipython-input-61-7829e4a2a6a3>:6: PerformanceWarning: DataFrame is highly fragmented.  This is usually the result of calling `frame.insert` many times, which has poor performance.  Consider joining all columns at once using pd.concat(axis=1) instead. To get a de-fragmented frame, use `newframe = frame.copy()`\n",
            "  close_prices[symbol] = stock_data\n"
          ]
        }
      ]
    },
    {
      "cell_type": "code",
      "source": [
        "# Print the result\n",
        "sp500_close_prices.head(10)"
      ],
      "metadata": {
        "id": "c_g3YnMuGxvR",
        "colab": {
          "base_uri": "https://localhost:8080/",
          "height": 617
        },
        "outputId": "69bbfb46-ce1d-4467-9742-7f0820a98369"
      },
      "execution_count": null,
      "outputs": [
        {
          "output_type": "execute_result",
          "data": {
            "text/plain": [
              "                   MMM        AOS        ABT       ABBV         ACN  \\\n",
              "Date                                                                  \n",
              "2018-12-18  194.559998  43.029999  70.080002  83.580002  152.139999   \n",
              "2018-12-19  189.960007  42.709999  69.000000  83.519997  150.960007   \n",
              "2018-12-20  187.380005  42.869999  68.379997  85.370003  143.500000   \n",
              "2018-12-21  183.750000  41.990002  67.269997  84.919998  137.199997   \n",
              "2018-12-24  178.619995  42.009998  65.559998  84.160004  133.669998   \n",
              "2018-12-26  186.259995  43.169998  69.620003  89.040001  139.009995   \n",
              "2018-12-27  190.699997  42.900002  70.629997  89.910004  140.410004   \n",
              "2018-12-28  189.369995  42.700001  71.089996  91.120003  139.820007   \n",
              "2018-12-31  190.539993  42.700001  72.330002  92.190002  141.009995   \n",
              "2019-01-02  190.949997  43.470001  69.500000  89.230003  140.589996   \n",
              "\n",
              "                  ADBE        AMD    AES        AFL          A  ...  \\\n",
              "Date                                                            ...   \n",
              "2018-12-18  226.179993  19.500000  14.98  44.540001  67.989998  ...   \n",
              "2018-12-19  224.649994  18.160000  14.74  43.980000  66.830002  ...   \n",
              "2018-12-20  218.649994  17.940001  14.69  43.400002  65.190002  ...   \n",
              "2018-12-21  208.800003  16.930000  14.45  43.230000  63.290001  ...   \n",
              "2018-12-24  205.160004  16.650000  13.82  42.330002  62.669998  ...   \n",
              "2018-12-26  222.949997  17.900000  14.28  44.139999  65.540001  ...   \n",
              "2018-12-27  225.139999  17.490000  14.29  44.980000  66.480003  ...   \n",
              "2018-12-28  223.130005  17.820000  14.27  44.950001  65.959999  ...   \n",
              "2018-12-31  226.240005  18.459999  14.46  45.560001  67.459999  ...   \n",
              "2019-01-02  224.570007  18.830000  14.18  45.520000  65.690002  ...   \n",
              "\n",
              "                   WTW         GWW        WYNN        XEL        XYL  \\\n",
              "Date                                                                   \n",
              "2018-12-18  151.929993  282.859985  103.089996  51.490002  64.389999   \n",
              "2018-12-19  151.330002  278.429993   98.389999  50.919998  65.129997   \n",
              "2018-12-20  149.339996  275.140015   97.800003  51.369999  63.860001   \n",
              "2018-12-21  147.070007  272.209991   93.410004  50.900002  63.439999   \n",
              "2018-12-24  146.610001  266.429993   92.010002  48.599998  61.380001   \n",
              "2018-12-26  148.860001  278.649994   99.230003  49.560001  64.269997   \n",
              "2018-12-27  150.850006  281.929993   98.120003  49.599998  65.349998   \n",
              "2018-12-28  150.929993  281.470001   97.239998  49.250000  65.300003   \n",
              "2018-12-31  151.860001  282.359985   98.910004  49.270000  66.720001   \n",
              "2019-01-02  149.679993  276.579987  104.400002  48.220001  66.510002   \n",
              "\n",
              "                  YUM        ZBRA         ZBH       ZION        ZTS  \n",
              "Date                                                                 \n",
              "2018-12-18  90.099998  162.929993  102.699028  40.759998  84.989998  \n",
              "2018-12-19  90.120003  159.039993  101.514565  40.130001  83.440002  \n",
              "2018-12-20  87.120003  150.990005   98.805824  39.740002  82.419998  \n",
              "2018-12-21  88.139999  146.250000   96.485435  39.060001  81.680000  \n",
              "2018-12-24  87.019997  142.899994   94.398056  38.509998  79.279999  \n",
              "2018-12-26  89.989998  152.520004   99.048546  40.509998  82.919998  \n",
              "2018-12-27  90.959999  155.350006   98.747574  40.459999  84.330002  \n",
              "2018-12-28  91.610001  155.970001   99.660194  40.430000  84.489998  \n",
              "2018-12-31  91.919998  159.229996  100.699028  40.740002  85.540001  \n",
              "2019-01-02  91.440002  156.240005   99.300972  41.580002  84.480003  \n",
              "\n",
              "[10 rows x 503 columns]"
            ],
            "text/html": [
              "\n",
              "  <div id=\"df-2a494579-bc43-4e08-b4e5-3377f1422904\" class=\"colab-df-container\">\n",
              "    <div>\n",
              "<style scoped>\n",
              "    .dataframe tbody tr th:only-of-type {\n",
              "        vertical-align: middle;\n",
              "    }\n",
              "\n",
              "    .dataframe tbody tr th {\n",
              "        vertical-align: top;\n",
              "    }\n",
              "\n",
              "    .dataframe thead th {\n",
              "        text-align: right;\n",
              "    }\n",
              "</style>\n",
              "<table border=\"1\" class=\"dataframe\">\n",
              "  <thead>\n",
              "    <tr style=\"text-align: right;\">\n",
              "      <th></th>\n",
              "      <th>MMM</th>\n",
              "      <th>AOS</th>\n",
              "      <th>ABT</th>\n",
              "      <th>ABBV</th>\n",
              "      <th>ACN</th>\n",
              "      <th>ADBE</th>\n",
              "      <th>AMD</th>\n",
              "      <th>AES</th>\n",
              "      <th>AFL</th>\n",
              "      <th>A</th>\n",
              "      <th>...</th>\n",
              "      <th>WTW</th>\n",
              "      <th>GWW</th>\n",
              "      <th>WYNN</th>\n",
              "      <th>XEL</th>\n",
              "      <th>XYL</th>\n",
              "      <th>YUM</th>\n",
              "      <th>ZBRA</th>\n",
              "      <th>ZBH</th>\n",
              "      <th>ZION</th>\n",
              "      <th>ZTS</th>\n",
              "    </tr>\n",
              "    <tr>\n",
              "      <th>Date</th>\n",
              "      <th></th>\n",
              "      <th></th>\n",
              "      <th></th>\n",
              "      <th></th>\n",
              "      <th></th>\n",
              "      <th></th>\n",
              "      <th></th>\n",
              "      <th></th>\n",
              "      <th></th>\n",
              "      <th></th>\n",
              "      <th></th>\n",
              "      <th></th>\n",
              "      <th></th>\n",
              "      <th></th>\n",
              "      <th></th>\n",
              "      <th></th>\n",
              "      <th></th>\n",
              "      <th></th>\n",
              "      <th></th>\n",
              "      <th></th>\n",
              "      <th></th>\n",
              "    </tr>\n",
              "  </thead>\n",
              "  <tbody>\n",
              "    <tr>\n",
              "      <th>2018-12-18</th>\n",
              "      <td>194.559998</td>\n",
              "      <td>43.029999</td>\n",
              "      <td>70.080002</td>\n",
              "      <td>83.580002</td>\n",
              "      <td>152.139999</td>\n",
              "      <td>226.179993</td>\n",
              "      <td>19.500000</td>\n",
              "      <td>14.98</td>\n",
              "      <td>44.540001</td>\n",
              "      <td>67.989998</td>\n",
              "      <td>...</td>\n",
              "      <td>151.929993</td>\n",
              "      <td>282.859985</td>\n",
              "      <td>103.089996</td>\n",
              "      <td>51.490002</td>\n",
              "      <td>64.389999</td>\n",
              "      <td>90.099998</td>\n",
              "      <td>162.929993</td>\n",
              "      <td>102.699028</td>\n",
              "      <td>40.759998</td>\n",
              "      <td>84.989998</td>\n",
              "    </tr>\n",
              "    <tr>\n",
              "      <th>2018-12-19</th>\n",
              "      <td>189.960007</td>\n",
              "      <td>42.709999</td>\n",
              "      <td>69.000000</td>\n",
              "      <td>83.519997</td>\n",
              "      <td>150.960007</td>\n",
              "      <td>224.649994</td>\n",
              "      <td>18.160000</td>\n",
              "      <td>14.74</td>\n",
              "      <td>43.980000</td>\n",
              "      <td>66.830002</td>\n",
              "      <td>...</td>\n",
              "      <td>151.330002</td>\n",
              "      <td>278.429993</td>\n",
              "      <td>98.389999</td>\n",
              "      <td>50.919998</td>\n",
              "      <td>65.129997</td>\n",
              "      <td>90.120003</td>\n",
              "      <td>159.039993</td>\n",
              "      <td>101.514565</td>\n",
              "      <td>40.130001</td>\n",
              "      <td>83.440002</td>\n",
              "    </tr>\n",
              "    <tr>\n",
              "      <th>2018-12-20</th>\n",
              "      <td>187.380005</td>\n",
              "      <td>42.869999</td>\n",
              "      <td>68.379997</td>\n",
              "      <td>85.370003</td>\n",
              "      <td>143.500000</td>\n",
              "      <td>218.649994</td>\n",
              "      <td>17.940001</td>\n",
              "      <td>14.69</td>\n",
              "      <td>43.400002</td>\n",
              "      <td>65.190002</td>\n",
              "      <td>...</td>\n",
              "      <td>149.339996</td>\n",
              "      <td>275.140015</td>\n",
              "      <td>97.800003</td>\n",
              "      <td>51.369999</td>\n",
              "      <td>63.860001</td>\n",
              "      <td>87.120003</td>\n",
              "      <td>150.990005</td>\n",
              "      <td>98.805824</td>\n",
              "      <td>39.740002</td>\n",
              "      <td>82.419998</td>\n",
              "    </tr>\n",
              "    <tr>\n",
              "      <th>2018-12-21</th>\n",
              "      <td>183.750000</td>\n",
              "      <td>41.990002</td>\n",
              "      <td>67.269997</td>\n",
              "      <td>84.919998</td>\n",
              "      <td>137.199997</td>\n",
              "      <td>208.800003</td>\n",
              "      <td>16.930000</td>\n",
              "      <td>14.45</td>\n",
              "      <td>43.230000</td>\n",
              "      <td>63.290001</td>\n",
              "      <td>...</td>\n",
              "      <td>147.070007</td>\n",
              "      <td>272.209991</td>\n",
              "      <td>93.410004</td>\n",
              "      <td>50.900002</td>\n",
              "      <td>63.439999</td>\n",
              "      <td>88.139999</td>\n",
              "      <td>146.250000</td>\n",
              "      <td>96.485435</td>\n",
              "      <td>39.060001</td>\n",
              "      <td>81.680000</td>\n",
              "    </tr>\n",
              "    <tr>\n",
              "      <th>2018-12-24</th>\n",
              "      <td>178.619995</td>\n",
              "      <td>42.009998</td>\n",
              "      <td>65.559998</td>\n",
              "      <td>84.160004</td>\n",
              "      <td>133.669998</td>\n",
              "      <td>205.160004</td>\n",
              "      <td>16.650000</td>\n",
              "      <td>13.82</td>\n",
              "      <td>42.330002</td>\n",
              "      <td>62.669998</td>\n",
              "      <td>...</td>\n",
              "      <td>146.610001</td>\n",
              "      <td>266.429993</td>\n",
              "      <td>92.010002</td>\n",
              "      <td>48.599998</td>\n",
              "      <td>61.380001</td>\n",
              "      <td>87.019997</td>\n",
              "      <td>142.899994</td>\n",
              "      <td>94.398056</td>\n",
              "      <td>38.509998</td>\n",
              "      <td>79.279999</td>\n",
              "    </tr>\n",
              "    <tr>\n",
              "      <th>2018-12-26</th>\n",
              "      <td>186.259995</td>\n",
              "      <td>43.169998</td>\n",
              "      <td>69.620003</td>\n",
              "      <td>89.040001</td>\n",
              "      <td>139.009995</td>\n",
              "      <td>222.949997</td>\n",
              "      <td>17.900000</td>\n",
              "      <td>14.28</td>\n",
              "      <td>44.139999</td>\n",
              "      <td>65.540001</td>\n",
              "      <td>...</td>\n",
              "      <td>148.860001</td>\n",
              "      <td>278.649994</td>\n",
              "      <td>99.230003</td>\n",
              "      <td>49.560001</td>\n",
              "      <td>64.269997</td>\n",
              "      <td>89.989998</td>\n",
              "      <td>152.520004</td>\n",
              "      <td>99.048546</td>\n",
              "      <td>40.509998</td>\n",
              "      <td>82.919998</td>\n",
              "    </tr>\n",
              "    <tr>\n",
              "      <th>2018-12-27</th>\n",
              "      <td>190.699997</td>\n",
              "      <td>42.900002</td>\n",
              "      <td>70.629997</td>\n",
              "      <td>89.910004</td>\n",
              "      <td>140.410004</td>\n",
              "      <td>225.139999</td>\n",
              "      <td>17.490000</td>\n",
              "      <td>14.29</td>\n",
              "      <td>44.980000</td>\n",
              "      <td>66.480003</td>\n",
              "      <td>...</td>\n",
              "      <td>150.850006</td>\n",
              "      <td>281.929993</td>\n",
              "      <td>98.120003</td>\n",
              "      <td>49.599998</td>\n",
              "      <td>65.349998</td>\n",
              "      <td>90.959999</td>\n",
              "      <td>155.350006</td>\n",
              "      <td>98.747574</td>\n",
              "      <td>40.459999</td>\n",
              "      <td>84.330002</td>\n",
              "    </tr>\n",
              "    <tr>\n",
              "      <th>2018-12-28</th>\n",
              "      <td>189.369995</td>\n",
              "      <td>42.700001</td>\n",
              "      <td>71.089996</td>\n",
              "      <td>91.120003</td>\n",
              "      <td>139.820007</td>\n",
              "      <td>223.130005</td>\n",
              "      <td>17.820000</td>\n",
              "      <td>14.27</td>\n",
              "      <td>44.950001</td>\n",
              "      <td>65.959999</td>\n",
              "      <td>...</td>\n",
              "      <td>150.929993</td>\n",
              "      <td>281.470001</td>\n",
              "      <td>97.239998</td>\n",
              "      <td>49.250000</td>\n",
              "      <td>65.300003</td>\n",
              "      <td>91.610001</td>\n",
              "      <td>155.970001</td>\n",
              "      <td>99.660194</td>\n",
              "      <td>40.430000</td>\n",
              "      <td>84.489998</td>\n",
              "    </tr>\n",
              "    <tr>\n",
              "      <th>2018-12-31</th>\n",
              "      <td>190.539993</td>\n",
              "      <td>42.700001</td>\n",
              "      <td>72.330002</td>\n",
              "      <td>92.190002</td>\n",
              "      <td>141.009995</td>\n",
              "      <td>226.240005</td>\n",
              "      <td>18.459999</td>\n",
              "      <td>14.46</td>\n",
              "      <td>45.560001</td>\n",
              "      <td>67.459999</td>\n",
              "      <td>...</td>\n",
              "      <td>151.860001</td>\n",
              "      <td>282.359985</td>\n",
              "      <td>98.910004</td>\n",
              "      <td>49.270000</td>\n",
              "      <td>66.720001</td>\n",
              "      <td>91.919998</td>\n",
              "      <td>159.229996</td>\n",
              "      <td>100.699028</td>\n",
              "      <td>40.740002</td>\n",
              "      <td>85.540001</td>\n",
              "    </tr>\n",
              "    <tr>\n",
              "      <th>2019-01-02</th>\n",
              "      <td>190.949997</td>\n",
              "      <td>43.470001</td>\n",
              "      <td>69.500000</td>\n",
              "      <td>89.230003</td>\n",
              "      <td>140.589996</td>\n",
              "      <td>224.570007</td>\n",
              "      <td>18.830000</td>\n",
              "      <td>14.18</td>\n",
              "      <td>45.520000</td>\n",
              "      <td>65.690002</td>\n",
              "      <td>...</td>\n",
              "      <td>149.679993</td>\n",
              "      <td>276.579987</td>\n",
              "      <td>104.400002</td>\n",
              "      <td>48.220001</td>\n",
              "      <td>66.510002</td>\n",
              "      <td>91.440002</td>\n",
              "      <td>156.240005</td>\n",
              "      <td>99.300972</td>\n",
              "      <td>41.580002</td>\n",
              "      <td>84.480003</td>\n",
              "    </tr>\n",
              "  </tbody>\n",
              "</table>\n",
              "<p>10 rows × 503 columns</p>\n",
              "</div>\n",
              "    <div class=\"colab-df-buttons\">\n",
              "\n",
              "  <div class=\"colab-df-container\">\n",
              "    <button class=\"colab-df-convert\" onclick=\"convertToInteractive('df-2a494579-bc43-4e08-b4e5-3377f1422904')\"\n",
              "            title=\"Convert this dataframe to an interactive table.\"\n",
              "            style=\"display:none;\">\n",
              "\n",
              "  <svg xmlns=\"http://www.w3.org/2000/svg\" height=\"24px\" viewBox=\"0 -960 960 960\">\n",
              "    <path d=\"M120-120v-720h720v720H120Zm60-500h600v-160H180v160Zm220 220h160v-160H400v160Zm0 220h160v-160H400v160ZM180-400h160v-160H180v160Zm440 0h160v-160H620v160ZM180-180h160v-160H180v160Zm440 0h160v-160H620v160Z\"/>\n",
              "  </svg>\n",
              "    </button>\n",
              "\n",
              "  <style>\n",
              "    .colab-df-container {\n",
              "      display:flex;\n",
              "      gap: 12px;\n",
              "    }\n",
              "\n",
              "    .colab-df-convert {\n",
              "      background-color: #E8F0FE;\n",
              "      border: none;\n",
              "      border-radius: 50%;\n",
              "      cursor: pointer;\n",
              "      display: none;\n",
              "      fill: #1967D2;\n",
              "      height: 32px;\n",
              "      padding: 0 0 0 0;\n",
              "      width: 32px;\n",
              "    }\n",
              "\n",
              "    .colab-df-convert:hover {\n",
              "      background-color: #E2EBFA;\n",
              "      box-shadow: 0px 1px 2px rgba(60, 64, 67, 0.3), 0px 1px 3px 1px rgba(60, 64, 67, 0.15);\n",
              "      fill: #174EA6;\n",
              "    }\n",
              "\n",
              "    .colab-df-buttons div {\n",
              "      margin-bottom: 4px;\n",
              "    }\n",
              "\n",
              "    [theme=dark] .colab-df-convert {\n",
              "      background-color: #3B4455;\n",
              "      fill: #D2E3FC;\n",
              "    }\n",
              "\n",
              "    [theme=dark] .colab-df-convert:hover {\n",
              "      background-color: #434B5C;\n",
              "      box-shadow: 0px 1px 3px 1px rgba(0, 0, 0, 0.15);\n",
              "      filter: drop-shadow(0px 1px 2px rgba(0, 0, 0, 0.3));\n",
              "      fill: #FFFFFF;\n",
              "    }\n",
              "  </style>\n",
              "\n",
              "    <script>\n",
              "      const buttonEl =\n",
              "        document.querySelector('#df-2a494579-bc43-4e08-b4e5-3377f1422904 button.colab-df-convert');\n",
              "      buttonEl.style.display =\n",
              "        google.colab.kernel.accessAllowed ? 'block' : 'none';\n",
              "\n",
              "      async function convertToInteractive(key) {\n",
              "        const element = document.querySelector('#df-2a494579-bc43-4e08-b4e5-3377f1422904');\n",
              "        const dataTable =\n",
              "          await google.colab.kernel.invokeFunction('convertToInteractive',\n",
              "                                                    [key], {});\n",
              "        if (!dataTable) return;\n",
              "\n",
              "        const docLinkHtml = 'Like what you see? Visit the ' +\n",
              "          '<a target=\"_blank\" href=https://colab.research.google.com/notebooks/data_table.ipynb>data table notebook</a>'\n",
              "          + ' to learn more about interactive tables.';\n",
              "        element.innerHTML = '';\n",
              "        dataTable['output_type'] = 'display_data';\n",
              "        await google.colab.output.renderOutput(dataTable, element);\n",
              "        const docLink = document.createElement('div');\n",
              "        docLink.innerHTML = docLinkHtml;\n",
              "        element.appendChild(docLink);\n",
              "      }\n",
              "    </script>\n",
              "  </div>\n",
              "\n",
              "\n",
              "<div id=\"df-6927fab2-87e7-4601-b764-a5dedecb151c\">\n",
              "  <button class=\"colab-df-quickchart\" onclick=\"quickchart('df-6927fab2-87e7-4601-b764-a5dedecb151c')\"\n",
              "            title=\"Suggest charts\"\n",
              "            style=\"display:none;\">\n",
              "\n",
              "<svg xmlns=\"http://www.w3.org/2000/svg\" height=\"24px\"viewBox=\"0 0 24 24\"\n",
              "     width=\"24px\">\n",
              "    <g>\n",
              "        <path d=\"M19 3H5c-1.1 0-2 .9-2 2v14c0 1.1.9 2 2 2h14c1.1 0 2-.9 2-2V5c0-1.1-.9-2-2-2zM9 17H7v-7h2v7zm4 0h-2V7h2v10zm4 0h-2v-4h2v4z\"/>\n",
              "    </g>\n",
              "</svg>\n",
              "  </button>\n",
              "\n",
              "<style>\n",
              "  .colab-df-quickchart {\n",
              "      --bg-color: #E8F0FE;\n",
              "      --fill-color: #1967D2;\n",
              "      --hover-bg-color: #E2EBFA;\n",
              "      --hover-fill-color: #174EA6;\n",
              "      --disabled-fill-color: #AAA;\n",
              "      --disabled-bg-color: #DDD;\n",
              "  }\n",
              "\n",
              "  [theme=dark] .colab-df-quickchart {\n",
              "      --bg-color: #3B4455;\n",
              "      --fill-color: #D2E3FC;\n",
              "      --hover-bg-color: #434B5C;\n",
              "      --hover-fill-color: #FFFFFF;\n",
              "      --disabled-bg-color: #3B4455;\n",
              "      --disabled-fill-color: #666;\n",
              "  }\n",
              "\n",
              "  .colab-df-quickchart {\n",
              "    background-color: var(--bg-color);\n",
              "    border: none;\n",
              "    border-radius: 50%;\n",
              "    cursor: pointer;\n",
              "    display: none;\n",
              "    fill: var(--fill-color);\n",
              "    height: 32px;\n",
              "    padding: 0;\n",
              "    width: 32px;\n",
              "  }\n",
              "\n",
              "  .colab-df-quickchart:hover {\n",
              "    background-color: var(--hover-bg-color);\n",
              "    box-shadow: 0 1px 2px rgba(60, 64, 67, 0.3), 0 1px 3px 1px rgba(60, 64, 67, 0.15);\n",
              "    fill: var(--button-hover-fill-color);\n",
              "  }\n",
              "\n",
              "  .colab-df-quickchart-complete:disabled,\n",
              "  .colab-df-quickchart-complete:disabled:hover {\n",
              "    background-color: var(--disabled-bg-color);\n",
              "    fill: var(--disabled-fill-color);\n",
              "    box-shadow: none;\n",
              "  }\n",
              "\n",
              "  .colab-df-spinner {\n",
              "    border: 2px solid var(--fill-color);\n",
              "    border-color: transparent;\n",
              "    border-bottom-color: var(--fill-color);\n",
              "    animation:\n",
              "      spin 1s steps(1) infinite;\n",
              "  }\n",
              "\n",
              "  @keyframes spin {\n",
              "    0% {\n",
              "      border-color: transparent;\n",
              "      border-bottom-color: var(--fill-color);\n",
              "      border-left-color: var(--fill-color);\n",
              "    }\n",
              "    20% {\n",
              "      border-color: transparent;\n",
              "      border-left-color: var(--fill-color);\n",
              "      border-top-color: var(--fill-color);\n",
              "    }\n",
              "    30% {\n",
              "      border-color: transparent;\n",
              "      border-left-color: var(--fill-color);\n",
              "      border-top-color: var(--fill-color);\n",
              "      border-right-color: var(--fill-color);\n",
              "    }\n",
              "    40% {\n",
              "      border-color: transparent;\n",
              "      border-right-color: var(--fill-color);\n",
              "      border-top-color: var(--fill-color);\n",
              "    }\n",
              "    60% {\n",
              "      border-color: transparent;\n",
              "      border-right-color: var(--fill-color);\n",
              "    }\n",
              "    80% {\n",
              "      border-color: transparent;\n",
              "      border-right-color: var(--fill-color);\n",
              "      border-bottom-color: var(--fill-color);\n",
              "    }\n",
              "    90% {\n",
              "      border-color: transparent;\n",
              "      border-bottom-color: var(--fill-color);\n",
              "    }\n",
              "  }\n",
              "</style>\n",
              "\n",
              "  <script>\n",
              "    async function quickchart(key) {\n",
              "      const quickchartButtonEl =\n",
              "        document.querySelector('#' + key + ' button');\n",
              "      quickchartButtonEl.disabled = true;  // To prevent multiple clicks.\n",
              "      quickchartButtonEl.classList.add('colab-df-spinner');\n",
              "      try {\n",
              "        const charts = await google.colab.kernel.invokeFunction(\n",
              "            'suggestCharts', [key], {});\n",
              "      } catch (error) {\n",
              "        console.error('Error during call to suggestCharts:', error);\n",
              "      }\n",
              "      quickchartButtonEl.classList.remove('colab-df-spinner');\n",
              "      quickchartButtonEl.classList.add('colab-df-quickchart-complete');\n",
              "    }\n",
              "    (() => {\n",
              "      let quickchartButtonEl =\n",
              "        document.querySelector('#df-6927fab2-87e7-4601-b764-a5dedecb151c button');\n",
              "      quickchartButtonEl.style.display =\n",
              "        google.colab.kernel.accessAllowed ? 'block' : 'none';\n",
              "    })();\n",
              "  </script>\n",
              "</div>\n",
              "    </div>\n",
              "  </div>\n"
            ]
          },
          "metadata": {},
          "execution_count": 65
        }
      ]
    },
    {
      "cell_type": "code",
      "source": [
        "sp500_close_prices.describe()"
      ],
      "metadata": {
        "colab": {
          "base_uri": "https://localhost:8080/",
          "height": 350
        },
        "id": "d6yS1kaELe2t",
        "outputId": "f7621a1b-9a40-4aaa-e3e7-a018de6415e0"
      },
      "execution_count": null,
      "outputs": [
        {
          "output_type": "execute_result",
          "data": {
            "text/plain": [
              "               MMM          AOS          ABT         ABBV          ACN  \\\n",
              "count  1258.000000  1258.000000  1258.000000  1258.000000  1258.000000   \n",
              "mean    154.572401    58.965008   102.559396   115.155691   259.341511   \n",
              "std      33.352532    11.276736    16.271302    29.872311    61.002818   \n",
              "min      85.599998    34.750000    62.820000    62.980000   133.669998   \n",
              "25%     127.029999    49.099998    88.482500    87.814999   201.712498   \n",
              "50%     161.470001    58.309999   104.930000   111.470001   269.050003   \n",
              "75%     177.740005    68.287500   114.065001   144.884995   308.684998   \n",
              "max     219.500000    85.849998   141.460007   174.960007   415.420013   \n",
              "\n",
              "              ADBE          AMD          AES          AFL            A  ...  \\\n",
              "count  1258.000000  1258.000000  1258.000000  1258.000000  1258.000000  ...   \n",
              "mean    420.767989    77.175684    20.744499    55.489595   114.093370  ...   \n",
              "std     115.702278    32.897355     4.416884    11.843080    29.435795  ...   \n",
              "min     205.160004    16.650000     9.560000    25.270000    62.669998  ...   \n",
              "25%     322.982506    49.935000    17.090000    48.992501    83.672503  ...   \n",
              "50%     413.720001    81.715000    20.830000    54.475000   119.389999  ...   \n",
              "75%     502.690002   101.654999    24.437500    63.597501   135.255005  ...   \n",
              "max     688.369995   161.910004    29.270000    84.349998   179.279999  ...   \n",
              "\n",
              "               WTW          GWW         WYNN          XEL          XYL  \\\n",
              "count  1258.000000  1258.000000  1258.000000  1258.000000  1258.000000   \n",
              "mean    212.019022   451.682925    98.682107    65.054245    93.755421   \n",
              "std      23.909541   151.556985    23.036862     5.665896    17.944315   \n",
              "min     146.539993   209.490005    43.020000    48.029999    56.639999   \n",
              "25%     197.020000   314.205002    81.955000    61.390000    79.300001   \n",
              "50%     210.044998   429.779999    98.930000    65.314999    91.360001   \n",
              "75%     231.595005   543.260025   115.567499    69.177502   106.320002   \n",
              "max     270.070007   828.809998   152.210007    77.410004   138.029999   \n",
              "\n",
              "               YUM         ZBRA          ZBH         ZION          ZTS  \n",
              "count  1258.000000  1258.000000  1258.000000  1258.000000  1258.000000  \n",
              "mean    112.979324   320.262591   128.659734    46.388935   156.945827  \n",
              "std      15.470291   121.422621    16.678893    11.524816    33.411709  \n",
              "min      56.520000   142.899994    78.281555    19.930000    79.279999  \n",
              "25%     101.392500   233.169994   116.816868    35.779999   132.770000  \n",
              "50%     115.289997   277.934998   126.452866    48.154999   161.285004  \n",
              "75%     125.707499   394.099991   141.470871    54.090000   176.894997  \n",
              "max     142.899994   614.549988   173.407761    74.309998   247.029999  \n",
              "\n",
              "[8 rows x 503 columns]"
            ],
            "text/html": [
              "\n",
              "  <div id=\"df-96e60b6f-ae06-450a-834d-fccb42e7c2b9\" class=\"colab-df-container\">\n",
              "    <div>\n",
              "<style scoped>\n",
              "    .dataframe tbody tr th:only-of-type {\n",
              "        vertical-align: middle;\n",
              "    }\n",
              "\n",
              "    .dataframe tbody tr th {\n",
              "        vertical-align: top;\n",
              "    }\n",
              "\n",
              "    .dataframe thead th {\n",
              "        text-align: right;\n",
              "    }\n",
              "</style>\n",
              "<table border=\"1\" class=\"dataframe\">\n",
              "  <thead>\n",
              "    <tr style=\"text-align: right;\">\n",
              "      <th></th>\n",
              "      <th>MMM</th>\n",
              "      <th>AOS</th>\n",
              "      <th>ABT</th>\n",
              "      <th>ABBV</th>\n",
              "      <th>ACN</th>\n",
              "      <th>ADBE</th>\n",
              "      <th>AMD</th>\n",
              "      <th>AES</th>\n",
              "      <th>AFL</th>\n",
              "      <th>A</th>\n",
              "      <th>...</th>\n",
              "      <th>WTW</th>\n",
              "      <th>GWW</th>\n",
              "      <th>WYNN</th>\n",
              "      <th>XEL</th>\n",
              "      <th>XYL</th>\n",
              "      <th>YUM</th>\n",
              "      <th>ZBRA</th>\n",
              "      <th>ZBH</th>\n",
              "      <th>ZION</th>\n",
              "      <th>ZTS</th>\n",
              "    </tr>\n",
              "  </thead>\n",
              "  <tbody>\n",
              "    <tr>\n",
              "      <th>count</th>\n",
              "      <td>1258.000000</td>\n",
              "      <td>1258.000000</td>\n",
              "      <td>1258.000000</td>\n",
              "      <td>1258.000000</td>\n",
              "      <td>1258.000000</td>\n",
              "      <td>1258.000000</td>\n",
              "      <td>1258.000000</td>\n",
              "      <td>1258.000000</td>\n",
              "      <td>1258.000000</td>\n",
              "      <td>1258.000000</td>\n",
              "      <td>...</td>\n",
              "      <td>1258.000000</td>\n",
              "      <td>1258.000000</td>\n",
              "      <td>1258.000000</td>\n",
              "      <td>1258.000000</td>\n",
              "      <td>1258.000000</td>\n",
              "      <td>1258.000000</td>\n",
              "      <td>1258.000000</td>\n",
              "      <td>1258.000000</td>\n",
              "      <td>1258.000000</td>\n",
              "      <td>1258.000000</td>\n",
              "    </tr>\n",
              "    <tr>\n",
              "      <th>mean</th>\n",
              "      <td>154.572401</td>\n",
              "      <td>58.965008</td>\n",
              "      <td>102.559396</td>\n",
              "      <td>115.155691</td>\n",
              "      <td>259.341511</td>\n",
              "      <td>420.767989</td>\n",
              "      <td>77.175684</td>\n",
              "      <td>20.744499</td>\n",
              "      <td>55.489595</td>\n",
              "      <td>114.093370</td>\n",
              "      <td>...</td>\n",
              "      <td>212.019022</td>\n",
              "      <td>451.682925</td>\n",
              "      <td>98.682107</td>\n",
              "      <td>65.054245</td>\n",
              "      <td>93.755421</td>\n",
              "      <td>112.979324</td>\n",
              "      <td>320.262591</td>\n",
              "      <td>128.659734</td>\n",
              "      <td>46.388935</td>\n",
              "      <td>156.945827</td>\n",
              "    </tr>\n",
              "    <tr>\n",
              "      <th>std</th>\n",
              "      <td>33.352532</td>\n",
              "      <td>11.276736</td>\n",
              "      <td>16.271302</td>\n",
              "      <td>29.872311</td>\n",
              "      <td>61.002818</td>\n",
              "      <td>115.702278</td>\n",
              "      <td>32.897355</td>\n",
              "      <td>4.416884</td>\n",
              "      <td>11.843080</td>\n",
              "      <td>29.435795</td>\n",
              "      <td>...</td>\n",
              "      <td>23.909541</td>\n",
              "      <td>151.556985</td>\n",
              "      <td>23.036862</td>\n",
              "      <td>5.665896</td>\n",
              "      <td>17.944315</td>\n",
              "      <td>15.470291</td>\n",
              "      <td>121.422621</td>\n",
              "      <td>16.678893</td>\n",
              "      <td>11.524816</td>\n",
              "      <td>33.411709</td>\n",
              "    </tr>\n",
              "    <tr>\n",
              "      <th>min</th>\n",
              "      <td>85.599998</td>\n",
              "      <td>34.750000</td>\n",
              "      <td>62.820000</td>\n",
              "      <td>62.980000</td>\n",
              "      <td>133.669998</td>\n",
              "      <td>205.160004</td>\n",
              "      <td>16.650000</td>\n",
              "      <td>9.560000</td>\n",
              "      <td>25.270000</td>\n",
              "      <td>62.669998</td>\n",
              "      <td>...</td>\n",
              "      <td>146.539993</td>\n",
              "      <td>209.490005</td>\n",
              "      <td>43.020000</td>\n",
              "      <td>48.029999</td>\n",
              "      <td>56.639999</td>\n",
              "      <td>56.520000</td>\n",
              "      <td>142.899994</td>\n",
              "      <td>78.281555</td>\n",
              "      <td>19.930000</td>\n",
              "      <td>79.279999</td>\n",
              "    </tr>\n",
              "    <tr>\n",
              "      <th>25%</th>\n",
              "      <td>127.029999</td>\n",
              "      <td>49.099998</td>\n",
              "      <td>88.482500</td>\n",
              "      <td>87.814999</td>\n",
              "      <td>201.712498</td>\n",
              "      <td>322.982506</td>\n",
              "      <td>49.935000</td>\n",
              "      <td>17.090000</td>\n",
              "      <td>48.992501</td>\n",
              "      <td>83.672503</td>\n",
              "      <td>...</td>\n",
              "      <td>197.020000</td>\n",
              "      <td>314.205002</td>\n",
              "      <td>81.955000</td>\n",
              "      <td>61.390000</td>\n",
              "      <td>79.300001</td>\n",
              "      <td>101.392500</td>\n",
              "      <td>233.169994</td>\n",
              "      <td>116.816868</td>\n",
              "      <td>35.779999</td>\n",
              "      <td>132.770000</td>\n",
              "    </tr>\n",
              "    <tr>\n",
              "      <th>50%</th>\n",
              "      <td>161.470001</td>\n",
              "      <td>58.309999</td>\n",
              "      <td>104.930000</td>\n",
              "      <td>111.470001</td>\n",
              "      <td>269.050003</td>\n",
              "      <td>413.720001</td>\n",
              "      <td>81.715000</td>\n",
              "      <td>20.830000</td>\n",
              "      <td>54.475000</td>\n",
              "      <td>119.389999</td>\n",
              "      <td>...</td>\n",
              "      <td>210.044998</td>\n",
              "      <td>429.779999</td>\n",
              "      <td>98.930000</td>\n",
              "      <td>65.314999</td>\n",
              "      <td>91.360001</td>\n",
              "      <td>115.289997</td>\n",
              "      <td>277.934998</td>\n",
              "      <td>126.452866</td>\n",
              "      <td>48.154999</td>\n",
              "      <td>161.285004</td>\n",
              "    </tr>\n",
              "    <tr>\n",
              "      <th>75%</th>\n",
              "      <td>177.740005</td>\n",
              "      <td>68.287500</td>\n",
              "      <td>114.065001</td>\n",
              "      <td>144.884995</td>\n",
              "      <td>308.684998</td>\n",
              "      <td>502.690002</td>\n",
              "      <td>101.654999</td>\n",
              "      <td>24.437500</td>\n",
              "      <td>63.597501</td>\n",
              "      <td>135.255005</td>\n",
              "      <td>...</td>\n",
              "      <td>231.595005</td>\n",
              "      <td>543.260025</td>\n",
              "      <td>115.567499</td>\n",
              "      <td>69.177502</td>\n",
              "      <td>106.320002</td>\n",
              "      <td>125.707499</td>\n",
              "      <td>394.099991</td>\n",
              "      <td>141.470871</td>\n",
              "      <td>54.090000</td>\n",
              "      <td>176.894997</td>\n",
              "    </tr>\n",
              "    <tr>\n",
              "      <th>max</th>\n",
              "      <td>219.500000</td>\n",
              "      <td>85.849998</td>\n",
              "      <td>141.460007</td>\n",
              "      <td>174.960007</td>\n",
              "      <td>415.420013</td>\n",
              "      <td>688.369995</td>\n",
              "      <td>161.910004</td>\n",
              "      <td>29.270000</td>\n",
              "      <td>84.349998</td>\n",
              "      <td>179.279999</td>\n",
              "      <td>...</td>\n",
              "      <td>270.070007</td>\n",
              "      <td>828.809998</td>\n",
              "      <td>152.210007</td>\n",
              "      <td>77.410004</td>\n",
              "      <td>138.029999</td>\n",
              "      <td>142.899994</td>\n",
              "      <td>614.549988</td>\n",
              "      <td>173.407761</td>\n",
              "      <td>74.309998</td>\n",
              "      <td>247.029999</td>\n",
              "    </tr>\n",
              "  </tbody>\n",
              "</table>\n",
              "<p>8 rows × 503 columns</p>\n",
              "</div>\n",
              "    <div class=\"colab-df-buttons\">\n",
              "\n",
              "  <div class=\"colab-df-container\">\n",
              "    <button class=\"colab-df-convert\" onclick=\"convertToInteractive('df-96e60b6f-ae06-450a-834d-fccb42e7c2b9')\"\n",
              "            title=\"Convert this dataframe to an interactive table.\"\n",
              "            style=\"display:none;\">\n",
              "\n",
              "  <svg xmlns=\"http://www.w3.org/2000/svg\" height=\"24px\" viewBox=\"0 -960 960 960\">\n",
              "    <path d=\"M120-120v-720h720v720H120Zm60-500h600v-160H180v160Zm220 220h160v-160H400v160Zm0 220h160v-160H400v160ZM180-400h160v-160H180v160Zm440 0h160v-160H620v160ZM180-180h160v-160H180v160Zm440 0h160v-160H620v160Z\"/>\n",
              "  </svg>\n",
              "    </button>\n",
              "\n",
              "  <style>\n",
              "    .colab-df-container {\n",
              "      display:flex;\n",
              "      gap: 12px;\n",
              "    }\n",
              "\n",
              "    .colab-df-convert {\n",
              "      background-color: #E8F0FE;\n",
              "      border: none;\n",
              "      border-radius: 50%;\n",
              "      cursor: pointer;\n",
              "      display: none;\n",
              "      fill: #1967D2;\n",
              "      height: 32px;\n",
              "      padding: 0 0 0 0;\n",
              "      width: 32px;\n",
              "    }\n",
              "\n",
              "    .colab-df-convert:hover {\n",
              "      background-color: #E2EBFA;\n",
              "      box-shadow: 0px 1px 2px rgba(60, 64, 67, 0.3), 0px 1px 3px 1px rgba(60, 64, 67, 0.15);\n",
              "      fill: #174EA6;\n",
              "    }\n",
              "\n",
              "    .colab-df-buttons div {\n",
              "      margin-bottom: 4px;\n",
              "    }\n",
              "\n",
              "    [theme=dark] .colab-df-convert {\n",
              "      background-color: #3B4455;\n",
              "      fill: #D2E3FC;\n",
              "    }\n",
              "\n",
              "    [theme=dark] .colab-df-convert:hover {\n",
              "      background-color: #434B5C;\n",
              "      box-shadow: 0px 1px 3px 1px rgba(0, 0, 0, 0.15);\n",
              "      filter: drop-shadow(0px 1px 2px rgba(0, 0, 0, 0.3));\n",
              "      fill: #FFFFFF;\n",
              "    }\n",
              "  </style>\n",
              "\n",
              "    <script>\n",
              "      const buttonEl =\n",
              "        document.querySelector('#df-96e60b6f-ae06-450a-834d-fccb42e7c2b9 button.colab-df-convert');\n",
              "      buttonEl.style.display =\n",
              "        google.colab.kernel.accessAllowed ? 'block' : 'none';\n",
              "\n",
              "      async function convertToInteractive(key) {\n",
              "        const element = document.querySelector('#df-96e60b6f-ae06-450a-834d-fccb42e7c2b9');\n",
              "        const dataTable =\n",
              "          await google.colab.kernel.invokeFunction('convertToInteractive',\n",
              "                                                    [key], {});\n",
              "        if (!dataTable) return;\n",
              "\n",
              "        const docLinkHtml = 'Like what you see? Visit the ' +\n",
              "          '<a target=\"_blank\" href=https://colab.research.google.com/notebooks/data_table.ipynb>data table notebook</a>'\n",
              "          + ' to learn more about interactive tables.';\n",
              "        element.innerHTML = '';\n",
              "        dataTable['output_type'] = 'display_data';\n",
              "        await google.colab.output.renderOutput(dataTable, element);\n",
              "        const docLink = document.createElement('div');\n",
              "        docLink.innerHTML = docLinkHtml;\n",
              "        element.appendChild(docLink);\n",
              "      }\n",
              "    </script>\n",
              "  </div>\n",
              "\n",
              "\n",
              "<div id=\"df-1c93458a-f230-468d-af08-adde264107bb\">\n",
              "  <button class=\"colab-df-quickchart\" onclick=\"quickchart('df-1c93458a-f230-468d-af08-adde264107bb')\"\n",
              "            title=\"Suggest charts\"\n",
              "            style=\"display:none;\">\n",
              "\n",
              "<svg xmlns=\"http://www.w3.org/2000/svg\" height=\"24px\"viewBox=\"0 0 24 24\"\n",
              "     width=\"24px\">\n",
              "    <g>\n",
              "        <path d=\"M19 3H5c-1.1 0-2 .9-2 2v14c0 1.1.9 2 2 2h14c1.1 0 2-.9 2-2V5c0-1.1-.9-2-2-2zM9 17H7v-7h2v7zm4 0h-2V7h2v10zm4 0h-2v-4h2v4z\"/>\n",
              "    </g>\n",
              "</svg>\n",
              "  </button>\n",
              "\n",
              "<style>\n",
              "  .colab-df-quickchart {\n",
              "      --bg-color: #E8F0FE;\n",
              "      --fill-color: #1967D2;\n",
              "      --hover-bg-color: #E2EBFA;\n",
              "      --hover-fill-color: #174EA6;\n",
              "      --disabled-fill-color: #AAA;\n",
              "      --disabled-bg-color: #DDD;\n",
              "  }\n",
              "\n",
              "  [theme=dark] .colab-df-quickchart {\n",
              "      --bg-color: #3B4455;\n",
              "      --fill-color: #D2E3FC;\n",
              "      --hover-bg-color: #434B5C;\n",
              "      --hover-fill-color: #FFFFFF;\n",
              "      --disabled-bg-color: #3B4455;\n",
              "      --disabled-fill-color: #666;\n",
              "  }\n",
              "\n",
              "  .colab-df-quickchart {\n",
              "    background-color: var(--bg-color);\n",
              "    border: none;\n",
              "    border-radius: 50%;\n",
              "    cursor: pointer;\n",
              "    display: none;\n",
              "    fill: var(--fill-color);\n",
              "    height: 32px;\n",
              "    padding: 0;\n",
              "    width: 32px;\n",
              "  }\n",
              "\n",
              "  .colab-df-quickchart:hover {\n",
              "    background-color: var(--hover-bg-color);\n",
              "    box-shadow: 0 1px 2px rgba(60, 64, 67, 0.3), 0 1px 3px 1px rgba(60, 64, 67, 0.15);\n",
              "    fill: var(--button-hover-fill-color);\n",
              "  }\n",
              "\n",
              "  .colab-df-quickchart-complete:disabled,\n",
              "  .colab-df-quickchart-complete:disabled:hover {\n",
              "    background-color: var(--disabled-bg-color);\n",
              "    fill: var(--disabled-fill-color);\n",
              "    box-shadow: none;\n",
              "  }\n",
              "\n",
              "  .colab-df-spinner {\n",
              "    border: 2px solid var(--fill-color);\n",
              "    border-color: transparent;\n",
              "    border-bottom-color: var(--fill-color);\n",
              "    animation:\n",
              "      spin 1s steps(1) infinite;\n",
              "  }\n",
              "\n",
              "  @keyframes spin {\n",
              "    0% {\n",
              "      border-color: transparent;\n",
              "      border-bottom-color: var(--fill-color);\n",
              "      border-left-color: var(--fill-color);\n",
              "    }\n",
              "    20% {\n",
              "      border-color: transparent;\n",
              "      border-left-color: var(--fill-color);\n",
              "      border-top-color: var(--fill-color);\n",
              "    }\n",
              "    30% {\n",
              "      border-color: transparent;\n",
              "      border-left-color: var(--fill-color);\n",
              "      border-top-color: var(--fill-color);\n",
              "      border-right-color: var(--fill-color);\n",
              "    }\n",
              "    40% {\n",
              "      border-color: transparent;\n",
              "      border-right-color: var(--fill-color);\n",
              "      border-top-color: var(--fill-color);\n",
              "    }\n",
              "    60% {\n",
              "      border-color: transparent;\n",
              "      border-right-color: var(--fill-color);\n",
              "    }\n",
              "    80% {\n",
              "      border-color: transparent;\n",
              "      border-right-color: var(--fill-color);\n",
              "      border-bottom-color: var(--fill-color);\n",
              "    }\n",
              "    90% {\n",
              "      border-color: transparent;\n",
              "      border-bottom-color: var(--fill-color);\n",
              "    }\n",
              "  }\n",
              "</style>\n",
              "\n",
              "  <script>\n",
              "    async function quickchart(key) {\n",
              "      const quickchartButtonEl =\n",
              "        document.querySelector('#' + key + ' button');\n",
              "      quickchartButtonEl.disabled = true;  // To prevent multiple clicks.\n",
              "      quickchartButtonEl.classList.add('colab-df-spinner');\n",
              "      try {\n",
              "        const charts = await google.colab.kernel.invokeFunction(\n",
              "            'suggestCharts', [key], {});\n",
              "      } catch (error) {\n",
              "        console.error('Error during call to suggestCharts:', error);\n",
              "      }\n",
              "      quickchartButtonEl.classList.remove('colab-df-spinner');\n",
              "      quickchartButtonEl.classList.add('colab-df-quickchart-complete');\n",
              "    }\n",
              "    (() => {\n",
              "      let quickchartButtonEl =\n",
              "        document.querySelector('#df-1c93458a-f230-468d-af08-adde264107bb button');\n",
              "      quickchartButtonEl.style.display =\n",
              "        google.colab.kernel.accessAllowed ? 'block' : 'none';\n",
              "    })();\n",
              "  </script>\n",
              "</div>\n",
              "    </div>\n",
              "  </div>\n"
            ]
          },
          "metadata": {},
          "execution_count": 67
        }
      ]
    },
    {
      "cell_type": "code",
      "source": [
        "# Drop Null Value\n",
        "sp500_close_prices_cleaned = sp500_close_prices.dropna(axis = 1, how = 'any')\n",
        "sp500_close_prices"
      ],
      "metadata": {
        "colab": {
          "base_uri": "https://localhost:8080/",
          "height": 649
        },
        "id": "HQRoXl65HvNG",
        "outputId": "a71b2586-f4f6-4f35-c99f-ff1ec9606d12"
      },
      "execution_count": null,
      "outputs": [
        {
          "output_type": "execute_result",
          "data": {
            "text/plain": [
              "                   MMM        AOS         ABT        ABBV         ACN  \\\n",
              "Date                                                                    \n",
              "2018-12-18  194.559998  43.029999   70.080002   83.580002  152.139999   \n",
              "2018-12-19  189.960007  42.709999   69.000000   83.519997  150.960007   \n",
              "2018-12-20  187.380005  42.869999   68.379997   85.370003  143.500000   \n",
              "2018-12-21  183.750000  41.990002   67.269997   84.919998  137.199997   \n",
              "2018-12-24  178.619995  42.009998   65.559998   84.160004  133.669998   \n",
              "...                ...        ...         ...         ...         ...   \n",
              "2023-12-11  103.160004  78.040001  106.220001  151.240005  342.309998   \n",
              "2023-12-12  102.559998  79.480003  106.680000  153.240005  343.220001   \n",
              "2023-12-13  104.190002  79.529999  107.250000  154.300003  343.640015   \n",
              "2023-12-14  107.040001  80.589996  108.599998  154.880005  342.730011   \n",
              "2023-12-15  106.980003  79.199997  107.290001  154.039993  344.149994   \n",
              "\n",
              "                  ADBE         AMD        AES        AFL           A  ...  \\\n",
              "Date                                                                  ...   \n",
              "2018-12-18  226.179993   19.500000  14.980000  44.540001   67.989998  ...   \n",
              "2018-12-19  224.649994   18.160000  14.740000  43.980000   66.830002  ...   \n",
              "2018-12-20  218.649994   17.940001  14.690000  43.400002   65.190002  ...   \n",
              "2018-12-21  208.800003   16.930000  14.450000  43.230000   63.290001  ...   \n",
              "2018-12-24  205.160004   16.650000  13.820000  42.330002   62.669998  ...   \n",
              "...                ...         ...        ...        ...         ...  ...   \n",
              "2023-12-11  625.200012  134.410004  18.049999  83.110001  128.970001  ...   \n",
              "2023-12-12  633.659973  137.610001  18.209999  84.349998  128.789993  ...   \n",
              "2023-12-13  624.260010  138.190002  19.330000  84.029999  133.740005  ...   \n",
              "2023-12-14  584.640015  138.000000  19.629999  81.279999  137.960007  ...   \n",
              "2023-12-15  584.679993  139.149994  19.350000  80.570000  136.779999  ...   \n",
              "\n",
              "                   WTW         GWW        WYNN        XEL         XYL  \\\n",
              "Date                                                                    \n",
              "2018-12-18  151.929993  282.859985  103.089996  51.490002   64.389999   \n",
              "2018-12-19  151.330002  278.429993   98.389999  50.919998   65.129997   \n",
              "2018-12-20  149.339996  275.140015   97.800003  51.369999   63.860001   \n",
              "2018-12-21  147.070007  272.209991   93.410004  50.900002   63.439999   \n",
              "2018-12-24  146.610001  266.429993   92.010002  48.599998   61.380001   \n",
              "...                ...         ...         ...        ...         ...   \n",
              "2023-12-11  244.789993  817.440002   86.000000  61.549999  107.699997   \n",
              "2023-12-12  246.490005  821.070007   86.230003  61.160000  107.940002   \n",
              "2023-12-13  247.600006  818.809998   88.019997  63.330002  109.180000   \n",
              "2023-12-14  237.929993  828.809998   89.800003  62.570000  110.930000   \n",
              "2023-12-15  236.729996  823.539978   88.760002  61.580002  110.720001   \n",
              "\n",
              "                   YUM        ZBRA         ZBH       ZION         ZTS  \n",
              "Date                                                                   \n",
              "2018-12-18   90.099998  162.929993  102.699028  40.759998   84.989998  \n",
              "2018-12-19   90.120003  159.039993  101.514565  40.130001   83.440002  \n",
              "2018-12-20   87.120003  150.990005   98.805824  39.740002   82.419998  \n",
              "2018-12-21   88.139999  146.250000   96.485435  39.060001   81.680000  \n",
              "2018-12-24   87.019997  142.899994   94.398056  38.509998   79.279999  \n",
              "...                ...         ...         ...        ...         ...  \n",
              "2023-12-11  126.629997  239.649994  117.980003  38.630001  189.460007  \n",
              "2023-12-12  128.070007  239.380005  117.449997  38.130001  191.470001  \n",
              "2023-12-13  130.929993  244.429993  117.900002  41.820000  197.410004  \n",
              "2023-12-14  131.110001  272.160004  118.529999  45.669998  200.089996  \n",
              "2023-12-15  128.639999  270.179993  118.690002  43.840000  196.289993  \n",
              "\n",
              "[1258 rows x 503 columns]"
            ],
            "text/html": [
              "\n",
              "  <div id=\"df-58507102-44d8-445e-ab9f-05d9db52d50c\" class=\"colab-df-container\">\n",
              "    <div>\n",
              "<style scoped>\n",
              "    .dataframe tbody tr th:only-of-type {\n",
              "        vertical-align: middle;\n",
              "    }\n",
              "\n",
              "    .dataframe tbody tr th {\n",
              "        vertical-align: top;\n",
              "    }\n",
              "\n",
              "    .dataframe thead th {\n",
              "        text-align: right;\n",
              "    }\n",
              "</style>\n",
              "<table border=\"1\" class=\"dataframe\">\n",
              "  <thead>\n",
              "    <tr style=\"text-align: right;\">\n",
              "      <th></th>\n",
              "      <th>MMM</th>\n",
              "      <th>AOS</th>\n",
              "      <th>ABT</th>\n",
              "      <th>ABBV</th>\n",
              "      <th>ACN</th>\n",
              "      <th>ADBE</th>\n",
              "      <th>AMD</th>\n",
              "      <th>AES</th>\n",
              "      <th>AFL</th>\n",
              "      <th>A</th>\n",
              "      <th>...</th>\n",
              "      <th>WTW</th>\n",
              "      <th>GWW</th>\n",
              "      <th>WYNN</th>\n",
              "      <th>XEL</th>\n",
              "      <th>XYL</th>\n",
              "      <th>YUM</th>\n",
              "      <th>ZBRA</th>\n",
              "      <th>ZBH</th>\n",
              "      <th>ZION</th>\n",
              "      <th>ZTS</th>\n",
              "    </tr>\n",
              "    <tr>\n",
              "      <th>Date</th>\n",
              "      <th></th>\n",
              "      <th></th>\n",
              "      <th></th>\n",
              "      <th></th>\n",
              "      <th></th>\n",
              "      <th></th>\n",
              "      <th></th>\n",
              "      <th></th>\n",
              "      <th></th>\n",
              "      <th></th>\n",
              "      <th></th>\n",
              "      <th></th>\n",
              "      <th></th>\n",
              "      <th></th>\n",
              "      <th></th>\n",
              "      <th></th>\n",
              "      <th></th>\n",
              "      <th></th>\n",
              "      <th></th>\n",
              "      <th></th>\n",
              "      <th></th>\n",
              "    </tr>\n",
              "  </thead>\n",
              "  <tbody>\n",
              "    <tr>\n",
              "      <th>2018-12-18</th>\n",
              "      <td>194.559998</td>\n",
              "      <td>43.029999</td>\n",
              "      <td>70.080002</td>\n",
              "      <td>83.580002</td>\n",
              "      <td>152.139999</td>\n",
              "      <td>226.179993</td>\n",
              "      <td>19.500000</td>\n",
              "      <td>14.980000</td>\n",
              "      <td>44.540001</td>\n",
              "      <td>67.989998</td>\n",
              "      <td>...</td>\n",
              "      <td>151.929993</td>\n",
              "      <td>282.859985</td>\n",
              "      <td>103.089996</td>\n",
              "      <td>51.490002</td>\n",
              "      <td>64.389999</td>\n",
              "      <td>90.099998</td>\n",
              "      <td>162.929993</td>\n",
              "      <td>102.699028</td>\n",
              "      <td>40.759998</td>\n",
              "      <td>84.989998</td>\n",
              "    </tr>\n",
              "    <tr>\n",
              "      <th>2018-12-19</th>\n",
              "      <td>189.960007</td>\n",
              "      <td>42.709999</td>\n",
              "      <td>69.000000</td>\n",
              "      <td>83.519997</td>\n",
              "      <td>150.960007</td>\n",
              "      <td>224.649994</td>\n",
              "      <td>18.160000</td>\n",
              "      <td>14.740000</td>\n",
              "      <td>43.980000</td>\n",
              "      <td>66.830002</td>\n",
              "      <td>...</td>\n",
              "      <td>151.330002</td>\n",
              "      <td>278.429993</td>\n",
              "      <td>98.389999</td>\n",
              "      <td>50.919998</td>\n",
              "      <td>65.129997</td>\n",
              "      <td>90.120003</td>\n",
              "      <td>159.039993</td>\n",
              "      <td>101.514565</td>\n",
              "      <td>40.130001</td>\n",
              "      <td>83.440002</td>\n",
              "    </tr>\n",
              "    <tr>\n",
              "      <th>2018-12-20</th>\n",
              "      <td>187.380005</td>\n",
              "      <td>42.869999</td>\n",
              "      <td>68.379997</td>\n",
              "      <td>85.370003</td>\n",
              "      <td>143.500000</td>\n",
              "      <td>218.649994</td>\n",
              "      <td>17.940001</td>\n",
              "      <td>14.690000</td>\n",
              "      <td>43.400002</td>\n",
              "      <td>65.190002</td>\n",
              "      <td>...</td>\n",
              "      <td>149.339996</td>\n",
              "      <td>275.140015</td>\n",
              "      <td>97.800003</td>\n",
              "      <td>51.369999</td>\n",
              "      <td>63.860001</td>\n",
              "      <td>87.120003</td>\n",
              "      <td>150.990005</td>\n",
              "      <td>98.805824</td>\n",
              "      <td>39.740002</td>\n",
              "      <td>82.419998</td>\n",
              "    </tr>\n",
              "    <tr>\n",
              "      <th>2018-12-21</th>\n",
              "      <td>183.750000</td>\n",
              "      <td>41.990002</td>\n",
              "      <td>67.269997</td>\n",
              "      <td>84.919998</td>\n",
              "      <td>137.199997</td>\n",
              "      <td>208.800003</td>\n",
              "      <td>16.930000</td>\n",
              "      <td>14.450000</td>\n",
              "      <td>43.230000</td>\n",
              "      <td>63.290001</td>\n",
              "      <td>...</td>\n",
              "      <td>147.070007</td>\n",
              "      <td>272.209991</td>\n",
              "      <td>93.410004</td>\n",
              "      <td>50.900002</td>\n",
              "      <td>63.439999</td>\n",
              "      <td>88.139999</td>\n",
              "      <td>146.250000</td>\n",
              "      <td>96.485435</td>\n",
              "      <td>39.060001</td>\n",
              "      <td>81.680000</td>\n",
              "    </tr>\n",
              "    <tr>\n",
              "      <th>2018-12-24</th>\n",
              "      <td>178.619995</td>\n",
              "      <td>42.009998</td>\n",
              "      <td>65.559998</td>\n",
              "      <td>84.160004</td>\n",
              "      <td>133.669998</td>\n",
              "      <td>205.160004</td>\n",
              "      <td>16.650000</td>\n",
              "      <td>13.820000</td>\n",
              "      <td>42.330002</td>\n",
              "      <td>62.669998</td>\n",
              "      <td>...</td>\n",
              "      <td>146.610001</td>\n",
              "      <td>266.429993</td>\n",
              "      <td>92.010002</td>\n",
              "      <td>48.599998</td>\n",
              "      <td>61.380001</td>\n",
              "      <td>87.019997</td>\n",
              "      <td>142.899994</td>\n",
              "      <td>94.398056</td>\n",
              "      <td>38.509998</td>\n",
              "      <td>79.279999</td>\n",
              "    </tr>\n",
              "    <tr>\n",
              "      <th>...</th>\n",
              "      <td>...</td>\n",
              "      <td>...</td>\n",
              "      <td>...</td>\n",
              "      <td>...</td>\n",
              "      <td>...</td>\n",
              "      <td>...</td>\n",
              "      <td>...</td>\n",
              "      <td>...</td>\n",
              "      <td>...</td>\n",
              "      <td>...</td>\n",
              "      <td>...</td>\n",
              "      <td>...</td>\n",
              "      <td>...</td>\n",
              "      <td>...</td>\n",
              "      <td>...</td>\n",
              "      <td>...</td>\n",
              "      <td>...</td>\n",
              "      <td>...</td>\n",
              "      <td>...</td>\n",
              "      <td>...</td>\n",
              "      <td>...</td>\n",
              "    </tr>\n",
              "    <tr>\n",
              "      <th>2023-12-11</th>\n",
              "      <td>103.160004</td>\n",
              "      <td>78.040001</td>\n",
              "      <td>106.220001</td>\n",
              "      <td>151.240005</td>\n",
              "      <td>342.309998</td>\n",
              "      <td>625.200012</td>\n",
              "      <td>134.410004</td>\n",
              "      <td>18.049999</td>\n",
              "      <td>83.110001</td>\n",
              "      <td>128.970001</td>\n",
              "      <td>...</td>\n",
              "      <td>244.789993</td>\n",
              "      <td>817.440002</td>\n",
              "      <td>86.000000</td>\n",
              "      <td>61.549999</td>\n",
              "      <td>107.699997</td>\n",
              "      <td>126.629997</td>\n",
              "      <td>239.649994</td>\n",
              "      <td>117.980003</td>\n",
              "      <td>38.630001</td>\n",
              "      <td>189.460007</td>\n",
              "    </tr>\n",
              "    <tr>\n",
              "      <th>2023-12-12</th>\n",
              "      <td>102.559998</td>\n",
              "      <td>79.480003</td>\n",
              "      <td>106.680000</td>\n",
              "      <td>153.240005</td>\n",
              "      <td>343.220001</td>\n",
              "      <td>633.659973</td>\n",
              "      <td>137.610001</td>\n",
              "      <td>18.209999</td>\n",
              "      <td>84.349998</td>\n",
              "      <td>128.789993</td>\n",
              "      <td>...</td>\n",
              "      <td>246.490005</td>\n",
              "      <td>821.070007</td>\n",
              "      <td>86.230003</td>\n",
              "      <td>61.160000</td>\n",
              "      <td>107.940002</td>\n",
              "      <td>128.070007</td>\n",
              "      <td>239.380005</td>\n",
              "      <td>117.449997</td>\n",
              "      <td>38.130001</td>\n",
              "      <td>191.470001</td>\n",
              "    </tr>\n",
              "    <tr>\n",
              "      <th>2023-12-13</th>\n",
              "      <td>104.190002</td>\n",
              "      <td>79.529999</td>\n",
              "      <td>107.250000</td>\n",
              "      <td>154.300003</td>\n",
              "      <td>343.640015</td>\n",
              "      <td>624.260010</td>\n",
              "      <td>138.190002</td>\n",
              "      <td>19.330000</td>\n",
              "      <td>84.029999</td>\n",
              "      <td>133.740005</td>\n",
              "      <td>...</td>\n",
              "      <td>247.600006</td>\n",
              "      <td>818.809998</td>\n",
              "      <td>88.019997</td>\n",
              "      <td>63.330002</td>\n",
              "      <td>109.180000</td>\n",
              "      <td>130.929993</td>\n",
              "      <td>244.429993</td>\n",
              "      <td>117.900002</td>\n",
              "      <td>41.820000</td>\n",
              "      <td>197.410004</td>\n",
              "    </tr>\n",
              "    <tr>\n",
              "      <th>2023-12-14</th>\n",
              "      <td>107.040001</td>\n",
              "      <td>80.589996</td>\n",
              "      <td>108.599998</td>\n",
              "      <td>154.880005</td>\n",
              "      <td>342.730011</td>\n",
              "      <td>584.640015</td>\n",
              "      <td>138.000000</td>\n",
              "      <td>19.629999</td>\n",
              "      <td>81.279999</td>\n",
              "      <td>137.960007</td>\n",
              "      <td>...</td>\n",
              "      <td>237.929993</td>\n",
              "      <td>828.809998</td>\n",
              "      <td>89.800003</td>\n",
              "      <td>62.570000</td>\n",
              "      <td>110.930000</td>\n",
              "      <td>131.110001</td>\n",
              "      <td>272.160004</td>\n",
              "      <td>118.529999</td>\n",
              "      <td>45.669998</td>\n",
              "      <td>200.089996</td>\n",
              "    </tr>\n",
              "    <tr>\n",
              "      <th>2023-12-15</th>\n",
              "      <td>106.980003</td>\n",
              "      <td>79.199997</td>\n",
              "      <td>107.290001</td>\n",
              "      <td>154.039993</td>\n",
              "      <td>344.149994</td>\n",
              "      <td>584.679993</td>\n",
              "      <td>139.149994</td>\n",
              "      <td>19.350000</td>\n",
              "      <td>80.570000</td>\n",
              "      <td>136.779999</td>\n",
              "      <td>...</td>\n",
              "      <td>236.729996</td>\n",
              "      <td>823.539978</td>\n",
              "      <td>88.760002</td>\n",
              "      <td>61.580002</td>\n",
              "      <td>110.720001</td>\n",
              "      <td>128.639999</td>\n",
              "      <td>270.179993</td>\n",
              "      <td>118.690002</td>\n",
              "      <td>43.840000</td>\n",
              "      <td>196.289993</td>\n",
              "    </tr>\n",
              "  </tbody>\n",
              "</table>\n",
              "<p>1258 rows × 503 columns</p>\n",
              "</div>\n",
              "    <div class=\"colab-df-buttons\">\n",
              "\n",
              "  <div class=\"colab-df-container\">\n",
              "    <button class=\"colab-df-convert\" onclick=\"convertToInteractive('df-58507102-44d8-445e-ab9f-05d9db52d50c')\"\n",
              "            title=\"Convert this dataframe to an interactive table.\"\n",
              "            style=\"display:none;\">\n",
              "\n",
              "  <svg xmlns=\"http://www.w3.org/2000/svg\" height=\"24px\" viewBox=\"0 -960 960 960\">\n",
              "    <path d=\"M120-120v-720h720v720H120Zm60-500h600v-160H180v160Zm220 220h160v-160H400v160Zm0 220h160v-160H400v160ZM180-400h160v-160H180v160Zm440 0h160v-160H620v160ZM180-180h160v-160H180v160Zm440 0h160v-160H620v160Z\"/>\n",
              "  </svg>\n",
              "    </button>\n",
              "\n",
              "  <style>\n",
              "    .colab-df-container {\n",
              "      display:flex;\n",
              "      gap: 12px;\n",
              "    }\n",
              "\n",
              "    .colab-df-convert {\n",
              "      background-color: #E8F0FE;\n",
              "      border: none;\n",
              "      border-radius: 50%;\n",
              "      cursor: pointer;\n",
              "      display: none;\n",
              "      fill: #1967D2;\n",
              "      height: 32px;\n",
              "      padding: 0 0 0 0;\n",
              "      width: 32px;\n",
              "    }\n",
              "\n",
              "    .colab-df-convert:hover {\n",
              "      background-color: #E2EBFA;\n",
              "      box-shadow: 0px 1px 2px rgba(60, 64, 67, 0.3), 0px 1px 3px 1px rgba(60, 64, 67, 0.15);\n",
              "      fill: #174EA6;\n",
              "    }\n",
              "\n",
              "    .colab-df-buttons div {\n",
              "      margin-bottom: 4px;\n",
              "    }\n",
              "\n",
              "    [theme=dark] .colab-df-convert {\n",
              "      background-color: #3B4455;\n",
              "      fill: #D2E3FC;\n",
              "    }\n",
              "\n",
              "    [theme=dark] .colab-df-convert:hover {\n",
              "      background-color: #434B5C;\n",
              "      box-shadow: 0px 1px 3px 1px rgba(0, 0, 0, 0.15);\n",
              "      filter: drop-shadow(0px 1px 2px rgba(0, 0, 0, 0.3));\n",
              "      fill: #FFFFFF;\n",
              "    }\n",
              "  </style>\n",
              "\n",
              "    <script>\n",
              "      const buttonEl =\n",
              "        document.querySelector('#df-58507102-44d8-445e-ab9f-05d9db52d50c button.colab-df-convert');\n",
              "      buttonEl.style.display =\n",
              "        google.colab.kernel.accessAllowed ? 'block' : 'none';\n",
              "\n",
              "      async function convertToInteractive(key) {\n",
              "        const element = document.querySelector('#df-58507102-44d8-445e-ab9f-05d9db52d50c');\n",
              "        const dataTable =\n",
              "          await google.colab.kernel.invokeFunction('convertToInteractive',\n",
              "                                                    [key], {});\n",
              "        if (!dataTable) return;\n",
              "\n",
              "        const docLinkHtml = 'Like what you see? Visit the ' +\n",
              "          '<a target=\"_blank\" href=https://colab.research.google.com/notebooks/data_table.ipynb>data table notebook</a>'\n",
              "          + ' to learn more about interactive tables.';\n",
              "        element.innerHTML = '';\n",
              "        dataTable['output_type'] = 'display_data';\n",
              "        await google.colab.output.renderOutput(dataTable, element);\n",
              "        const docLink = document.createElement('div');\n",
              "        docLink.innerHTML = docLinkHtml;\n",
              "        element.appendChild(docLink);\n",
              "      }\n",
              "    </script>\n",
              "  </div>\n",
              "\n",
              "\n",
              "<div id=\"df-58cd8f81-10aa-4aa9-9619-becc8603845d\">\n",
              "  <button class=\"colab-df-quickchart\" onclick=\"quickchart('df-58cd8f81-10aa-4aa9-9619-becc8603845d')\"\n",
              "            title=\"Suggest charts\"\n",
              "            style=\"display:none;\">\n",
              "\n",
              "<svg xmlns=\"http://www.w3.org/2000/svg\" height=\"24px\"viewBox=\"0 0 24 24\"\n",
              "     width=\"24px\">\n",
              "    <g>\n",
              "        <path d=\"M19 3H5c-1.1 0-2 .9-2 2v14c0 1.1.9 2 2 2h14c1.1 0 2-.9 2-2V5c0-1.1-.9-2-2-2zM9 17H7v-7h2v7zm4 0h-2V7h2v10zm4 0h-2v-4h2v4z\"/>\n",
              "    </g>\n",
              "</svg>\n",
              "  </button>\n",
              "\n",
              "<style>\n",
              "  .colab-df-quickchart {\n",
              "      --bg-color: #E8F0FE;\n",
              "      --fill-color: #1967D2;\n",
              "      --hover-bg-color: #E2EBFA;\n",
              "      --hover-fill-color: #174EA6;\n",
              "      --disabled-fill-color: #AAA;\n",
              "      --disabled-bg-color: #DDD;\n",
              "  }\n",
              "\n",
              "  [theme=dark] .colab-df-quickchart {\n",
              "      --bg-color: #3B4455;\n",
              "      --fill-color: #D2E3FC;\n",
              "      --hover-bg-color: #434B5C;\n",
              "      --hover-fill-color: #FFFFFF;\n",
              "      --disabled-bg-color: #3B4455;\n",
              "      --disabled-fill-color: #666;\n",
              "  }\n",
              "\n",
              "  .colab-df-quickchart {\n",
              "    background-color: var(--bg-color);\n",
              "    border: none;\n",
              "    border-radius: 50%;\n",
              "    cursor: pointer;\n",
              "    display: none;\n",
              "    fill: var(--fill-color);\n",
              "    height: 32px;\n",
              "    padding: 0;\n",
              "    width: 32px;\n",
              "  }\n",
              "\n",
              "  .colab-df-quickchart:hover {\n",
              "    background-color: var(--hover-bg-color);\n",
              "    box-shadow: 0 1px 2px rgba(60, 64, 67, 0.3), 0 1px 3px 1px rgba(60, 64, 67, 0.15);\n",
              "    fill: var(--button-hover-fill-color);\n",
              "  }\n",
              "\n",
              "  .colab-df-quickchart-complete:disabled,\n",
              "  .colab-df-quickchart-complete:disabled:hover {\n",
              "    background-color: var(--disabled-bg-color);\n",
              "    fill: var(--disabled-fill-color);\n",
              "    box-shadow: none;\n",
              "  }\n",
              "\n",
              "  .colab-df-spinner {\n",
              "    border: 2px solid var(--fill-color);\n",
              "    border-color: transparent;\n",
              "    border-bottom-color: var(--fill-color);\n",
              "    animation:\n",
              "      spin 1s steps(1) infinite;\n",
              "  }\n",
              "\n",
              "  @keyframes spin {\n",
              "    0% {\n",
              "      border-color: transparent;\n",
              "      border-bottom-color: var(--fill-color);\n",
              "      border-left-color: var(--fill-color);\n",
              "    }\n",
              "    20% {\n",
              "      border-color: transparent;\n",
              "      border-left-color: var(--fill-color);\n",
              "      border-top-color: var(--fill-color);\n",
              "    }\n",
              "    30% {\n",
              "      border-color: transparent;\n",
              "      border-left-color: var(--fill-color);\n",
              "      border-top-color: var(--fill-color);\n",
              "      border-right-color: var(--fill-color);\n",
              "    }\n",
              "    40% {\n",
              "      border-color: transparent;\n",
              "      border-right-color: var(--fill-color);\n",
              "      border-top-color: var(--fill-color);\n",
              "    }\n",
              "    60% {\n",
              "      border-color: transparent;\n",
              "      border-right-color: var(--fill-color);\n",
              "    }\n",
              "    80% {\n",
              "      border-color: transparent;\n",
              "      border-right-color: var(--fill-color);\n",
              "      border-bottom-color: var(--fill-color);\n",
              "    }\n",
              "    90% {\n",
              "      border-color: transparent;\n",
              "      border-bottom-color: var(--fill-color);\n",
              "    }\n",
              "  }\n",
              "</style>\n",
              "\n",
              "  <script>\n",
              "    async function quickchart(key) {\n",
              "      const quickchartButtonEl =\n",
              "        document.querySelector('#' + key + ' button');\n",
              "      quickchartButtonEl.disabled = true;  // To prevent multiple clicks.\n",
              "      quickchartButtonEl.classList.add('colab-df-spinner');\n",
              "      try {\n",
              "        const charts = await google.colab.kernel.invokeFunction(\n",
              "            'suggestCharts', [key], {});\n",
              "      } catch (error) {\n",
              "        console.error('Error during call to suggestCharts:', error);\n",
              "      }\n",
              "      quickchartButtonEl.classList.remove('colab-df-spinner');\n",
              "      quickchartButtonEl.classList.add('colab-df-quickchart-complete');\n",
              "    }\n",
              "    (() => {\n",
              "      let quickchartButtonEl =\n",
              "        document.querySelector('#df-58cd8f81-10aa-4aa9-9619-becc8603845d button');\n",
              "      quickchartButtonEl.style.display =\n",
              "        google.colab.kernel.accessAllowed ? 'block' : 'none';\n",
              "    })();\n",
              "  </script>\n",
              "</div>\n",
              "    </div>\n",
              "  </div>\n"
            ]
          },
          "metadata": {},
          "execution_count": 66
        }
      ]
    },
    {
      "cell_type": "markdown",
      "source": [
        "##Rate of Return (RoR)"
      ],
      "metadata": {
        "id": "LsAYqL7weWkm"
      }
    },
    {
      "cell_type": "code",
      "source": [
        "ror_close_prices = (sp500_close_prices - sp500_close_prices.shift(1)) / sp500_close_prices.shift(1)\n",
        "ror_close_prices"
      ],
      "metadata": {
        "id": "sFwfcp7Ng1Eg",
        "colab": {
          "base_uri": "https://localhost:8080/",
          "height": 649
        },
        "outputId": "1c10a12c-3932-4f0c-aa85-6c2913c2f9ed"
      },
      "execution_count": null,
      "outputs": [
        {
          "output_type": "execute_result",
          "data": {
            "text/plain": [
              "                 MMM       AOS       ABT      ABBV       ACN      ADBE  \\\n",
              "Date                                                                     \n",
              "2018-12-18       NaN       NaN       NaN       NaN       NaN       NaN   \n",
              "2018-12-19 -0.023643 -0.007437 -0.015411 -0.000718 -0.007756 -0.006765   \n",
              "2018-12-20 -0.013582  0.003746 -0.008986  0.022150 -0.049417 -0.026708   \n",
              "2018-12-21 -0.019372 -0.020527 -0.016233 -0.005271 -0.043902 -0.045049   \n",
              "2018-12-24 -0.027918  0.000476 -0.025420 -0.008950 -0.025729 -0.017433   \n",
              "...              ...       ...       ...       ...       ...       ...   \n",
              "2023-12-11 -0.002032  0.000641  0.016362  0.013130  0.015064  0.024901   \n",
              "2023-12-12 -0.005816  0.018452  0.004331  0.013224  0.002658  0.013532   \n",
              "2023-12-13  0.015893  0.000629  0.005343  0.006917  0.001224 -0.014834   \n",
              "2023-12-14  0.027354  0.013328  0.012587  0.003759 -0.002648 -0.063467   \n",
              "2023-12-15 -0.000561 -0.017248 -0.012063 -0.005424  0.004143  0.000068   \n",
              "\n",
              "                 AMD       AES       AFL         A  ...       WTW       GWW  \\\n",
              "Date                                                ...                       \n",
              "2018-12-18       NaN       NaN       NaN       NaN  ...       NaN       NaN   \n",
              "2018-12-19 -0.068718 -0.016021 -0.012573 -0.017061  ... -0.003949 -0.015661   \n",
              "2018-12-20 -0.012114 -0.003392 -0.013188 -0.024540  ... -0.013150 -0.011816   \n",
              "2018-12-21 -0.056299 -0.016338 -0.003917 -0.029146  ... -0.015200 -0.010649   \n",
              "2018-12-24 -0.016539 -0.043599 -0.020819 -0.009796  ... -0.003128 -0.021234   \n",
              "...              ...       ...       ...       ...  ...       ...       ...   \n",
              "2023-12-11  0.042585 -0.009330  0.006784  0.013915  ...  0.008778  0.016653   \n",
              "2023-12-12  0.023808  0.008864  0.014920 -0.001396  ...  0.006945  0.004441   \n",
              "2023-12-13  0.004215  0.061505 -0.003794  0.038435  ...  0.004503 -0.002753   \n",
              "2023-12-14 -0.001375  0.015520 -0.032726  0.031554  ... -0.039055  0.012213   \n",
              "2023-12-15  0.008333 -0.014264 -0.008735 -0.008553  ... -0.005043 -0.006359   \n",
              "\n",
              "                WYNN       XEL       XYL       YUM      ZBRA       ZBH  \\\n",
              "Date                                                                     \n",
              "2018-12-18       NaN       NaN       NaN       NaN       NaN       NaN   \n",
              "2018-12-19 -0.045591 -0.011070  0.011492  0.000222 -0.023875 -0.011533   \n",
              "2018-12-20 -0.005997  0.008837 -0.019499 -0.033289 -0.050616 -0.026683   \n",
              "2018-12-21 -0.044888 -0.009149 -0.006577  0.011708 -0.031393 -0.023484   \n",
              "2018-12-24 -0.014988 -0.045187 -0.032472 -0.012707 -0.022906 -0.021634   \n",
              "...              ...       ...       ...       ...       ...       ...   \n",
              "2023-12-11  0.021499  0.010507  0.012408  0.018417  0.014907  0.005797   \n",
              "2023-12-12  0.002674 -0.006336  0.002228  0.011372 -0.001127 -0.004492   \n",
              "2023-12-13  0.020758  0.035481  0.011488  0.022331  0.021096  0.003831   \n",
              "2023-12-14  0.020223 -0.012001  0.016029  0.001375  0.113448  0.005343   \n",
              "2023-12-15 -0.011581 -0.015822 -0.001893 -0.018839 -0.007275  0.001350   \n",
              "\n",
              "                ZION       ZTS  \n",
              "Date                            \n",
              "2018-12-18       NaN       NaN  \n",
              "2018-12-19 -0.015456 -0.018237  \n",
              "2018-12-20 -0.009718 -0.012224  \n",
              "2018-12-21 -0.017111 -0.008978  \n",
              "2018-12-24 -0.014081 -0.029383  \n",
              "...              ...       ...  \n",
              "2023-12-11 -0.007706  0.026327  \n",
              "2023-12-12 -0.012943  0.010609  \n",
              "2023-12-13  0.096774  0.031023  \n",
              "2023-12-14  0.092061  0.013576  \n",
              "2023-12-15 -0.040070 -0.018991  \n",
              "\n",
              "[1258 rows x 503 columns]"
            ],
            "text/html": [
              "\n",
              "  <div id=\"df-d58bcd0f-dd46-42e4-b2e6-38e332be9f6a\" class=\"colab-df-container\">\n",
              "    <div>\n",
              "<style scoped>\n",
              "    .dataframe tbody tr th:only-of-type {\n",
              "        vertical-align: middle;\n",
              "    }\n",
              "\n",
              "    .dataframe tbody tr th {\n",
              "        vertical-align: top;\n",
              "    }\n",
              "\n",
              "    .dataframe thead th {\n",
              "        text-align: right;\n",
              "    }\n",
              "</style>\n",
              "<table border=\"1\" class=\"dataframe\">\n",
              "  <thead>\n",
              "    <tr style=\"text-align: right;\">\n",
              "      <th></th>\n",
              "      <th>MMM</th>\n",
              "      <th>AOS</th>\n",
              "      <th>ABT</th>\n",
              "      <th>ABBV</th>\n",
              "      <th>ACN</th>\n",
              "      <th>ADBE</th>\n",
              "      <th>AMD</th>\n",
              "      <th>AES</th>\n",
              "      <th>AFL</th>\n",
              "      <th>A</th>\n",
              "      <th>...</th>\n",
              "      <th>WTW</th>\n",
              "      <th>GWW</th>\n",
              "      <th>WYNN</th>\n",
              "      <th>XEL</th>\n",
              "      <th>XYL</th>\n",
              "      <th>YUM</th>\n",
              "      <th>ZBRA</th>\n",
              "      <th>ZBH</th>\n",
              "      <th>ZION</th>\n",
              "      <th>ZTS</th>\n",
              "    </tr>\n",
              "    <tr>\n",
              "      <th>Date</th>\n",
              "      <th></th>\n",
              "      <th></th>\n",
              "      <th></th>\n",
              "      <th></th>\n",
              "      <th></th>\n",
              "      <th></th>\n",
              "      <th></th>\n",
              "      <th></th>\n",
              "      <th></th>\n",
              "      <th></th>\n",
              "      <th></th>\n",
              "      <th></th>\n",
              "      <th></th>\n",
              "      <th></th>\n",
              "      <th></th>\n",
              "      <th></th>\n",
              "      <th></th>\n",
              "      <th></th>\n",
              "      <th></th>\n",
              "      <th></th>\n",
              "      <th></th>\n",
              "    </tr>\n",
              "  </thead>\n",
              "  <tbody>\n",
              "    <tr>\n",
              "      <th>2018-12-18</th>\n",
              "      <td>NaN</td>\n",
              "      <td>NaN</td>\n",
              "      <td>NaN</td>\n",
              "      <td>NaN</td>\n",
              "      <td>NaN</td>\n",
              "      <td>NaN</td>\n",
              "      <td>NaN</td>\n",
              "      <td>NaN</td>\n",
              "      <td>NaN</td>\n",
              "      <td>NaN</td>\n",
              "      <td>...</td>\n",
              "      <td>NaN</td>\n",
              "      <td>NaN</td>\n",
              "      <td>NaN</td>\n",
              "      <td>NaN</td>\n",
              "      <td>NaN</td>\n",
              "      <td>NaN</td>\n",
              "      <td>NaN</td>\n",
              "      <td>NaN</td>\n",
              "      <td>NaN</td>\n",
              "      <td>NaN</td>\n",
              "    </tr>\n",
              "    <tr>\n",
              "      <th>2018-12-19</th>\n",
              "      <td>-0.023643</td>\n",
              "      <td>-0.007437</td>\n",
              "      <td>-0.015411</td>\n",
              "      <td>-0.000718</td>\n",
              "      <td>-0.007756</td>\n",
              "      <td>-0.006765</td>\n",
              "      <td>-0.068718</td>\n",
              "      <td>-0.016021</td>\n",
              "      <td>-0.012573</td>\n",
              "      <td>-0.017061</td>\n",
              "      <td>...</td>\n",
              "      <td>-0.003949</td>\n",
              "      <td>-0.015661</td>\n",
              "      <td>-0.045591</td>\n",
              "      <td>-0.011070</td>\n",
              "      <td>0.011492</td>\n",
              "      <td>0.000222</td>\n",
              "      <td>-0.023875</td>\n",
              "      <td>-0.011533</td>\n",
              "      <td>-0.015456</td>\n",
              "      <td>-0.018237</td>\n",
              "    </tr>\n",
              "    <tr>\n",
              "      <th>2018-12-20</th>\n",
              "      <td>-0.013582</td>\n",
              "      <td>0.003746</td>\n",
              "      <td>-0.008986</td>\n",
              "      <td>0.022150</td>\n",
              "      <td>-0.049417</td>\n",
              "      <td>-0.026708</td>\n",
              "      <td>-0.012114</td>\n",
              "      <td>-0.003392</td>\n",
              "      <td>-0.013188</td>\n",
              "      <td>-0.024540</td>\n",
              "      <td>...</td>\n",
              "      <td>-0.013150</td>\n",
              "      <td>-0.011816</td>\n",
              "      <td>-0.005997</td>\n",
              "      <td>0.008837</td>\n",
              "      <td>-0.019499</td>\n",
              "      <td>-0.033289</td>\n",
              "      <td>-0.050616</td>\n",
              "      <td>-0.026683</td>\n",
              "      <td>-0.009718</td>\n",
              "      <td>-0.012224</td>\n",
              "    </tr>\n",
              "    <tr>\n",
              "      <th>2018-12-21</th>\n",
              "      <td>-0.019372</td>\n",
              "      <td>-0.020527</td>\n",
              "      <td>-0.016233</td>\n",
              "      <td>-0.005271</td>\n",
              "      <td>-0.043902</td>\n",
              "      <td>-0.045049</td>\n",
              "      <td>-0.056299</td>\n",
              "      <td>-0.016338</td>\n",
              "      <td>-0.003917</td>\n",
              "      <td>-0.029146</td>\n",
              "      <td>...</td>\n",
              "      <td>-0.015200</td>\n",
              "      <td>-0.010649</td>\n",
              "      <td>-0.044888</td>\n",
              "      <td>-0.009149</td>\n",
              "      <td>-0.006577</td>\n",
              "      <td>0.011708</td>\n",
              "      <td>-0.031393</td>\n",
              "      <td>-0.023484</td>\n",
              "      <td>-0.017111</td>\n",
              "      <td>-0.008978</td>\n",
              "    </tr>\n",
              "    <tr>\n",
              "      <th>2018-12-24</th>\n",
              "      <td>-0.027918</td>\n",
              "      <td>0.000476</td>\n",
              "      <td>-0.025420</td>\n",
              "      <td>-0.008950</td>\n",
              "      <td>-0.025729</td>\n",
              "      <td>-0.017433</td>\n",
              "      <td>-0.016539</td>\n",
              "      <td>-0.043599</td>\n",
              "      <td>-0.020819</td>\n",
              "      <td>-0.009796</td>\n",
              "      <td>...</td>\n",
              "      <td>-0.003128</td>\n",
              "      <td>-0.021234</td>\n",
              "      <td>-0.014988</td>\n",
              "      <td>-0.045187</td>\n",
              "      <td>-0.032472</td>\n",
              "      <td>-0.012707</td>\n",
              "      <td>-0.022906</td>\n",
              "      <td>-0.021634</td>\n",
              "      <td>-0.014081</td>\n",
              "      <td>-0.029383</td>\n",
              "    </tr>\n",
              "    <tr>\n",
              "      <th>...</th>\n",
              "      <td>...</td>\n",
              "      <td>...</td>\n",
              "      <td>...</td>\n",
              "      <td>...</td>\n",
              "      <td>...</td>\n",
              "      <td>...</td>\n",
              "      <td>...</td>\n",
              "      <td>...</td>\n",
              "      <td>...</td>\n",
              "      <td>...</td>\n",
              "      <td>...</td>\n",
              "      <td>...</td>\n",
              "      <td>...</td>\n",
              "      <td>...</td>\n",
              "      <td>...</td>\n",
              "      <td>...</td>\n",
              "      <td>...</td>\n",
              "      <td>...</td>\n",
              "      <td>...</td>\n",
              "      <td>...</td>\n",
              "      <td>...</td>\n",
              "    </tr>\n",
              "    <tr>\n",
              "      <th>2023-12-11</th>\n",
              "      <td>-0.002032</td>\n",
              "      <td>0.000641</td>\n",
              "      <td>0.016362</td>\n",
              "      <td>0.013130</td>\n",
              "      <td>0.015064</td>\n",
              "      <td>0.024901</td>\n",
              "      <td>0.042585</td>\n",
              "      <td>-0.009330</td>\n",
              "      <td>0.006784</td>\n",
              "      <td>0.013915</td>\n",
              "      <td>...</td>\n",
              "      <td>0.008778</td>\n",
              "      <td>0.016653</td>\n",
              "      <td>0.021499</td>\n",
              "      <td>0.010507</td>\n",
              "      <td>0.012408</td>\n",
              "      <td>0.018417</td>\n",
              "      <td>0.014907</td>\n",
              "      <td>0.005797</td>\n",
              "      <td>-0.007706</td>\n",
              "      <td>0.026327</td>\n",
              "    </tr>\n",
              "    <tr>\n",
              "      <th>2023-12-12</th>\n",
              "      <td>-0.005816</td>\n",
              "      <td>0.018452</td>\n",
              "      <td>0.004331</td>\n",
              "      <td>0.013224</td>\n",
              "      <td>0.002658</td>\n",
              "      <td>0.013532</td>\n",
              "      <td>0.023808</td>\n",
              "      <td>0.008864</td>\n",
              "      <td>0.014920</td>\n",
              "      <td>-0.001396</td>\n",
              "      <td>...</td>\n",
              "      <td>0.006945</td>\n",
              "      <td>0.004441</td>\n",
              "      <td>0.002674</td>\n",
              "      <td>-0.006336</td>\n",
              "      <td>0.002228</td>\n",
              "      <td>0.011372</td>\n",
              "      <td>-0.001127</td>\n",
              "      <td>-0.004492</td>\n",
              "      <td>-0.012943</td>\n",
              "      <td>0.010609</td>\n",
              "    </tr>\n",
              "    <tr>\n",
              "      <th>2023-12-13</th>\n",
              "      <td>0.015893</td>\n",
              "      <td>0.000629</td>\n",
              "      <td>0.005343</td>\n",
              "      <td>0.006917</td>\n",
              "      <td>0.001224</td>\n",
              "      <td>-0.014834</td>\n",
              "      <td>0.004215</td>\n",
              "      <td>0.061505</td>\n",
              "      <td>-0.003794</td>\n",
              "      <td>0.038435</td>\n",
              "      <td>...</td>\n",
              "      <td>0.004503</td>\n",
              "      <td>-0.002753</td>\n",
              "      <td>0.020758</td>\n",
              "      <td>0.035481</td>\n",
              "      <td>0.011488</td>\n",
              "      <td>0.022331</td>\n",
              "      <td>0.021096</td>\n",
              "      <td>0.003831</td>\n",
              "      <td>0.096774</td>\n",
              "      <td>0.031023</td>\n",
              "    </tr>\n",
              "    <tr>\n",
              "      <th>2023-12-14</th>\n",
              "      <td>0.027354</td>\n",
              "      <td>0.013328</td>\n",
              "      <td>0.012587</td>\n",
              "      <td>0.003759</td>\n",
              "      <td>-0.002648</td>\n",
              "      <td>-0.063467</td>\n",
              "      <td>-0.001375</td>\n",
              "      <td>0.015520</td>\n",
              "      <td>-0.032726</td>\n",
              "      <td>0.031554</td>\n",
              "      <td>...</td>\n",
              "      <td>-0.039055</td>\n",
              "      <td>0.012213</td>\n",
              "      <td>0.020223</td>\n",
              "      <td>-0.012001</td>\n",
              "      <td>0.016029</td>\n",
              "      <td>0.001375</td>\n",
              "      <td>0.113448</td>\n",
              "      <td>0.005343</td>\n",
              "      <td>0.092061</td>\n",
              "      <td>0.013576</td>\n",
              "    </tr>\n",
              "    <tr>\n",
              "      <th>2023-12-15</th>\n",
              "      <td>-0.000561</td>\n",
              "      <td>-0.017248</td>\n",
              "      <td>-0.012063</td>\n",
              "      <td>-0.005424</td>\n",
              "      <td>0.004143</td>\n",
              "      <td>0.000068</td>\n",
              "      <td>0.008333</td>\n",
              "      <td>-0.014264</td>\n",
              "      <td>-0.008735</td>\n",
              "      <td>-0.008553</td>\n",
              "      <td>...</td>\n",
              "      <td>-0.005043</td>\n",
              "      <td>-0.006359</td>\n",
              "      <td>-0.011581</td>\n",
              "      <td>-0.015822</td>\n",
              "      <td>-0.001893</td>\n",
              "      <td>-0.018839</td>\n",
              "      <td>-0.007275</td>\n",
              "      <td>0.001350</td>\n",
              "      <td>-0.040070</td>\n",
              "      <td>-0.018991</td>\n",
              "    </tr>\n",
              "  </tbody>\n",
              "</table>\n",
              "<p>1258 rows × 503 columns</p>\n",
              "</div>\n",
              "    <div class=\"colab-df-buttons\">\n",
              "\n",
              "  <div class=\"colab-df-container\">\n",
              "    <button class=\"colab-df-convert\" onclick=\"convertToInteractive('df-d58bcd0f-dd46-42e4-b2e6-38e332be9f6a')\"\n",
              "            title=\"Convert this dataframe to an interactive table.\"\n",
              "            style=\"display:none;\">\n",
              "\n",
              "  <svg xmlns=\"http://www.w3.org/2000/svg\" height=\"24px\" viewBox=\"0 -960 960 960\">\n",
              "    <path d=\"M120-120v-720h720v720H120Zm60-500h600v-160H180v160Zm220 220h160v-160H400v160Zm0 220h160v-160H400v160ZM180-400h160v-160H180v160Zm440 0h160v-160H620v160ZM180-180h160v-160H180v160Zm440 0h160v-160H620v160Z\"/>\n",
              "  </svg>\n",
              "    </button>\n",
              "\n",
              "  <style>\n",
              "    .colab-df-container {\n",
              "      display:flex;\n",
              "      gap: 12px;\n",
              "    }\n",
              "\n",
              "    .colab-df-convert {\n",
              "      background-color: #E8F0FE;\n",
              "      border: none;\n",
              "      border-radius: 50%;\n",
              "      cursor: pointer;\n",
              "      display: none;\n",
              "      fill: #1967D2;\n",
              "      height: 32px;\n",
              "      padding: 0 0 0 0;\n",
              "      width: 32px;\n",
              "    }\n",
              "\n",
              "    .colab-df-convert:hover {\n",
              "      background-color: #E2EBFA;\n",
              "      box-shadow: 0px 1px 2px rgba(60, 64, 67, 0.3), 0px 1px 3px 1px rgba(60, 64, 67, 0.15);\n",
              "      fill: #174EA6;\n",
              "    }\n",
              "\n",
              "    .colab-df-buttons div {\n",
              "      margin-bottom: 4px;\n",
              "    }\n",
              "\n",
              "    [theme=dark] .colab-df-convert {\n",
              "      background-color: #3B4455;\n",
              "      fill: #D2E3FC;\n",
              "    }\n",
              "\n",
              "    [theme=dark] .colab-df-convert:hover {\n",
              "      background-color: #434B5C;\n",
              "      box-shadow: 0px 1px 3px 1px rgba(0, 0, 0, 0.15);\n",
              "      filter: drop-shadow(0px 1px 2px rgba(0, 0, 0, 0.3));\n",
              "      fill: #FFFFFF;\n",
              "    }\n",
              "  </style>\n",
              "\n",
              "    <script>\n",
              "      const buttonEl =\n",
              "        document.querySelector('#df-d58bcd0f-dd46-42e4-b2e6-38e332be9f6a button.colab-df-convert');\n",
              "      buttonEl.style.display =\n",
              "        google.colab.kernel.accessAllowed ? 'block' : 'none';\n",
              "\n",
              "      async function convertToInteractive(key) {\n",
              "        const element = document.querySelector('#df-d58bcd0f-dd46-42e4-b2e6-38e332be9f6a');\n",
              "        const dataTable =\n",
              "          await google.colab.kernel.invokeFunction('convertToInteractive',\n",
              "                                                    [key], {});\n",
              "        if (!dataTable) return;\n",
              "\n",
              "        const docLinkHtml = 'Like what you see? Visit the ' +\n",
              "          '<a target=\"_blank\" href=https://colab.research.google.com/notebooks/data_table.ipynb>data table notebook</a>'\n",
              "          + ' to learn more about interactive tables.';\n",
              "        element.innerHTML = '';\n",
              "        dataTable['output_type'] = 'display_data';\n",
              "        await google.colab.output.renderOutput(dataTable, element);\n",
              "        const docLink = document.createElement('div');\n",
              "        docLink.innerHTML = docLinkHtml;\n",
              "        element.appendChild(docLink);\n",
              "      }\n",
              "    </script>\n",
              "  </div>\n",
              "\n",
              "\n",
              "<div id=\"df-75d287bd-a2a1-4e8b-ac8b-fcc4f9322c83\">\n",
              "  <button class=\"colab-df-quickchart\" onclick=\"quickchart('df-75d287bd-a2a1-4e8b-ac8b-fcc4f9322c83')\"\n",
              "            title=\"Suggest charts\"\n",
              "            style=\"display:none;\">\n",
              "\n",
              "<svg xmlns=\"http://www.w3.org/2000/svg\" height=\"24px\"viewBox=\"0 0 24 24\"\n",
              "     width=\"24px\">\n",
              "    <g>\n",
              "        <path d=\"M19 3H5c-1.1 0-2 .9-2 2v14c0 1.1.9 2 2 2h14c1.1 0 2-.9 2-2V5c0-1.1-.9-2-2-2zM9 17H7v-7h2v7zm4 0h-2V7h2v10zm4 0h-2v-4h2v4z\"/>\n",
              "    </g>\n",
              "</svg>\n",
              "  </button>\n",
              "\n",
              "<style>\n",
              "  .colab-df-quickchart {\n",
              "      --bg-color: #E8F0FE;\n",
              "      --fill-color: #1967D2;\n",
              "      --hover-bg-color: #E2EBFA;\n",
              "      --hover-fill-color: #174EA6;\n",
              "      --disabled-fill-color: #AAA;\n",
              "      --disabled-bg-color: #DDD;\n",
              "  }\n",
              "\n",
              "  [theme=dark] .colab-df-quickchart {\n",
              "      --bg-color: #3B4455;\n",
              "      --fill-color: #D2E3FC;\n",
              "      --hover-bg-color: #434B5C;\n",
              "      --hover-fill-color: #FFFFFF;\n",
              "      --disabled-bg-color: #3B4455;\n",
              "      --disabled-fill-color: #666;\n",
              "  }\n",
              "\n",
              "  .colab-df-quickchart {\n",
              "    background-color: var(--bg-color);\n",
              "    border: none;\n",
              "    border-radius: 50%;\n",
              "    cursor: pointer;\n",
              "    display: none;\n",
              "    fill: var(--fill-color);\n",
              "    height: 32px;\n",
              "    padding: 0;\n",
              "    width: 32px;\n",
              "  }\n",
              "\n",
              "  .colab-df-quickchart:hover {\n",
              "    background-color: var(--hover-bg-color);\n",
              "    box-shadow: 0 1px 2px rgba(60, 64, 67, 0.3), 0 1px 3px 1px rgba(60, 64, 67, 0.15);\n",
              "    fill: var(--button-hover-fill-color);\n",
              "  }\n",
              "\n",
              "  .colab-df-quickchart-complete:disabled,\n",
              "  .colab-df-quickchart-complete:disabled:hover {\n",
              "    background-color: var(--disabled-bg-color);\n",
              "    fill: var(--disabled-fill-color);\n",
              "    box-shadow: none;\n",
              "  }\n",
              "\n",
              "  .colab-df-spinner {\n",
              "    border: 2px solid var(--fill-color);\n",
              "    border-color: transparent;\n",
              "    border-bottom-color: var(--fill-color);\n",
              "    animation:\n",
              "      spin 1s steps(1) infinite;\n",
              "  }\n",
              "\n",
              "  @keyframes spin {\n",
              "    0% {\n",
              "      border-color: transparent;\n",
              "      border-bottom-color: var(--fill-color);\n",
              "      border-left-color: var(--fill-color);\n",
              "    }\n",
              "    20% {\n",
              "      border-color: transparent;\n",
              "      border-left-color: var(--fill-color);\n",
              "      border-top-color: var(--fill-color);\n",
              "    }\n",
              "    30% {\n",
              "      border-color: transparent;\n",
              "      border-left-color: var(--fill-color);\n",
              "      border-top-color: var(--fill-color);\n",
              "      border-right-color: var(--fill-color);\n",
              "    }\n",
              "    40% {\n",
              "      border-color: transparent;\n",
              "      border-right-color: var(--fill-color);\n",
              "      border-top-color: var(--fill-color);\n",
              "    }\n",
              "    60% {\n",
              "      border-color: transparent;\n",
              "      border-right-color: var(--fill-color);\n",
              "    }\n",
              "    80% {\n",
              "      border-color: transparent;\n",
              "      border-right-color: var(--fill-color);\n",
              "      border-bottom-color: var(--fill-color);\n",
              "    }\n",
              "    90% {\n",
              "      border-color: transparent;\n",
              "      border-bottom-color: var(--fill-color);\n",
              "    }\n",
              "  }\n",
              "</style>\n",
              "\n",
              "  <script>\n",
              "    async function quickchart(key) {\n",
              "      const quickchartButtonEl =\n",
              "        document.querySelector('#' + key + ' button');\n",
              "      quickchartButtonEl.disabled = true;  // To prevent multiple clicks.\n",
              "      quickchartButtonEl.classList.add('colab-df-spinner');\n",
              "      try {\n",
              "        const charts = await google.colab.kernel.invokeFunction(\n",
              "            'suggestCharts', [key], {});\n",
              "      } catch (error) {\n",
              "        console.error('Error during call to suggestCharts:', error);\n",
              "      }\n",
              "      quickchartButtonEl.classList.remove('colab-df-spinner');\n",
              "      quickchartButtonEl.classList.add('colab-df-quickchart-complete');\n",
              "    }\n",
              "    (() => {\n",
              "      let quickchartButtonEl =\n",
              "        document.querySelector('#df-75d287bd-a2a1-4e8b-ac8b-fcc4f9322c83 button');\n",
              "      quickchartButtonEl.style.display =\n",
              "        google.colab.kernel.accessAllowed ? 'block' : 'none';\n",
              "    })();\n",
              "  </script>\n",
              "</div>\n",
              "    </div>\n",
              "  </div>\n"
            ]
          },
          "metadata": {},
          "execution_count": 124
        }
      ]
    },
    {
      "cell_type": "code",
      "source": [
        "ror_close_prices = ror_close_prices.iloc[1:]\n",
        "ror_close_prices"
      ],
      "metadata": {
        "colab": {
          "base_uri": "https://localhost:8080/",
          "height": 649
        },
        "id": "bfPv6AP7MbZ8",
        "outputId": "35917576-e9c1-4809-fd97-4191629a5ee8"
      },
      "execution_count": null,
      "outputs": [
        {
          "output_type": "execute_result",
          "data": {
            "text/plain": [
              "                 MMM       AOS       ABT      ABBV       ACN      ADBE  \\\n",
              "Date                                                                     \n",
              "2018-12-19 -0.023643 -0.007437 -0.015411 -0.000718 -0.007756 -0.006765   \n",
              "2018-12-20 -0.013582  0.003746 -0.008986  0.022150 -0.049417 -0.026708   \n",
              "2018-12-21 -0.019372 -0.020527 -0.016233 -0.005271 -0.043902 -0.045049   \n",
              "2018-12-24 -0.027918  0.000476 -0.025420 -0.008950 -0.025729 -0.017433   \n",
              "2018-12-26  0.042772  0.027612  0.061928  0.057985  0.039949  0.086713   \n",
              "...              ...       ...       ...       ...       ...       ...   \n",
              "2023-12-11 -0.002032  0.000641  0.016362  0.013130  0.015064  0.024901   \n",
              "2023-12-12 -0.005816  0.018452  0.004331  0.013224  0.002658  0.013532   \n",
              "2023-12-13  0.015893  0.000629  0.005343  0.006917  0.001224 -0.014834   \n",
              "2023-12-14  0.027354  0.013328  0.012587  0.003759 -0.002648 -0.063467   \n",
              "2023-12-15 -0.000561 -0.017248 -0.012063 -0.005424  0.004143  0.000068   \n",
              "\n",
              "                 AMD       AES       AFL         A  ...       WTW       GWW  \\\n",
              "Date                                                ...                       \n",
              "2018-12-19 -0.068718 -0.016021 -0.012573 -0.017061  ... -0.003949 -0.015661   \n",
              "2018-12-20 -0.012114 -0.003392 -0.013188 -0.024540  ... -0.013150 -0.011816   \n",
              "2018-12-21 -0.056299 -0.016338 -0.003917 -0.029146  ... -0.015200 -0.010649   \n",
              "2018-12-24 -0.016539 -0.043599 -0.020819 -0.009796  ... -0.003128 -0.021234   \n",
              "2018-12-26  0.075075  0.033285  0.042759  0.045795  ...  0.015347  0.045866   \n",
              "...              ...       ...       ...       ...  ...       ...       ...   \n",
              "2023-12-11  0.042585 -0.009330  0.006784  0.013915  ...  0.008778  0.016653   \n",
              "2023-12-12  0.023808  0.008864  0.014920 -0.001396  ...  0.006945  0.004441   \n",
              "2023-12-13  0.004215  0.061505 -0.003794  0.038435  ...  0.004503 -0.002753   \n",
              "2023-12-14 -0.001375  0.015520 -0.032726  0.031554  ... -0.039055  0.012213   \n",
              "2023-12-15  0.008333 -0.014264 -0.008735 -0.008553  ... -0.005043 -0.006359   \n",
              "\n",
              "                WYNN       XEL       XYL       YUM      ZBRA       ZBH  \\\n",
              "Date                                                                     \n",
              "2018-12-19 -0.045591 -0.011070  0.011492  0.000222 -0.023875 -0.011533   \n",
              "2018-12-20 -0.005997  0.008837 -0.019499 -0.033289 -0.050616 -0.026683   \n",
              "2018-12-21 -0.044888 -0.009149 -0.006577  0.011708 -0.031393 -0.023484   \n",
              "2018-12-24 -0.014988 -0.045187 -0.032472 -0.012707 -0.022906 -0.021634   \n",
              "2018-12-26  0.078470  0.019753  0.047084  0.034130  0.067320  0.049265   \n",
              "...              ...       ...       ...       ...       ...       ...   \n",
              "2023-12-11  0.021499  0.010507  0.012408  0.018417  0.014907  0.005797   \n",
              "2023-12-12  0.002674 -0.006336  0.002228  0.011372 -0.001127 -0.004492   \n",
              "2023-12-13  0.020758  0.035481  0.011488  0.022331  0.021096  0.003831   \n",
              "2023-12-14  0.020223 -0.012001  0.016029  0.001375  0.113448  0.005343   \n",
              "2023-12-15 -0.011581 -0.015822 -0.001893 -0.018839 -0.007275  0.001350   \n",
              "\n",
              "                ZION       ZTS  \n",
              "Date                            \n",
              "2018-12-19 -0.015456 -0.018237  \n",
              "2018-12-20 -0.009718 -0.012224  \n",
              "2018-12-21 -0.017111 -0.008978  \n",
              "2018-12-24 -0.014081 -0.029383  \n",
              "2018-12-26  0.051935  0.045913  \n",
              "...              ...       ...  \n",
              "2023-12-11 -0.007706  0.026327  \n",
              "2023-12-12 -0.012943  0.010609  \n",
              "2023-12-13  0.096774  0.031023  \n",
              "2023-12-14  0.092061  0.013576  \n",
              "2023-12-15 -0.040070 -0.018991  \n",
              "\n",
              "[1257 rows x 503 columns]"
            ],
            "text/html": [
              "\n",
              "  <div id=\"df-42dd9e3b-be2a-46c1-9896-abf9d6ffe305\" class=\"colab-df-container\">\n",
              "    <div>\n",
              "<style scoped>\n",
              "    .dataframe tbody tr th:only-of-type {\n",
              "        vertical-align: middle;\n",
              "    }\n",
              "\n",
              "    .dataframe tbody tr th {\n",
              "        vertical-align: top;\n",
              "    }\n",
              "\n",
              "    .dataframe thead th {\n",
              "        text-align: right;\n",
              "    }\n",
              "</style>\n",
              "<table border=\"1\" class=\"dataframe\">\n",
              "  <thead>\n",
              "    <tr style=\"text-align: right;\">\n",
              "      <th></th>\n",
              "      <th>MMM</th>\n",
              "      <th>AOS</th>\n",
              "      <th>ABT</th>\n",
              "      <th>ABBV</th>\n",
              "      <th>ACN</th>\n",
              "      <th>ADBE</th>\n",
              "      <th>AMD</th>\n",
              "      <th>AES</th>\n",
              "      <th>AFL</th>\n",
              "      <th>A</th>\n",
              "      <th>...</th>\n",
              "      <th>WTW</th>\n",
              "      <th>GWW</th>\n",
              "      <th>WYNN</th>\n",
              "      <th>XEL</th>\n",
              "      <th>XYL</th>\n",
              "      <th>YUM</th>\n",
              "      <th>ZBRA</th>\n",
              "      <th>ZBH</th>\n",
              "      <th>ZION</th>\n",
              "      <th>ZTS</th>\n",
              "    </tr>\n",
              "    <tr>\n",
              "      <th>Date</th>\n",
              "      <th></th>\n",
              "      <th></th>\n",
              "      <th></th>\n",
              "      <th></th>\n",
              "      <th></th>\n",
              "      <th></th>\n",
              "      <th></th>\n",
              "      <th></th>\n",
              "      <th></th>\n",
              "      <th></th>\n",
              "      <th></th>\n",
              "      <th></th>\n",
              "      <th></th>\n",
              "      <th></th>\n",
              "      <th></th>\n",
              "      <th></th>\n",
              "      <th></th>\n",
              "      <th></th>\n",
              "      <th></th>\n",
              "      <th></th>\n",
              "      <th></th>\n",
              "    </tr>\n",
              "  </thead>\n",
              "  <tbody>\n",
              "    <tr>\n",
              "      <th>2018-12-19</th>\n",
              "      <td>-0.023643</td>\n",
              "      <td>-0.007437</td>\n",
              "      <td>-0.015411</td>\n",
              "      <td>-0.000718</td>\n",
              "      <td>-0.007756</td>\n",
              "      <td>-0.006765</td>\n",
              "      <td>-0.068718</td>\n",
              "      <td>-0.016021</td>\n",
              "      <td>-0.012573</td>\n",
              "      <td>-0.017061</td>\n",
              "      <td>...</td>\n",
              "      <td>-0.003949</td>\n",
              "      <td>-0.015661</td>\n",
              "      <td>-0.045591</td>\n",
              "      <td>-0.011070</td>\n",
              "      <td>0.011492</td>\n",
              "      <td>0.000222</td>\n",
              "      <td>-0.023875</td>\n",
              "      <td>-0.011533</td>\n",
              "      <td>-0.015456</td>\n",
              "      <td>-0.018237</td>\n",
              "    </tr>\n",
              "    <tr>\n",
              "      <th>2018-12-20</th>\n",
              "      <td>-0.013582</td>\n",
              "      <td>0.003746</td>\n",
              "      <td>-0.008986</td>\n",
              "      <td>0.022150</td>\n",
              "      <td>-0.049417</td>\n",
              "      <td>-0.026708</td>\n",
              "      <td>-0.012114</td>\n",
              "      <td>-0.003392</td>\n",
              "      <td>-0.013188</td>\n",
              "      <td>-0.024540</td>\n",
              "      <td>...</td>\n",
              "      <td>-0.013150</td>\n",
              "      <td>-0.011816</td>\n",
              "      <td>-0.005997</td>\n",
              "      <td>0.008837</td>\n",
              "      <td>-0.019499</td>\n",
              "      <td>-0.033289</td>\n",
              "      <td>-0.050616</td>\n",
              "      <td>-0.026683</td>\n",
              "      <td>-0.009718</td>\n",
              "      <td>-0.012224</td>\n",
              "    </tr>\n",
              "    <tr>\n",
              "      <th>2018-12-21</th>\n",
              "      <td>-0.019372</td>\n",
              "      <td>-0.020527</td>\n",
              "      <td>-0.016233</td>\n",
              "      <td>-0.005271</td>\n",
              "      <td>-0.043902</td>\n",
              "      <td>-0.045049</td>\n",
              "      <td>-0.056299</td>\n",
              "      <td>-0.016338</td>\n",
              "      <td>-0.003917</td>\n",
              "      <td>-0.029146</td>\n",
              "      <td>...</td>\n",
              "      <td>-0.015200</td>\n",
              "      <td>-0.010649</td>\n",
              "      <td>-0.044888</td>\n",
              "      <td>-0.009149</td>\n",
              "      <td>-0.006577</td>\n",
              "      <td>0.011708</td>\n",
              "      <td>-0.031393</td>\n",
              "      <td>-0.023484</td>\n",
              "      <td>-0.017111</td>\n",
              "      <td>-0.008978</td>\n",
              "    </tr>\n",
              "    <tr>\n",
              "      <th>2018-12-24</th>\n",
              "      <td>-0.027918</td>\n",
              "      <td>0.000476</td>\n",
              "      <td>-0.025420</td>\n",
              "      <td>-0.008950</td>\n",
              "      <td>-0.025729</td>\n",
              "      <td>-0.017433</td>\n",
              "      <td>-0.016539</td>\n",
              "      <td>-0.043599</td>\n",
              "      <td>-0.020819</td>\n",
              "      <td>-0.009796</td>\n",
              "      <td>...</td>\n",
              "      <td>-0.003128</td>\n",
              "      <td>-0.021234</td>\n",
              "      <td>-0.014988</td>\n",
              "      <td>-0.045187</td>\n",
              "      <td>-0.032472</td>\n",
              "      <td>-0.012707</td>\n",
              "      <td>-0.022906</td>\n",
              "      <td>-0.021634</td>\n",
              "      <td>-0.014081</td>\n",
              "      <td>-0.029383</td>\n",
              "    </tr>\n",
              "    <tr>\n",
              "      <th>2018-12-26</th>\n",
              "      <td>0.042772</td>\n",
              "      <td>0.027612</td>\n",
              "      <td>0.061928</td>\n",
              "      <td>0.057985</td>\n",
              "      <td>0.039949</td>\n",
              "      <td>0.086713</td>\n",
              "      <td>0.075075</td>\n",
              "      <td>0.033285</td>\n",
              "      <td>0.042759</td>\n",
              "      <td>0.045795</td>\n",
              "      <td>...</td>\n",
              "      <td>0.015347</td>\n",
              "      <td>0.045866</td>\n",
              "      <td>0.078470</td>\n",
              "      <td>0.019753</td>\n",
              "      <td>0.047084</td>\n",
              "      <td>0.034130</td>\n",
              "      <td>0.067320</td>\n",
              "      <td>0.049265</td>\n",
              "      <td>0.051935</td>\n",
              "      <td>0.045913</td>\n",
              "    </tr>\n",
              "    <tr>\n",
              "      <th>...</th>\n",
              "      <td>...</td>\n",
              "      <td>...</td>\n",
              "      <td>...</td>\n",
              "      <td>...</td>\n",
              "      <td>...</td>\n",
              "      <td>...</td>\n",
              "      <td>...</td>\n",
              "      <td>...</td>\n",
              "      <td>...</td>\n",
              "      <td>...</td>\n",
              "      <td>...</td>\n",
              "      <td>...</td>\n",
              "      <td>...</td>\n",
              "      <td>...</td>\n",
              "      <td>...</td>\n",
              "      <td>...</td>\n",
              "      <td>...</td>\n",
              "      <td>...</td>\n",
              "      <td>...</td>\n",
              "      <td>...</td>\n",
              "      <td>...</td>\n",
              "    </tr>\n",
              "    <tr>\n",
              "      <th>2023-12-11</th>\n",
              "      <td>-0.002032</td>\n",
              "      <td>0.000641</td>\n",
              "      <td>0.016362</td>\n",
              "      <td>0.013130</td>\n",
              "      <td>0.015064</td>\n",
              "      <td>0.024901</td>\n",
              "      <td>0.042585</td>\n",
              "      <td>-0.009330</td>\n",
              "      <td>0.006784</td>\n",
              "      <td>0.013915</td>\n",
              "      <td>...</td>\n",
              "      <td>0.008778</td>\n",
              "      <td>0.016653</td>\n",
              "      <td>0.021499</td>\n",
              "      <td>0.010507</td>\n",
              "      <td>0.012408</td>\n",
              "      <td>0.018417</td>\n",
              "      <td>0.014907</td>\n",
              "      <td>0.005797</td>\n",
              "      <td>-0.007706</td>\n",
              "      <td>0.026327</td>\n",
              "    </tr>\n",
              "    <tr>\n",
              "      <th>2023-12-12</th>\n",
              "      <td>-0.005816</td>\n",
              "      <td>0.018452</td>\n",
              "      <td>0.004331</td>\n",
              "      <td>0.013224</td>\n",
              "      <td>0.002658</td>\n",
              "      <td>0.013532</td>\n",
              "      <td>0.023808</td>\n",
              "      <td>0.008864</td>\n",
              "      <td>0.014920</td>\n",
              "      <td>-0.001396</td>\n",
              "      <td>...</td>\n",
              "      <td>0.006945</td>\n",
              "      <td>0.004441</td>\n",
              "      <td>0.002674</td>\n",
              "      <td>-0.006336</td>\n",
              "      <td>0.002228</td>\n",
              "      <td>0.011372</td>\n",
              "      <td>-0.001127</td>\n",
              "      <td>-0.004492</td>\n",
              "      <td>-0.012943</td>\n",
              "      <td>0.010609</td>\n",
              "    </tr>\n",
              "    <tr>\n",
              "      <th>2023-12-13</th>\n",
              "      <td>0.015893</td>\n",
              "      <td>0.000629</td>\n",
              "      <td>0.005343</td>\n",
              "      <td>0.006917</td>\n",
              "      <td>0.001224</td>\n",
              "      <td>-0.014834</td>\n",
              "      <td>0.004215</td>\n",
              "      <td>0.061505</td>\n",
              "      <td>-0.003794</td>\n",
              "      <td>0.038435</td>\n",
              "      <td>...</td>\n",
              "      <td>0.004503</td>\n",
              "      <td>-0.002753</td>\n",
              "      <td>0.020758</td>\n",
              "      <td>0.035481</td>\n",
              "      <td>0.011488</td>\n",
              "      <td>0.022331</td>\n",
              "      <td>0.021096</td>\n",
              "      <td>0.003831</td>\n",
              "      <td>0.096774</td>\n",
              "      <td>0.031023</td>\n",
              "    </tr>\n",
              "    <tr>\n",
              "      <th>2023-12-14</th>\n",
              "      <td>0.027354</td>\n",
              "      <td>0.013328</td>\n",
              "      <td>0.012587</td>\n",
              "      <td>0.003759</td>\n",
              "      <td>-0.002648</td>\n",
              "      <td>-0.063467</td>\n",
              "      <td>-0.001375</td>\n",
              "      <td>0.015520</td>\n",
              "      <td>-0.032726</td>\n",
              "      <td>0.031554</td>\n",
              "      <td>...</td>\n",
              "      <td>-0.039055</td>\n",
              "      <td>0.012213</td>\n",
              "      <td>0.020223</td>\n",
              "      <td>-0.012001</td>\n",
              "      <td>0.016029</td>\n",
              "      <td>0.001375</td>\n",
              "      <td>0.113448</td>\n",
              "      <td>0.005343</td>\n",
              "      <td>0.092061</td>\n",
              "      <td>0.013576</td>\n",
              "    </tr>\n",
              "    <tr>\n",
              "      <th>2023-12-15</th>\n",
              "      <td>-0.000561</td>\n",
              "      <td>-0.017248</td>\n",
              "      <td>-0.012063</td>\n",
              "      <td>-0.005424</td>\n",
              "      <td>0.004143</td>\n",
              "      <td>0.000068</td>\n",
              "      <td>0.008333</td>\n",
              "      <td>-0.014264</td>\n",
              "      <td>-0.008735</td>\n",
              "      <td>-0.008553</td>\n",
              "      <td>...</td>\n",
              "      <td>-0.005043</td>\n",
              "      <td>-0.006359</td>\n",
              "      <td>-0.011581</td>\n",
              "      <td>-0.015822</td>\n",
              "      <td>-0.001893</td>\n",
              "      <td>-0.018839</td>\n",
              "      <td>-0.007275</td>\n",
              "      <td>0.001350</td>\n",
              "      <td>-0.040070</td>\n",
              "      <td>-0.018991</td>\n",
              "    </tr>\n",
              "  </tbody>\n",
              "</table>\n",
              "<p>1257 rows × 503 columns</p>\n",
              "</div>\n",
              "    <div class=\"colab-df-buttons\">\n",
              "\n",
              "  <div class=\"colab-df-container\">\n",
              "    <button class=\"colab-df-convert\" onclick=\"convertToInteractive('df-42dd9e3b-be2a-46c1-9896-abf9d6ffe305')\"\n",
              "            title=\"Convert this dataframe to an interactive table.\"\n",
              "            style=\"display:none;\">\n",
              "\n",
              "  <svg xmlns=\"http://www.w3.org/2000/svg\" height=\"24px\" viewBox=\"0 -960 960 960\">\n",
              "    <path d=\"M120-120v-720h720v720H120Zm60-500h600v-160H180v160Zm220 220h160v-160H400v160Zm0 220h160v-160H400v160ZM180-400h160v-160H180v160Zm440 0h160v-160H620v160ZM180-180h160v-160H180v160Zm440 0h160v-160H620v160Z\"/>\n",
              "  </svg>\n",
              "    </button>\n",
              "\n",
              "  <style>\n",
              "    .colab-df-container {\n",
              "      display:flex;\n",
              "      gap: 12px;\n",
              "    }\n",
              "\n",
              "    .colab-df-convert {\n",
              "      background-color: #E8F0FE;\n",
              "      border: none;\n",
              "      border-radius: 50%;\n",
              "      cursor: pointer;\n",
              "      display: none;\n",
              "      fill: #1967D2;\n",
              "      height: 32px;\n",
              "      padding: 0 0 0 0;\n",
              "      width: 32px;\n",
              "    }\n",
              "\n",
              "    .colab-df-convert:hover {\n",
              "      background-color: #E2EBFA;\n",
              "      box-shadow: 0px 1px 2px rgba(60, 64, 67, 0.3), 0px 1px 3px 1px rgba(60, 64, 67, 0.15);\n",
              "      fill: #174EA6;\n",
              "    }\n",
              "\n",
              "    .colab-df-buttons div {\n",
              "      margin-bottom: 4px;\n",
              "    }\n",
              "\n",
              "    [theme=dark] .colab-df-convert {\n",
              "      background-color: #3B4455;\n",
              "      fill: #D2E3FC;\n",
              "    }\n",
              "\n",
              "    [theme=dark] .colab-df-convert:hover {\n",
              "      background-color: #434B5C;\n",
              "      box-shadow: 0px 1px 3px 1px rgba(0, 0, 0, 0.15);\n",
              "      filter: drop-shadow(0px 1px 2px rgba(0, 0, 0, 0.3));\n",
              "      fill: #FFFFFF;\n",
              "    }\n",
              "  </style>\n",
              "\n",
              "    <script>\n",
              "      const buttonEl =\n",
              "        document.querySelector('#df-42dd9e3b-be2a-46c1-9896-abf9d6ffe305 button.colab-df-convert');\n",
              "      buttonEl.style.display =\n",
              "        google.colab.kernel.accessAllowed ? 'block' : 'none';\n",
              "\n",
              "      async function convertToInteractive(key) {\n",
              "        const element = document.querySelector('#df-42dd9e3b-be2a-46c1-9896-abf9d6ffe305');\n",
              "        const dataTable =\n",
              "          await google.colab.kernel.invokeFunction('convertToInteractive',\n",
              "                                                    [key], {});\n",
              "        if (!dataTable) return;\n",
              "\n",
              "        const docLinkHtml = 'Like what you see? Visit the ' +\n",
              "          '<a target=\"_blank\" href=https://colab.research.google.com/notebooks/data_table.ipynb>data table notebook</a>'\n",
              "          + ' to learn more about interactive tables.';\n",
              "        element.innerHTML = '';\n",
              "        dataTable['output_type'] = 'display_data';\n",
              "        await google.colab.output.renderOutput(dataTable, element);\n",
              "        const docLink = document.createElement('div');\n",
              "        docLink.innerHTML = docLinkHtml;\n",
              "        element.appendChild(docLink);\n",
              "      }\n",
              "    </script>\n",
              "  </div>\n",
              "\n",
              "\n",
              "<div id=\"df-10ecf5d3-5c8b-4c24-8562-a2cc30d9f26d\">\n",
              "  <button class=\"colab-df-quickchart\" onclick=\"quickchart('df-10ecf5d3-5c8b-4c24-8562-a2cc30d9f26d')\"\n",
              "            title=\"Suggest charts\"\n",
              "            style=\"display:none;\">\n",
              "\n",
              "<svg xmlns=\"http://www.w3.org/2000/svg\" height=\"24px\"viewBox=\"0 0 24 24\"\n",
              "     width=\"24px\">\n",
              "    <g>\n",
              "        <path d=\"M19 3H5c-1.1 0-2 .9-2 2v14c0 1.1.9 2 2 2h14c1.1 0 2-.9 2-2V5c0-1.1-.9-2-2-2zM9 17H7v-7h2v7zm4 0h-2V7h2v10zm4 0h-2v-4h2v4z\"/>\n",
              "    </g>\n",
              "</svg>\n",
              "  </button>\n",
              "\n",
              "<style>\n",
              "  .colab-df-quickchart {\n",
              "      --bg-color: #E8F0FE;\n",
              "      --fill-color: #1967D2;\n",
              "      --hover-bg-color: #E2EBFA;\n",
              "      --hover-fill-color: #174EA6;\n",
              "      --disabled-fill-color: #AAA;\n",
              "      --disabled-bg-color: #DDD;\n",
              "  }\n",
              "\n",
              "  [theme=dark] .colab-df-quickchart {\n",
              "      --bg-color: #3B4455;\n",
              "      --fill-color: #D2E3FC;\n",
              "      --hover-bg-color: #434B5C;\n",
              "      --hover-fill-color: #FFFFFF;\n",
              "      --disabled-bg-color: #3B4455;\n",
              "      --disabled-fill-color: #666;\n",
              "  }\n",
              "\n",
              "  .colab-df-quickchart {\n",
              "    background-color: var(--bg-color);\n",
              "    border: none;\n",
              "    border-radius: 50%;\n",
              "    cursor: pointer;\n",
              "    display: none;\n",
              "    fill: var(--fill-color);\n",
              "    height: 32px;\n",
              "    padding: 0;\n",
              "    width: 32px;\n",
              "  }\n",
              "\n",
              "  .colab-df-quickchart:hover {\n",
              "    background-color: var(--hover-bg-color);\n",
              "    box-shadow: 0 1px 2px rgba(60, 64, 67, 0.3), 0 1px 3px 1px rgba(60, 64, 67, 0.15);\n",
              "    fill: var(--button-hover-fill-color);\n",
              "  }\n",
              "\n",
              "  .colab-df-quickchart-complete:disabled,\n",
              "  .colab-df-quickchart-complete:disabled:hover {\n",
              "    background-color: var(--disabled-bg-color);\n",
              "    fill: var(--disabled-fill-color);\n",
              "    box-shadow: none;\n",
              "  }\n",
              "\n",
              "  .colab-df-spinner {\n",
              "    border: 2px solid var(--fill-color);\n",
              "    border-color: transparent;\n",
              "    border-bottom-color: var(--fill-color);\n",
              "    animation:\n",
              "      spin 1s steps(1) infinite;\n",
              "  }\n",
              "\n",
              "  @keyframes spin {\n",
              "    0% {\n",
              "      border-color: transparent;\n",
              "      border-bottom-color: var(--fill-color);\n",
              "      border-left-color: var(--fill-color);\n",
              "    }\n",
              "    20% {\n",
              "      border-color: transparent;\n",
              "      border-left-color: var(--fill-color);\n",
              "      border-top-color: var(--fill-color);\n",
              "    }\n",
              "    30% {\n",
              "      border-color: transparent;\n",
              "      border-left-color: var(--fill-color);\n",
              "      border-top-color: var(--fill-color);\n",
              "      border-right-color: var(--fill-color);\n",
              "    }\n",
              "    40% {\n",
              "      border-color: transparent;\n",
              "      border-right-color: var(--fill-color);\n",
              "      border-top-color: var(--fill-color);\n",
              "    }\n",
              "    60% {\n",
              "      border-color: transparent;\n",
              "      border-right-color: var(--fill-color);\n",
              "    }\n",
              "    80% {\n",
              "      border-color: transparent;\n",
              "      border-right-color: var(--fill-color);\n",
              "      border-bottom-color: var(--fill-color);\n",
              "    }\n",
              "    90% {\n",
              "      border-color: transparent;\n",
              "      border-bottom-color: var(--fill-color);\n",
              "    }\n",
              "  }\n",
              "</style>\n",
              "\n",
              "  <script>\n",
              "    async function quickchart(key) {\n",
              "      const quickchartButtonEl =\n",
              "        document.querySelector('#' + key + ' button');\n",
              "      quickchartButtonEl.disabled = true;  // To prevent multiple clicks.\n",
              "      quickchartButtonEl.classList.add('colab-df-spinner');\n",
              "      try {\n",
              "        const charts = await google.colab.kernel.invokeFunction(\n",
              "            'suggestCharts', [key], {});\n",
              "      } catch (error) {\n",
              "        console.error('Error during call to suggestCharts:', error);\n",
              "      }\n",
              "      quickchartButtonEl.classList.remove('colab-df-spinner');\n",
              "      quickchartButtonEl.classList.add('colab-df-quickchart-complete');\n",
              "    }\n",
              "    (() => {\n",
              "      let quickchartButtonEl =\n",
              "        document.querySelector('#df-10ecf5d3-5c8b-4c24-8562-a2cc30d9f26d button');\n",
              "      quickchartButtonEl.style.display =\n",
              "        google.colab.kernel.accessAllowed ? 'block' : 'none';\n",
              "    })();\n",
              "  </script>\n",
              "</div>\n",
              "    </div>\n",
              "  </div>\n"
            ]
          },
          "metadata": {},
          "execution_count": 126
        }
      ]
    },
    {
      "cell_type": "code",
      "source": [
        "# Calculate the average of ROR for each companies\n",
        "ror_average = ror_close_prices.mean()\n",
        "ror_average_list = ror_average.tolist()\n",
        "\n",
        "# Convert the list to a NumPy array\n",
        "ror_average_array = np.array(ror_average_list)\n",
        "\n",
        "# Replace NaN values with 0\n",
        "ror_average_array[np.isnan(ror_average_array)] = 0\n",
        "\n",
        "# Convert the array back to a list\n",
        "ror_average_list = ror_average_array.tolist()"
      ],
      "metadata": {
        "id": "pE6_EYXcMlmd"
      },
      "execution_count": null,
      "outputs": []
    },
    {
      "cell_type": "markdown",
      "source": [
        "## Covariance Matrix"
      ],
      "metadata": {
        "id": "4Nd31ARih9Yc"
      }
    },
    {
      "cell_type": "code",
      "source": [
        "# Calculate the covariance matrix of the daily returns\n",
        "covariance_matrix = ror_close_prices.cov()\n",
        "covariance_matrix"
      ],
      "metadata": {
        "colab": {
          "base_uri": "https://localhost:8080/",
          "height": 444
        },
        "id": "-3mujKO-h_yo",
        "outputId": "4273e034-7cd7-4286-84d9-52cf79956b08"
      },
      "execution_count": null,
      "outputs": [
        {
          "output_type": "execute_result",
          "data": {
            "text/plain": [
              "           MMM       AOS       ABT      ABBV       ACN      ADBE       AMD  \\\n",
              "MMM   0.000311  0.000184  0.000130  0.000094  0.000168  0.000136  0.000186   \n",
              "AOS   0.000184  0.000366  0.000116  0.000081  0.000165  0.000162  0.000215   \n",
              "ABT   0.000130  0.000116  0.000281  0.000124  0.000172  0.000193  0.000222   \n",
              "ABBV  0.000094  0.000081  0.000124  0.000262  0.000114  0.000115  0.000120   \n",
              "ACN   0.000168  0.000165  0.000172  0.000114  0.000322  0.000270  0.000301   \n",
              "...        ...       ...       ...       ...       ...       ...       ...   \n",
              "YUM   0.000126  0.000118  0.000122  0.000083  0.000161  0.000139  0.000187   \n",
              "ZBRA  0.000226  0.000256  0.000199  0.000115  0.000273  0.000325  0.000441   \n",
              "ZBH   0.000153  0.000133  0.000151  0.000114  0.000191  0.000161  0.000204   \n",
              "ZION  0.000247  0.000242  0.000134  0.000118  0.000217  0.000155  0.000237   \n",
              "ZTS   0.000132  0.000131  0.000183  0.000118  0.000202  0.000231  0.000263   \n",
              "\n",
              "           AES       AFL         A  ...       WTW       GWW      WYNN  \\\n",
              "MMM   0.000170  0.000167  0.000144  ...  0.000125  0.000185  0.000229   \n",
              "AOS   0.000180  0.000170  0.000157  ...  0.000135  0.000206  0.000261   \n",
              "ABT   0.000135  0.000126  0.000191  ...  0.000141  0.000143  0.000131   \n",
              "ABBV  0.000114  0.000116  0.000114  ...  0.000093  0.000098  0.000131   \n",
              "ACN   0.000232  0.000180  0.000204  ...  0.000179  0.000183  0.000256   \n",
              "...        ...       ...       ...  ...       ...       ...       ...   \n",
              "YUM   0.000181  0.000183  0.000131  ...  0.000145  0.000146  0.000257   \n",
              "ZBRA  0.000278  0.000206  0.000270  ...  0.000181  0.000242  0.000370   \n",
              "ZBH   0.000236  0.000211  0.000165  ...  0.000154  0.000149  0.000340   \n",
              "ZION  0.000320  0.000336  0.000199  ...  0.000185  0.000225  0.000490   \n",
              "ZTS   0.000180  0.000148  0.000210  ...  0.000157  0.000153  0.000212   \n",
              "\n",
              "           XEL       XYL       YUM      ZBRA       ZBH      ZION       ZTS  \n",
              "MMM   0.000105  0.000210  0.000126  0.000226  0.000153  0.000247  0.000132  \n",
              "AOS   0.000092  0.000228  0.000118  0.000256  0.000133  0.000242  0.000131  \n",
              "ABT   0.000131  0.000166  0.000122  0.000199  0.000151  0.000134  0.000183  \n",
              "ABBV  0.000087  0.000102  0.000083  0.000115  0.000114  0.000118  0.000118  \n",
              "ACN   0.000128  0.000222  0.000161  0.000273  0.000191  0.000217  0.000202  \n",
              "...        ...       ...       ...       ...       ...       ...       ...  \n",
              "YUM   0.000112  0.000169  0.000269  0.000169  0.000178  0.000163  0.000155  \n",
              "ZBRA  0.000115  0.000266  0.000169  0.000686  0.000213  0.000324  0.000242  \n",
              "ZBH   0.000099  0.000193  0.000178  0.000213  0.000395  0.000251  0.000160  \n",
              "ZION  0.000109  0.000283  0.000163  0.000324  0.000251  0.000873  0.000144  \n",
              "ZTS   0.000127  0.000177  0.000155  0.000242  0.000160  0.000144  0.000322  \n",
              "\n",
              "[503 rows x 503 columns]"
            ],
            "text/html": [
              "\n",
              "  <div id=\"df-05ed0961-9429-4380-b584-766feab5e5bd\" class=\"colab-df-container\">\n",
              "    <div>\n",
              "<style scoped>\n",
              "    .dataframe tbody tr th:only-of-type {\n",
              "        vertical-align: middle;\n",
              "    }\n",
              "\n",
              "    .dataframe tbody tr th {\n",
              "        vertical-align: top;\n",
              "    }\n",
              "\n",
              "    .dataframe thead th {\n",
              "        text-align: right;\n",
              "    }\n",
              "</style>\n",
              "<table border=\"1\" class=\"dataframe\">\n",
              "  <thead>\n",
              "    <tr style=\"text-align: right;\">\n",
              "      <th></th>\n",
              "      <th>MMM</th>\n",
              "      <th>AOS</th>\n",
              "      <th>ABT</th>\n",
              "      <th>ABBV</th>\n",
              "      <th>ACN</th>\n",
              "      <th>ADBE</th>\n",
              "      <th>AMD</th>\n",
              "      <th>AES</th>\n",
              "      <th>AFL</th>\n",
              "      <th>A</th>\n",
              "      <th>...</th>\n",
              "      <th>WTW</th>\n",
              "      <th>GWW</th>\n",
              "      <th>WYNN</th>\n",
              "      <th>XEL</th>\n",
              "      <th>XYL</th>\n",
              "      <th>YUM</th>\n",
              "      <th>ZBRA</th>\n",
              "      <th>ZBH</th>\n",
              "      <th>ZION</th>\n",
              "      <th>ZTS</th>\n",
              "    </tr>\n",
              "  </thead>\n",
              "  <tbody>\n",
              "    <tr>\n",
              "      <th>MMM</th>\n",
              "      <td>0.000311</td>\n",
              "      <td>0.000184</td>\n",
              "      <td>0.000130</td>\n",
              "      <td>0.000094</td>\n",
              "      <td>0.000168</td>\n",
              "      <td>0.000136</td>\n",
              "      <td>0.000186</td>\n",
              "      <td>0.000170</td>\n",
              "      <td>0.000167</td>\n",
              "      <td>0.000144</td>\n",
              "      <td>...</td>\n",
              "      <td>0.000125</td>\n",
              "      <td>0.000185</td>\n",
              "      <td>0.000229</td>\n",
              "      <td>0.000105</td>\n",
              "      <td>0.000210</td>\n",
              "      <td>0.000126</td>\n",
              "      <td>0.000226</td>\n",
              "      <td>0.000153</td>\n",
              "      <td>0.000247</td>\n",
              "      <td>0.000132</td>\n",
              "    </tr>\n",
              "    <tr>\n",
              "      <th>AOS</th>\n",
              "      <td>0.000184</td>\n",
              "      <td>0.000366</td>\n",
              "      <td>0.000116</td>\n",
              "      <td>0.000081</td>\n",
              "      <td>0.000165</td>\n",
              "      <td>0.000162</td>\n",
              "      <td>0.000215</td>\n",
              "      <td>0.000180</td>\n",
              "      <td>0.000170</td>\n",
              "      <td>0.000157</td>\n",
              "      <td>...</td>\n",
              "      <td>0.000135</td>\n",
              "      <td>0.000206</td>\n",
              "      <td>0.000261</td>\n",
              "      <td>0.000092</td>\n",
              "      <td>0.000228</td>\n",
              "      <td>0.000118</td>\n",
              "      <td>0.000256</td>\n",
              "      <td>0.000133</td>\n",
              "      <td>0.000242</td>\n",
              "      <td>0.000131</td>\n",
              "    </tr>\n",
              "    <tr>\n",
              "      <th>ABT</th>\n",
              "      <td>0.000130</td>\n",
              "      <td>0.000116</td>\n",
              "      <td>0.000281</td>\n",
              "      <td>0.000124</td>\n",
              "      <td>0.000172</td>\n",
              "      <td>0.000193</td>\n",
              "      <td>0.000222</td>\n",
              "      <td>0.000135</td>\n",
              "      <td>0.000126</td>\n",
              "      <td>0.000191</td>\n",
              "      <td>...</td>\n",
              "      <td>0.000141</td>\n",
              "      <td>0.000143</td>\n",
              "      <td>0.000131</td>\n",
              "      <td>0.000131</td>\n",
              "      <td>0.000166</td>\n",
              "      <td>0.000122</td>\n",
              "      <td>0.000199</td>\n",
              "      <td>0.000151</td>\n",
              "      <td>0.000134</td>\n",
              "      <td>0.000183</td>\n",
              "    </tr>\n",
              "    <tr>\n",
              "      <th>ABBV</th>\n",
              "      <td>0.000094</td>\n",
              "      <td>0.000081</td>\n",
              "      <td>0.000124</td>\n",
              "      <td>0.000262</td>\n",
              "      <td>0.000114</td>\n",
              "      <td>0.000115</td>\n",
              "      <td>0.000120</td>\n",
              "      <td>0.000114</td>\n",
              "      <td>0.000116</td>\n",
              "      <td>0.000114</td>\n",
              "      <td>...</td>\n",
              "      <td>0.000093</td>\n",
              "      <td>0.000098</td>\n",
              "      <td>0.000131</td>\n",
              "      <td>0.000087</td>\n",
              "      <td>0.000102</td>\n",
              "      <td>0.000083</td>\n",
              "      <td>0.000115</td>\n",
              "      <td>0.000114</td>\n",
              "      <td>0.000118</td>\n",
              "      <td>0.000118</td>\n",
              "    </tr>\n",
              "    <tr>\n",
              "      <th>ACN</th>\n",
              "      <td>0.000168</td>\n",
              "      <td>0.000165</td>\n",
              "      <td>0.000172</td>\n",
              "      <td>0.000114</td>\n",
              "      <td>0.000322</td>\n",
              "      <td>0.000270</td>\n",
              "      <td>0.000301</td>\n",
              "      <td>0.000232</td>\n",
              "      <td>0.000180</td>\n",
              "      <td>0.000204</td>\n",
              "      <td>...</td>\n",
              "      <td>0.000179</td>\n",
              "      <td>0.000183</td>\n",
              "      <td>0.000256</td>\n",
              "      <td>0.000128</td>\n",
              "      <td>0.000222</td>\n",
              "      <td>0.000161</td>\n",
              "      <td>0.000273</td>\n",
              "      <td>0.000191</td>\n",
              "      <td>0.000217</td>\n",
              "      <td>0.000202</td>\n",
              "    </tr>\n",
              "    <tr>\n",
              "      <th>...</th>\n",
              "      <td>...</td>\n",
              "      <td>...</td>\n",
              "      <td>...</td>\n",
              "      <td>...</td>\n",
              "      <td>...</td>\n",
              "      <td>...</td>\n",
              "      <td>...</td>\n",
              "      <td>...</td>\n",
              "      <td>...</td>\n",
              "      <td>...</td>\n",
              "      <td>...</td>\n",
              "      <td>...</td>\n",
              "      <td>...</td>\n",
              "      <td>...</td>\n",
              "      <td>...</td>\n",
              "      <td>...</td>\n",
              "      <td>...</td>\n",
              "      <td>...</td>\n",
              "      <td>...</td>\n",
              "      <td>...</td>\n",
              "      <td>...</td>\n",
              "    </tr>\n",
              "    <tr>\n",
              "      <th>YUM</th>\n",
              "      <td>0.000126</td>\n",
              "      <td>0.000118</td>\n",
              "      <td>0.000122</td>\n",
              "      <td>0.000083</td>\n",
              "      <td>0.000161</td>\n",
              "      <td>0.000139</td>\n",
              "      <td>0.000187</td>\n",
              "      <td>0.000181</td>\n",
              "      <td>0.000183</td>\n",
              "      <td>0.000131</td>\n",
              "      <td>...</td>\n",
              "      <td>0.000145</td>\n",
              "      <td>0.000146</td>\n",
              "      <td>0.000257</td>\n",
              "      <td>0.000112</td>\n",
              "      <td>0.000169</td>\n",
              "      <td>0.000269</td>\n",
              "      <td>0.000169</td>\n",
              "      <td>0.000178</td>\n",
              "      <td>0.000163</td>\n",
              "      <td>0.000155</td>\n",
              "    </tr>\n",
              "    <tr>\n",
              "      <th>ZBRA</th>\n",
              "      <td>0.000226</td>\n",
              "      <td>0.000256</td>\n",
              "      <td>0.000199</td>\n",
              "      <td>0.000115</td>\n",
              "      <td>0.000273</td>\n",
              "      <td>0.000325</td>\n",
              "      <td>0.000441</td>\n",
              "      <td>0.000278</td>\n",
              "      <td>0.000206</td>\n",
              "      <td>0.000270</td>\n",
              "      <td>...</td>\n",
              "      <td>0.000181</td>\n",
              "      <td>0.000242</td>\n",
              "      <td>0.000370</td>\n",
              "      <td>0.000115</td>\n",
              "      <td>0.000266</td>\n",
              "      <td>0.000169</td>\n",
              "      <td>0.000686</td>\n",
              "      <td>0.000213</td>\n",
              "      <td>0.000324</td>\n",
              "      <td>0.000242</td>\n",
              "    </tr>\n",
              "    <tr>\n",
              "      <th>ZBH</th>\n",
              "      <td>0.000153</td>\n",
              "      <td>0.000133</td>\n",
              "      <td>0.000151</td>\n",
              "      <td>0.000114</td>\n",
              "      <td>0.000191</td>\n",
              "      <td>0.000161</td>\n",
              "      <td>0.000204</td>\n",
              "      <td>0.000236</td>\n",
              "      <td>0.000211</td>\n",
              "      <td>0.000165</td>\n",
              "      <td>...</td>\n",
              "      <td>0.000154</td>\n",
              "      <td>0.000149</td>\n",
              "      <td>0.000340</td>\n",
              "      <td>0.000099</td>\n",
              "      <td>0.000193</td>\n",
              "      <td>0.000178</td>\n",
              "      <td>0.000213</td>\n",
              "      <td>0.000395</td>\n",
              "      <td>0.000251</td>\n",
              "      <td>0.000160</td>\n",
              "    </tr>\n",
              "    <tr>\n",
              "      <th>ZION</th>\n",
              "      <td>0.000247</td>\n",
              "      <td>0.000242</td>\n",
              "      <td>0.000134</td>\n",
              "      <td>0.000118</td>\n",
              "      <td>0.000217</td>\n",
              "      <td>0.000155</td>\n",
              "      <td>0.000237</td>\n",
              "      <td>0.000320</td>\n",
              "      <td>0.000336</td>\n",
              "      <td>0.000199</td>\n",
              "      <td>...</td>\n",
              "      <td>0.000185</td>\n",
              "      <td>0.000225</td>\n",
              "      <td>0.000490</td>\n",
              "      <td>0.000109</td>\n",
              "      <td>0.000283</td>\n",
              "      <td>0.000163</td>\n",
              "      <td>0.000324</td>\n",
              "      <td>0.000251</td>\n",
              "      <td>0.000873</td>\n",
              "      <td>0.000144</td>\n",
              "    </tr>\n",
              "    <tr>\n",
              "      <th>ZTS</th>\n",
              "      <td>0.000132</td>\n",
              "      <td>0.000131</td>\n",
              "      <td>0.000183</td>\n",
              "      <td>0.000118</td>\n",
              "      <td>0.000202</td>\n",
              "      <td>0.000231</td>\n",
              "      <td>0.000263</td>\n",
              "      <td>0.000180</td>\n",
              "      <td>0.000148</td>\n",
              "      <td>0.000210</td>\n",
              "      <td>...</td>\n",
              "      <td>0.000157</td>\n",
              "      <td>0.000153</td>\n",
              "      <td>0.000212</td>\n",
              "      <td>0.000127</td>\n",
              "      <td>0.000177</td>\n",
              "      <td>0.000155</td>\n",
              "      <td>0.000242</td>\n",
              "      <td>0.000160</td>\n",
              "      <td>0.000144</td>\n",
              "      <td>0.000322</td>\n",
              "    </tr>\n",
              "  </tbody>\n",
              "</table>\n",
              "<p>503 rows × 503 columns</p>\n",
              "</div>\n",
              "    <div class=\"colab-df-buttons\">\n",
              "\n",
              "  <div class=\"colab-df-container\">\n",
              "    <button class=\"colab-df-convert\" onclick=\"convertToInteractive('df-05ed0961-9429-4380-b584-766feab5e5bd')\"\n",
              "            title=\"Convert this dataframe to an interactive table.\"\n",
              "            style=\"display:none;\">\n",
              "\n",
              "  <svg xmlns=\"http://www.w3.org/2000/svg\" height=\"24px\" viewBox=\"0 -960 960 960\">\n",
              "    <path d=\"M120-120v-720h720v720H120Zm60-500h600v-160H180v160Zm220 220h160v-160H400v160Zm0 220h160v-160H400v160ZM180-400h160v-160H180v160Zm440 0h160v-160H620v160ZM180-180h160v-160H180v160Zm440 0h160v-160H620v160Z\"/>\n",
              "  </svg>\n",
              "    </button>\n",
              "\n",
              "  <style>\n",
              "    .colab-df-container {\n",
              "      display:flex;\n",
              "      gap: 12px;\n",
              "    }\n",
              "\n",
              "    .colab-df-convert {\n",
              "      background-color: #E8F0FE;\n",
              "      border: none;\n",
              "      border-radius: 50%;\n",
              "      cursor: pointer;\n",
              "      display: none;\n",
              "      fill: #1967D2;\n",
              "      height: 32px;\n",
              "      padding: 0 0 0 0;\n",
              "      width: 32px;\n",
              "    }\n",
              "\n",
              "    .colab-df-convert:hover {\n",
              "      background-color: #E2EBFA;\n",
              "      box-shadow: 0px 1px 2px rgba(60, 64, 67, 0.3), 0px 1px 3px 1px rgba(60, 64, 67, 0.15);\n",
              "      fill: #174EA6;\n",
              "    }\n",
              "\n",
              "    .colab-df-buttons div {\n",
              "      margin-bottom: 4px;\n",
              "    }\n",
              "\n",
              "    [theme=dark] .colab-df-convert {\n",
              "      background-color: #3B4455;\n",
              "      fill: #D2E3FC;\n",
              "    }\n",
              "\n",
              "    [theme=dark] .colab-df-convert:hover {\n",
              "      background-color: #434B5C;\n",
              "      box-shadow: 0px 1px 3px 1px rgba(0, 0, 0, 0.15);\n",
              "      filter: drop-shadow(0px 1px 2px rgba(0, 0, 0, 0.3));\n",
              "      fill: #FFFFFF;\n",
              "    }\n",
              "  </style>\n",
              "\n",
              "    <script>\n",
              "      const buttonEl =\n",
              "        document.querySelector('#df-05ed0961-9429-4380-b584-766feab5e5bd button.colab-df-convert');\n",
              "      buttonEl.style.display =\n",
              "        google.colab.kernel.accessAllowed ? 'block' : 'none';\n",
              "\n",
              "      async function convertToInteractive(key) {\n",
              "        const element = document.querySelector('#df-05ed0961-9429-4380-b584-766feab5e5bd');\n",
              "        const dataTable =\n",
              "          await google.colab.kernel.invokeFunction('convertToInteractive',\n",
              "                                                    [key], {});\n",
              "        if (!dataTable) return;\n",
              "\n",
              "        const docLinkHtml = 'Like what you see? Visit the ' +\n",
              "          '<a target=\"_blank\" href=https://colab.research.google.com/notebooks/data_table.ipynb>data table notebook</a>'\n",
              "          + ' to learn more about interactive tables.';\n",
              "        element.innerHTML = '';\n",
              "        dataTable['output_type'] = 'display_data';\n",
              "        await google.colab.output.renderOutput(dataTable, element);\n",
              "        const docLink = document.createElement('div');\n",
              "        docLink.innerHTML = docLinkHtml;\n",
              "        element.appendChild(docLink);\n",
              "      }\n",
              "    </script>\n",
              "  </div>\n",
              "\n",
              "\n",
              "<div id=\"df-5a9b6e25-395b-4d46-b668-ea39f74b5d83\">\n",
              "  <button class=\"colab-df-quickchart\" onclick=\"quickchart('df-5a9b6e25-395b-4d46-b668-ea39f74b5d83')\"\n",
              "            title=\"Suggest charts\"\n",
              "            style=\"display:none;\">\n",
              "\n",
              "<svg xmlns=\"http://www.w3.org/2000/svg\" height=\"24px\"viewBox=\"0 0 24 24\"\n",
              "     width=\"24px\">\n",
              "    <g>\n",
              "        <path d=\"M19 3H5c-1.1 0-2 .9-2 2v14c0 1.1.9 2 2 2h14c1.1 0 2-.9 2-2V5c0-1.1-.9-2-2-2zM9 17H7v-7h2v7zm4 0h-2V7h2v10zm4 0h-2v-4h2v4z\"/>\n",
              "    </g>\n",
              "</svg>\n",
              "  </button>\n",
              "\n",
              "<style>\n",
              "  .colab-df-quickchart {\n",
              "      --bg-color: #E8F0FE;\n",
              "      --fill-color: #1967D2;\n",
              "      --hover-bg-color: #E2EBFA;\n",
              "      --hover-fill-color: #174EA6;\n",
              "      --disabled-fill-color: #AAA;\n",
              "      --disabled-bg-color: #DDD;\n",
              "  }\n",
              "\n",
              "  [theme=dark] .colab-df-quickchart {\n",
              "      --bg-color: #3B4455;\n",
              "      --fill-color: #D2E3FC;\n",
              "      --hover-bg-color: #434B5C;\n",
              "      --hover-fill-color: #FFFFFF;\n",
              "      --disabled-bg-color: #3B4455;\n",
              "      --disabled-fill-color: #666;\n",
              "  }\n",
              "\n",
              "  .colab-df-quickchart {\n",
              "    background-color: var(--bg-color);\n",
              "    border: none;\n",
              "    border-radius: 50%;\n",
              "    cursor: pointer;\n",
              "    display: none;\n",
              "    fill: var(--fill-color);\n",
              "    height: 32px;\n",
              "    padding: 0;\n",
              "    width: 32px;\n",
              "  }\n",
              "\n",
              "  .colab-df-quickchart:hover {\n",
              "    background-color: var(--hover-bg-color);\n",
              "    box-shadow: 0 1px 2px rgba(60, 64, 67, 0.3), 0 1px 3px 1px rgba(60, 64, 67, 0.15);\n",
              "    fill: var(--button-hover-fill-color);\n",
              "  }\n",
              "\n",
              "  .colab-df-quickchart-complete:disabled,\n",
              "  .colab-df-quickchart-complete:disabled:hover {\n",
              "    background-color: var(--disabled-bg-color);\n",
              "    fill: var(--disabled-fill-color);\n",
              "    box-shadow: none;\n",
              "  }\n",
              "\n",
              "  .colab-df-spinner {\n",
              "    border: 2px solid var(--fill-color);\n",
              "    border-color: transparent;\n",
              "    border-bottom-color: var(--fill-color);\n",
              "    animation:\n",
              "      spin 1s steps(1) infinite;\n",
              "  }\n",
              "\n",
              "  @keyframes spin {\n",
              "    0% {\n",
              "      border-color: transparent;\n",
              "      border-bottom-color: var(--fill-color);\n",
              "      border-left-color: var(--fill-color);\n",
              "    }\n",
              "    20% {\n",
              "      border-color: transparent;\n",
              "      border-left-color: var(--fill-color);\n",
              "      border-top-color: var(--fill-color);\n",
              "    }\n",
              "    30% {\n",
              "      border-color: transparent;\n",
              "      border-left-color: var(--fill-color);\n",
              "      border-top-color: var(--fill-color);\n",
              "      border-right-color: var(--fill-color);\n",
              "    }\n",
              "    40% {\n",
              "      border-color: transparent;\n",
              "      border-right-color: var(--fill-color);\n",
              "      border-top-color: var(--fill-color);\n",
              "    }\n",
              "    60% {\n",
              "      border-color: transparent;\n",
              "      border-right-color: var(--fill-color);\n",
              "    }\n",
              "    80% {\n",
              "      border-color: transparent;\n",
              "      border-right-color: var(--fill-color);\n",
              "      border-bottom-color: var(--fill-color);\n",
              "    }\n",
              "    90% {\n",
              "      border-color: transparent;\n",
              "      border-bottom-color: var(--fill-color);\n",
              "    }\n",
              "  }\n",
              "</style>\n",
              "\n",
              "  <script>\n",
              "    async function quickchart(key) {\n",
              "      const quickchartButtonEl =\n",
              "        document.querySelector('#' + key + ' button');\n",
              "      quickchartButtonEl.disabled = true;  // To prevent multiple clicks.\n",
              "      quickchartButtonEl.classList.add('colab-df-spinner');\n",
              "      try {\n",
              "        const charts = await google.colab.kernel.invokeFunction(\n",
              "            'suggestCharts', [key], {});\n",
              "      } catch (error) {\n",
              "        console.error('Error during call to suggestCharts:', error);\n",
              "      }\n",
              "      quickchartButtonEl.classList.remove('colab-df-spinner');\n",
              "      quickchartButtonEl.classList.add('colab-df-quickchart-complete');\n",
              "    }\n",
              "    (() => {\n",
              "      let quickchartButtonEl =\n",
              "        document.querySelector('#df-5a9b6e25-395b-4d46-b668-ea39f74b5d83 button');\n",
              "      quickchartButtonEl.style.display =\n",
              "        google.colab.kernel.accessAllowed ? 'block' : 'none';\n",
              "    })();\n",
              "  </script>\n",
              "</div>\n",
              "    </div>\n",
              "  </div>\n"
            ]
          },
          "metadata": {},
          "execution_count": 130
        }
      ]
    },
    {
      "cell_type": "code",
      "source": [
        "covariance_matrix_list = covariance_matrix.values.tolist()\n",
        "\n",
        "# Convert the list to a NumPy array\n",
        "covariance_matrix_array = np.array(covariance_matrix_list)\n",
        "\n",
        "# Replace NaN values with 0\n",
        "covariance_matrix_array[np.isnan(covariance_matrix_array)] = 0\n",
        "\n",
        "# Convert the array back to a list\n",
        "covariance_matrix_list = covariance_matrix_array.tolist()"
      ],
      "metadata": {
        "id": "audt4c7MQg8Q"
      },
      "execution_count": null,
      "outputs": []
    },
    {
      "cell_type": "markdown",
      "source": [
        "## Optimization Model"
      ],
      "metadata": {
        "id": "jv_dCRWQmLtt"
      }
    },
    {
      "cell_type": "code",
      "source": [
        "def stock_model(risk, ror_average_list, covariance_matrix_list):\n",
        "\n",
        "  #initialize a \"Concrete Model\"\n",
        "  model = ConcreteModel()\n",
        "\n",
        "  stock_num = len(ror_average_list)\n",
        "\n",
        "  #initialize DVs\n",
        "  model.x = Var(range(stock_num), domain = NonNegativeReals, initialize=0.2)  #model.x[i] #Initialize with non-zero values\n",
        "\n",
        "  #define the objective - Maximum Year of Return (YoR)\n",
        "  #model.obj = Objective(expr = (1 + sum(ror_average[i] * model.x[i] for i in range(stock_num)))**252-1, sense = maximize)\n",
        "  model.obj = Objective(expr = sum(ror_average_list[i] * model.x[i] for i in range(stock_num)), sense = maximize)\n",
        "\n",
        "\n",
        "  #Constraint1: Standard Deviation of RoR\n",
        "  def portfolio_variance(model):\n",
        "        var_expr = sum(sum(model.x[i] * covariance_matrix_list[i][j] * model.x[j] for i in range(stock_num)) for j in range(stock_num))\n",
        "        return var_expr + 1e-6  # Ensure positive value to avoid sqrt of negative number\n",
        "\n",
        "  # Use Pyomo's sqrt function to avoid issues\n",
        "  model.min_risk = Constraint(expr = sqrt(portfolio_variance(model)) * sqrt(252) <= risk)\n",
        "\n",
        "  #Constraint2: Allocation Weight = 100%\n",
        "  model.allocation = Constraint(expr = sum(model.x[i] for i in range(stock_num)) == 1)\n",
        "\n",
        "  #solve model\n",
        "  opt = SolverFactory('ipopt')\n",
        "  opt.options['halt_on_ampl_error'] = 'yes'\n",
        "  results = opt.solve(model, tee=True)\n",
        "\n",
        "  x_star = [model.x[i].value for i in range(stock_num)]\n",
        "  obj_star = value(model.obj)\n",
        "\n",
        "  return {\"x*\": x_star, \"obj*\": obj_star}"
      ],
      "metadata": {
        "id": "lGYirKg2mOUn"
      },
      "execution_count": null,
      "outputs": []
    },
    {
      "cell_type": "code",
      "source": [
        "print(type(ror_average_list))  # Check the type\n",
        "print(ror_average_list)       # Check the contents\n",
        "if isinstance(ror_average_list, pd.Series):\n",
        "    ror_average_list = ror_average_list.tolist()  # Convert to list if it's a Series\n",
        "\n",
        "# Check the first element of the covariance matrix\n",
        "print(type(covariance_matrix_list))  # Check the type\n",
        "print(covariance_matrix_list[0][0])  # Access an element for testing"
      ],
      "metadata": {
        "colab": {
          "base_uri": "https://localhost:8080/"
        },
        "id": "6ptjopdGOw77",
        "outputId": "e3ebe343-7860-4a1d-837b-e24a60446502"
      },
      "execution_count": null,
      "outputs": [
        {
          "output_type": "stream",
          "name": "stdout",
          "text": [
            "<class 'list'>\n",
            "[-0.00031934435776400814, 0.0006677822573756143, 0.0004793887693692517, 0.0006195782984928418, 0.000810136442377336, 0.0010303623861303945, 0.002136180774420388, 0.0004857942071479272, 0.000669029651457343, 0.000729495802464216, 0.0006123341888372056, 0.0005800604252860415, 0.0006534444793942611, 0.0009680770126821336, 0.00024335032304769277, 0.0007703536349803491, 0.0004542312486458833, 0.00023426778083475292, 0.0005918291830206343, 0.0009449285928850918, 0.0009636403729512779, -2.2343950436839317e-05, 0.0007760589035527956, 0.00018609325198505283, 0.0001847309880393267, 6.0721856283952886e-05, 0.0001666972043799414, 0.000742739791533927, 0.0007781861727278662, 0.00038868118684170654, 0.00042739244493867094, 0.001315497638609464, 0.0008392701418183559, 0.0004359872596041889, 0.0008616203355302702, 0.0009012720044360731, 0.0007839041286537536, 0.00072238383104434, 0.0012387452469198978, 0.0014514407765549233, 0.0016775324962819392, 0.0007017967141547085, 0.0010248245825222127, 0.0006089069178500095, 0.001559941688799682, 0.0010232579272851595, 0.0006758222446161503, -0.0001035845811208053, 0.0002832494426467223, 0.0008060821259938411, 0.0006279718807300422, 0.0010522813993879305, 0.00020128451096467672, 0.0008294087945709556, 0.0018905951720423002, 0.0007707381500079433, 0.0003911353627641894, 0.0005076946355394633, 0.000283832118952453, 0.0011846620075964234, -0.0002481459272481852, 0.0001926343775811952, 0.0, 0.0006250783333593161, 0.0004405745186475271, 0.0008182859296722437, 0.00032601615116202223, 0.000806344589541866, 0.0015321904790612981, 0.000335632821210593, 0.0008125946244761797, 0.000393982459584491, -0.0001346312856920422, 0.0005574033777841749, 9.703329918738258e-05, 0.0014741215840795698, 0.0006941750755275616, 0.0008869254252623178, 0.0, 0.002665727457859157, 0.0007097221328521112, 0.0017182730637906756, 0.0012973338077687819, 0.00023961066272644994, 0.00023276701864591217, 0.0008092170237554805, 0.0007950154073691673, 0.0005723222133506238, 0.00019334480869222134, 0.0019735685889175347, 0.0006480085848449209, 0.0008762776565900834, 0.0006098118086265232, 0.0009176596380829771, 0.0009807213802935472, 0.0007319912180052805, 0.000922924118695809, 0.0004383524142796772, 0.0002260222610900849, 0.0009661911614338258, 0.0008457965617961588, 0.00016451955575168126, 0.0008136853950934568, 0.0007539509104912029, 0.0003734353055754631, 0.0005009255717274783, 0.0015509110173378227, 0.0006107609682322468, 0.0003758461235013632, 0.000573253454441027, 0.00047865108255167944, 0.0011553064318425013, 0.0002606390507291492, 0.0002407751462968012, 0.0005161115388047211, 7.408874390549326e-05, 0.00026046704880764023, 0.00021861816727743283, 0.00024576169663524433, 0.00033639779620163424, 0.0002528796545716789, 0.00033171108451872107, 0.00034994367599315665, 0.0001895050612117279, 0.0008915318147043712, 0.00021015801027793286, 0.00042125099778113703, 0.002460895924197992, 0.00047253568349263695, 0.0013191321838653925, 0.00021822376920559982, 0.0006607395033370928, 0.001007286371121683, 0.0010493356103209144, 0.00039807811973669105, 0.00018751850054358923, 0.0005461969734888453, 0.0006589385766256562, 0.00021395352868723667, 0.0008976699822980268, 0.0007414536676182761, 0.0007975652488410557, 0.0009817428385372486, 0.00028068958789949984, 0.00018852678266060888, 0.0012182255254168956, 0.0016038690008736976, 0.0011900492577760198, 0.0003499621201794655, 0.000925463988181619, 0.000342814184167049, 0.0006131154617634789, -0.0001822970752700747, 0.0006045525890517565, 0.0007525140420490261, 0.00036574911629822047, 0.0014551816695016282, 0.0002466478295665033, 0.0001950323240524784, 0.00023864297582222864, 0.0004194793412308347, 0.0011879779393327802, 0.0005171302408831407, 0.00040866658479303195, 0.00033386362568037, 0.0005376168738737933, 0.0006156114555229009, 0.0007009058779259954, 0.0015270112552446986, 0.0005987311676602771, 0.0036842870766625227, 0.00027254724992250364, 0.0006720537609422015, 0.001328333821862886, 0.0012660802086982613, 0.0009617813764412599, 0.0007980858676733095, 9.208891533575334e-05, 0.00014480718718640822, 0.0003371692791132683, 0.001110589395790332, 0.0005796897012254415, 6.419967144280946e-05, 8.635521503903069e-05, 0.00022931021021111965, 0.0006644693338204243, 0.0006092697747346326, 0.0005766865801244451, 0.000505234616159571, 0.0002516138561577758, 0.0007942383822799159, 0.0017679584500303585, 0.0008774173619557973, 0.00013055521677362295, 0.0006202106031386953, -0.00016360239309304975, 0.0007133715383209139, 0.0015771411940131929, 0.0001648016035495236, 0.0006681703197016933, 0.0005903408812370392, 0.00016211789632774847, 0.0006502736134899433, 0.001526942728844004, 0.0003655499175956432, 3.512681032325978e-05, -6.76554618028994e-05, 0.00026704701452640034, 0.001628877584184246, 0.0007023846943204736, 0.0012034486923872523, 0.00108119521696659, 0.00039950562297183853, 0.0012693095546517067, 0.0004768655371313842, 0.0011672366576167333, 0.0005593002232258841, 0.0003744017631214886, 0.0004788114137232714, 0.000301894592265136, 0.0004721646726084015, 0.0005628439530471724, 0.0008497831513660345, 0.0008266009908609734, 0.0007656728059215375, -0.00010742355546810754, 0.0009073577524405661, -6.419647302060427e-05, 0.00031459594396160634, 0.0005474052959882629, 0.0014101090444617428, 0.00042817959529345623, 0.0009674642601502418, 0.0006358539875755826, 0.0007502296516009763, 0.0004722821275993614, -0.00015866039325378658, 0.00040385016176361274, 0.0012114949332590133, 0.000585414699296348, 0.0011268806601965372, 0.0005925172361078114, 0.0004031847231213335, 0.0003725608283820829, 0.0004386838764262671, 0.0005306136263568756, 0.0010791883411600783, 0.000712212476256022, -0.00033186428556517466, 0.00017768353065362883, 0.0012799347351921421, 0.0011940352203863832, 0.0002748767152318888, 0.0005211308078424792, -0.0001600453481904559, 0.000187642154776056, 0.0005883578142857688, 0.0011662286248471806, 0.000813826571429292, 0.0004539957863690492, 0.0005758907853149411, 0.0007571529716901354, 0.0007594639874297427, 0.000808112294744317, 0.001737797407111139, 0.00034564474673631475, 0.000795182993007712, 0.00021778374973756965, 0.0005737395838346402, 0.0006144447313919586, 0.00020373694623145378, 8.350332538020352e-05, -0.0014485105970817246, 0.0003278531831633254, 0.0004549441937219044, 0.0009920892868700922, 0.00013853380252349127, 0.0006399699647919431, 0.00030585478842695213, 0.001880711009912688, 1.8715567516184576e-05, 0.0005184959647820267, 0.00046562366869188607, 0.0007266075230851296, 0.0018253831958361592, 0.0005134606887041803, 0.00031961051701107714, 0.0007025290523908456, 0.0013966422128748142, 0.0008968554538983256, 0.000875950040070854, 0.0008031677936838825, 0.0005025348617301304, 0.0005328261340871597, 0.0009441339091766949, 0.0014504013462227723, 0.0004532896064328553, 0.0003110892040474061, 0.0011628687187553001, 0.0011911216810871973, 0.000491036567631173, 0.0008817165174885742, 0.0007787252057434074, 0.0010517036084965552, 0.0008878957513850539, 0.000822444301120646, 0.0003407765275076801, 6.945592139423404e-05, 0.0004796137422198537, 0.0012798532095475693, 5.528214037318019e-05, 0.00041950668888476265, 0.0010640920039762022, 0.0006539907047982351, 0.0007768028942675974, 0.0010095917905313257, 0.0011278322858394889, 0.0011076367536834628, 0.0011997764413970776, 0.0004103574869517911, 0.002385219776917636, 0.0003589744200604823, 0.0011674201775878211, 0.0002332363666407038, 0.0005064606294933304, 0.001837332912408333, 0.0007585681975122604, 0.0010037719977766522, 0.0009087003705359023, 0.0007000572416129581, 0.0009129517488544708, 0.0012987014603120129, 0.0006924499782023871, 0.0005592567169979593, 0.0008859358471923822, 0.0003831063090870616, 0.0007627085432153145, 0.0007932760867496808, 0.00043340588961596937, 0.0006415720755530012, 0.00014788880657916673, 0.00081038969477258, 0.0005443493465866376, 0.0002674886236843108, 0.0006240724201436929, 0.0005067224352119973, 0.0003932927349853911, 0.0012348443388537176, 0.002592174980204271, 0.0010838981496574555, 0.0012600491401709034, 0.0009666291438255468, 0.0007977893214825905, 0.0014643512015716684, 0.00032364999407314267, 0.001885396468287351, 0.0006499340904075434, 0.0008345412367562095, 0.0008805491809253734, 0.0008979811027835013, 0.000692947271570943, 0.0016220114058620712, -0.0001839384906295425, 0.0011562908510613196, 0.0007099165641212907, 0.0009128952120537555, 0.00012087144572724061, 0.0007075886391123293, 0.00041342669131063064, -0.00018432686976808818, 0.0009487420513367022, 0.00031971871410346915, 0.0006971206888621678, 6.461870521334094e-06, 0.0008987831922387296, 0.0004642679828337476, 0.0010461326071757003, 0.0005295501145591637, 0.00011698613263789885, 0.0007630714734096445, 0.00044242487572463524, 0.0008867539708685365, 0.0007959629678834098, 0.0004808903709943364, 0.00024119192609074603, 0.0008423831146796909, 0.0004123164944925077, 0.0014361165199974122, 0.0008429005988513988, 0.0018401023861098016, 0.0010648797382457205, 0.0005211194315079464, 0.0006141345881556299, 0.0009006526698800976, 0.0002986080808914735, 0.00012729124920364077, 0.00037585805852015364, 0.0008753516378396102, 0.0006817853575732602, 0.000726834193538739, 0.0005784263446162694, 0.00039388495679001077, 0.0005749081106818029, 0.0007759675735056253, 0.0006205044257527205, 0.0006913772055657253, 0.0007095197088336048, 0.0009936164550888229, 0.0009357223891965517, 0.0008357214346666768, 0.0005095417478359926, 0.0007559907047360553, 0.0009437086982931884, 0.00037375544754482626, 0.001473316056728309, 0.000885370091404778, 0.000308352478369876, 0.0007345470603434294, 0.0003064687935231558, 0.0007218905531238049, 0.0004891429634942385, -0.00011099740385745594, 0.00018390125264203955, 0.0005065922238526718, 0.0004911908924993178, 0.001478234424704059, 0.0006974979087220258, 0.0006602019115739989, 0.0007774025945350631, 0.001724353386913127, 0.0003876637135384508, 0.000854852259538844, 0.00036689099366381527, 0.000609787945032466, 0.000583483331824567, 0.001419690214447064, 0.0008454697771293694, 0.0007242890167297197, 0.0007892369061451621, 0.00024668708235755686, 0.0013429321109697694, 0.00276906039015664, 0.0006562905363365696, 0.0006983913323450493, 0.0008062057270733078, 0.0007647762733304479, 0.0009205467142162768, 0.0011261023967085867, 0.0011726108958689267, 0.0005050284951721969, 0.0006444633084476027, 0.00019437076527320198, 0.0008392591932446917, 0.00019146303943537546, 0.00023285079735548724, 0.0009579437580669014, 0.00011261226624080037, 0.0009412721975803276, 0.0005989266868560673, 0.00014563103239950817, 0.0005883399393887957, 0.0017709994649309326, 0.0007647988251105563, 0.000482523409622138, 0.0009371504491848226, 0.00022832449442864046, 0.0004928081385762445, 0.000415027757066374, 0.0007331376480462406, -0.00023049952025342064, 0.0009428943463217157, -0.0006060811431871882, -0.0004968438092104138, 0.0006110699266163472, 0.0006878413418010548, 0.0008743504976090348, 0.0007774769801635715, 0.0006879203686216634, -0.0006346760686285625, 0.0005099471848220191, 9.827436350749104e-05, -8.759301739838643e-05, 0.000631999129207774, 0.0006362586687201139, 0.00024588602112745434, 0.0003506406449782251, 0.0005119864186752223, 0.0012206709046773598, 0.0007199707633821367, 0.0003955490015439104, 0.0005803154934868158, 0.0003704644229804319, 0.0006074014064774838, 0.0005055792714712303, 0.0010288580900074023, 0.0004804687195610999, 0.00026379404557505786, 0.0006271692306851831, 0.000415453758169084, 0.000747634383781355, 0.0003115630304153954, 0.0004957403581479985, 0.0008273248735340315]\n",
            "<class 'list'>\n",
            "0.0003114626151537273\n"
          ]
        }
      ]
    },
    {
      "cell_type": "code",
      "source": [
        "risk = 0.15\n",
        "stock_model(risk, ror_average_list, covariance_matrix_list)"
      ],
      "metadata": {
        "id": "dqdOLQlpuCXF",
        "colab": {
          "base_uri": "https://localhost:8080/"
        },
        "outputId": "738a4f70-8b2b-465a-b201-e23779833927"
      },
      "execution_count": null,
      "outputs": [
        {
          "output_type": "stream",
          "name": "stdout",
          "text": [
            "Ipopt 3.13.2: halt_on_ampl_error=yes\n",
            "\n",
            "\n",
            "******************************************************************************\n",
            "This program contains Ipopt, a library for large-scale nonlinear optimization.\n",
            " Ipopt is released as open source code under the Eclipse Public License (EPL).\n",
            "         For more information visit http://projects.coin-or.org/Ipopt\n",
            "\n",
            "This version of Ipopt was compiled from source code available at\n",
            "    https://github.com/IDAES/Ipopt as part of the Institute for the Design of\n",
            "    Advanced Energy Systems Process Systems Engineering Framework (IDAES PSE\n",
            "    Framework) Copyright (c) 2018-2019. See https://github.com/IDAES/idaes-pse.\n",
            "\n",
            "This version of Ipopt was compiled using HSL, a collection of Fortran codes\n",
            "    for large-scale scientific computation.  All technical papers, sales and\n",
            "    publicity material resulting from use of the HSL codes within IPOPT must\n",
            "    contain the following acknowledgement:\n",
            "        HSL, a collection of Fortran codes for large-scale scientific\n",
            "        computation. See http://www.hsl.rl.ac.uk.\n",
            "******************************************************************************\n",
            "\n",
            "This is Ipopt version 3.13.2, running with linear solver ma27.\n",
            "\n",
            "Number of nonzeros in equality constraint Jacobian...:      503\n",
            "Number of nonzeros in inequality constraint Jacobian.:      501\n",
            "Number of nonzeros in Lagrangian Hessian.............:   125751\n",
            "\n",
            "Total number of variables............................:      503\n",
            "                     variables with only lower bounds:      503\n",
            "                variables with lower and upper bounds:        0\n",
            "                     variables with only upper bounds:        0\n",
            "Total number of equality constraints.................:        1\n",
            "Total number of inequality constraints...............:        1\n",
            "        inequality constraints with only lower bounds:        0\n",
            "   inequality constraints with lower and upper bounds:        0\n",
            "        inequality constraints with only upper bounds:        1\n",
            "\n",
            "iter    objective    inf_pr   inf_du lg(mu)  ||d||  lg(rg) alpha_du alpha_pr  ls\n",
            "   0 -6.7826049e-02 9.96e+01 7.23e-01  -1.0 0.00e+00    -  0.00e+00 0.00e+00   0\n",
            "   1 -6.3397522e-03 8.95e+00 5.51e-02  -1.0 2.18e-01    -  1.00e+00 9.10e-01h  1\n",
            "   2 -5.5759970e-03 7.49e+00 4.79e+00  -1.0 5.94e-01    -  1.00e+00 1.63e-01h  1\n",
            "   3 -1.7401727e-03 1.93e+00 6.55e+00  -1.0 2.36e-02    -  1.00e+00 7.43e-01h  1\n",
            "   4 -1.4783248e-03 1.48e+00 7.46e+01  -1.0 7.87e-02    -  1.00e+00 2.33e-01h  1\n",
            "   5 -4.3460733e-04 0.00e+00 5.14e+01  -1.0 1.08e-01    -  3.79e-01 1.00e+00h  1\n",
            "   6 -4.4543623e-04 3.32e-05 8.36e+01  -1.0 2.01e-02    -  1.00e+00 3.76e-01f  2\n",
            "   7 -4.4656696e-04 4.44e-16 6.82e-02  -1.0 2.03e-03    -  1.00e+00 1.00e+00h  1\n",
            "   8 -4.4656023e-04 4.44e-16 2.82e-04  -2.5 3.55e-06    -  1.00e+00 1.00e+00h  1\n",
            "   9 -4.4666173e-04 6.66e-16 1.76e-04  -3.8 1.81e-05    -  1.00e+00 1.00e+00h  1\n",
            "iter    objective    inf_pr   inf_du lg(mu)  ||d||  lg(rg) alpha_du alpha_pr  ls\n",
            "  10 -4.4867766e-04 4.44e-16 9.21e-03  -5.7 3.95e-04    -  9.81e-01 1.00e+00h  1\n",
            "  11 -6.1975864e-04 5.39e-03 4.78e-03  -5.7 5.46e-02    -  4.15e-01 1.00e+00h  1\n",
            "  12 -7.7427545e-04 5.01e-03 2.85e-04  -5.7 9.75e-02    -  9.40e-01 1.00e+00h  1\n",
            "  13 -7.8085468e-04 6.73e-04 2.71e-05  -5.7 4.13e-02    -  1.00e+00 1.00e+00h  1\n",
            "  14 -7.6043509e-04 2.22e-16 2.61e-06  -5.7 1.58e-02    -  1.00e+00 1.00e+00h  1\n",
            "  15 -7.5645189e-04 0.00e+00 2.24e-07  -5.7 4.81e-03    -  1.00e+00 1.00e+00h  1\n",
            "  16 -1.1046182e-03 6.45e-03 2.69e-03  -8.6 9.06e-02    -  2.96e-01 1.00e+00h  1\n",
            "  17 -1.2425529e-03 2.45e-03 1.06e-03  -8.6 4.98e-02    -  2.72e-01 1.00e+00h  1\n",
            "  18 -1.2848673e-03 4.17e-04 6.25e-04  -8.6 2.48e-02    -  4.42e-01 1.00e+00h  1\n",
            "  19 -1.3214909e-03 5.81e-04 3.58e-04  -8.6 5.33e-02    -  4.00e-01 1.00e+00h  1\n",
            "iter    objective    inf_pr   inf_du lg(mu)  ||d||  lg(rg) alpha_du alpha_pr  ls\n",
            "  20 -1.3290132e-03 1.85e-04 8.78e-05  -8.6 1.77e-02    -  6.55e-01 1.00e+00h  1\n",
            "  21 -1.3294800e-03 4.28e-06 1.81e-05  -8.6 3.39e-03    -  8.08e-01 1.00e+00h  1\n",
            "  22 -1.3297338e-03 3.68e-07 1.59e-08  -8.6 1.54e-03    -  1.00e+00 1.00e+00h  1\n",
            "  23 -1.3297549e-03 1.11e-15 7.57e-10  -8.6 2.82e-04    -  1.00e+00 1.00e+00h  1\n",
            "\n",
            "Number of Iterations....: 23\n",
            "\n",
            "                                   (scaled)                 (unscaled)\n",
            "Objective...............:  -1.3297549266884031e-03   -1.3297549266884031e-03\n",
            "Dual infeasibility......:   7.5685315318379843e-10    7.5685315318379843e-10\n",
            "Constraint violation....:   1.1102230246251565e-15    1.1102230246251565e-15\n",
            "Complementarity.........:   2.8088189258782242e-09    2.8088189258782242e-09\n",
            "Overall NLP error.......:   2.8088189258782242e-09    2.8088189258782242e-09\n",
            "\n",
            "\n",
            "Number of objective function evaluations             = 25\n",
            "Number of objective gradient evaluations             = 24\n",
            "Number of equality constraint evaluations            = 25\n",
            "Number of inequality constraint evaluations          = 25\n",
            "Number of equality constraint Jacobian evaluations   = 24\n",
            "Number of inequality constraint Jacobian evaluations = 24\n",
            "Number of Lagrangian Hessian evaluations             = 23\n",
            "Total CPU secs in IPOPT (w/o function evaluations)   =      2.789\n",
            "Total CPU secs in NLP function evaluations           =      4.604\n",
            "\n",
            "EXIT: Optimal Solution Found.\n"
          ]
        },
        {
          "output_type": "execute_result",
          "data": {
            "text/plain": [
              "{'x*': [1.6805440498263944e-06,\n",
              "  3.4351473999276815e-06,\n",
              "  3.0979572004651964e-06,\n",
              "  1.2707365517639851e-05,\n",
              "  2.8414001634769616e-06,\n",
              "  2.868574132342911e-06,\n",
              "  5.532281732492365e-06,\n",
              "  1.682529997888235e-06,\n",
              "  3.673884870372097e-06,\n",
              "  2.695356101109199e-06,\n",
              "  2.9625025996748856e-06,\n",
              "  2.074675410339499e-06,\n",
              "  4.581334875443816e-06,\n",
              "  1.9008722165944396e-06,\n",
              "  1.8039796712024613e-06,\n",
              "  1.4787508698453083e-06,\n",
              "  2.1617356237747676e-06,\n",
              "  3.0964523923904877e-06,\n",
              "  4.303441304938811e-06,\n",
              "  3.5646714684362675e-06,\n",
              "  3.6964573034805865e-06,\n",
              "  2.913083050767946e-06,\n",
              "  2.771994067273252e-06,\n",
              "  2.1844439946676855e-06,\n",
              "  2.8355803974563135e-06,\n",
              "  1.2566372213627738e-06,\n",
              "  3.0340567674277612e-06,\n",
              "  2.4276863933347124e-06,\n",
              "  2.8352036327806557e-06,\n",
              "  2.444068239501023e-06,\n",
              "  3.000767226782343e-06,\n",
              "  2.8649689810186048e-06,\n",
              "  3.3763255842743424e-06,\n",
              "  5.405368393303051e-06,\n",
              "  3.3715654536542313e-06,\n",
              "  2.7960769757725807e-06,\n",
              "  2.05602214997034e-06,\n",
              "  5.736867788612353e-06,\n",
              "  2.246873477089063e-06,\n",
              "  8.932003815380027e-06,\n",
              "  4.0289619806740904e-06,\n",
              "  1.7858313986609422e-06,\n",
              "  7.002414296155501e-06,\n",
              "  3.8997398888745064e-06,\n",
              "  6.203067117171193e-06,\n",
              "  9.803298578004335e-06,\n",
              "  5.127423899654719e-06,\n",
              "  2.7361269976957994e-06,\n",
              "  3.127278980832324e-06,\n",
              "  1.7708799104163601e-06,\n",
              "  2.7163483350236172e-06,\n",
              "  0.0001240568147582906,\n",
              "  2.0422244482339038e-06,\n",
              "  3.2949599280158896e-06,\n",
              "  5.079820046463476e-05,\n",
              "  2.8940250913067007e-06,\n",
              "  2.677437113329991e-06,\n",
              "  2.2128001623242884e-06,\n",
              "  2.160145387125761e-06,\n",
              "  2.5323156138797997e-06,\n",
              "  2.0810332378401206e-06,\n",
              "  3.244826810831678e-06,\n",
              "  0.14808487048671914,\n",
              "  2.1650951045183527e-06,\n",
              "  2.0990755908772484e-06,\n",
              "  2.8484029331815904e-06,\n",
              "  1.8885914242057314e-06,\n",
              "  2.4241467848855595e-06,\n",
              "  3.0079264029583258e-06,\n",
              "  1.4468112773960178e-06,\n",
              "  3.1870560502461884e-06,\n",
              "  2.3888835234090082e-06,\n",
              "  1.4504507961173733e-06,\n",
              "  3.193770604833748e-06,\n",
              "  3.3712607994971258e-06,\n",
              "  5.794580359698468e-06,\n",
              "  3.37908873101568e-06,\n",
              "  5.047247479169153e-06,\n",
              "  0.14808487048671914,\n",
              "  0.03072129309846177,\n",
              "  4.851876774736246e-06,\n",
              "  9.72696096052051e-06,\n",
              "  1.4038385739949324e-06,\n",
              "  2.193403337481318e-06,\n",
              "  9.711987548321241e-06,\n",
              "  2.2349183221529455e-06,\n",
              "  5.1242959478866555e-06,\n",
              "  1.6757638812893465e-06,\n",
              "  9.552440737292887e-07,\n",
              "  0.07792647553313586,\n",
              "  1.8512571826147836e-06,\n",
              "  4.060265242847818e-06,\n",
              "  9.256558893075257e-06,\n",
              "  2.6823019636466937e-06,\n",
              "  3.558594867431323e-06,\n",
              "  2.0782961131054398e-06,\n",
              "  9.35058633101899e-06,\n",
              "  2.841491251231719e-06,\n",
              "  2.169090741655223e-06,\n",
              "  1.8164121732348633e-06,\n",
              "  5.7275656683276726e-06,\n",
              "  2.6165872597771435e-06,\n",
              "  2.0950287787092845e-06,\n",
              "  2.8965602442074538e-06,\n",
              "  2.761675062727429e-06,\n",
              "  2.7621851904839924e-06,\n",
              "  0.02337322317386761,\n",
              "  4.629012733500106e-06,\n",
              "  1.1161548114746247e-05,\n",
              "  2.8327240303607074e-06,\n",
              "  2.8628933147650565e-06,\n",
              "  5.281003679964188e-06,\n",
              "  2.317048566174986e-06,\n",
              "  1.723943809070426e-06,\n",
              "  1.8263132703733057e-06,\n",
              "  5.161319336580434e-06,\n",
              "  3.2435662691516393e-06,\n",
              "  3.359480852794215e-06,\n",
              "  4.1921513900782425e-06,\n",
              "  2.167663384545502e-06,\n",
              "  5.605974522979505e-06,\n",
              "  3.1447484722622797e-06,\n",
              "  1.5460842283882724e-06,\n",
              "  5.7486513121282265e-06,\n",
              "  3.2859287868100517e-06,\n",
              "  3.75286508745768e-06,\n",
              "  3.1043057201863456e-06,\n",
              "  0.16715680647918438,\n",
              "  2.464291474305183e-06,\n",
              "  8.733260660486333e-06,\n",
              "  1.7449794595149576e-06,\n",
              "  3.6567293524448188e-06,\n",
              "  3.415934060458542e-06,\n",
              "  1.7407669360462885e-05,\n",
              "  2.5338923179927916e-06,\n",
              "  2.0622465582270875e-06,\n",
              "  2.7995344078858648e-06,\n",
              "  3.455188470973501e-06,\n",
              "  2.7383764468530674e-06,\n",
              "  3.895214183777841e-06,\n",
              "  3.0203862573846677e-06,\n",
              "  1.1823077754103232e-05,\n",
              "  4.3977852842391615e-06,\n",
              "  1.6025611992367447e-06,\n",
              "  2.430919997307594e-06,\n",
              "  2.811269937216481e-06,\n",
              "  1.8986114185739156e-05,\n",
              "  3.952629334314416e-06,\n",
              "  2.233175569601924e-06,\n",
              "  2.2708313315809106e-06,\n",
              "  4.797229070586487e-06,\n",
              "  5.105753533437811e-06,\n",
              "  1.936068983271569e-06,\n",
              "  8.924706314932961e-06,\n",
              "  2.871776259092755e-06,\n",
              "  2.1111950274937436e-06,\n",
              "  5.098314813207446e-06,\n",
              "  2.8027306010958153e-06,\n",
              "  3.0141174825639547e-06,\n",
              "  1.796120865186239e-06,\n",
              "  2.0135943097746558e-06,\n",
              "  4.514781018736518e-06,\n",
              "  2.7644968953680704e-06,\n",
              "  2.028930644108623e-06,\n",
              "  2.5227730630793594e-06,\n",
              "  2.3242317377812858e-06,\n",
              "  6.557726309316467e-06,\n",
              "  3.7809357127463767e-06,\n",
              "  0.14082573772668006,\n",
              "  2.4321265741338774e-06,\n",
              "  0.02547013633642633,\n",
              "  2.7187603151388277e-06,\n",
              "  2.616902544778387e-06,\n",
              "  3.1168263865339706e-06,\n",
              "  6.869482125628921e-06,\n",
              "  3.304677956943451e-06,\n",
              "  3.1908615949309405e-06,\n",
              "  1.9044701366768846e-06,\n",
              "  2.026761051291493e-06,\n",
              "  2.0356387104621175e-06,\n",
              "  1.760571012331443e-06,\n",
              "  4.1820048454430165e-06,\n",
              "  2.3147917271332345e-06,\n",
              "  2.3164441696793166e-06,\n",
              "  2.2205959057067387e-06,\n",
              "  2.1024175505888585e-06,\n",
              "  3.807310607350265e-06,\n",
              "  3.0866458112455854e-06,\n",
              "  3.2508987889855634e-06,\n",
              "  2.0060564794359373e-06,\n",
              "  3.819311694370942e-06,\n",
              "  1.0064282468911951e-05,\n",
              "  4.169239857767741e-06,\n",
              "  1.769060626884312e-06,\n",
              "  3.1037677228844077e-06,\n",
              "  1.5440003026894107e-06,\n",
              "  2.1415159841438644e-06,\n",
              "  4.325588221687528e-06,\n",
              "  2.647526911351975e-06,\n",
              "  3.173280955974133e-06,\n",
              "  2.37400222957666e-06,\n",
              "  2.1140895057738067e-06,\n",
              "  1.8932151006346266e-06,\n",
              "  5.20776361648713e-06,\n",
              "  1.993759166541323e-06,\n",
              "  2.227016276377311e-06,\n",
              "  1.990375479114207e-06,\n",
              "  1.5551434583061978e-06,\n",
              "  3.4588787850476063e-06,\n",
              "  3.390597517988103e-06,\n",
              "  6.499495540756877e-06,\n",
              "  0.08686360434539034,\n",
              "  4.610474801147916e-06,\n",
              "  1.6748598268289374e-06,\n",
              "  3.611321454883065e-06,\n",
              "  4.2706753115431924e-06,\n",
              "  0.01301642246491659,\n",
              "  1.5937813736556253e-06,\n",
              "  2.6369464042591814e-06,\n",
              "  4.187658244994154e-06,\n",
              "  1.9038601579228042e-06,\n",
              "  3.092798539031803e-06,\n",
              "  3.360733115866271e-06,\n",
              "  1.9879290953233225e-06,\n",
              "  4.932358881367043e-06,\n",
              "  1.6727602813896186e-06,\n",
              "  3.8094899267099625e-06,\n",
              "  1.5330460796348893e-06,\n",
              "  2.8343429496225857e-06,\n",
              "  8.98592856515251e-06,\n",
              "  6.404130483176032e-06,\n",
              "  2.015931641169224e-06,\n",
              "  4.730732686111571e-06,\n",
              "  3.7386539296833713e-06,\n",
              "  3.2108415522639547e-06,\n",
              "  2.560890928873599e-06,\n",
              "  3.2561935043062037e-06,\n",
              "  1.9103612444449053e-06,\n",
              "  3.4777268919981805e-06,\n",
              "  2.2057637180581014e-06,\n",
              "  5.816201345496511e-06,\n",
              "  4.158746312364146e-06,\n",
              "  2.0380006154900755e-06,\n",
              "  3.425783368082827e-06,\n",
              "  3.831100974062092e-06,\n",
              "  3.0161932009083204e-06,\n",
              "  3.2024061499356265e-06,\n",
              "  3.2340566452966426e-06,\n",
              "  1.0648938019846314e-06,\n",
              "  2.7198253018953028e-06,\n",
              "  4.7983020324065555e-06,\n",
              "  5.204094216908485e-06,\n",
              "  1.754171607874224e-06,\n",
              "  3.209544852081778e-06,\n",
              "  1.5911060654196326e-06,\n",
              "  2.0361993259456857e-06,\n",
              "  2.3941538707686503e-06,\n",
              "  2.4198222524674774e-06,\n",
              "  2.165096717426364e-06,\n",
              "  1.3569250118123167e-06,\n",
              "  2.607494849350805e-06,\n",
              "  2.011661241877217e-06,\n",
              "  3.0968815751640107e-06,\n",
              "  3.6430295341312087e-06,\n",
              "  1.151449396300611e-05,\n",
              "  3.1429669406785434e-06,\n",
              "  3.4953947258353327e-06,\n",
              "  4.339961865712201e-06,\n",
              "  2.5891735476754817e-06,\n",
              "  3.00787994452238e-06,\n",
              "  2.3057260933337753e-06,\n",
              "  5.4767758183007475e-06,\n",
              "  1.4417602960107553e-06,\n",
              "  6.098670060856904e-06,\n",
              "  1.692139641279237e-06,\n",
              "  3.807904162017428e-06,\n",
              "  4.784554382859498e-06,\n",
              "  2.222281728105823e-06,\n",
              "  2.348124802992492e-06,\n",
              "  5.485082421806516e-06,\n",
              "  2.806447508006103e-06,\n",
              "  8.094886620156973e-05,\n",
              "  3.894061714828899e-06,\n",
              "  3.707853650589017e-06,\n",
              "  4.3235230852222555e-06,\n",
              "  3.8505684903115166e-06,\n",
              "  2.4115787707975723e-06,\n",
              "  5.2418150165460065e-06,\n",
              "  3.7294553844312626e-06,\n",
              "  4.633418715061396e-06,\n",
              "  2.9781948976238437e-06,\n",
              "  2.696603792580781e-06,\n",
              "  5.478684574776438e-06,\n",
              "  2.7047227287968e-06,\n",
              "  3.821021877657066e-06,\n",
              "  5.700214304768595e-06,\n",
              "  2.0794095884957794e-06,\n",
              "  2.108664608927765e-06,\n",
              "  3.4304130068591944e-06,\n",
              "  3.997010538851645e-06,\n",
              "  3.400412896578111e-06,\n",
              "  3.5124952981681754e-06,\n",
              "  5.532745167409934e-06,\n",
              "  3.9146354114072725e-06,\n",
              "  3.1979340777504443e-06,\n",
              "  3.070532813346771e-06,\n",
              "  1.4982547081625697e-06,\n",
              "  2.832896023262858e-06,\n",
              "  5.568164126385634e-06,\n",
              "  0.0719347197673496,\n",
              "  2.248023006582003e-06,\n",
              "  5.604982203471033e-06,\n",
              "  3.399450608392666e-06,\n",
              "  2.4570981796552507e-06,\n",
              "  2.8240083711922324e-06,\n",
              "  2.285781663157411e-06,\n",
              "  2.3148030950054678e-06,\n",
              "  2.9416589692854034e-06,\n",
              "  4.779007952412648e-06,\n",
              "  2.555364536061778e-06,\n",
              "  0.030291619180522623,\n",
              "  1.6594343720947153e-06,\n",
              "  1.3351223459492194e-05,\n",
              "  3.3700300019891877e-06,\n",
              "  5.4554705984347e-06,\n",
              "  2.716776787349521e-06,\n",
              "  5.815526438370994e-06,\n",
              "  2.832920333260043e-06,\n",
              "  2.985099601675627e-06,\n",
              "  2.4305822026990932e-06,\n",
              "  4.548940395064981e-06,\n",
              "  3.368581414818633e-06,\n",
              "  3.1684528069451354e-06,\n",
              "  2.58041695471609e-06,\n",
              "  3.1393167195611233e-06,\n",
              "  8.75789374979821e-06,\n",
              "  3.288423696498389e-06,\n",
              "  3.48282970586989e-06,\n",
              "  2.422470396728801e-06,\n",
              "  2.7305389004405194e-06,\n",
              "  2.4549782674389564e-06,\n",
              "  2.973784677220675e-06,\n",
              "  2.7486290337775085e-06,\n",
              "  1.7963888271220639e-06,\n",
              "  9.238674858730678e-06,\n",
              "  1.0817359469926581e-06,\n",
              "  2.3229249533382207e-06,\n",
              "  3.6146172104117097e-06,\n",
              "  2.7524775075968904e-05,\n",
              "  4.27230504772354e-06,\n",
              "  3.167001482352457e-06,\n",
              "  1.9119583474348695e-05,\n",
              "  2.0341986708939264e-06,\n",
              "  6.448004988250393e-06,\n",
              "  2.6856569171676154e-06,\n",
              "  3.9751660991833534e-06,\n",
              "  2.02707471667071e-06,\n",
              "  4.183665814227034e-06,\n",
              "  6.277996329255936e-06,\n",
              "  6.618375591981698e-06,\n",
              "  3.606023854300285e-06,\n",
              "  0.02115851345385301,\n",
              "  1.288917213186761e-06,\n",
              "  3.1556718045630308e-06,\n",
              "  2.7326162669485823e-06,\n",
              "  1.7913949825400514e-06,\n",
              "  1.4047191271163081e-06,\n",
              "  2.373913904737099e-06,\n",
              "  5.096791339242356e-06,\n",
              "  2.2222952112839847e-06,\n",
              "  5.920101611037111e-06,\n",
              "  4.154241250299856e-06,\n",
              "  3.289182359877307e-06,\n",
              "  2.4151394214392414e-06,\n",
              "  3.4463108201611546e-06,\n",
              "  2.104921087011365e-06,\n",
              "  3.8006215933699738e-06,\n",
              "  2.4237285309114957e-06,\n",
              "  2.2491840079963247e-06,\n",
              "  2.357949194568839e-06,\n",
              "  6.551649097489751e-06,\n",
              "  2.6510731995779683e-05,\n",
              "  2.527153297127669e-06,\n",
              "  1.920384107571516e-06,\n",
              "  2.696351690107661e-06,\n",
              "  2.6296684383409736e-06,\n",
              "  3.3030531270420193e-06,\n",
              "  4.450205758004417e-06,\n",
              "  2.157583795963622e-06,\n",
              "  6.32191666668955e-05,\n",
              "  3.726559582453418e-06,\n",
              "  5.134541089934448e-06,\n",
              "  2.6351898164872465e-06,\n",
              "  3.010159525662627e-06,\n",
              "  2.2883580587706506e-06,\n",
              "  2.2629593514720644e-06,\n",
              "  2.092795254801612e-06,\n",
              "  8.51632222834682e-06,\n",
              "  2.21194839205291e-06,\n",
              "  7.113637271095123e-06,\n",
              "  2.5474680718800135e-06,\n",
              "  2.0694189430918233e-06,\n",
              "  2.523640691879567e-06,\n",
              "  2.6112463734051956e-06,\n",
              "  3.671091931040403e-06,\n",
              "  3.5197641369831563e-06,\n",
              "  2.8556812461907285e-06,\n",
              "  1.6506950822682033e-06,\n",
              "  3.2227696021849445e-06,\n",
              "  2.5688010701397436e-06,\n",
              "  2.819435778063738e-06,\n",
              "  2.5825114634916713e-06,\n",
              "  4.105869347880843e-06,\n",
              "  2.692846391516888e-06,\n",
              "  3.3617158045435623e-06,\n",
              "  4.326107958871841e-06,\n",
              "  1.6376099480961798e-06,\n",
              "  1.8920688035580783e-06,\n",
              "  1.2514763842719174e-05,\n",
              "  3.8251370928184755e-06,\n",
              "  4.225048774462492e-06,\n",
              "  1.6063755663368922e-06,\n",
              "  1.4701187600109352e-06,\n",
              "  2.661616072533885e-06,\n",
              "  1.938276705077449e-06,\n",
              "  5.406758155612483e-06,\n",
              "  3.2788445475113336e-06,\n",
              "  2.655132606004157e-06,\n",
              "  2.060930470865572e-06,\n",
              "  1.837860132987344e-05,\n",
              "  2.3975107047766087e-06,\n",
              "  9.905892020972283e-06,\n",
              "  1.540564693273424e-06,\n",
              "  3.835582172329298e-06,\n",
              "  1.8351920642378422e-06,\n",
              "  3.962912434969349e-06,\n",
              "  4.416349398792042e-06,\n",
              "  2.306652713024397e-06,\n",
              "  3.1580423239162906e-06,\n",
              "  2.185990023068623e-06,\n",
              "  3.016681714371813e-06,\n",
              "  0.012995291027592795,\n",
              "  2.388554941632074e-06,\n",
              "  2.0997805968650253e-06,\n",
              "  3.7230907721840276e-06,\n",
              "  4.1715090246889956e-06,\n",
              "  5.766934456978136e-06,\n",
              "  5.388718351943083e-06,\n",
              "  4.439673053315519e-06,\n",
              "  4.6876315715238036e-06,\n",
              "  2.012736896075113e-06,\n",
              "  1.5953450095803443e-06,\n",
              "  3.056864148678221e-06,\n",
              "  3.882649272499288e-06,\n",
              "  1.9003154239031654e-06,\n",
              "  2.34876659614616e-06,\n",
              "  1.8591533010462686e-06,\n",
              "  4.271026630858253e-06,\n",
              "  3.5629091934707127e-06,\n",
              "  1.2860175831884356e-06,\n",
              "  3.3427765070552727e-06,\n",
              "  4.33833489142319e-06,\n",
              "  5.4414104231025184e-06,\n",
              "  2.159603014049481e-06,\n",
              "  3.885148176365685e-06,\n",
              "  1.9009640815880587e-06,\n",
              "  8.935517950331926e-06,\n",
              "  2.279578552196201e-06,\n",
              "  3.815345372299939e-06,\n",
              "  2.798622847967557e-06,\n",
              "  6.572547392770597e-06,\n",
              "  1.0598441745845257e-06,\n",
              "  1.4621817906329432e-06,\n",
              "  2.475669606184111e-06,\n",
              "  3.348721790915125e-06,\n",
              "  4.048821778554213e-06,\n",
              "  6.519279348342543e-06,\n",
              "  2.6049713861894853e-06,\n",
              "  1.2695508494822036e-06,\n",
              "  1.2866376418956308e-05,\n",
              "  1.832941727218109e-06,\n",
              "  1.427464037450829e-06,\n",
              "  6.838754085502035e-06,\n",
              "  2.909200549407644e-06,\n",
              "  3.5097205245386214e-06,\n",
              "  1.9935354590853107e-06,\n",
              "  2.8783327335020166e-06,\n",
              "  5.5875432355881175e-06,\n",
              "  1.9899488992199717e-06,\n",
              "  1.8353022231523475e-06,\n",
              "  1.7074817859983618e-06,\n",
              "  1.7195473452985593e-06,\n",
              "  3.0620326031203404e-06,\n",
              "  3.85269368187387e-06,\n",
              "  5.290132931515074e-06,\n",
              "  1.9434060027595394e-06,\n",
              "  3.283892498102792e-06,\n",
              "  2.393286924652532e-06,\n",
              "  3.6349416021036625e-06,\n",
              "  1.7482054367831591e-06,\n",
              "  2.4206982730616724e-06,\n",
              "  1.8718439479387138e-06,\n",
              "  3.478983595917472e-06],\n",
              " 'obj*': 0.0013297549266884031}"
            ]
          },
          "metadata": {},
          "execution_count": 141
        }
      ]
    },
    {
      "cell_type": "code",
      "source": [
        "risk = 0.5\n",
        "stock_model(risk, ror_average_list, covariance_matrix_list)"
      ],
      "metadata": {
        "colab": {
          "base_uri": "https://localhost:8080/"
        },
        "id": "_5KhtqHrUMys",
        "outputId": "5f74a9d8-ba01-412d-bc65-65ab2505dc8b"
      },
      "execution_count": null,
      "outputs": [
        {
          "output_type": "stream",
          "name": "stdout",
          "text": [
            "Ipopt 3.13.2: halt_on_ampl_error=yes\n",
            "\n",
            "\n",
            "******************************************************************************\n",
            "This program contains Ipopt, a library for large-scale nonlinear optimization.\n",
            " Ipopt is released as open source code under the Eclipse Public License (EPL).\n",
            "         For more information visit http://projects.coin-or.org/Ipopt\n",
            "\n",
            "This version of Ipopt was compiled from source code available at\n",
            "    https://github.com/IDAES/Ipopt as part of the Institute for the Design of\n",
            "    Advanced Energy Systems Process Systems Engineering Framework (IDAES PSE\n",
            "    Framework) Copyright (c) 2018-2019. See https://github.com/IDAES/idaes-pse.\n",
            "\n",
            "This version of Ipopt was compiled using HSL, a collection of Fortran codes\n",
            "    for large-scale scientific computation.  All technical papers, sales and\n",
            "    publicity material resulting from use of the HSL codes within IPOPT must\n",
            "    contain the following acknowledgement:\n",
            "        HSL, a collection of Fortran codes for large-scale scientific\n",
            "        computation. See http://www.hsl.rl.ac.uk.\n",
            "******************************************************************************\n",
            "\n",
            "This is Ipopt version 3.13.2, running with linear solver ma27.\n",
            "\n",
            "Number of nonzeros in equality constraint Jacobian...:      503\n",
            "Number of nonzeros in inequality constraint Jacobian.:      501\n",
            "Number of nonzeros in Lagrangian Hessian.............:   125751\n",
            "\n",
            "Total number of variables............................:      503\n",
            "                     variables with only lower bounds:      503\n",
            "                variables with lower and upper bounds:        0\n",
            "                     variables with only upper bounds:        0\n",
            "Total number of equality constraints.................:        1\n",
            "Total number of inequality constraints...............:        1\n",
            "        inequality constraints with only lower bounds:        0\n",
            "   inequality constraints with lower and upper bounds:        0\n",
            "        inequality constraints with only upper bounds:        1\n",
            "\n",
            "iter    objective    inf_pr   inf_du lg(mu)  ||d||  lg(rg) alpha_du alpha_pr  ls\n",
            "   0 -6.7826049e-02 9.96e+01 7.23e-01  -1.0 0.00e+00    -  0.00e+00 0.00e+00   0\n",
            "   1 -5.4586411e-03 6.55e+00 2.77e-01  -1.0 2.12e-01    -  7.58e-01 9.34e-01h  1\n",
            "   2 -3.7099635e-03 4.81e+00 4.94e+00  -1.0 9.69e-01    -  1.00e+00 2.65e-01h  1\n",
            "   3 -1.4125811e-03 9.19e-01 2.30e+00  -1.0 1.64e-01    -  1.00e+00 8.09e-01h  1\n",
            "   4 -8.4051151e-04 3.23e-01 7.29e+00  -1.0 1.10e-01    -  1.00e+00 6.48e-01h  1\n",
            "   5 -6.9368050e-04 2.11e-15 4.37e-03  -1.0 3.49e-02    -  1.00e+00 1.00e+00h  1\n",
            "   6 -6.9308331e-04 8.88e-16 1.20e-04  -2.5 1.19e-03    -  1.00e+00 1.00e+00h  1\n",
            "   7 -6.9225379e-04 1.11e-16 7.01e-06  -3.8 4.23e-04    -  1.00e+00 1.00e+00h  1\n",
            "   8 -6.9541540e-04 4.44e-16 2.06e-03  -5.7 9.22e-05    -  9.72e-01 1.00e+00h  1\n",
            "   9 -3.3906958e-03 2.06e-01 6.25e-05  -5.7 9.18e-01    -  1.00e+00 9.80e-01f  1\n",
            "iter    objective    inf_pr   inf_du lg(mu)  ||d||  lg(rg) alpha_du alpha_pr  ls\n",
            "  10 -3.0671825e-03 1.33e-01 1.85e-04  -5.7 2.58e-01    -  1.00e+00 6.44e-01h  1\n",
            "  11 -2.2519028e-03 2.22e-16 2.00e-03  -5.7 2.86e-01    -  4.96e-01 1.00e+00h  1\n",
            "  12 -2.4665985e-03 8.88e-16 3.56e-05  -5.7 4.07e-02    -  9.83e-01 1.00e+00h  1\n",
            "  13 -2.4775763e-03 1.11e-15 9.54e-07  -5.7 4.48e-02    -  1.00e+00 1.00e+00h  1\n",
            "  14 -2.4735471e-03 0.00e+00 7.48e-09  -5.7 1.64e-03    -  1.00e+00 1.00e+00h  1\n",
            "  15 -2.5050041e-03 1.07e-05 3.10e-05  -8.6 1.06e-02    -  2.71e-01 2.61e-01h  1\n",
            "  16 -3.1159523e-03 1.36e-02 1.58e-04  -8.6 3.24e-01    -  2.82e-01 1.00e+00h  1\n",
            "  17 -3.1551240e-03 3.53e-03 8.85e-05  -8.6 1.23e-01    -  5.43e-01 1.00e+00h  1\n",
            "  18 -3.1506660e-03 2.81e-05 3.42e-05  -8.6 6.79e-03    -  7.04e-01 1.00e+00h  1\n",
            "  19 -3.1507739e-03 7.31e-06 2.85e-08  -8.6 3.80e-03    -  1.00e+00 1.00e+00h  1\n",
            "iter    objective    inf_pr   inf_du lg(mu)  ||d||  lg(rg) alpha_du alpha_pr  ls\n",
            "  20 -3.1507686e-03 1.11e-16 2.13e-10  -8.6 6.00e-04    -  1.00e+00 1.00e+00h  1\n",
            "\n",
            "Number of Iterations....: 20\n",
            "\n",
            "                                   (scaled)                 (unscaled)\n",
            "Objective...............:  -3.1507685616699375e-03   -3.1507685616699375e-03\n",
            "Dual infeasibility......:   2.1278447995120489e-10    2.1278447995120489e-10\n",
            "Constraint violation....:   1.1102230246251565e-16    1.1102230246251565e-16\n",
            "Complementarity.........:   2.7847149936511977e-09    2.7847149936511977e-09\n",
            "Overall NLP error.......:   2.7847149936511977e-09    2.7847149936511977e-09\n",
            "\n",
            "\n",
            "Number of objective function evaluations             = 21\n",
            "Number of objective gradient evaluations             = 21\n",
            "Number of equality constraint evaluations            = 21\n",
            "Number of inequality constraint evaluations          = 21\n",
            "Number of equality constraint Jacobian evaluations   = 21\n",
            "Number of inequality constraint Jacobian evaluations = 21\n",
            "Number of Lagrangian Hessian evaluations             = 20\n",
            "Total CPU secs in IPOPT (w/o function evaluations)   =      2.117\n",
            "Total CPU secs in NLP function evaluations           =      3.741\n",
            "\n",
            "EXIT: Optimal Solution Found.\n"
          ]
        },
        {
          "output_type": "execute_result",
          "data": {
            "text/plain": [
              "{'x*': [9.688997804592786e-07,\n",
              "  1.5356499825473296e-06,\n",
              "  1.4220554986487373e-06,\n",
              "  1.6210686002754283e-06,\n",
              "  1.6243566290735167e-06,\n",
              "  1.7851213016382662e-06,\n",
              "  5.6130969320093775e-06,\n",
              "  1.2618108625080679e-06,\n",
              "  1.5362897286568438e-06,\n",
              "  1.547180131992507e-06,\n",
              "  1.4784602123546616e-06,\n",
              "  1.2890428573841241e-06,\n",
              "  1.560285706932894e-06,\n",
              "  1.5852048811129714e-06,\n",
              "  1.198749880976025e-06,\n",
              "  1.3717357905258378e-06,\n",
              "  1.338242036809133e-06,\n",
              "  1.2767193759789182e-06,\n",
              "  1.5054773722329177e-06,\n",
              "  1.7755363277883668e-06,\n",
              "  1.8005161852573692e-06,\n",
              "  1.1476254356322185e-06,\n",
              "  1.560901723967197e-06,\n",
              "  1.178411746501264e-06,\n",
              "  1.2421130206880143e-06,\n",
              "  1.0154999835697424e-06,\n",
              "  1.2388216013912113e-06,\n",
              "  1.5089119834161247e-06,\n",
              "  1.5624746896438211e-06,\n",
              "  1.3259673963458325e-06,\n",
              "  1.3764563035517465e-06,\n",
              "  2.188054994628583e-06,\n",
              "  1.6702110099809003e-06,\n",
              "  1.4132384624193627e-06,\n",
              "  1.6507931348573918e-06,\n",
              "  1.6232466967974866e-06,\n",
              "  1.5107921603369668e-06,\n",
              "  1.6392167264140755e-06,\n",
              "  1.8412911913706963e-06,\n",
              "  2.6225751608501477e-06,\n",
              "  2.838693654287326e-06,\n",
              "  1.3504114653757385e-06,\n",
              "  2.0053055795941963e-06,\n",
              "  1.5063032678058546e-06,\n",
              "  2.9622955668099467e-06,\n",
              "  2.0278697375006984e-06,\n",
              "  1.5690716735532285e-06,\n",
              "  1.0923832258309922e-06,\n",
              "  1.310179444932342e-06,\n",
              "  1.4790800487927765e-06,\n",
              "  1.4710304461366991e-06,\n",
              "  2.0983615947781847e-06,\n",
              "  1.1934239859327507e-06,\n",
              "  1.6719352128276326e-06,\n",
              "  3.915772735416447e-06,\n",
              "  1.5560796789951635e-06,\n",
              "  1.3246970218296447e-06,\n",
              "  1.346766127247772e-06,\n",
              "  1.2362868687782832e-06,\n",
              "  1.833840718848131e-06,\n",
              "  1.0325691683823785e-06,\n",
              "  1.26365168219618e-06,\n",
              "  1.2123657433824436e-06,\n",
              "  1.3789417255160075e-06,\n",
              "  1.3153662488910106e-06,\n",
              "  1.593790566940301e-06,\n",
              "  1.2927470674473643e-06,\n",
              "  1.5773043871256222e-06,\n",
              "  2.5751828676694492e-06,\n",
              "  1.1568819241015433e-06,\n",
              "  1.6100802990001678e-06,\n",
              "  1.2675443130377746e-06,\n",
              "  1.0100673861788567e-06,\n",
              "  1.4518154620798953e-06,\n",
              "  1.2081321806759227e-06,\n",
              "  2.5761392156434882e-06,\n",
              "  1.5673134265535013e-06,\n",
              "  1.7942368668674515e-06,\n",
              "  1.2123657433824436e-06,\n",
              "  0.14184172787540072,\n",
              "  1.5623843291348609e-06,\n",
              "  3.422980697093616e-06,\n",
              "  1.654768227411462e-06,\n",
              "  1.2169963059742812e-06,\n",
              "  1.35803634572798e-06,\n",
              "  1.531145035791315e-06,\n",
              "  1.756463296742624e-06,\n",
              "  1.317173672675793e-06,\n",
              "  1.0018865291466574e-06,\n",
              "  7.04969848976584e-06,\n",
              "  1.3730430180713445e-06,\n",
              "  1.740904842744507e-06,\n",
              "  1.572131645847118e-06,\n",
              "  1.682824516184217e-06,\n",
              "  1.7672976576507998e-06,\n",
              "  1.4818143396734075e-06,\n",
              "  1.9531650175751513e-06,\n",
              "  1.3764959578305665e-06,\n",
              "  1.199208638790865e-06,\n",
              "  1.5401730363064405e-06,\n",
              "  1.682529318839589e-06,\n",
              "  1.1994446026013613e-06,\n",
              "  1.524883563911409e-06,\n",
              "  1.5653555624711752e-06,\n",
              "  1.3130882884684745e-06,\n",
              "  1.3643133464084314e-06,\n",
              "  2.9204972260751497e-06,\n",
              "  1.5438759081360568e-06,\n",
              "  1.4492256640026162e-06,\n",
              "  1.4742634740194465e-06,\n",
              "  1.421586540162115e-06,\n",
              "  2.0548668752125627e-06,\n",
              "  1.2439196261151398e-06,\n",
              "  1.1591927916012808e-06,\n",
              "  1.3130968365454894e-06,\n",
              "  1.2413777087596076e-06,\n",
              "  1.279365582396879e-06,\n",
              "  1.2749823393904016e-06,\n",
              "  1.2976651889735452e-06,\n",
              "  1.2475045583661132e-06,\n",
              "  1.3388645304691784e-06,\n",
              "  1.3105040758161932e-06,\n",
              "  1.1952760093498758e-06,\n",
              "  1.3050908802144473e-06,\n",
              "  1.6618521538100455e-06,\n",
              "  1.2940645485488663e-06,\n",
              "  1.3459515159596465e-06,\n",
              "  0.2715926559362158,\n",
              "  1.3660097051073264e-06,\n",
              "  2.3476495680141497e-06,\n",
              "  1.1651885031046003e-06,\n",
              "  1.5094176330294679e-06,\n",
              "  1.7871776156083516e-06,\n",
              "  2.0721022930342826e-06,\n",
              "  1.3451803252893805e-06,\n",
              "  1.1983594962437774e-06,\n",
              "  1.4053220155034182e-06,\n",
              "  1.5081402183680794e-06,\n",
              "  1.2635159400855332e-06,\n",
              "  1.7790552163057e-06,\n",
              "  1.4761773757613633e-06,\n",
              "  1.7593951234536474e-06,\n",
              "  1.822811843468159e-06,\n",
              "  1.157675927059933e-06,\n",
              "  1.2021377988189055e-06,\n",
              "  1.9126909452311447e-06,\n",
              "  3.040153709580616e-06,\n",
              "  1.921388923831662e-06,\n",
              "  1.3016104632808665e-06,\n",
              "  1.603504871057684e-06,\n",
              "  1.34230248211186e-06,\n",
              "  1.519701467789645e-06,\n",
              "  1.0455302983168087e-06,\n",
              "  1.518295277352322e-06,\n",
              "  1.5552041235507876e-06,\n",
              "  1.2600035397000374e-06,\n",
              "  2.4913482360312113e-06,\n",
              "  1.2448435591274726e-06,\n",
              "  1.2471628558627996e-06,\n",
              "  1.1787190282174984e-06,\n",
              "  1.2982920005228697e-06,\n",
              "  2.1534883065167277e-06,\n",
              "  1.389500273914011e-06,\n",
              "  1.2908544066575646e-06,\n",
              "  1.2857672857454854e-06,\n",
              "  1.3830598343582066e-06,\n",
              "  1.5426953059208346e-06,\n",
              "  1.6001793622837758e-06,\n",
              "  3.8028105787106766e-06,\n",
              "  1.4197067350362034e-06,\n",
              "  0.5317443926102019,\n",
              "  1.2670501638461381e-06,\n",
              "  1.4584098211906913e-06,\n",
              "  2.1218280915917894e-06,\n",
              "  2.401735109550945e-06,\n",
              "  1.7728638885429196e-06,\n",
              "  1.637893536005112e-06,\n",
              "  1.1405191146839433e-06,\n",
              "  1.1660514553258817e-06,\n",
              "  1.2261488435879703e-06,\n",
              "  1.592243213792895e-06,\n",
              "  1.5172994493200813e-06,\n",
              "  1.1570292240930908e-06,\n",
              "  1.1676257573457417e-06,\n",
              "  1.2190129491296214e-06,\n",
              "  1.386418716389991e-06,\n",
              "  1.4962174766698153e-06,\n",
              "  1.4834449601448283e-06,\n",
              "  1.4006873402390359e-06,\n",
              "  1.1888713762230463e-06,\n",
              "  1.6257679299880273e-06,\n",
              "  3.4608077767921005e-06,\n",
              "  1.7561987691121896e-06,\n",
              "  1.1249566992149822e-06,\n",
              "  1.4545429319832308e-06,\n",
              "  9.98642069421754e-07,\n",
              "  1.4564725868245629e-06,\n",
              "  2.205055744013447e-06,\n",
              "  1.2069674685768089e-06,\n",
              "  1.504756556504455e-06,\n",
              "  1.4036241793953737e-06,\n",
              "  1.1448918986509432e-06,\n",
              "  1.380880673433879e-06,\n",
              "  2.662817444473366e-06,\n",
              "  1.2548849635606988e-06,\n",
              "  1.111304136757379e-06,\n",
              "  1.0597311035807758e-06,\n",
              "  1.1896297986394977e-06,\n",
              "  2.690478726115423e-06,\n",
              "  1.5703984877042608e-06,\n",
              "  2.182639437355525e-06,\n",
              "  2.1948342398966555e-06,\n",
              "  1.368239156069893e-06,\n",
              "  1.7650046933339434e-06,\n",
              "  1.4143078349546379e-06,\n",
              "  2.120048412923344e-06,\n",
              "  1.649087389744163e-06,\n",
              "  1.186855001616053e-06,\n",
              "  1.358352203047018e-06,\n",
              "  1.3474877458130508e-06,\n",
              "  1.2967550110426451e-06,\n",
              "  1.446735759261696e-06,\n",
              "  1.649887124430493e-06,\n",
              "  1.4863115145125292e-06,\n",
              "  1.6246416992189985e-06,\n",
              "  1.0121011733050135e-06,\n",
              "  1.7118842754435144e-06,\n",
              "  1.0377168146777634e-06,\n",
              "  1.3003075735160723e-06,\n",
              "  1.5399525113702064e-06,\n",
              "  2.447692302263122e-06,\n",
              "  1.2978127479169069e-06,\n",
              "  1.749882750714214e-06,\n",
              "  1.4991022188322518e-06,\n",
              "  1.571634836904418e-06,\n",
              "  1.3534885378824102e-06,\n",
              "  1.1009279004657458e-06,\n",
              "  1.2475662613735613e-06,\n",
              "  2.052079564747448e-06,\n",
              "  1.3825832480796363e-06,\n",
              "  2.0673586666053025e-06,\n",
              "  1.4915633885118118e-06,\n",
              "  1.2790821744275567e-06,\n",
              "  1.34575772386494e-06,\n",
              "  1.3940696160691859e-06,\n",
              "  1.413029620717787e-06,\n",
              "  1.9038593980689053e-06,\n",
              "  1.5681732716835518e-06,\n",
              "  8.883117226482411e-07,\n",
              "  1.2023475136936857e-06,\n",
              "  2.263398133204141e-06,\n",
              "  2.035586706411366e-06,\n",
              "  1.1854406161627837e-06,\n",
              "  1.426466017913771e-06,\n",
              "  1.0074311641655946e-06,\n",
              "  1.1978301946273544e-06,\n",
              "  1.4070490117593822e-06,\n",
              "  1.9012080011120237e-06,\n",
              "  1.5571867828295593e-06,\n",
              "  1.233062629862623e-06,\n",
              "  1.4244539833472586e-06,\n",
              "  1.4896702227455288e-06,\n",
              "  1.621355262764031e-06,\n",
              "  1.6758515701770741e-06,\n",
              "  3.450254380145346e-06,\n",
              "  1.3299013193538728e-06,\n",
              "  1.6645096820005975e-06,\n",
              "  1.2985609045630997e-06,\n",
              "  1.4082475828849402e-06,\n",
              "  1.47312841018245e-06,\n",
              "  1.1930571150054575e-06,\n",
              "  1.2578852019543252e-06,\n",
              "  6.935872926316137e-07,\n",
              "  1.3303718664517204e-06,\n",
              "  1.2630818876257622e-06,\n",
              "  1.7958892273282418e-06,\n",
              "  1.2672705150385826e-06,\n",
              "  1.4331038312417425e-06,\n",
              "  1.2321060950657465e-06,\n",
              "  3.751905267029193e-06,\n",
              "  1.1645714969643167e-06,\n",
              "  1.5791962929393877e-06,\n",
              "  1.4026380436084352e-06,\n",
              "  1.5854073970333425e-06,\n",
              "  3.2994719741053617e-06,\n",
              "  1.4037150393157216e-06,\n",
              "  1.214605109660058e-06,\n",
              "  1.6195751964026777e-06,\n",
              "  2.289400239146039e-06,\n",
              "  1.7833460254743318e-06,\n",
              "  1.5712195127693201e-06,\n",
              "  1.5656394553416412e-06,\n",
              "  1.4756591745684369e-06,\n",
              "  1.4068634288898845e-06,\n",
              "  1.7535416027468187e-06,\n",
              "  2.4573428932863986e-06,\n",
              "  1.2973688288006378e-06,\n",
              "  1.2496856672359915e-06,\n",
              "  1.95757607145039e-06,\n",
              "  2.0343742557071995e-06,\n",
              "  1.3864596898517736e-06,\n",
              "  1.6223635519674047e-06,\n",
              "  1.6978281815978294e-06,\n",
              "  1.8784212755366609e-06,\n",
              "  1.7034388189710477e-06,\n",
              "  1.631010908387158e-06,\n",
              "  1.1392333602397287e-06,\n",
              "  1.1874401570846636e-06,\n",
              "  1.4210182098445788e-06,\n",
              "  2.6802941406156264e-06,\n",
              "  1.1364414608323025e-06,\n",
              "  1.4400989619530405e-06,\n",
              "  1.8850566201980667e-06,\n",
              "  1.4791477081540903e-06,\n",
              "  1.582542900064482e-06,\n",
              "  1.626366346908811e-06,\n",
              "  1.748266877281954e-06,\n",
              "  1.8138595709949018e-06,\n",
              "  2.149572718207502e-06,\n",
              "  1.3267440158830247e-06,\n",
              "  0.013053088040404687,\n",
              "  1.184926279096984e-06,\n",
              "  2.231487814111367e-06,\n",
              "  1.289581600963397e-06,\n",
              "  1.4901960789899131e-06,\n",
              "  3.055001595391446e-06,\n",
              "  1.6566387323296187e-06,\n",
              "  1.7664250167951173e-06,\n",
              "  1.687835509572825e-06,\n",
              "  1.4186447339374118e-06,\n",
              "  1.7928655326994956e-06,\n",
              "  2.1731701312666904e-06,\n",
              "  1.5415750850183795e-06,\n",
              "  1.41770868774593e-06,\n",
              "  1.628382513709065e-06,\n",
              "  1.3728032793400468e-06,\n",
              "  1.5879977879419072e-06,\n",
              "  1.615543859634826e-06,\n",
              "  1.3259283603689873e-06,\n",
              "  1.460748054656347e-06,\n",
              "  1.2008103377624244e-06,\n",
              "  1.5897122822101646e-06,\n",
              "  1.4077486169815444e-06,\n",
              "  1.1996485098436423e-06,\n",
              "  1.6201527591286254e-06,\n",
              "  1.1020264489197958e-06,\n",
              "  1.2954459577732236e-06,\n",
              "  2.2034264497460235e-06,\n",
              "  0.0001385786184220759,\n",
              "  1.884843220646579e-06,\n",
              "  1.939761470787911e-06,\n",
              "  1.9594824456456943e-06,\n",
              "  1.4999939325454084e-06,\n",
              "  2.6721506596544645e-06,\n",
              "  1.2818405557026572e-06,\n",
              "  3.1585908463937316e-06,\n",
              "  1.356576285249134e-06,\n",
              "  1.7497187763690022e-06,\n",
              "  1.838389803122461e-06,\n",
              "  1.8066719136797643e-06,\n",
              "  1.6019064734993356e-06,\n",
              "  3.1325352074944097e-06,\n",
              "  9.482176340180754e-07,\n",
              "  1.960869523201434e-06,\n",
              "  1.5386272835521348e-06,\n",
              "  1.4645516182905505e-06,\n",
              "  1.0501725720530539e-06,\n",
              "  1.4920434047896657e-06,\n",
              "  1.4119265231189638e-06,\n",
              "  1.0701158359434834e-06,\n",
              "  1.7957226853437963e-06,\n",
              "  1.3367102789604414e-06,\n",
              "  1.5399788403992428e-06,\n",
              "  1.1209586216063556e-06,\n",
              "  1.662513708955425e-06,\n",
              "  1.3238103091393375e-06,\n",
              "  1.8783087655298653e-06,\n",
              "  1.3933339021168986e-06,\n",
              "  1.1704166668592668e-06,\n",
              "  1.528520493598072e-06,\n",
              "  1.4720115236970177e-06,\n",
              "  1.936682464627672e-06,\n",
              "  1.6159382715437677e-06,\n",
              "  1.3195033520779265e-06,\n",
              "  1.2518432745612333e-06,\n",
              "  1.567080661859729e-06,\n",
              "  1.3793002697026885e-06,\n",
              "  2.3968779740067765e-06,\n",
              "  1.508330519940408e-06,\n",
              "  4.344832266688757e-06,\n",
              "  1.8132186876463384e-06,\n",
              "  1.4738219563371456e-06,\n",
              "  1.4426667781942134e-06,\n",
              "  1.7208741773585977e-06,\n",
              "  1.2264250820596908e-06,\n",
              "  1.1379162962869644e-06,\n",
              "  1.2667942528835248e-06,\n",
              "  1.885527515910747e-06,\n",
              "  1.4377407061855403e-06,\n",
              "  1.6858687238286716e-06,\n",
              "  1.4268460530711064e-06,\n",
              "  1.2775859600792166e-06,\n",
              "  1.4210903190977569e-06,\n",
              "  1.5414095642118554e-06,\n",
              "  1.5248018619323663e-06,\n",
              "  1.5655706182131413e-06,\n",
              "  1.5087041463797408e-06,\n",
              "  1.4958820473100104e-06,\n",
              "  1.7350488870105084e-06,\n",
              "  1.5800461866258444e-06,\n",
              "  1.4061394474165412e-06,\n",
              "  1.519564375076228e-06,\n",
              "  1.826766769878875e-06,\n",
              "  1.3214750580170282e-06,\n",
              "  2.450764477269399e-06,\n",
              "  1.7391078230994816e-06,\n",
              "  1.1592865678627987e-06,\n",
              "  1.3990470268863054e-06,\n",
              "  1.4055551268633957e-06,\n",
              "  1.570824869621567e-06,\n",
              "  1.4584728915417923e-06,\n",
              "  1.0148270527360573e-06,\n",
              "  1.1129105182586542e-06,\n",
              "  1.3543283199922618e-06,\n",
              "  1.3262102605666177e-06,\n",
              "  2.6877617950712913e-06,\n",
              "  1.5693184806835256e-06,\n",
              "  1.49190236303193e-06,\n",
              "  1.4909557764996949e-06,\n",
              "  3.5159847907403457e-06,\n",
              "  1.2798281699462989e-06,\n",
              "  1.7744184613746317e-06,\n",
              "  1.2213760077898982e-06,\n",
              "  1.4610440081535733e-06,\n",
              "  1.3163600822049215e-06,\n",
              "  2.199387724561936e-06,\n",
              "  1.7227935460007536e-06,\n",
              "  1.464903994416028e-06,\n",
              "  1.5733713845946957e-06,\n",
              "  1.2066530262763283e-06,\n",
              "  2.0751947514654156e-06,\n",
              "  0.04083893239748053,\n",
              "  1.432776708374709e-06,\n",
              "  1.470740026234345e-06,\n",
              "  1.6792658858697006e-06,\n",
              "  1.614285529729468e-06,\n",
              "  1.8099453858246946e-06,\n",
              "  2.0889988664448233e-06,\n",
              "  1.9750783171962266e-06,\n",
              "  1.4523822944456823e-06,\n",
              "  1.3698013468145698e-06,\n",
              "  1.142022792157939e-06,\n",
              "  1.6320034430120176e-06,\n",
              "  1.2234765010778305e-06,\n",
              "  1.1963625901890117e-06,\n",
              "  1.537830456920262e-06,\n",
              "  1.1458420129003357e-06,\n",
              "  1.6966776335179476e-06,\n",
              "  1.4714052149037933e-06,\n",
              "  1.0510555883832337e-06,\n",
              "  1.4928535707842323e-06,\n",
              "  3.2096767771508886e-06,\n",
              "  1.6903974542258986e-06,\n",
              "  1.3226535370025248e-06,\n",
              "  1.7645920118091614e-06,\n",
              "  1.154732200189399e-06,\n",
              "  1.375682240982547e-06,\n",
              "  1.3026653899558536e-06,\n",
              "  1.6081707074834964e-06,\n",
              "  1.0607785985898716e-06,\n",
              "  1.9037270390426943e-06,\n",
              "  8.258146725304073e-07,\n",
              "  9.0506728757759e-07,\n",
              "  1.4058111327820544e-06,\n",
              "  1.540777849058458e-06,\n",
              "  1.7015568375281451e-06,\n",
              "  1.7110943667159191e-06,\n",
              "  1.4650844785368518e-06,\n",
              "  8.703209583485786e-07,\n",
              "  1.5282988999875936e-06,\n",
              "  1.1115920091969078e-06,\n",
              "  1.0109792718273655e-06,\n",
              "  1.6131727744331369e-06,\n",
              "  1.4975147919053463e-06,\n",
              "  1.298629217599411e-06,\n",
              "  1.2509839257106412e-06,\n",
              "  1.3649592363356023e-06,\n",
              "  2.2720113349524185e-06,\n",
              "  1.4242982534950162e-06,\n",
              "  1.2684316740362351e-06,\n",
              "  1.3178006915841922e-06,\n",
              "  1.2201197549581104e-06,\n",
              "  1.436251682237522e-06,\n",
              "  1.4333037372349231e-06,\n",
              "  1.9592575940041417e-06,\n",
              "  1.2483268468451076e-06,\n",
              "  1.2918166563615701e-06,\n",
              "  1.4415157689374301e-06,\n",
              "  1.3353000337759065e-06,\n",
              "  1.4366067873955408e-06,\n",
              "  1.240669550751006e-06,\n",
              "  1.3334613445775697e-06,\n",
              "  1.702308571372804e-06],\n",
              " 'obj*': 0.0031507685616699375}"
            ]
          },
          "metadata": {},
          "execution_count": 142
        }
      ]
    },
    {
      "cell_type": "code",
      "source": [
        "risk = 0.99\n",
        "stock_model(risk, ror_average_list, covariance_matrix_list)"
      ],
      "metadata": {
        "colab": {
          "base_uri": "https://localhost:8080/"
        },
        "id": "onwfNbRwUXSF",
        "outputId": "358221c8-cd9c-49f5-d71e-ea68a1367b75"
      },
      "execution_count": null,
      "outputs": [
        {
          "output_type": "stream",
          "name": "stdout",
          "text": [
            "Ipopt 3.13.2: halt_on_ampl_error=yes\n",
            "\n",
            "\n",
            "******************************************************************************\n",
            "This program contains Ipopt, a library for large-scale nonlinear optimization.\n",
            " Ipopt is released as open source code under the Eclipse Public License (EPL).\n",
            "         For more information visit http://projects.coin-or.org/Ipopt\n",
            "\n",
            "This version of Ipopt was compiled from source code available at\n",
            "    https://github.com/IDAES/Ipopt as part of the Institute for the Design of\n",
            "    Advanced Energy Systems Process Systems Engineering Framework (IDAES PSE\n",
            "    Framework) Copyright (c) 2018-2019. See https://github.com/IDAES/idaes-pse.\n",
            "\n",
            "This version of Ipopt was compiled using HSL, a collection of Fortran codes\n",
            "    for large-scale scientific computation.  All technical papers, sales and\n",
            "    publicity material resulting from use of the HSL codes within IPOPT must\n",
            "    contain the following acknowledgement:\n",
            "        HSL, a collection of Fortran codes for large-scale scientific\n",
            "        computation. See http://www.hsl.rl.ac.uk.\n",
            "******************************************************************************\n",
            "\n",
            "This is Ipopt version 3.13.2, running with linear solver ma27.\n",
            "\n",
            "Number of nonzeros in equality constraint Jacobian...:      503\n",
            "Number of nonzeros in inequality constraint Jacobian.:      501\n",
            "Number of nonzeros in Lagrangian Hessian.............:   125751\n",
            "\n",
            "Total number of variables............................:      503\n",
            "                     variables with only lower bounds:      503\n",
            "                variables with lower and upper bounds:        0\n",
            "                     variables with only upper bounds:        0\n",
            "Total number of equality constraints.................:        1\n",
            "Total number of inequality constraints...............:        1\n",
            "        inequality constraints with only lower bounds:        0\n",
            "   inequality constraints with lower and upper bounds:        0\n",
            "        inequality constraints with only upper bounds:        1\n",
            "\n",
            "iter    objective    inf_pr   inf_du lg(mu)  ||d||  lg(rg) alpha_du alpha_pr  ls\n",
            "   0 -6.7826049e-02 9.96e+01 7.23e-01  -1.0 0.00e+00    -  0.00e+00 0.00e+00   0\n",
            "   1 -1.6528273e-02 2.18e+01 9.05e-01  -1.0 2.53e-01    -  4.45e-01 7.82e-01h  1\n",
            "   2 -9.1464838e-03 1.29e+01 1.50e+00  -1.0 1.79e+00    -  1.00e+00 4.05e-01h  1\n",
            "   3 -1.7012959e-03 1.18e+00 4.19e-01  -1.0 1.89e-01    -  1.00e+00 9.09e-01h  1\n",
            "   4 -1.1918291e-03 8.31e-01 9.69e+00  -1.0 5.16e-01    -  7.61e-01 2.96e-01f  1\n",
            "   5 -7.0401315e-04 8.88e-16 8.63e-04  -1.0 5.50e-02    -  1.00e+00 1.00e+00h  1\n",
            "   6 -7.0288671e-04 2.22e-16 9.93e-05  -2.5 1.25e-03    -  1.00e+00 1.00e+00h  1\n",
            "   7 -7.0154370e-04 0.00e+00 4.23e-06  -3.8 7.62e-04    -  1.00e+00 1.00e+00h  1\n",
            "   8 -7.0468396e-04 5.55e-16 2.05e-03  -5.7 1.00e-04    -  9.73e-01 1.00e+00h  1\n",
            "   9 -3.1911945e-03 4.44e-16 1.89e-04  -5.7 8.95e-01    -  1.00e+00 9.30e-01f  1\n",
            "iter    objective    inf_pr   inf_du lg(mu)  ||d||  lg(rg) alpha_du alpha_pr  ls\n",
            "  10 -2.8474209e-03 2.22e-16 2.34e-08  -5.7 2.57e-01    -  1.00e+00 1.00e+00h  1\n",
            "  11 -2.7620400e-03 6.66e-16 2.22e-09  -5.7 3.12e-02    -  1.00e+00 1.00e+00h  1\n",
            "  12 -2.7581451e-03 6.66e-16 2.28e-11  -5.7 1.52e-03    -  1.00e+00 1.00e+00h  1\n",
            "  13 -3.6821804e-03 3.33e-16 1.31e-06  -8.6 3.17e-01    -  6.83e-01 1.00e+00f  1\n",
            "  14 -3.6830448e-03 4.44e-16 7.60e-11  -8.6 5.38e-03    -  1.00e+00 1.00e+00h  1\n",
            "  15 -3.6838459e-03 8.88e-16 2.33e-12  -9.0 2.75e-04    -  1.00e+00 1.00e+00h  1\n",
            "\n",
            "Number of Iterations....: 15\n",
            "\n",
            "                                   (scaled)                 (unscaled)\n",
            "Objective...............:  -3.6838458664980788e-03   -3.6838458664980788e-03\n",
            "Dual infeasibility......:   2.3260408356373663e-12    2.3260408356373663e-12\n",
            "Constraint violation....:   8.8817841970012523e-16    8.8817841970012523e-16\n",
            "Complementarity.........:   9.2263116710679331e-10    9.2263116710679331e-10\n",
            "Overall NLP error.......:   9.2263116710679331e-10    9.2263116710679331e-10\n",
            "\n",
            "\n",
            "Number of objective function evaluations             = 16\n",
            "Number of objective gradient evaluations             = 16\n",
            "Number of equality constraint evaluations            = 16\n",
            "Number of inequality constraint evaluations          = 16\n",
            "Number of equality constraint Jacobian evaluations   = 16\n",
            "Number of inequality constraint Jacobian evaluations = 16\n",
            "Number of Lagrangian Hessian evaluations             = 15\n",
            "Total CPU secs in IPOPT (w/o function evaluations)   =      1.809\n",
            "Total CPU secs in NLP function evaluations           =      2.901\n",
            "\n",
            "EXIT: Optimal Solution Found.\n"
          ]
        },
        {
          "output_type": "execute_result",
          "data": {
            "text/plain": [
              "{'x*': [2.1706162673702474e-07,\n",
              "  2.9136374878653095e-07,\n",
              "  2.736489689323952e-07,\n",
              "  2.86623327091623e-07,\n",
              "  3.062899092657374e-07,\n",
              "  3.325358333872287e-07,\n",
              "  5.772009323242469e-07,\n",
              "  2.7421790505387235e-07,\n",
              "  2.9148845888253775e-07,\n",
              "  2.9765817833737295e-07,\n",
              "  2.8592443369851884e-07,\n",
              "  2.8284892916229416e-07,\n",
              "  2.899380622435191e-07,\n",
              "  3.246820614004765e-07,\n",
              "  2.541922253110297e-07,\n",
              "  3.019732226639802e-07,\n",
              "  2.7144009719983586e-07,\n",
              "  2.534962381873972e-07,\n",
              "  2.8396209312144873e-07,\n",
              "  3.218527502290721e-07,\n",
              "  3.2413505686430035e-07,\n",
              "  2.3525462600866133e-07,\n",
              "  3.025840168812873e-07,\n",
              "  2.4986808204289537e-07,\n",
              "  2.497665248621746e-07,\n",
              "  2.40877843378372e-07,\n",
              "  2.4843475183937385e-07,\n",
              "  2.990435261096621e-07,\n",
              "  3.028127713565914e-07,\n",
              "  2.6584220224725384e-07,\n",
              "  2.691206486472342e-07,\n",
              "  3.7376617154727934e-07,\n",
              "  3.095286450038717e-07,\n",
              "  2.698591485234114e-07,\n",
              "  3.120589234078576e-07,\n",
              "  3.1664780575642387e-07,\n",
              "  3.0342992200285783e-07,\n",
              "  2.969189323382741e-07,\n",
              "  3.617231041346281e-07,\n",
              "  3.971301045216157e-07,\n",
              "  4.4299946269043984e-07,\n",
              "  2.948019524690784e-07,\n",
              "  3.318215395449839e-07,\n",
              "  2.8559450157381784e-07,\n",
              "  4.179233925939124e-07,\n",
              "  3.3162021129676146e-07,\n",
              "  2.921690625620565e-07,\n",
              "  2.2999474574693066e-07,\n",
              "  2.572909818354909e-07,\n",
              "  3.058452349662523e-07,\n",
              "  2.874386198348452e-07,\n",
              "  3.3538714942615294e-07,\n",
              "  2.510014229368954e-07,\n",
              "  3.0842486839591144e-07,\n",
              "  4.968065296220406e-07,\n",
              "  3.0201311780860345e-07,\n",
              "  2.660477797800249e-07,\n",
              "  2.7617693683852924e-07,\n",
              "  2.5733720021641587e-07,\n",
              "  3.5368029866347445e-07,\n",
              "  2.2117240039759667e-07,\n",
              "  2.5035444738364483e-07,\n",
              "  2.3674176452864685e-07,\n",
              "  2.8715781119426895e-07,\n",
              "  2.7025536912905857e-07,\n",
              "  3.0718960684871324e-07,\n",
              "  2.6069508216512457e-07,\n",
              "  3.058733846035882e-07,\n",
              "  4.1240628764492104e-07,\n",
              "  2.614733380025979e-07,\n",
              "  3.0656075681029035e-07,\n",
              "  2.662869959799336e-07,\n",
              "  2.2804408743160482e-07,\n",
              "  2.807259115570417e-07,\n",
              "  2.4341616096921696e-07,\n",
              "  4.01308247630132e-07,\n",
              "  2.940237404600674e-07,\n",
              "  3.1497161144780894e-07,\n",
              "  2.3674176452864685e-07,\n",
              "  8.824652012578799e-07,\n",
              "  2.956128848052105e-07,\n",
              "  4.523851304282186e-07,\n",
              "  3.708487055595855e-07,\n",
              "  2.5390530933762363e-07,\n",
              "  2.5338131390723566e-07,\n",
              "  3.0618917555569527e-07,\n",
              "  3.046340242077018e-07,\n",
              "  2.8212035802451267e-07,\n",
              "  2.504092448209669e-07,\n",
              "  5.21383006173474e-07,\n",
              "  2.8940211553393736e-07,\n",
              "  3.1373950302353883e-07,\n",
              "  2.8568123558464086e-07,\n",
              "  3.1858219383712817e-07,\n",
              "  3.262463732786941e-07,\n",
              "  2.979184082635383e-07,\n",
              "  3.192075690944633e-07,\n",
              "  2.7006313164632547e-07,\n",
              "  2.528684521217749e-07,\n",
              "  3.244501856531528e-07,\n",
              "  3.1026335893248383e-07,\n",
              "  2.4827512867447995e-07,\n",
              "  3.066815433445765e-07,\n",
              "  3.0022560783889755e-07,\n",
              "  2.645720752350992e-07,\n",
              "  2.755683192751913e-07,\n",
              "  4.161122086595286e-07,\n",
              "  2.8577261004804004e-07,\n",
              "  2.64771460835673e-07,\n",
              "  2.8220698074210773e-07,\n",
              "  2.735836285028839e-07,\n",
              "  3.494578344262989e-07,\n",
              "  2.555261314170908e-07,\n",
              "  2.539949295611347e-07,\n",
              "  2.7693739113014857e-07,\n",
              "  2.418052464675764e-07,\n",
              "  2.555126048779516e-07,\n",
              "  2.523063955199897e-07,\n",
              "  2.5437697226959095e-07,\n",
              "  2.615348067347128e-07,\n",
              "  2.5492517443802677e-07,\n",
              "  2.6115487878973423e-07,\n",
              "  2.6263821710705466e-07,\n",
              "  2.5012108909485504e-07,\n",
              "  3.15508228785891e-07,\n",
              "  2.516674911547868e-07,\n",
              "  2.6859549509082673e-07,\n",
              "  7.330414220450587e-07,\n",
              "  2.7304398523907406e-07,\n",
              "  3.743554755134694e-07,\n",
              "  2.5227722603640254e-07,\n",
              "  2.9066200964397635e-07,\n",
              "  3.295831501922561e-07,\n",
              "  3.350010785282293e-07,\n",
              "  2.666307819405967e-07,\n",
              "  2.4997388865910204e-07,\n",
              "  2.796878863089332e-07,\n",
              "  2.9048299714825963e-07,\n",
              "  2.51953870955258e-07,\n",
              "  3.1622475705959994e-07,\n",
              "  2.989087415805806e-07,\n",
              "  3.0491196348941534e-07,\n",
              "  3.2637316109217964e-07,\n",
              "  2.5709093261235757e-07,\n",
              "  2.500488786775179e-07,\n",
              "  3.5862973840341006e-07,\n",
              "  4.2695896793940784e-07,\n",
              "  3.54465521779376e-07,\n",
              "  2.626390627312832e-07,\n",
              "  3.1951220656280065e-07,\n",
              "  2.620557234703375e-07,\n",
              "  2.859995389606871e-07,\n",
              "  2.2510928747853517e-07,\n",
              "  2.851765765241567e-07,\n",
              "  3.0007363804086243e-07,\n",
              "  2.6393637856512223e-07,\n",
              "  3.978135392506667e-07,\n",
              "  2.544453945302403e-07,\n",
              "  2.5053343043260615e-07,\n",
              "  2.5383145300891557e-07,\n",
              "  2.6844445120181337e-07,\n",
              "  3.541619270083147e-07,\n",
              "  2.7702932882130425e-07,\n",
              "  2.6752541213652037e-07,\n",
              "  2.613291225562543e-07,\n",
              "  2.7889815316359527e-07,\n",
              "  2.8624024689472524e-07,\n",
              "  2.9470953473075616e-07,\n",
              "  4.113894867233769e-07,\n",
              "  2.8462005875802367e-07,\n",
              "  0.9998483777060296,\n",
              "  2.564527760542608e-07,\n",
              "  2.917915258767719e-07,\n",
              "  3.758576038171976e-07,\n",
              "  3.659225854454371e-07,\n",
              "  3.239070361711001e-07,\n",
              "  3.049692468404934e-07,\n",
              "  2.4306765429777097e-07,\n",
              "  2.468368646396706e-07,\n",
              "  2.6159757483602856e-07,\n",
              "  3.432150009230726e-07,\n",
              "  2.8281253830857773e-07,\n",
              "  2.411178522367692e-07,\n",
              "  2.426641881861964e-07,\n",
              "  2.5311847379582583e-07,\n",
              "  2.910340529754876e-07,\n",
              "  2.8562941467509674e-07,\n",
              "  2.8252965846062145e-07,\n",
              "  2.759551773020613e-07,\n",
              "  2.5482834860979326e-07,\n",
              "  3.0455005693076576e-07,\n",
              "  4.6437343339023076e-07,\n",
              "  3.1387091989856446e-07,\n",
              "  2.458070646288612e-07,\n",
              "  2.866852486242798e-07,\n",
              "  2.26251890424237e-07,\n",
              "  2.9598874658927505e-07,\n",
              "  4.214198945691647e-07,\n",
              "  2.4829578452775407e-07,\n",
              "  2.914027219477924e-07,\n",
              "  2.838211965983942e-07,\n",
              "  2.480993766523357e-07,\n",
              "  2.89625412622592e-07,\n",
              "  4.1137878479455704e-07,\n",
              "  2.6391995307870586e-07,\n",
              "  2.3911747755686105e-07,\n",
              "  2.322932154354359e-07,\n",
              "  2.560243232735334e-07,\n",
              "  4.3227624933747974e-07,\n",
              "  2.9486070191253833e-07,\n",
              "  3.5643292890756097e-07,\n",
              "  3.39223354569442e-07,\n",
              "  2.667510667483902e-07,\n",
              "  3.6642850193192253e-07,\n",
              "  2.734258280232685e-07,\n",
              "  3.51161208400976e-07,\n",
              "  2.8090148841178446e-07,\n",
              "  2.646529950341267e-07,\n",
              "  2.735982017985804e-07,\n",
              "  2.5876433034807104e-07,\n",
              "  2.730116779477051e-07,\n",
              "  2.812326359450795e-07,\n",
              "  3.107138981113454e-07,\n",
              "  3.081130291492475e-07,\n",
              "  3.0147126922879764e-07,\n",
              "  2.297523075981697e-07,\n",
              "  3.1736313900262774e-07,\n",
              "  2.325169368036543e-07,\n",
              "  2.597776112086171e-07,\n",
              "  2.7979887475660783e-07,\n",
              "  3.8973108473617375e-07,\n",
              "  2.6918848947476023e-07,\n",
              "  3.2460572042128404e-07,\n",
              "  2.882076135355632e-07,\n",
              "  2.9983209949974684e-07,\n",
              "  2.730217231696666e-07,\n",
              "  2.2655508754996764e-07,\n",
              "  2.6711818193311494e-07,\n",
              "  3.5762568259054e-07,\n",
              "  2.8335421371448186e-07,\n",
              "  3.454622054280293e-07,\n",
              "  2.840276406689943e-07,\n",
              "  2.67061776179872e-07,\n",
              "  2.6449934627521247e-07,\n",
              "  2.700916371065913e-07,\n",
              "  2.7825640104748686e-07,\n",
              "  3.3895528260839555e-07,\n",
              "  2.9586884244167754e-07,\n",
              "  2.163544624306966e-07,\n",
              "  2.492448159166458e-07,\n",
              "  3.6808949731003665e-07,\n",
              "  3.5504851756541293e-07,\n",
              "  2.566353702557903e-07,\n",
              "  2.773921366390933e-07,\n",
              "  2.264704700389985e-07,\n",
              "  2.4998302469473344e-07,\n",
              "  2.836329901997803e-07,\n",
              "  3.510176930032427e-07,\n",
              "  3.0669692918727426e-07,\n",
              "  2.71420175115177e-07,\n",
              "  2.8245516425167375e-07,\n",
              "  3.0056544553223447e-07,\n",
              "  3.008100025377587e-07,\n",
              "  3.0606697038796974e-07,\n",
              "  4.5702296634741703e-07,\n",
              "  2.622863875860701e-07,\n",
              "  3.046525851980171e-07,\n",
              "  2.52243184218117e-07,\n",
              "  2.8225300605845917e-07,\n",
              "  2.861278883324197e-07,\n",
              "  2.511853642488658e-07,\n",
              "  2.4246358046817134e-07,\n",
              "  1.6711094735971405e-07,\n",
              "  2.6084307773487826e-07,\n",
              "  2.7150266284330853e-07,\n",
              "  3.2766615664176404e-07,\n",
              "  2.4638187571421907e-07,\n",
              "  2.8861098586399215e-07,\n",
              "  2.59079991664234e-07,\n",
              "  4.940291053593096e-07,\n",
              "  2.3800177187011762e-07,\n",
              "  2.77152182146122e-07,\n",
              "  2.7243601378593033e-07,\n",
              "  2.9735751954454315e-07,\n",
              "  4.790283417127947e-07,\n",
              "  2.766970924468269e-07,\n",
              "  2.601802684576708e-07,\n",
              "  2.948752943501671e-07,\n",
              "  3.873784153897596e-07,\n",
              "  3.1612936775643604e-07,\n",
              "  3.1370277410501924e-07,\n",
              "  3.055251388692595e-07,\n",
              "  2.7571218678238614e-07,\n",
              "  2.784587605336108e-07,\n",
              "  3.217566037096413e-07,\n",
              "  3.969412015213376e-07,\n",
              "  2.713583282746792e-07,\n",
              "  2.5949740546413586e-07,\n",
              "  3.5053620202412837e-07,\n",
              "  3.54621682526463e-07,\n",
              "  2.746839167746379e-07,\n",
              "  3.143684492813109e-07,\n",
              "  3.02870185592361e-07,\n",
              "  3.3531208765996763e-07,\n",
              "  3.150847084296893e-07,\n",
              "  3.076501602294723e-07,\n",
              "  2.61891242418889e-07,\n",
              "  2.4148286924589143e-07,\n",
              "  2.7366893375490656e-07,\n",
              "  3.6807552295890785e-07,\n",
              "  2.405009520027931e-07,\n",
              "  2.6844618043274094e-07,\n",
              "  3.3694484013520004e-07,\n",
              "  2.8999245532938086e-07,\n",
              "  3.0266394873109114e-07,\n",
              "  3.2987656636878377e-07,\n",
              "  3.4559621443671796e-07,\n",
              "  3.428086510239909e-07,\n",
              "  3.558914427113342e-07,\n",
              "  2.676685404653078e-07,\n",
              "  6.897600360227662e-07,\n",
              "  2.6337872552103315e-07,\n",
              "  3.511873975025879e-07,\n",
              "  2.5341741933997145e-07,\n",
              "  2.760650765954674e-07,\n",
              "  4.821931850270385e-07,\n",
              "  3.0071488597316434e-07,\n",
              "  3.2913791454753697e-07,\n",
              "  3.1752161645048165e-07,\n",
              "  2.94623831037278e-07,\n",
              "  3.1802362416194074e-07,\n",
              "  3.7106433375848374e-07,\n",
              "  2.938486169854011e-07,\n",
              "  2.80898498486982e-07,\n",
              "  3.148576099897059e-07,\n",
              "  2.653761705808849e-07,\n",
              "  3.01155478015532e-07,\n",
              "  3.044453615286983e-07,\n",
              "  2.696372598137273e-07,\n",
              "  2.887681730921363e-07,\n",
              "  2.470604500862186e-07,\n",
              "  3.063180017296809e-07,\n",
              "  2.7951738337411824e-07,\n",
              "  2.56058673146674e-07,\n",
              "  2.870588875862728e-07,\n",
              "  2.7609123698827354e-07,\n",
              "  2.6622886447564667e-07,\n",
              "  3.6112937950792646e-07,\n",
              "  8.223629305699633e-07,\n",
              "  3.3958734273179775e-07,\n",
              "  3.649896527031369e-07,\n",
              "  3.2450194203798634e-07,\n",
              "  3.0493755402844654e-07,\n",
              "  3.994974450693447e-07,\n",
              "  2.605045362171256e-07,\n",
              "  4.953436110875332e-07,\n",
              "  2.8959217643305453e-07,\n",
              "  3.089980335550806e-07,\n",
              "  3.14232357070994e-07,\n",
              "  3.1626100807202443e-07,\n",
              "  2.938987204684421e-07,\n",
              "  4.308029589909212e-07,\n",
              "  2.2501025105080513e-07,\n",
              "  3.4959812387829236e-07,\n",
              "  2.956329251911878e-07,\n",
              "  3.18018947798281e-07,\n",
              "  2.451125788761632e-07,\n",
              "  2.9539412176977573e-07,\n",
              "  2.6792868596607166e-07,\n",
              "  2.2498578120864846e-07,\n",
              "  3.2231522024307867e-07,\n",
              "  2.6018820876940557e-07,\n",
              "  2.943236233793141e-07,\n",
              "  2.371757461499695e-07,\n",
              "  3.1635565083343003e-07,\n",
              "  2.7231744141509525e-07,\n",
              "  3.3458292455874215e-07,\n",
              "  2.7815924724552755e-07,\n",
              "  2.448337395486223e-07,\n",
              "  3.0119440173293273e-07,\n",
              "  2.704144552498133e-07,\n",
              "  3.149511400885761e-07,\n",
              "  3.0473777575577514e-07,\n",
              "  2.737824268434479e-07,\n",
              "  2.540262855766854e-07,\n",
              "  3.09879311227292e-07,\n",
              "  2.6783448528323114e-07,\n",
              "  3.943553735759463e-07,\n",
              "  3.0993790620771075e-07,\n",
              "  4.829288781142327e-07,\n",
              "  3.370496344191266e-07,\n",
              "  2.773908611081051e-07,\n",
              "  2.8609809125844496e-07,\n",
              "  3.1657449212160214e-07,\n",
              "  2.585041070148029e-07,\n",
              "  2.4557230913634547e-07,\n",
              "  2.647733509414137e-07,\n",
              "  3.1363229250411387e-07,\n",
              "  2.9276984385279304e-07,\n",
              "  2.9738059396455846e-07,\n",
              "  2.826940469856236e-07,\n",
              "  2.662787481320718e-07,\n",
              "  2.823627070581091e-07,\n",
              "  3.0257431134021815e-07,\n",
              "  2.867133468389577e-07,\n",
              "  2.937395539268503e-07,\n",
              "  2.9559224375993244e-07,\n",
              "  3.278593893989443e-07,\n",
              "  3.2074144649808613e-07,\n",
              "  3.0913111427430435e-07,\n",
              "  2.763431550847477e-07,\n",
              "  3.004419261696113e-07,\n",
              "  3.217047035814909e-07,\n",
              "  2.6459851529861626e-07,\n",
              "  4.0115893532200675e-07,\n",
              "  3.1479124712539576e-07,\n",
              "  2.592795228823918e-07,\n",
              "  2.9818595649470053e-07,\n",
              "  2.591279939424708e-07,\n",
              "  2.9686813345279913e-07,\n",
              "  2.745146950171215e-07,\n",
              "  2.295265005802664e-07,\n",
              "  2.497058020658233e-07,\n",
              "  2.7607767446123104e-07,\n",
              "  2.7469783164737157e-07,\n",
              "  4.0207434513788525e-07,\n",
              "  2.943620058210691e-07,\n",
              "  2.9060855825490603e-07,\n",
              "  3.0272879385209124e-07,\n",
              "  4.5381939650352504e-07,\n",
              "  2.6575732235653485e-07,\n",
              "  3.1128797627180545e-07,\n",
              "  2.640309058225305e-07,\n",
              "  2.856795593888483e-07,\n",
              "  2.831719663093677e-07,\n",
              "  3.9142326646466415e-07,\n",
              "  3.1022619098775566e-07,\n",
              "  2.9711741353417205e-07,\n",
              "  3.040068786561375e-07,\n",
              "  2.544486949424363e-07,\n",
              "  3.782637583597013e-07,\n",
              "  9.832296135949095e-07,\n",
              "  2.9022069505557446e-07,\n",
              "  2.9445348466806466e-07,\n",
              "  3.05857714418076e-07,\n",
              "  3.0137572199560497e-07,\n",
              "  3.1892494358811296e-07,\n",
              "  3.4535398272844394e-07,\n",
              "  3.519346767469596e-07,\n",
              "  2.759364130427178e-07,\n",
              "  2.8905285931331453e-07,\n",
              "  2.504846731488697e-07,\n",
              "  3.0952771063709816e-07,\n",
              "  2.5026736138296656e-07,\n",
              "  2.533885394187375e-07,\n",
              "  3.23438441489666e-07,\n",
              "  2.445218016243614e-07,\n",
              "  3.214108874085011e-07,\n",
              "  2.84638494200009e-07,\n",
              "  2.4689746429739785e-07,\n",
              "  2.8363079697274654e-07,\n",
              "  4.6512782558957933e-07,\n",
              "  3.013778125384283e-07,\n",
              "  2.739271747668216e-07,\n",
              "  3.2091318730103387e-07,\n",
              "  2.530438519889749e-07,\n",
              "  2.74842252071298e-07,\n",
              "  2.6806539616104443e-07,\n",
              "  2.980375098294252e-07,\n",
              "  2.222142480124332e-07,\n",
              "  3.2160605235332566e-07,\n",
              "  2.0188715187064722e-07,\n",
              "  2.074225375840752e-07,\n",
              "  2.8580309063373604e-07,\n",
              "  2.9338122004545293e-07,\n",
              "  3.135176293160108e-07,\n",
              "  3.027357953472921e-07,\n",
              "  2.933896692375465e-07,\n",
              "  2.0048389776455773e-07,\n",
              "  2.763791222062522e-07,\n",
              "  2.435043810616993e-07,\n",
              "  2.3101274490081674e-07,\n",
              "  2.878303861961971e-07,\n",
              "  2.882471538504376e-07,\n",
              "  2.5438648937785405e-07,\n",
              "  2.6269487540043544e-07,\n",
              "  2.7656402538813747e-07,\n",
              "  3.5899421767552366e-07,\n",
              "  2.9667017570532303e-07,\n",
              "  2.6641849789433336e-07,\n",
              "  2.828726897929533e-07,\n",
              "  2.6432643351333364e-07,\n",
              "  2.854502146568266e-07,\n",
              "  2.759860137034888e-07,\n",
              "  3.3234084824732666e-07,\n",
              "  2.7374561373507456e-07,\n",
              "  2.5577076073446727e-07,\n",
              "  2.8736065987118155e-07,\n",
              "  2.6810147447620327e-07,\n",
              "  2.995591156373117e-07,\n",
              "  2.595353744278037e-07,\n",
              "  2.7510398648453797e-07,\n",
              "  3.0819251560355007e-07],\n",
              " 'obj*': 0.003683845866498079}"
            ]
          },
          "metadata": {},
          "execution_count": 143
        }
      ]
    }
  ]
}