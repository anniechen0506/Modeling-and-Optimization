{
  "nbformat": 4,
  "nbformat_minor": 0,
  "metadata": {
    "colab": {
      "provenance": [],
      "include_colab_link": true
    },
    "kernelspec": {
      "name": "python3",
      "display_name": "Python 3"
    },
    "language_info": {
      "name": "python"
    }
  },
  "cells": [
    {
      "cell_type": "markdown",
      "metadata": {
        "id": "view-in-github",
        "colab_type": "text"
      },
      "source": [
        "<a href=\"https://colab.research.google.com/github/anniechen0506/Modeling-and-Optimization-Fall-2023/blob/main/Google_OR_tools.ipynb\" target=\"_parent\"><img src=\"https://colab.research.google.com/assets/colab-badge.svg\" alt=\"Open In Colab\"/></a>"
      ]
    },
    {
      "cell_type": "markdown",
      "source": [
        "#Google OR Tools\n",
        "see: https://developers.google.com/optimization\n"
      ],
      "metadata": {
        "id": "C2eWuN6rHW16"
      }
    },
    {
      "cell_type": "code",
      "source": [
        "!pip install ortools #note I needed to go to Runtime --> retart runtime after I installed."
      ],
      "metadata": {
        "colab": {
          "base_uri": "https://localhost:8080/"
        },
        "id": "gN8YfPsZEi5t",
        "outputId": "7276ff4a-a854-4311-8bd7-dde70dbd186b"
      },
      "execution_count": null,
      "outputs": [
        {
          "output_type": "stream",
          "name": "stdout",
          "text": [
            "Collecting ortools\n",
            "  Downloading ortools-9.8.3296-cp310-cp310-manylinux_2_17_x86_64.manylinux2014_x86_64.whl (22.9 MB)\n",
            "\u001b[2K     \u001b[90m━━━━━━━━━━━━━━━━━━━━━━━━━━━━━━━━━━━━━━━━\u001b[0m \u001b[32m22.9/22.9 MB\u001b[0m \u001b[31m96.1 MB/s\u001b[0m eta \u001b[36m0:00:00\u001b[0m\n",
            "\u001b[?25hCollecting absl-py>=2.0.0 (from ortools)\n",
            "  Downloading absl_py-2.0.0-py3-none-any.whl (130 kB)\n",
            "\u001b[2K     \u001b[90m━━━━━━━━━━━━━━━━━━━━━━━━━━━━━━━━━━━━━━━━\u001b[0m \u001b[32m130.2/130.2 kB\u001b[0m \u001b[31m13.6 MB/s\u001b[0m eta \u001b[36m0:00:00\u001b[0m\n",
            "\u001b[?25hRequirement already satisfied: numpy>=1.13.3 in /usr/local/lib/python3.10/dist-packages (from ortools) (1.23.5)\n",
            "Collecting pandas>=2.0.0 (from ortools)\n",
            "  Downloading pandas-2.1.3-cp310-cp310-manylinux_2_17_x86_64.manylinux2014_x86_64.whl (12.3 MB)\n",
            "\u001b[2K     \u001b[90m━━━━━━━━━━━━━━━━━━━━━━━━━━━━━━━━━━━━━━━━\u001b[0m \u001b[32m12.3/12.3 MB\u001b[0m \u001b[31m117.0 MB/s\u001b[0m eta \u001b[36m0:00:00\u001b[0m\n",
            "\u001b[?25hCollecting protobuf>=4.25.0 (from ortools)\n",
            "  Downloading protobuf-4.25.1-cp37-abi3-manylinux2014_x86_64.whl (294 kB)\n",
            "\u001b[2K     \u001b[90m━━━━━━━━━━━━━━━━━━━━━━━━━━━━━━━━━━━━━━━━\u001b[0m \u001b[32m294.6/294.6 kB\u001b[0m \u001b[31m42.3 MB/s\u001b[0m eta \u001b[36m0:00:00\u001b[0m\n",
            "\u001b[?25hRequirement already satisfied: python-dateutil>=2.8.2 in /usr/local/lib/python3.10/dist-packages (from pandas>=2.0.0->ortools) (2.8.2)\n",
            "Requirement already satisfied: pytz>=2020.1 in /usr/local/lib/python3.10/dist-packages (from pandas>=2.0.0->ortools) (2023.3.post1)\n",
            "Collecting tzdata>=2022.1 (from pandas>=2.0.0->ortools)\n",
            "  Downloading tzdata-2023.3-py2.py3-none-any.whl (341 kB)\n",
            "\u001b[2K     \u001b[90m━━━━━━━━━━━━━━━━━━━━━━━━━━━━━━━━━━━━━━━━\u001b[0m \u001b[32m341.8/341.8 kB\u001b[0m \u001b[31m32.0 MB/s\u001b[0m eta \u001b[36m0:00:00\u001b[0m\n",
            "\u001b[?25hRequirement already satisfied: six>=1.5 in /usr/local/lib/python3.10/dist-packages (from python-dateutil>=2.8.2->pandas>=2.0.0->ortools) (1.16.0)\n",
            "Installing collected packages: tzdata, protobuf, absl-py, pandas, ortools\n",
            "  Attempting uninstall: protobuf\n",
            "    Found existing installation: protobuf 3.20.3\n",
            "    Uninstalling protobuf-3.20.3:\n",
            "      Successfully uninstalled protobuf-3.20.3\n",
            "  Attempting uninstall: absl-py\n",
            "    Found existing installation: absl-py 1.4.0\n",
            "    Uninstalling absl-py-1.4.0:\n",
            "      Successfully uninstalled absl-py-1.4.0\n",
            "  Attempting uninstall: pandas\n",
            "    Found existing installation: pandas 1.5.3\n",
            "    Uninstalling pandas-1.5.3:\n",
            "      Successfully uninstalled pandas-1.5.3\n",
            "\u001b[31mERROR: pip's dependency resolver does not currently take into account all the packages that are installed. This behaviour is the source of the following dependency conflicts.\n",
            "lida 0.0.10 requires fastapi, which is not installed.\n",
            "lida 0.0.10 requires kaleido, which is not installed.\n",
            "lida 0.0.10 requires python-multipart, which is not installed.\n",
            "lida 0.0.10 requires uvicorn, which is not installed.\n",
            "google-colab 1.0.0 requires pandas==1.5.3, but you have pandas 2.1.3 which is incompatible.\n",
            "tensorflow-metadata 1.14.0 requires absl-py<2.0.0,>=0.9, but you have absl-py 2.0.0 which is incompatible.\n",
            "tensorflow-metadata 1.14.0 requires protobuf<4.21,>=3.20.3, but you have protobuf 4.25.1 which is incompatible.\u001b[0m\u001b[31m\n",
            "\u001b[0mSuccessfully installed absl-py-2.0.0 ortools-9.8.3296 pandas-2.1.3 protobuf-4.25.1 tzdata-2023.3\n"
          ]
        }
      ]
    },
    {
      "cell_type": "code",
      "source": [
        "#example knapsack problem solve code\n",
        "from ortools.algorithms.python import knapsack_solver\n",
        "\n",
        "\n",
        "def main():\n",
        "    # Create the solver.\n",
        "    solver = knapsack_solver.KnapsackSolver(\n",
        "        knapsack_solver.SolverType.KNAPSACK_MULTIDIMENSION_BRANCH_AND_BOUND_SOLVER,\n",
        "        \"KnapsackExample\",\n",
        "    )\n",
        "\n",
        "    values = [\n",
        "        # fmt:off\n",
        "      360, 83, 59, 130, 431, 67, 230, 52, 93, 125, 670, 892, 600, 38, 48, 147,\n",
        "      78, 256, 63, 17, 120, 164, 432, 35, 92, 110, 22, 42, 50, 323, 514, 28,\n",
        "      87, 73, 78, 15, 26, 78, 210, 36, 85, 189, 274, 43, 33, 10, 19, 389, 276,\n",
        "      312\n",
        "        # fmt:on\n",
        "    ]\n",
        "    weights = [\n",
        "        # fmt: off\n",
        "      [7, 0, 30, 22, 80, 94, 11, 81, 70, 64, 59, 18, 0, 36, 3, 8, 15, 42, 9, 0,\n",
        "       42, 47, 52, 32, 26, 48, 55, 6, 29, 84, 2, 4, 18, 56, 7, 29, 93, 44, 71,\n",
        "       3, 86, 66, 31, 65, 0, 79, 20, 65, 52, 13],\n",
        "        # fmt: on\n",
        "    ]\n",
        "    capacities = [850]\n",
        "\n",
        "    solver.init(values, weights, capacities)\n",
        "    computed_value = solver.solve()\n",
        "\n",
        "    packed_items = []\n",
        "    packed_weights = []\n",
        "    total_weight = 0\n",
        "    print(\"Total value =\", computed_value)\n",
        "    for i in range(len(values)):\n",
        "        if solver.best_solution_contains(i):\n",
        "            packed_items.append(i)\n",
        "            packed_weights.append(weights[0][i])\n",
        "            total_weight += weights[0][i]\n",
        "    print(\"Total weight:\", total_weight)\n",
        "    print(\"Packed items:\", packed_items)\n",
        "    print(\"Packed_weights:\", packed_weights)\n",
        "\n",
        "\n",
        "if __name__ == \"__main__\":\n",
        "    main()"
      ],
      "metadata": {
        "colab": {
          "base_uri": "https://localhost:8080/"
        },
        "id": "Nkl-r0CCJRdQ",
        "outputId": "ceb8ea1f-8630-4f13-c64f-d628f7e06b80"
      },
      "execution_count": null,
      "outputs": [
        {
          "output_type": "stream",
          "name": "stdout",
          "text": [
            "Total value = 7534\n",
            "Total weight: 850\n",
            "Packed items: [0, 1, 3, 4, 6, 10, 11, 12, 14, 15, 16, 17, 18, 19, 21, 22, 24, 27, 28, 29, 30, 31, 32, 34, 38, 39, 41, 42, 44, 47, 48, 49]\n",
            "Packed_weights: [7, 0, 22, 80, 11, 59, 18, 0, 3, 8, 15, 42, 9, 0, 47, 52, 26, 6, 29, 84, 2, 4, 18, 7, 71, 3, 66, 31, 0, 65, 52, 13]\n"
          ]
        }
      ]
    },
    {
      "cell_type": "code",
      "source": [
        "#Network Flow Example https://developers.google.com/optimization/flow/mincostflow\n",
        "\"\"\"From Bradley, Hax and Maganti, 'Applied Mathematical Programming', figure 8.1.\"\"\"\n",
        "from ortools.graph.python import min_cost_flow\n",
        "\n",
        "import numpy as np\n",
        "\n",
        "\n",
        "def main():\n",
        "    \"\"\"MinCostFlow simple interface example.\"\"\"\n",
        "    # Instantiate a SimpleMinCostFlow solver.\n",
        "    smcf = min_cost_flow.SimpleMinCostFlow()\n",
        "\n",
        "    # Define four parallel arrays: sources, destinations, capacities,\n",
        "    # and unit costs between each pair. For instance, the arc from node 0\n",
        "    # to node 1 has a capacity of 15.\n",
        "    start_nodes = np.array([0, 0, 1, 1, 1, 2, 2, 3, 4])\n",
        "    end_nodes = np.array([1, 2, 2, 3, 4, 3, 4, 4, 2])\n",
        "    capacities = np.array([15, 8, 20, 4, 10, 15, 4, 20, 5])\n",
        "    unit_costs = np.array([4, 4, 2, 2, 6, 1, 3, 2, 3])\n",
        "\n",
        "    # Define an array of supplies at each node.\n",
        "    supplies = [20, 0, 0, -5, -15]\n",
        "\n",
        "    # Add arcs, capacities and costs in bulk using numpy.\n",
        "    smcf.add_arcs_with_capacity_and_unit_cost(start_nodes, end_nodes, capacities, unit_costs)\n",
        "\n",
        "    # Add node supply.\n",
        "    for count, supply in enumerate(supplies):\n",
        "        smcf.set_node_supply(count, supply)\n",
        "\n",
        "    # Find the min cost flow.\n",
        "    status = smcf.solve()\n",
        "\n",
        "    if status != smcf.OPTIMAL:\n",
        "        print('There was an issue with the min cost flow input.')\n",
        "        print(f'Status: {status}')\n",
        "        exit(1)\n",
        "    print('Minimum cost: ', smcf.optimal_cost())\n",
        "    print('')\n",
        "    print(' Arc   Flow / Capacity  Cost')\n",
        "    for i in range(smcf.num_arcs()):\n",
        "        cost = smcf.flow(i) * smcf.unit_cost(i)\n",
        "        print(\n",
        "            '%1s -> %1s    %3s   / %3s   %3s' %\n",
        "            (smcf.tail(i), smcf.head(i), smcf.flow(i), smcf.capacity(i), cost))\n",
        "\n",
        "\n",
        "if __name__ == '__main__':\n",
        "    main()"
      ],
      "metadata": {
        "colab": {
          "base_uri": "https://localhost:8080/"
        },
        "id": "WNi8sqC0Ha8h",
        "outputId": "b60d0c48-c818-4a39-e91d-0790eca3d397"
      },
      "execution_count": null,
      "outputs": [
        {
          "output_type": "stream",
          "name": "stdout",
          "text": [
            "Minimum cost:  150\n",
            "\n",
            " Arc   Flow / Capacity  Cost\n",
            "0 -> 1     12   /  15    48\n",
            "0 -> 2      8   /   8    32\n",
            "1 -> 2      8   /  20    16\n",
            "1 -> 3      4   /   4     8\n",
            "1 -> 4      0   /  10     0\n",
            "2 -> 3     12   /  15    12\n",
            "2 -> 4      4   /   4    12\n",
            "3 -> 4     11   /  20    22\n",
            "4 -> 2      0   /   5     0\n"
          ]
        }
      ]
    }
  ]
}