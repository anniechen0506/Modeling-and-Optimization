{
  "nbformat": 4,
  "nbformat_minor": 0,
  "metadata": {
    "colab": {
      "provenance": [],
      "include_colab_link": true
    },
    "kernelspec": {
      "name": "python3",
      "display_name": "Python 3"
    },
    "language_info": {
      "name": "python"
    }
  },
  "cells": [
    {
      "cell_type": "markdown",
      "metadata": {
        "id": "view-in-github",
        "colab_type": "text"
      },
      "source": [
        "<a href=\"https://colab.research.google.com/github/anniechen0506/Modeling-and-Optimization-Fall-2023/blob/main/Model_as_Profit_Function.ipynb\" target=\"_parent\"><img src=\"https://colab.research.google.com/assets/colab-badge.svg\" alt=\"Open In Colab\"/></a>"
      ]
    },
    {
      "cell_type": "markdown",
      "source": [
        "#Model as Profit Function"
      ],
      "metadata": {
        "id": "eja71-WbmhKq"
      }
    },
    {
      "cell_type": "code",
      "source": [
        "def profit(fixed_cost = 750,\n",
        "            sales_price = 18,\n",
        "            variable_cost = 8,\n",
        "            salvage_value = 6,\n",
        "            demand = 1400,\n",
        "            order = 1600):\n",
        "  #quantity_calcs\n",
        "  quantity_sold = min(demand, order)\n",
        "  quantity_salvaged = order - quantity_sold\n",
        "  #revenue calcs\n",
        "  rev_sales = quantity_sold*sales_price\n",
        "  rev_salvaged = quantity_salvaged*salvage_value\n",
        "  total_rev = rev_sales + rev_salvaged\n",
        "  #cost calculations\n",
        "  total_cost = fixed_cost + variable_cost*order\n",
        "  #profit\n",
        "  profit = total_rev - total_cost\n",
        "  return profit\n",
        "\n",
        "profit()"
      ],
      "metadata": {
        "colab": {
          "base_uri": "https://localhost:8080/"
        },
        "id": "rNGXwe_gmiub",
        "outputId": "93ed0ada-5c86-4cd3-a8df-2aed66693236"
      },
      "execution_count": null,
      "outputs": [
        {
          "output_type": "execute_result",
          "data": {
            "text/plain": [
              "12850"
            ]
          },
          "metadata": {},
          "execution_count": 1
        }
      ]
    },
    {
      "cell_type": "markdown",
      "source": [
        "#Prompt 3\n",
        "Simulate the profit distribution under the following random inputs:\n",
        "- Demand ~ Poisson(lam = 1200)\n",
        "- Variable Cost ~ Lognormal(mean = 2.3, sigma = .1)\n",
        "- Salvage Value ~ (Variable Cost)*B, where B ~ Beta(a = 10, b = 50)\n",
        "- Sales Price ~ (Variable Cost) + M, where M ~ Normal(mean= 5, stdev=3)\n",
        "\n",
        "Plot a histogram of the projected profit under an order quantity of 1400 and fixed cost of 750. What's the predicted probability of a negative profit?\n",
        "\n",
        "If you're unfamiliar with these types of distributions, it may also be helpful to plot a histogram of the inputs to help understand what kind of uncertainty you are considering for the inputs, too.\n",
        "\n",
        "---\n",
        "\n"
      ],
      "metadata": {
        "id": "-KuZyq2co4B0"
      }
    },
    {
      "cell_type": "code",
      "source": [
        "import numpy as np\n",
        "\n",
        "num_sim = 10000\n",
        "sim_demands = np.random.poisson(lam = 1200, size = num_sim)\n",
        "sim_variable_costs = np.random.lognormal(mean = 2.3, sigma = .1, size = num_sim)\n",
        "B = np.random.beta(a = 10, b = 50, size = num_sim)\n",
        "sim_salvage_values = sim_variable_costs*B\n",
        "sim_sales_prices = sim_variable_costs + np.random.normal(5,3,num_sim)"
      ],
      "metadata": {
        "id": "9TyLGTxjwkHi"
      },
      "execution_count": null,
      "outputs": []
    },
    {
      "cell_type": "code",
      "source": [
        "import matplotlib.pyplot as plt\n",
        "\n",
        "sim_profits = [profit(demand = sim_demands[i],\n",
        "                      order = 1400,\n",
        "                      fixed_cost = 750,\n",
        "                      variable_cost = sim_variable_costs[i],\n",
        "                      salvage_value = sim_salvage_values[i],\n",
        "                      sales_price = sim_sales_prices[i]) for i in range(num_sim)]\n",
        "plt.hist(sim_profits)"
      ],
      "metadata": {
        "id": "I3EzEMdK0lW0",
        "colab": {
          "base_uri": "https://localhost:8080/",
          "height": 534
        },
        "outputId": "b02f7a95-cbc5-4bf4-c287-3d8516081df9"
      },
      "execution_count": null,
      "outputs": [
        {
          "output_type": "execute_result",
          "data": {
            "text/plain": [
              "(array([   3.,   44.,  250., 1198., 2341., 2966., 2125.,  832.,  211.,\n",
              "          30.]),\n",
              " array([-11562.94775297,  -8753.61498608,  -5944.2822192 ,  -3134.94945232,\n",
              "          -325.61668544,   2483.71608144,   5293.04884832,   8102.3816152 ,\n",
              "         10911.71438208,  13721.04714896,  16530.37991584]),\n",
              " <BarContainer object of 10 artists>)"
            ]
          },
          "metadata": {},
          "execution_count": 3
        },
        {
          "output_type": "display_data",
          "data": {
            "text/plain": [
              "<Figure size 640x480 with 1 Axes>"
            ],
            "image/png": "[encoded data removed]"
          },
          "metadata": {}
        }
      ]
    },
    {
      "cell_type": "code",
      "source": [],
      "metadata": {
        "id": "BfPrLQrRgLSY"
      },
      "execution_count": null,
      "outputs": []
    },
    {
      "cell_type": "markdown",
      "source": [
        "#Prompt 4:\n",
        "Models are also useful for making calculations/projections for existing datasets (not just simulated datasets). For example, consider this dataset of input values for a portfolio of 100 products. Use the model to project the profit for all 100 products. Return to your boss a .csv file where you have added the projected profit for all 100 products, and sorted them from best to worst in terms of projected profit. Can you also include a scatterplot of demand versus profit?"
      ],
      "metadata": {
        "id": "EPrKPRcA2mLR"
      }
    },
    {
      "cell_type": "code",
      "source": [
        "#first you have to put the .csv file into colab by dragging it into the folder tab on the left pane...\n",
        "import pandas as pd\n",
        "products = pd.read_csv(\"03_sync_products.csv\")\n",
        "products"
      ],
      "metadata": {
        "id": "kzRAlGnr2pio",
        "colab": {
          "base_uri": "https://localhost:8080/",
          "height": 424
        },
        "outputId": "639b8651-7bee-41d5-e317-bfc0108f9f54"
      },
      "execution_count": null,
      "outputs": [
        {
          "output_type": "execute_result",
          "data": {
            "text/plain": [
              "    Unnamed: 0  prod_id  fixed_cost  variable_cost  sales_price  \\\n",
              "0            0        0       756.0           6.99        15.47   \n",
              "1            1        1       702.0           4.93        15.40   \n",
              "2            2        2       683.0           8.60        20.04   \n",
              "3            3        3       746.0           9.49        17.91   \n",
              "4            4        4       806.0           6.73        13.02   \n",
              "..         ...      ...         ...            ...          ...   \n",
              "95          95       95       915.0           6.85        18.84   \n",
              "96          96       96       673.0          10.35        19.07   \n",
              "97          97       97       624.0          11.05        19.31   \n",
              "98          98       98       857.0          10.78        20.57   \n",
              "99          99       99       859.0           7.84        21.52   \n",
              "\n",
              "    salvage_value  demand   order  \n",
              "0            5.34  1886.0  1809.0  \n",
              "1            4.10  2015.0  2318.0  \n",
              "2            5.40  3534.0  3576.0  \n",
              "3            4.79  2614.0  2600.0  \n",
              "4           -0.74  2496.0  2465.0  \n",
              "..            ...     ...     ...  \n",
              "95           4.87  1647.0  1636.0  \n",
              "96           3.47  1551.0  1603.0  \n",
              "97           3.12  2051.0  2397.0  \n",
              "98           5.74  1875.0  1954.0  \n",
              "99           3.18  1875.0  2057.0  \n",
              "\n",
              "[100 rows x 8 columns]"
            ],
            "text/html": [
              "\n",
              "  <div id=\"df-b7a90cab-8f32-42aa-bab4-774344f3fb23\" class=\"colab-df-container\">\n",
              "    <div>\n",
              "<style scoped>\n",
              "    .dataframe tbody tr th:only-of-type {\n",
              "        vertical-align: middle;\n",
              "    }\n",
              "\n",
              "    .dataframe tbody tr th {\n",
              "        vertical-align: top;\n",
              "    }\n",
              "\n",
              "    .dataframe thead th {\n",
              "        text-align: right;\n",
              "    }\n",
              "</style>\n",
              "<table border=\"1\" class=\"dataframe\">\n",
              "  <thead>\n",
              "    <tr style=\"text-align: right;\">\n",
              "      <th></th>\n",
              "      <th>Unnamed: 0</th>\n",
              "      <th>prod_id</th>\n",
              "      <th>fixed_cost</th>\n",
              "      <th>variable_cost</th>\n",
              "      <th>sales_price</th>\n",
              "      <th>salvage_value</th>\n",
              "      <th>demand</th>\n",
              "      <th>order</th>\n",
              "    </tr>\n",
              "  </thead>\n",
              "  <tbody>\n",
              "    <tr>\n",
              "      <th>0</th>\n",
              "      <td>0</td>\n",
              "      <td>0</td>\n",
              "      <td>756.0</td>\n",
              "      <td>6.99</td>\n",
              "      <td>15.47</td>\n",
              "      <td>5.34</td>\n",
              "      <td>1886.0</td>\n",
              "      <td>1809.0</td>\n",
              "    </tr>\n",
              "    <tr>\n",
              "      <th>1</th>\n",
              "      <td>1</td>\n",
              "      <td>1</td>\n",
              "      <td>702.0</td>\n",
              "      <td>4.93</td>\n",
              "      <td>15.40</td>\n",
              "      <td>4.10</td>\n",
              "      <td>2015.0</td>\n",
              "      <td>2318.0</td>\n",
              "    </tr>\n",
              "    <tr>\n",
              "      <th>2</th>\n",
              "      <td>2</td>\n",
              "      <td>2</td>\n",
              "      <td>683.0</td>\n",
              "      <td>8.60</td>\n",
              "      <td>20.04</td>\n",
              "      <td>5.40</td>\n",
              "      <td>3534.0</td>\n",
              "      <td>3576.0</td>\n",
              "    </tr>\n",
              "    <tr>\n",
              "      <th>3</th>\n",
              "      <td>3</td>\n",
              "      <td>3</td>\n",
              "      <td>746.0</td>\n",
              "      <td>9.49</td>\n",
              "      <td>17.91</td>\n",
              "      <td>4.79</td>\n",
              "      <td>2614.0</td>\n",
              "      <td>2600.0</td>\n",
              "    </tr>\n",
              "    <tr>\n",
              "      <th>4</th>\n",
              "      <td>4</td>\n",
              "      <td>4</td>\n",
              "      <td>806.0</td>\n",
              "      <td>6.73</td>\n",
              "      <td>13.02</td>\n",
              "      <td>-0.74</td>\n",
              "      <td>2496.0</td>\n",
              "      <td>2465.0</td>\n",
              "    </tr>\n",
              "    <tr>\n",
              "      <th>...</th>\n",
              "      <td>...</td>\n",
              "      <td>...</td>\n",
              "      <td>...</td>\n",
              "      <td>...</td>\n",
              "      <td>...</td>\n",
              "      <td>...</td>\n",
              "      <td>...</td>\n",
              "      <td>...</td>\n",
              "    </tr>\n",
              "    <tr>\n",
              "      <th>95</th>\n",
              "      <td>95</td>\n",
              "      <td>95</td>\n",
              "      <td>915.0</td>\n",
              "      <td>6.85</td>\n",
              "      <td>18.84</td>\n",
              "      <td>4.87</td>\n",
              "      <td>1647.0</td>\n",
              "      <td>1636.0</td>\n",
              "    </tr>\n",
              "    <tr>\n",
              "      <th>96</th>\n",
              "      <td>96</td>\n",
              "      <td>96</td>\n",
              "      <td>673.0</td>\n",
              "      <td>10.35</td>\n",
              "      <td>19.07</td>\n",
              "      <td>3.47</td>\n",
              "      <td>1551.0</td>\n",
              "      <td>1603.0</td>\n",
              "    </tr>\n",
              "    <tr>\n",
              "      <th>97</th>\n",
              "      <td>97</td>\n",
              "      <td>97</td>\n",
              "      <td>624.0</td>\n",
              "      <td>11.05</td>\n",
              "      <td>19.31</td>\n",
              "      <td>3.12</td>\n",
              "      <td>2051.0</td>\n",
              "      <td>2397.0</td>\n",
              "    </tr>\n",
              "    <tr>\n",
              "      <th>98</th>\n",
              "      <td>98</td>\n",
              "      <td>98</td>\n",
              "      <td>857.0</td>\n",
              "      <td>10.78</td>\n",
              "      <td>20.57</td>\n",
              "      <td>5.74</td>\n",
              "      <td>1875.0</td>\n",
              "      <td>1954.0</td>\n",
              "    </tr>\n",
              "    <tr>\n",
              "      <th>99</th>\n",
              "      <td>99</td>\n",
              "      <td>99</td>\n",
              "      <td>859.0</td>\n",
              "      <td>7.84</td>\n",
              "      <td>21.52</td>\n",
              "      <td>3.18</td>\n",
              "      <td>1875.0</td>\n",
              "      <td>2057.0</td>\n",
              "    </tr>\n",
              "  </tbody>\n",
              "</table>\n",
              "<p>100 rows × 8 columns</p>\n",
              "</div>\n",
              "    <div class=\"colab-df-buttons\">\n",
              "\n",
              "  <div class=\"colab-df-container\">\n",
              "    <button class=\"colab-df-convert\" onclick=\"convertToInteractive('df-b7a90cab-8f32-42aa-bab4-774344f3fb23')\"\n",
              "            title=\"Convert this dataframe to an interactive table.\"\n",
              "            style=\"display:none;\">\n",
              "\n",
              "  <svg xmlns=\"http://www.w3.org/2000/svg\" height=\"24px\" viewBox=\"0 -960 960 960\">\n",
              "    <path d=\"M120-120v-720h720v720H120Zm60-500h600v-160H180v160Zm220 220h160v-160H400v160Zm0 220h160v-160H400v160ZM180-400h160v-160H180v160Zm440 0h160v-160H620v160ZM180-180h160v-160H180v160Zm440 0h160v-160H620v160Z\"/>\n",
              "  </svg>\n",
              "    </button>\n",
              "\n",
              "  <style>\n",
              "    .colab-df-container {\n",
              "      display:flex;\n",
              "      gap: 12px;\n",
              "    }\n",
              "\n",
              "    .colab-df-convert {\n",
              "      background-color: #E8F0FE;\n",
              "      border: none;\n",
              "      border-radius: 50%;\n",
              "      cursor: pointer;\n",
              "      display: none;\n",
              "      fill: #1967D2;\n",
              "      height: 32px;\n",
              "      padding: 0 0 0 0;\n",
              "      width: 32px;\n",
              "    }\n",
              "\n",
              "    .colab-df-convert:hover {\n",
              "      background-color: #E2EBFA;\n",
              "      box-shadow: 0px 1px 2px rgba(60, 64, 67, 0.3), 0px 1px 3px 1px rgba(60, 64, 67, 0.15);\n",
              "      fill: #174EA6;\n",
              "    }\n",
              "\n",
              "    .colab-df-buttons div {\n",
              "      margin-bottom: 4px;\n",
              "    }\n",
              "\n",
              "    [theme=dark] .colab-df-convert {\n",
              "      background-color: #3B4455;\n",
              "      fill: #D2E3FC;\n",
              "    }\n",
              "\n",
              "    [theme=dark] .colab-df-convert:hover {\n",
              "      background-color: #434B5C;\n",
              "      box-shadow: 0px 1px 3px 1px rgba(0, 0, 0, 0.15);\n",
              "      filter: drop-shadow(0px 1px 2px rgba(0, 0, 0, 0.3));\n",
              "      fill: #FFFFFF;\n",
              "    }\n",
              "  </style>\n",
              "\n",
              "    <script>\n",
              "      const buttonEl =\n",
              "        document.querySelector('#df-b7a90cab-8f32-42aa-bab4-774344f3fb23 button.colab-df-convert');\n",
              "      buttonEl.style.display =\n",
              "        google.colab.kernel.accessAllowed ? 'block' : 'none';\n",
              "\n",
              "      async function convertToInteractive(key) {\n",
              "        const element = document.querySelector('#df-b7a90cab-8f32-42aa-bab4-774344f3fb23');\n",
              "        const dataTable =\n",
              "          await google.colab.kernel.invokeFunction('convertToInteractive',\n",
              "                                                    [key], {});\n",
              "        if (!dataTable) return;\n",
              "\n",
              "        const docLinkHtml = 'Like what you see? Visit the ' +\n",
              "          '<a target=\"_blank\" href=https://colab.research.google.com/notebooks/data_table.ipynb>data table notebook</a>'\n",
              "          + ' to learn more about interactive tables.';\n",
              "        element.innerHTML = '';\n",
              "        dataTable['output_type'] = 'display_data';\n",
              "        await google.colab.output.renderOutput(dataTable, element);\n",
              "        const docLink = document.createElement('div');\n",
              "        docLink.innerHTML = docLinkHtml;\n",
              "        element.appendChild(docLink);\n",
              "      }\n",
              "    </script>\n",
              "  </div>\n",
              "\n",
              "\n",
              "<div id=\"df-aac35d1f-60e7-4609-b703-5fa940cc1e22\">\n",
              "  <button class=\"colab-df-quickchart\" onclick=\"quickchart('df-aac35d1f-60e7-4609-b703-5fa940cc1e22')\"\n",
              "            title=\"Suggest charts.\"\n",
              "            style=\"display:none;\">\n",
              "\n",
              "<svg xmlns=\"http://www.w3.org/2000/svg\" height=\"24px\"viewBox=\"0 0 24 24\"\n",
              "     width=\"24px\">\n",
              "    <g>\n",
              "        <path d=\"M19 3H5c-1.1 0-2 .9-2 2v14c0 1.1.9 2 2 2h14c1.1 0 2-.9 2-2V5c0-1.1-.9-2-2-2zM9 17H7v-7h2v7zm4 0h-2V7h2v10zm4 0h-2v-4h2v4z\"/>\n",
              "    </g>\n",
              "</svg>\n",
              "  </button>\n",
              "\n",
              "<style>\n",
              "  .colab-df-quickchart {\n",
              "      --bg-color: #E8F0FE;\n",
              "      --fill-color: #1967D2;\n",
              "      --hover-bg-color: #E2EBFA;\n",
              "      --hover-fill-color: #174EA6;\n",
              "      --disabled-fill-color: #AAA;\n",
              "      --disabled-bg-color: #DDD;\n",
              "  }\n",
              "\n",
              "  [theme=dark] .colab-df-quickchart {\n",
              "      --bg-color: #3B4455;\n",
              "      --fill-color: #D2E3FC;\n",
              "      --hover-bg-color: #434B5C;\n",
              "      --hover-fill-color: #FFFFFF;\n",
              "      --disabled-bg-color: #3B4455;\n",
              "      --disabled-fill-color: #666;\n",
              "  }\n",
              "\n",
              "  .colab-df-quickchart {\n",
              "    background-color: var(--bg-color);\n",
              "    border: none;\n",
              "    border-radius: 50%;\n",
              "    cursor: pointer;\n",
              "    display: none;\n",
              "    fill: var(--fill-color);\n",
              "    height: 32px;\n",
              "    padding: 0;\n",
              "    width: 32px;\n",
              "  }\n",
              "\n",
              "  .colab-df-quickchart:hover {\n",
              "    background-color: var(--hover-bg-color);\n",
              "    box-shadow: 0 1px 2px rgba(60, 64, 67, 0.3), 0 1px 3px 1px rgba(60, 64, 67, 0.15);\n",
              "    fill: var(--button-hover-fill-color);\n",
              "  }\n",
              "\n",
              "  .colab-df-quickchart-complete:disabled,\n",
              "  .colab-df-quickchart-complete:disabled:hover {\n",
              "    background-color: var(--disabled-bg-color);\n",
              "    fill: var(--disabled-fill-color);\n",
              "    box-shadow: none;\n",
              "  }\n",
              "\n",
              "  .colab-df-spinner {\n",
              "    border: 2px solid var(--fill-color);\n",
              "    border-color: transparent;\n",
              "    border-bottom-color: var(--fill-color);\n",
              "    animation:\n",
              "      spin 1s steps(1) infinite;\n",
              "  }\n",
              "\n",
              "  @keyframes spin {\n",
              "    0% {\n",
              "      border-color: transparent;\n",
              "      border-bottom-color: var(--fill-color);\n",
              "      border-left-color: var(--fill-color);\n",
              "    }\n",
              "    20% {\n",
              "      border-color: transparent;\n",
              "      border-left-color: var(--fill-color);\n",
              "      border-top-color: var(--fill-color);\n",
              "    }\n",
              "    30% {\n",
              "      border-color: transparent;\n",
              "      border-left-color: var(--fill-color);\n",
              "      border-top-color: var(--fill-color);\n",
              "      border-right-color: var(--fill-color);\n",
              "    }\n",
              "    40% {\n",
              "      border-color: transparent;\n",
              "      border-right-color: var(--fill-color);\n",
              "      border-top-color: var(--fill-color);\n",
              "    }\n",
              "    60% {\n",
              "      border-color: transparent;\n",
              "      border-right-color: var(--fill-color);\n",
              "    }\n",
              "    80% {\n",
              "      border-color: transparent;\n",
              "      border-right-color: var(--fill-color);\n",
              "      border-bottom-color: var(--fill-color);\n",
              "    }\n",
              "    90% {\n",
              "      border-color: transparent;\n",
              "      border-bottom-color: var(--fill-color);\n",
              "    }\n",
              "  }\n",
              "</style>\n",
              "\n",
              "  <script>\n",
              "    async function quickchart(key) {\n",
              "      const quickchartButtonEl =\n",
              "        document.querySelector('#' + key + ' button');\n",
              "      quickchartButtonEl.disabled = true;  // To prevent multiple clicks.\n",
              "      quickchartButtonEl.classList.add('colab-df-spinner');\n",
              "      try {\n",
              "        const charts = await google.colab.kernel.invokeFunction(\n",
              "            'suggestCharts', [key], {});\n",
              "      } catch (error) {\n",
              "        console.error('Error during call to suggestCharts:', error);\n",
              "      }\n",
              "      quickchartButtonEl.classList.remove('colab-df-spinner');\n",
              "      quickchartButtonEl.classList.add('colab-df-quickchart-complete');\n",
              "    }\n",
              "    (() => {\n",
              "      let quickchartButtonEl =\n",
              "        document.querySelector('#df-aac35d1f-60e7-4609-b703-5fa940cc1e22 button');\n",
              "      quickchartButtonEl.style.display =\n",
              "        google.colab.kernel.accessAllowed ? 'block' : 'none';\n",
              "    })();\n",
              "  </script>\n",
              "</div>\n",
              "    </div>\n",
              "  </div>\n"
            ]
          },
          "metadata": {},
          "execution_count": 4
        }
      ]
    },
    {
      "cell_type": "code",
      "source": [
        "fixed_cost = products[\"fixed_cost\"]\n",
        "variable_cost = products[\"variable_cost\"]\n",
        "sales_price = products[\"sales_price\"]\n",
        "salvage_value = products[\"salvage_value\"]\n",
        "demand = products[\"demand\"]\n",
        "order = products[\"order\"]\n",
        "\n",
        "profits = [profit(fixed_cost = fixed_cost[i],\n",
        "                          sales_price = sales_price[i],\n",
        "                          variable_cost = variable_cost[i],\n",
        "                          salvage_value = salvage_value[i],\n",
        "                          demand = demand[i],\n",
        "                          order = order[i]) for i in range(100)]\n",
        "\n",
        "products[\"profits\"] = profits\n",
        "products\n",
        "\n",
        "products.sort_values(by = \"profits\", ascending = False)"
      ],
      "metadata": {
        "id": "hOesdNI03h_v"
      },
      "execution_count": null,
      "outputs": []
    },
    {
      "cell_type": "code",
      "source": [
        "sorted_products = products.sort_values(by = \"profits\", ascending = False)\n",
        "sorted_products.to_csv(\"sorted_products.csv\")"
      ],
      "metadata": {
        "id": "r4u2hggKFPEn"
      },
      "execution_count": null,
      "outputs": []
    },
    {
      "cell_type": "code",
      "source": [
        "products.plot.scatter(\"demand\",\"profits\")"
      ],
      "metadata": {
        "id": "FmCxQCIi4xZd"
      },
      "execution_count": null,
      "outputs": []
    },
    {
      "cell_type": "markdown",
      "source": [
        "##Prompt 4 using Panda's \"apply\" function\n",
        "\n",
        "We can accomplish the same task using panda's built in \"apply\" function. The syntax is a little hard to remember (I always have to Google or use ChatGPT to do this), but intuitively it is simply applying the \"profit\" function we defined earlier to each row."
      ],
      "metadata": {
        "id": "k9Fl9z5xu4UB"
      }
    },
    {
      "cell_type": "code",
      "source": [
        "products = pd.read_csv(\"03_sync_products.csv\")\n",
        "products"
      ],
      "metadata": {
        "id": "_VYo2FdvvUfi"
      },
      "execution_count": null,
      "outputs": []
    },
    {
      "cell_type": "code",
      "source": [
        "products['profits'] = products.apply(lambda row: profit(fixed_cost=row['fixed_cost'],\n",
        "                                           sales_price=row['sales_price'],\n",
        "                                           variable_cost=row['variable_cost'],\n",
        "                                           salvage_value=row['salvage_value'],\n",
        "                                           demand=row['demand'],\n",
        "                                           order=row['order']), axis=1)\n",
        "products"
      ],
      "metadata": {
        "id": "dQ2rf-KgvWPY"
      },
      "execution_count": null,
      "outputs": []
    },
    {
      "cell_type": "code",
      "source": [
        "products.sort_values(by = \"profits\", ascending = False)"
      ],
      "metadata": {
        "id": "-bck0TBWwhO2"
      },
      "execution_count": null,
      "outputs": []
    }
  ]
}