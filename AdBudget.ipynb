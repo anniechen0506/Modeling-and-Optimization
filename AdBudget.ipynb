{
  "nbformat": 4,
  "nbformat_minor": 0,
  "metadata": {
    "colab": {
      "provenance": [],
      "authorship_tag": "ABX9TyN+Ni6jDefI01xa8CUQee5O",
      "include_colab_link": true
    },
    "kernelspec": {
      "name": "python3",
      "display_name": "Python 3"
    },
    "language_info": {
      "name": "python"
    }
  },
  "cells": [
    {
      "cell_type": "markdown",
      "metadata": {
        "id": "view-in-github",
        "colab_type": "text"
      },
      "source": [
        "<a href=\"https://colab.research.google.com/github/anniechen0506/Modeling-and-Optimization-Fall-2023/blob/main/AdBudget.ipynb\" target=\"_parent\"><img src=\"https://colab.research.google.com/assets/colab-badge.svg\" alt=\"Open In Colab\"/></a>"
      ]
    },
    {
      "cell_type": "markdown",
      "source": [
        "#AdBudget Model"
      ],
      "metadata": {
        "id": "v5qbzWM2wvkX"
      }
    },
    {
      "cell_type": "code",
      "execution_count": null,
      "metadata": {
        "id": "1Cg1M9_Erg5V"
      },
      "outputs": [],
      "source": [
        "#inputs\n",
        "unit_cost = 25 #dollars\n",
        "sales_price = 40 #dollars\n",
        "seasonality_factor = [.9, 1.1, .8, 1.2] #for q1, q2, q3, q4\n",
        "salesforce_cost = [8000, 8000, 9000, 9000]\n",
        "overhead_rate = .15\n",
        "k = 35\n",
        "b = 3000\n",
        "ad_spending = [10000, 10000, 10000, 10000]\n",
        "num_quarters = len(seasonality_factor)"
      ]
    },
    {
      "cell_type": "markdown",
      "source": [
        "#Gross Profit Calculations"
      ],
      "metadata": {
        "id": "dUwdcg8oxCjt"
      }
    },
    {
      "cell_type": "code",
      "source": [
        "#Gross Profit Calculations\n",
        "#by rows\n",
        "sales_quantity = [k*seasonality_factor[i]*((b + ad_spending[i])**.5) for i in range(num_quarters)] #**.5 means square root\n",
        "cogs = [unit_cost * sales_quantity[i] for i in range(num_quarters)]\n",
        "sales_revenue = [sales_price * sales_quantity[i] for i in range(num_quarters)]\n",
        "gross_profit = [sales_revenue[i] - cogs[i] for i in range(num_quarters)]\n",
        "total_gross_profit = sum(gross_profit)\n",
        "\n",
        "print(\"gross profit: \", gross_profit)\n",
        "print(\"total gross profit: \", total_gross_profit)"
      ],
      "metadata": {
        "colab": {
          "base_uri": "https://localhost:8080/"
        },
        "id": "pZHwyZsAs2_N",
        "outputId": "07c324c5-2115-4beb-8661-58be61c97737"
      },
      "execution_count": null,
      "outputs": [
        {
          "output_type": "stream",
          "name": "stdout",
          "text": [
            "gross profit:  [53873.28883593426, 65845.1307994752, 47887.36785416379, 71831.05178124568]\n",
            "total gross profit:  239436.83927081892\n"
          ]
        }
      ]
    },
    {
      "cell_type": "markdown",
      "source": [
        "#Operating Expenses"
      ],
      "metadata": {
        "id": "4-m1JpASxGow"
      }
    },
    {
      "cell_type": "code",
      "source": [
        "#Operating Expenses Calculations\n",
        "#for loop\n",
        "overhead = []\n",
        "operating_expense = []\n",
        "\n",
        "for i in range(num_quarters):\n",
        "  overhead.append(overhead_rate * sales_revenue[i])\n",
        "  operating_expense.append(overhead[i] + salesforce_cost[i] + ad_spending[i])\n",
        "\n",
        "total_operating_expenses = sum(operating_expense)\n",
        "\n",
        "print(\"overhead: \", overhead)\n",
        "print(\"operating expense: \", operating_expense)\n",
        "print(\"total operating expenses: \", total_operating_expenses )"
      ],
      "metadata": {
        "colab": {
          "base_uri": "https://localhost:8080/"
        },
        "id": "zdYVkSDTu_JC",
        "outputId": "0393cada-6de4-420f-e6e5-96e580174989"
      },
      "execution_count": null,
      "outputs": [
        {
          "output_type": "stream",
          "name": "stdout",
          "text": [
            "overhead:  [21549.315534373705, 26338.052319790084, 19154.947141665514, 28732.420712498275]\n",
            "operating expense:  [39549.3155343737, 44338.052319790084, 38154.947141665514, 47732.42071249828]\n",
            "total operating expenses:  169774.73570832756\n"
          ]
        }
      ]
    },
    {
      "cell_type": "code",
      "source": [
        "#Operating Profit\n",
        "total_op_profit = total_gross_profit - total_operating_expenses\n",
        "print(\"Total operating Profit: \", total_op_profit)"
      ],
      "metadata": {
        "colab": {
          "base_uri": "https://localhost:8080/"
        },
        "id": "c94OJzJlwQ15",
        "outputId": "033de2af-7962-49a8-b9e3-038eb9dfba95"
      },
      "execution_count": null,
      "outputs": [
        {
          "output_type": "stream",
          "name": "stdout",
          "text": [
            "Total operating Profit:  69662.10356249136\n"
          ]
        }
      ]
    }
  ]
}