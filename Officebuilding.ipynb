{
  "cells": [
    {
      "cell_type": "markdown",
      "metadata": {
        "id": "view-in-github",
        "colab_type": "text"
      },
      "source": [
        "<a href=\"https://colab.research.google.com/github/anniechen0506/Modeling-and-Optimization-Fall-2023/blob/main/Officebuilding.ipynb\" target=\"_parent\"><img src=\"https://colab.research.google.com/assets/colab-badge.svg\" alt=\"Open In Colab\"/></a>"
      ]
    },
    {
      "cell_type": "markdown",
      "source": [
        "#Office Building Example"
      ],
      "metadata": {
        "id": "sKPPoieqzbd1"
      },
      "id": "sKPPoieqzbd1"
    },
    {
      "cell_type": "code",
      "execution_count": null,
      "id": "5c718a5e",
      "metadata": {
        "id": "5c718a5e"
      },
      "outputs": [],
      "source": [
        "#inputs\n",
        "total_sqft = 180000\n",
        "m = -0.05\n",
        "b = 1.5\n",
        "op_expense_per_sqft = 1.20\n",
        "heating_surcharge_per_sqft = .2\n",
        "op_exp_annual_growth = .12\n",
        "annual_mortgage = 1500000\n",
        "tax_rate = .34\n",
        "price_per_sqft = [15, 15, 15, 15, 15]\n",
        "num_years = len(price_per_sqft)"
      ]
    },
    {
      "cell_type": "code",
      "source": [
        "#rev calc\n",
        "perc_occ = [m*price_per_sqft[i] + b for i in range(num_years)]\n",
        "sqft_occ = [perc_occ[i]*total_sqft for i in range(num_years)]\n",
        "revenue = [sqft_occ[i]*price_per_sqft[i] for i in range(num_years)]\n",
        "print(\"revenue: \", revenue)"
      ],
      "metadata": {
        "id": "Z7vhvVfEjX2L",
        "colab": {
          "base_uri": "https://localhost:8080/"
        },
        "outputId": "4ef0a1f9-43d8-4102-fb73-cf706ae119c1"
      },
      "id": "Z7vhvVfEjX2L",
      "execution_count": null,
      "outputs": [
        {
          "output_type": "stream",
          "name": "stdout",
          "text": [
            "revenue:  [2025000.0, 2025000.0, 2025000.0, 2025000.0, 2025000.0]\n"
          ]
        }
      ]
    },
    {
      "cell_type": "code",
      "source": [
        "#operating expense calculations\n",
        "base_op_cost_as_percY1 = [(1+op_exp_annual_growth)**i for i in range(num_years)] #note that range(num_years) = range(5) = [0,1,2,3,4] and (1+op_exp_annual_growth)**0 = 1.\n",
        "base_op_cost = [op_expense_per_sqft*total_sqft*base_op_cost_as_percY1[i] for i in range(num_years)]\n",
        "heating_surcharge = [perc_occ[i]*base_op_cost[i]*heating_surcharge_per_sqft for i in range(num_years)]\n",
        "mortgage = [annual_mortgage for i in range(num_years)]\n",
        "operating_costs = [base_op_cost[i] + heating_surcharge[i] + mortgage[i] for i in range(num_years)]\n",
        "print(\"operating costs:\", operating_costs)"
      ],
      "metadata": {
        "colab": {
          "base_uri": "https://localhost:8080/"
        },
        "id": "Gnz1cjM-wb_h",
        "outputId": "bc086be3-5efd-4e20-c8d8-a667f18036ef"
      },
      "id": "Gnz1cjM-wb_h",
      "execution_count": null,
      "outputs": [
        {
          "output_type": "stream",
          "name": "stdout",
          "text": [
            "operating costs: [1748400.0, 1778208.0, 1811592.96, 1848984.1152000001, 1890862.2090240002]\n"
          ]
        }
      ]
    },
    {
      "cell_type": "code",
      "source": [
        "#before and after-tax earnings\n",
        "ebt = [revenue[i] - operating_costs[i] for i in range(num_years)]\n",
        "taxes = [ebt[i]*tax_rate for i in range(num_years)]\n",
        "earnings_after_tax = [ebt[i] - taxes[i] for i in range(num_years)]\n",
        "print(\"earnings after tax: \", earnings_after_tax)\n",
        "\n",
        "total_earnings_after_tax = sum(earnings_after_tax)\n",
        "print(\"total earnings after tax: \", total_earnings_after_tax)"
      ],
      "metadata": {
        "colab": {
          "base_uri": "https://localhost:8080/"
        },
        "id": "HnEvDiqzx4uw",
        "outputId": "0ee8b4f2-deb7-4511-804e-c9509e343bc6"
      },
      "id": "HnEvDiqzx4uw",
      "execution_count": null,
      "outputs": [
        {
          "output_type": "stream",
          "name": "stdout",
          "text": [
            "earnings after tax:  [182556.0, 162882.72, 140848.64640000003, 116170.48396799993, 88530.94204415986]\n",
            "total earnings after tax:  690988.7924121597\n"
          ]
        }
      ]
    },
    {
      "cell_type": "markdown",
      "source": [
        "#Example for loop method for base_op_cost_as_percY1 calculation\n",
        "Typically, for growth rates I leverage the fact that x**0 = 1 to keep a consistent formula (see above). However, if you wanted to do a different formula for Y1, you could do something like below:"
      ],
      "metadata": {
        "id": "pC6Hsb7fy2Rk"
      },
      "id": "pC6Hsb7fy2Rk"
    },
    {
      "cell_type": "code",
      "source": [
        "#other, recursive way to do base_op_cost_as_percY1\n",
        "base_op_cost_as_percY1 = []\n",
        "for i in range(num_years):\n",
        "  if i == 0:\n",
        "    base_op_cost_as_percY1.append(1)\n",
        "  else:\n",
        "    base_op_cost_as_percY1.append(base_op_cost_as_percY1[i-1]*(1+op_exp_annual_growth))\n",
        "print(base_op_cost_as_percY1)\n"
      ],
      "metadata": {
        "colab": {
          "base_uri": "https://localhost:8080/"
        },
        "id": "0Gv0ZEhFvJbN",
        "outputId": "8531adae-66a4-40ab-d3ca-0cb0fca37ad8"
      },
      "id": "0Gv0ZEhFvJbN",
      "execution_count": null,
      "outputs": [
        {
          "output_type": "stream",
          "name": "stdout",
          "text": [
            "[1, 1.12, 1.2544000000000002, 1.4049280000000004, 1.5735193600000006]\n"
          ]
        }
      ]
    }
  ],
  "metadata": {
    "kernelspec": {
      "display_name": "Python 3",
      "language": "python",
      "name": "python3"
    },
    "language_info": {
      "codemirror_mode": {
        "name": "ipython",
        "version": 3
      },
      "file_extension": ".py",
      "mimetype": "text/x-python",
      "name": "python",
      "nbconvert_exporter": "python",
      "pygments_lexer": "ipython3",
      "version": "3.8.8"
    },
    "colab": {
      "provenance": [],
      "include_colab_link": true
    }
  },
  "nbformat": 4,
  "nbformat_minor": 5
}